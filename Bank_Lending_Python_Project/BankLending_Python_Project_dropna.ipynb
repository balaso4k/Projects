{
  "nbformat": 4,
  "nbformat_minor": 0,
  "metadata": {
    "colab": {
      "name": "Capstone_Project_dropna.ipynb",
      "provenance": [],
      "collapsed_sections": []
    },
    "kernelspec": {
      "display_name": "Python 3",
      "language": "python",
      "name": "python3"
    },
    "language_info": {
      "codemirror_mode": {
        "name": "ipython",
        "version": 3
      },
      "file_extension": ".py",
      "mimetype": "text/x-python",
      "name": "python",
      "nbconvert_exporter": "python",
      "pygments_lexer": "ipython3",
      "version": "3.7.6"
    }
  },
  "cells": [
    {
      "cell_type": "markdown",
      "metadata": {
        "id": "Qh3hQvdwEUyl"
      },
      "source": [
        "# Python Capstone Project - XYZ_Corp Bank Lending"
      ]
    },
    {
      "cell_type": "markdown",
      "metadata": {
        "id": "pBrOLQa7EYL4"
      },
      "source": [
        "1. Loading & Understanding Dataset and target & predictor variables<br>\n",
        "    a. Load required packages & libraries.<br>\n",
        "    b. Load dataset.<br>\n",
        "    c. Check dataset info -  head, tail, datatypes, dimensions etc...<br>\n",
        "    d. Check for target variable class imbalance.<br>"
      ]
    },
    {
      "cell_type": "markdown",
      "metadata": {
        "id": "KhapTi1UE9mb"
      },
      "source": [
        "a. Load Required packages & libraries"
      ]
    },
    {
      "cell_type": "code",
      "metadata": {
        "id": "4ULzt8zUFHyn"
      },
      "source": [
        "import pandas as pd\n",
        "import numpy as np\n",
        "import matplotlib\n",
        "import matplotlib.pyplot as plt\n",
        "import seaborn as sns\n",
        "%matplotlib inline \n",
        "import sklearn\n",
        "import warnings\n",
        "from google.colab import files\n",
        "\n",
        "pd.set_option('display.max_columns', None)\n",
        "pd.set_option('display.max_rows', None)\n",
        "warnings.filterwarnings(\"ignore\", category=FutureWarning)"
      ],
      "execution_count": 36,
      "outputs": []
    },
    {
      "cell_type": "markdown",
      "metadata": {
        "id": "X6g4V_hyFLoY"
      },
      "source": [
        "b. Loading dataset"
      ]
    },
    {
      "cell_type": "code",
      "metadata": {
        "colab": {
          "base_uri": "https://localhost:8080/"
        },
        "id": "VGoLICl9FOXe",
        "outputId": "a135699a-637a-438f-ca2b-83defa77ec6d"
      },
      "source": [
        "from google.colab import drive\n",
        "drive.mount('/content/drive')"
      ],
      "execution_count": 37,
      "outputs": [
        {
          "output_type": "stream",
          "text": [
            "Drive already mounted at /content/drive; to attempt to forcibly remount, call drive.mount(\"/content/drive\", force_remount=True).\n"
          ],
          "name": "stdout"
        }
      ]
    },
    {
      "cell_type": "code",
      "metadata": {
        "id": "DHVWA4YCFREv"
      },
      "source": [
        "bl = pd.read_table('/content/drive/MyDrive/Colab Notebooks/Capstone_Project_Imarticus/Python Project - Bank Lending/XYZCorp_LendingData.txt', low_memory=False)"
      ],
      "execution_count": 38,
      "outputs": []
    },
    {
      "cell_type": "markdown",
      "metadata": {
        "id": "HGqyXvA3FbHP"
      },
      "source": [
        "#### c. Check dataset information - info, head, tail, dimensions etc.."
      ]
    },
    {
      "cell_type": "code",
      "metadata": {
        "colab": {
          "base_uri": "https://localhost:8080/"
        },
        "id": "WD6Ck8i7Fgmt",
        "outputId": "4f714c6e-a131-4e3b-bcae-6a4a8307fb58"
      },
      "source": [
        "bl.shape"
      ],
      "execution_count": 39,
      "outputs": [
        {
          "output_type": "execute_result",
          "data": {
            "text/plain": [
              "(855969, 73)"
            ]
          },
          "metadata": {
            "tags": []
          },
          "execution_count": 39
        }
      ]
    },
    {
      "cell_type": "code",
      "metadata": {
        "colab": {
          "base_uri": "https://localhost:8080/",
          "height": 652
        },
        "id": "TsP_PtXeIqwW",
        "outputId": "82c80ca8-75e2-4fa5-c815-1d758f83694a"
      },
      "source": [
        "bl.head()"
      ],
      "execution_count": 41,
      "outputs": [
        {
          "output_type": "execute_result",
          "data": {
            "text/html": [
              "<div>\n",
              "<style scoped>\n",
              "    .dataframe tbody tr th:only-of-type {\n",
              "        vertical-align: middle;\n",
              "    }\n",
              "\n",
              "    .dataframe tbody tr th {\n",
              "        vertical-align: top;\n",
              "    }\n",
              "\n",
              "    .dataframe thead th {\n",
              "        text-align: right;\n",
              "    }\n",
              "</style>\n",
              "<table border=\"1\" class=\"dataframe\">\n",
              "  <thead>\n",
              "    <tr style=\"text-align: right;\">\n",
              "      <th></th>\n",
              "      <th>id</th>\n",
              "      <th>member_id</th>\n",
              "      <th>loan_amnt</th>\n",
              "      <th>funded_amnt</th>\n",
              "      <th>funded_amnt_inv</th>\n",
              "      <th>term</th>\n",
              "      <th>int_rate</th>\n",
              "      <th>installment</th>\n",
              "      <th>grade</th>\n",
              "      <th>sub_grade</th>\n",
              "      <th>emp_title</th>\n",
              "      <th>emp_length</th>\n",
              "      <th>home_ownership</th>\n",
              "      <th>annual_inc</th>\n",
              "      <th>verification_status</th>\n",
              "      <th>issue_d</th>\n",
              "      <th>pymnt_plan</th>\n",
              "      <th>desc</th>\n",
              "      <th>purpose</th>\n",
              "      <th>title</th>\n",
              "      <th>zip_code</th>\n",
              "      <th>addr_state</th>\n",
              "      <th>dti</th>\n",
              "      <th>delinq_2yrs</th>\n",
              "      <th>earliest_cr_line</th>\n",
              "      <th>inq_last_6mths</th>\n",
              "      <th>mths_since_last_delinq</th>\n",
              "      <th>mths_since_last_record</th>\n",
              "      <th>open_acc</th>\n",
              "      <th>pub_rec</th>\n",
              "      <th>revol_bal</th>\n",
              "      <th>revol_util</th>\n",
              "      <th>total_acc</th>\n",
              "      <th>initial_list_status</th>\n",
              "      <th>out_prncp</th>\n",
              "      <th>out_prncp_inv</th>\n",
              "      <th>total_pymnt</th>\n",
              "      <th>total_pymnt_inv</th>\n",
              "      <th>total_rec_prncp</th>\n",
              "      <th>total_rec_int</th>\n",
              "      <th>total_rec_late_fee</th>\n",
              "      <th>recoveries</th>\n",
              "      <th>collection_recovery_fee</th>\n",
              "      <th>last_pymnt_d</th>\n",
              "      <th>last_pymnt_amnt</th>\n",
              "      <th>next_pymnt_d</th>\n",
              "      <th>last_credit_pull_d</th>\n",
              "      <th>collections_12_mths_ex_med</th>\n",
              "      <th>mths_since_last_major_derog</th>\n",
              "      <th>policy_code</th>\n",
              "      <th>application_type</th>\n",
              "      <th>annual_inc_joint</th>\n",
              "      <th>dti_joint</th>\n",
              "      <th>verification_status_joint</th>\n",
              "      <th>acc_now_delinq</th>\n",
              "      <th>tot_coll_amt</th>\n",
              "      <th>tot_cur_bal</th>\n",
              "      <th>open_acc_6m</th>\n",
              "      <th>open_il_6m</th>\n",
              "      <th>open_il_12m</th>\n",
              "      <th>open_il_24m</th>\n",
              "      <th>mths_since_rcnt_il</th>\n",
              "      <th>total_bal_il</th>\n",
              "      <th>il_util</th>\n",
              "      <th>open_rv_12m</th>\n",
              "      <th>open_rv_24m</th>\n",
              "      <th>max_bal_bc</th>\n",
              "      <th>all_util</th>\n",
              "      <th>total_rev_hi_lim</th>\n",
              "      <th>inq_fi</th>\n",
              "      <th>total_cu_tl</th>\n",
              "      <th>inq_last_12m</th>\n",
              "      <th>default_ind</th>\n",
              "    </tr>\n",
              "  </thead>\n",
              "  <tbody>\n",
              "    <tr>\n",
              "      <th>0</th>\n",
              "      <td>1077501</td>\n",
              "      <td>1296599</td>\n",
              "      <td>5000.0</td>\n",
              "      <td>5000.0</td>\n",
              "      <td>4975.0</td>\n",
              "      <td>36 months</td>\n",
              "      <td>10.65</td>\n",
              "      <td>162.87</td>\n",
              "      <td>B</td>\n",
              "      <td>B2</td>\n",
              "      <td>NaN</td>\n",
              "      <td>10+ years</td>\n",
              "      <td>RENT</td>\n",
              "      <td>24000.0</td>\n",
              "      <td>Verified</td>\n",
              "      <td>Dec-2011</td>\n",
              "      <td>n</td>\n",
              "      <td>Borrower added on 12/22/11 &gt; I need to upgra...</td>\n",
              "      <td>credit_card</td>\n",
              "      <td>Computer</td>\n",
              "      <td>860xx</td>\n",
              "      <td>AZ</td>\n",
              "      <td>27.65</td>\n",
              "      <td>0.0</td>\n",
              "      <td>Jan-1985</td>\n",
              "      <td>1.0</td>\n",
              "      <td>NaN</td>\n",
              "      <td>NaN</td>\n",
              "      <td>3.0</td>\n",
              "      <td>0.0</td>\n",
              "      <td>13648.0</td>\n",
              "      <td>83.7</td>\n",
              "      <td>9.0</td>\n",
              "      <td>f</td>\n",
              "      <td>0.0</td>\n",
              "      <td>0.0</td>\n",
              "      <td>5861.071414</td>\n",
              "      <td>5831.78</td>\n",
              "      <td>5000.00</td>\n",
              "      <td>861.07</td>\n",
              "      <td>0.00</td>\n",
              "      <td>0.00</td>\n",
              "      <td>0.00</td>\n",
              "      <td>Jan-2015</td>\n",
              "      <td>171.62</td>\n",
              "      <td>NaN</td>\n",
              "      <td>Jan-2016</td>\n",
              "      <td>0.0</td>\n",
              "      <td>NaN</td>\n",
              "      <td>1.0</td>\n",
              "      <td>INDIVIDUAL</td>\n",
              "      <td>NaN</td>\n",
              "      <td>NaN</td>\n",
              "      <td>NaN</td>\n",
              "      <td>0.0</td>\n",
              "      <td>NaN</td>\n",
              "      <td>NaN</td>\n",
              "      <td>NaN</td>\n",
              "      <td>NaN</td>\n",
              "      <td>NaN</td>\n",
              "      <td>NaN</td>\n",
              "      <td>NaN</td>\n",
              "      <td>NaN</td>\n",
              "      <td>NaN</td>\n",
              "      <td>NaN</td>\n",
              "      <td>NaN</td>\n",
              "      <td>NaN</td>\n",
              "      <td>NaN</td>\n",
              "      <td>NaN</td>\n",
              "      <td>NaN</td>\n",
              "      <td>NaN</td>\n",
              "      <td>NaN</td>\n",
              "      <td>0</td>\n",
              "    </tr>\n",
              "    <tr>\n",
              "      <th>1</th>\n",
              "      <td>1077430</td>\n",
              "      <td>1314167</td>\n",
              "      <td>2500.0</td>\n",
              "      <td>2500.0</td>\n",
              "      <td>2500.0</td>\n",
              "      <td>60 months</td>\n",
              "      <td>15.27</td>\n",
              "      <td>59.83</td>\n",
              "      <td>C</td>\n",
              "      <td>C4</td>\n",
              "      <td>Ryder</td>\n",
              "      <td>&lt; 1 year</td>\n",
              "      <td>RENT</td>\n",
              "      <td>30000.0</td>\n",
              "      <td>Source Verified</td>\n",
              "      <td>Dec-2011</td>\n",
              "      <td>n</td>\n",
              "      <td>Borrower added on 12/22/11 &gt; I plan to use t...</td>\n",
              "      <td>car</td>\n",
              "      <td>bike</td>\n",
              "      <td>309xx</td>\n",
              "      <td>GA</td>\n",
              "      <td>1.00</td>\n",
              "      <td>0.0</td>\n",
              "      <td>Apr-1999</td>\n",
              "      <td>5.0</td>\n",
              "      <td>NaN</td>\n",
              "      <td>NaN</td>\n",
              "      <td>3.0</td>\n",
              "      <td>0.0</td>\n",
              "      <td>1687.0</td>\n",
              "      <td>9.4</td>\n",
              "      <td>4.0</td>\n",
              "      <td>f</td>\n",
              "      <td>0.0</td>\n",
              "      <td>0.0</td>\n",
              "      <td>1008.710000</td>\n",
              "      <td>1008.71</td>\n",
              "      <td>456.46</td>\n",
              "      <td>435.17</td>\n",
              "      <td>0.00</td>\n",
              "      <td>117.08</td>\n",
              "      <td>1.11</td>\n",
              "      <td>Apr-2013</td>\n",
              "      <td>119.66</td>\n",
              "      <td>NaN</td>\n",
              "      <td>Sep-2013</td>\n",
              "      <td>0.0</td>\n",
              "      <td>NaN</td>\n",
              "      <td>1.0</td>\n",
              "      <td>INDIVIDUAL</td>\n",
              "      <td>NaN</td>\n",
              "      <td>NaN</td>\n",
              "      <td>NaN</td>\n",
              "      <td>0.0</td>\n",
              "      <td>NaN</td>\n",
              "      <td>NaN</td>\n",
              "      <td>NaN</td>\n",
              "      <td>NaN</td>\n",
              "      <td>NaN</td>\n",
              "      <td>NaN</td>\n",
              "      <td>NaN</td>\n",
              "      <td>NaN</td>\n",
              "      <td>NaN</td>\n",
              "      <td>NaN</td>\n",
              "      <td>NaN</td>\n",
              "      <td>NaN</td>\n",
              "      <td>NaN</td>\n",
              "      <td>NaN</td>\n",
              "      <td>NaN</td>\n",
              "      <td>NaN</td>\n",
              "      <td>NaN</td>\n",
              "      <td>1</td>\n",
              "    </tr>\n",
              "    <tr>\n",
              "      <th>2</th>\n",
              "      <td>1077175</td>\n",
              "      <td>1313524</td>\n",
              "      <td>2400.0</td>\n",
              "      <td>2400.0</td>\n",
              "      <td>2400.0</td>\n",
              "      <td>36 months</td>\n",
              "      <td>15.96</td>\n",
              "      <td>84.33</td>\n",
              "      <td>C</td>\n",
              "      <td>C5</td>\n",
              "      <td>NaN</td>\n",
              "      <td>10+ years</td>\n",
              "      <td>RENT</td>\n",
              "      <td>12252.0</td>\n",
              "      <td>Not Verified</td>\n",
              "      <td>Dec-2011</td>\n",
              "      <td>n</td>\n",
              "      <td>NaN</td>\n",
              "      <td>small_business</td>\n",
              "      <td>real estate business</td>\n",
              "      <td>606xx</td>\n",
              "      <td>IL</td>\n",
              "      <td>8.72</td>\n",
              "      <td>0.0</td>\n",
              "      <td>Nov-2001</td>\n",
              "      <td>2.0</td>\n",
              "      <td>NaN</td>\n",
              "      <td>NaN</td>\n",
              "      <td>2.0</td>\n",
              "      <td>0.0</td>\n",
              "      <td>2956.0</td>\n",
              "      <td>98.5</td>\n",
              "      <td>10.0</td>\n",
              "      <td>f</td>\n",
              "      <td>0.0</td>\n",
              "      <td>0.0</td>\n",
              "      <td>3003.653644</td>\n",
              "      <td>3003.65</td>\n",
              "      <td>2400.00</td>\n",
              "      <td>603.65</td>\n",
              "      <td>0.00</td>\n",
              "      <td>0.00</td>\n",
              "      <td>0.00</td>\n",
              "      <td>Jun-2014</td>\n",
              "      <td>649.91</td>\n",
              "      <td>NaN</td>\n",
              "      <td>Jan-2016</td>\n",
              "      <td>0.0</td>\n",
              "      <td>NaN</td>\n",
              "      <td>1.0</td>\n",
              "      <td>INDIVIDUAL</td>\n",
              "      <td>NaN</td>\n",
              "      <td>NaN</td>\n",
              "      <td>NaN</td>\n",
              "      <td>0.0</td>\n",
              "      <td>NaN</td>\n",
              "      <td>NaN</td>\n",
              "      <td>NaN</td>\n",
              "      <td>NaN</td>\n",
              "      <td>NaN</td>\n",
              "      <td>NaN</td>\n",
              "      <td>NaN</td>\n",
              "      <td>NaN</td>\n",
              "      <td>NaN</td>\n",
              "      <td>NaN</td>\n",
              "      <td>NaN</td>\n",
              "      <td>NaN</td>\n",
              "      <td>NaN</td>\n",
              "      <td>NaN</td>\n",
              "      <td>NaN</td>\n",
              "      <td>NaN</td>\n",
              "      <td>NaN</td>\n",
              "      <td>0</td>\n",
              "    </tr>\n",
              "    <tr>\n",
              "      <th>3</th>\n",
              "      <td>1076863</td>\n",
              "      <td>1277178</td>\n",
              "      <td>10000.0</td>\n",
              "      <td>10000.0</td>\n",
              "      <td>10000.0</td>\n",
              "      <td>36 months</td>\n",
              "      <td>13.49</td>\n",
              "      <td>339.31</td>\n",
              "      <td>C</td>\n",
              "      <td>C1</td>\n",
              "      <td>AIR RESOURCES BOARD</td>\n",
              "      <td>10+ years</td>\n",
              "      <td>RENT</td>\n",
              "      <td>49200.0</td>\n",
              "      <td>Source Verified</td>\n",
              "      <td>Dec-2011</td>\n",
              "      <td>n</td>\n",
              "      <td>Borrower added on 12/21/11 &gt; to pay for prop...</td>\n",
              "      <td>other</td>\n",
              "      <td>personel</td>\n",
              "      <td>917xx</td>\n",
              "      <td>CA</td>\n",
              "      <td>20.00</td>\n",
              "      <td>0.0</td>\n",
              "      <td>Feb-1996</td>\n",
              "      <td>1.0</td>\n",
              "      <td>35.0</td>\n",
              "      <td>NaN</td>\n",
              "      <td>10.0</td>\n",
              "      <td>0.0</td>\n",
              "      <td>5598.0</td>\n",
              "      <td>21.0</td>\n",
              "      <td>37.0</td>\n",
              "      <td>f</td>\n",
              "      <td>0.0</td>\n",
              "      <td>0.0</td>\n",
              "      <td>12226.302212</td>\n",
              "      <td>12226.30</td>\n",
              "      <td>10000.00</td>\n",
              "      <td>2209.33</td>\n",
              "      <td>16.97</td>\n",
              "      <td>0.00</td>\n",
              "      <td>0.00</td>\n",
              "      <td>Jan-2015</td>\n",
              "      <td>357.48</td>\n",
              "      <td>NaN</td>\n",
              "      <td>Jan-2015</td>\n",
              "      <td>0.0</td>\n",
              "      <td>NaN</td>\n",
              "      <td>1.0</td>\n",
              "      <td>INDIVIDUAL</td>\n",
              "      <td>NaN</td>\n",
              "      <td>NaN</td>\n",
              "      <td>NaN</td>\n",
              "      <td>0.0</td>\n",
              "      <td>NaN</td>\n",
              "      <td>NaN</td>\n",
              "      <td>NaN</td>\n",
              "      <td>NaN</td>\n",
              "      <td>NaN</td>\n",
              "      <td>NaN</td>\n",
              "      <td>NaN</td>\n",
              "      <td>NaN</td>\n",
              "      <td>NaN</td>\n",
              "      <td>NaN</td>\n",
              "      <td>NaN</td>\n",
              "      <td>NaN</td>\n",
              "      <td>NaN</td>\n",
              "      <td>NaN</td>\n",
              "      <td>NaN</td>\n",
              "      <td>NaN</td>\n",
              "      <td>NaN</td>\n",
              "      <td>0</td>\n",
              "    </tr>\n",
              "    <tr>\n",
              "      <th>4</th>\n",
              "      <td>1075358</td>\n",
              "      <td>1311748</td>\n",
              "      <td>3000.0</td>\n",
              "      <td>3000.0</td>\n",
              "      <td>3000.0</td>\n",
              "      <td>60 months</td>\n",
              "      <td>12.69</td>\n",
              "      <td>67.79</td>\n",
              "      <td>B</td>\n",
              "      <td>B5</td>\n",
              "      <td>University Medical Group</td>\n",
              "      <td>1 year</td>\n",
              "      <td>RENT</td>\n",
              "      <td>80000.0</td>\n",
              "      <td>Source Verified</td>\n",
              "      <td>Dec-2011</td>\n",
              "      <td>n</td>\n",
              "      <td>Borrower added on 12/21/11 &gt; I plan on combi...</td>\n",
              "      <td>other</td>\n",
              "      <td>Personal</td>\n",
              "      <td>972xx</td>\n",
              "      <td>OR</td>\n",
              "      <td>17.94</td>\n",
              "      <td>0.0</td>\n",
              "      <td>Jan-1996</td>\n",
              "      <td>0.0</td>\n",
              "      <td>38.0</td>\n",
              "      <td>NaN</td>\n",
              "      <td>15.0</td>\n",
              "      <td>0.0</td>\n",
              "      <td>27783.0</td>\n",
              "      <td>53.9</td>\n",
              "      <td>38.0</td>\n",
              "      <td>f</td>\n",
              "      <td>766.9</td>\n",
              "      <td>766.9</td>\n",
              "      <td>3242.170000</td>\n",
              "      <td>3242.17</td>\n",
              "      <td>2233.10</td>\n",
              "      <td>1009.07</td>\n",
              "      <td>0.00</td>\n",
              "      <td>0.00</td>\n",
              "      <td>0.00</td>\n",
              "      <td>Jan-2016</td>\n",
              "      <td>67.79</td>\n",
              "      <td>Feb-2016</td>\n",
              "      <td>Jan-2016</td>\n",
              "      <td>0.0</td>\n",
              "      <td>NaN</td>\n",
              "      <td>1.0</td>\n",
              "      <td>INDIVIDUAL</td>\n",
              "      <td>NaN</td>\n",
              "      <td>NaN</td>\n",
              "      <td>NaN</td>\n",
              "      <td>0.0</td>\n",
              "      <td>NaN</td>\n",
              "      <td>NaN</td>\n",
              "      <td>NaN</td>\n",
              "      <td>NaN</td>\n",
              "      <td>NaN</td>\n",
              "      <td>NaN</td>\n",
              "      <td>NaN</td>\n",
              "      <td>NaN</td>\n",
              "      <td>NaN</td>\n",
              "      <td>NaN</td>\n",
              "      <td>NaN</td>\n",
              "      <td>NaN</td>\n",
              "      <td>NaN</td>\n",
              "      <td>NaN</td>\n",
              "      <td>NaN</td>\n",
              "      <td>NaN</td>\n",
              "      <td>NaN</td>\n",
              "      <td>0</td>\n",
              "    </tr>\n",
              "  </tbody>\n",
              "</table>\n",
              "</div>"
            ],
            "text/plain": [
              "        id  member_id  loan_amnt  funded_amnt  funded_amnt_inv        term  \\\n",
              "0  1077501    1296599     5000.0       5000.0           4975.0   36 months   \n",
              "1  1077430    1314167     2500.0       2500.0           2500.0   60 months   \n",
              "2  1077175    1313524     2400.0       2400.0           2400.0   36 months   \n",
              "3  1076863    1277178    10000.0      10000.0          10000.0   36 months   \n",
              "4  1075358    1311748     3000.0       3000.0           3000.0   60 months   \n",
              "\n",
              "   int_rate  installment grade sub_grade                 emp_title emp_length  \\\n",
              "0     10.65       162.87     B        B2                       NaN  10+ years   \n",
              "1     15.27        59.83     C        C4                     Ryder   < 1 year   \n",
              "2     15.96        84.33     C        C5                       NaN  10+ years   \n",
              "3     13.49       339.31     C        C1       AIR RESOURCES BOARD  10+ years   \n",
              "4     12.69        67.79     B        B5  University Medical Group     1 year   \n",
              "\n",
              "  home_ownership  annual_inc verification_status   issue_d pymnt_plan  \\\n",
              "0           RENT     24000.0            Verified  Dec-2011          n   \n",
              "1           RENT     30000.0     Source Verified  Dec-2011          n   \n",
              "2           RENT     12252.0        Not Verified  Dec-2011          n   \n",
              "3           RENT     49200.0     Source Verified  Dec-2011          n   \n",
              "4           RENT     80000.0     Source Verified  Dec-2011          n   \n",
              "\n",
              "                                                desc         purpose  \\\n",
              "0    Borrower added on 12/22/11 > I need to upgra...     credit_card   \n",
              "1    Borrower added on 12/22/11 > I plan to use t...             car   \n",
              "2                                                NaN  small_business   \n",
              "3    Borrower added on 12/21/11 > to pay for prop...           other   \n",
              "4    Borrower added on 12/21/11 > I plan on combi...           other   \n",
              "\n",
              "                  title zip_code addr_state    dti  delinq_2yrs  \\\n",
              "0              Computer    860xx         AZ  27.65          0.0   \n",
              "1                  bike    309xx         GA   1.00          0.0   \n",
              "2  real estate business    606xx         IL   8.72          0.0   \n",
              "3              personel    917xx         CA  20.00          0.0   \n",
              "4              Personal    972xx         OR  17.94          0.0   \n",
              "\n",
              "  earliest_cr_line  inq_last_6mths  mths_since_last_delinq  \\\n",
              "0         Jan-1985             1.0                     NaN   \n",
              "1         Apr-1999             5.0                     NaN   \n",
              "2         Nov-2001             2.0                     NaN   \n",
              "3         Feb-1996             1.0                    35.0   \n",
              "4         Jan-1996             0.0                    38.0   \n",
              "\n",
              "   mths_since_last_record  open_acc  pub_rec  revol_bal  revol_util  \\\n",
              "0                     NaN       3.0      0.0    13648.0        83.7   \n",
              "1                     NaN       3.0      0.0     1687.0         9.4   \n",
              "2                     NaN       2.0      0.0     2956.0        98.5   \n",
              "3                     NaN      10.0      0.0     5598.0        21.0   \n",
              "4                     NaN      15.0      0.0    27783.0        53.9   \n",
              "\n",
              "   total_acc initial_list_status  out_prncp  out_prncp_inv   total_pymnt  \\\n",
              "0        9.0                   f        0.0            0.0   5861.071414   \n",
              "1        4.0                   f        0.0            0.0   1008.710000   \n",
              "2       10.0                   f        0.0            0.0   3003.653644   \n",
              "3       37.0                   f        0.0            0.0  12226.302212   \n",
              "4       38.0                   f      766.9          766.9   3242.170000   \n",
              "\n",
              "   total_pymnt_inv  total_rec_prncp  total_rec_int  total_rec_late_fee  \\\n",
              "0          5831.78          5000.00         861.07                0.00   \n",
              "1          1008.71           456.46         435.17                0.00   \n",
              "2          3003.65          2400.00         603.65                0.00   \n",
              "3         12226.30         10000.00        2209.33               16.97   \n",
              "4          3242.17          2233.10        1009.07                0.00   \n",
              "\n",
              "   recoveries  collection_recovery_fee last_pymnt_d  last_pymnt_amnt  \\\n",
              "0        0.00                     0.00     Jan-2015           171.62   \n",
              "1      117.08                     1.11     Apr-2013           119.66   \n",
              "2        0.00                     0.00     Jun-2014           649.91   \n",
              "3        0.00                     0.00     Jan-2015           357.48   \n",
              "4        0.00                     0.00     Jan-2016            67.79   \n",
              "\n",
              "  next_pymnt_d last_credit_pull_d  collections_12_mths_ex_med  \\\n",
              "0          NaN           Jan-2016                         0.0   \n",
              "1          NaN           Sep-2013                         0.0   \n",
              "2          NaN           Jan-2016                         0.0   \n",
              "3          NaN           Jan-2015                         0.0   \n",
              "4     Feb-2016           Jan-2016                         0.0   \n",
              "\n",
              "   mths_since_last_major_derog  policy_code application_type  \\\n",
              "0                          NaN          1.0       INDIVIDUAL   \n",
              "1                          NaN          1.0       INDIVIDUAL   \n",
              "2                          NaN          1.0       INDIVIDUAL   \n",
              "3                          NaN          1.0       INDIVIDUAL   \n",
              "4                          NaN          1.0       INDIVIDUAL   \n",
              "\n",
              "   annual_inc_joint  dti_joint verification_status_joint  acc_now_delinq  \\\n",
              "0               NaN        NaN                       NaN             0.0   \n",
              "1               NaN        NaN                       NaN             0.0   \n",
              "2               NaN        NaN                       NaN             0.0   \n",
              "3               NaN        NaN                       NaN             0.0   \n",
              "4               NaN        NaN                       NaN             0.0   \n",
              "\n",
              "   tot_coll_amt  tot_cur_bal  open_acc_6m  open_il_6m  open_il_12m  \\\n",
              "0           NaN          NaN          NaN         NaN          NaN   \n",
              "1           NaN          NaN          NaN         NaN          NaN   \n",
              "2           NaN          NaN          NaN         NaN          NaN   \n",
              "3           NaN          NaN          NaN         NaN          NaN   \n",
              "4           NaN          NaN          NaN         NaN          NaN   \n",
              "\n",
              "   open_il_24m  mths_since_rcnt_il  total_bal_il  il_util  open_rv_12m  \\\n",
              "0          NaN                 NaN           NaN      NaN          NaN   \n",
              "1          NaN                 NaN           NaN      NaN          NaN   \n",
              "2          NaN                 NaN           NaN      NaN          NaN   \n",
              "3          NaN                 NaN           NaN      NaN          NaN   \n",
              "4          NaN                 NaN           NaN      NaN          NaN   \n",
              "\n",
              "   open_rv_24m  max_bal_bc  all_util  total_rev_hi_lim  inq_fi  total_cu_tl  \\\n",
              "0          NaN         NaN       NaN               NaN     NaN          NaN   \n",
              "1          NaN         NaN       NaN               NaN     NaN          NaN   \n",
              "2          NaN         NaN       NaN               NaN     NaN          NaN   \n",
              "3          NaN         NaN       NaN               NaN     NaN          NaN   \n",
              "4          NaN         NaN       NaN               NaN     NaN          NaN   \n",
              "\n",
              "   inq_last_12m  default_ind  \n",
              "0           NaN            0  \n",
              "1           NaN            1  \n",
              "2           NaN            0  \n",
              "3           NaN            0  \n",
              "4           NaN            0  "
            ]
          },
          "metadata": {
            "tags": []
          },
          "execution_count": 41
        }
      ]
    },
    {
      "cell_type": "code",
      "metadata": {
        "colab": {
          "base_uri": "https://localhost:8080/",
          "height": 333
        },
        "id": "FkNE-0MLIwmS",
        "outputId": "2bea60c2-420f-4e82-e9b6-81ff86beb78f"
      },
      "source": [
        "bl.tail()"
      ],
      "execution_count": 42,
      "outputs": [
        {
          "output_type": "execute_result",
          "data": {
            "text/html": [
              "<div>\n",
              "<style scoped>\n",
              "    .dataframe tbody tr th:only-of-type {\n",
              "        vertical-align: middle;\n",
              "    }\n",
              "\n",
              "    .dataframe tbody tr th {\n",
              "        vertical-align: top;\n",
              "    }\n",
              "\n",
              "    .dataframe thead th {\n",
              "        text-align: right;\n",
              "    }\n",
              "</style>\n",
              "<table border=\"1\" class=\"dataframe\">\n",
              "  <thead>\n",
              "    <tr style=\"text-align: right;\">\n",
              "      <th></th>\n",
              "      <th>id</th>\n",
              "      <th>member_id</th>\n",
              "      <th>loan_amnt</th>\n",
              "      <th>funded_amnt</th>\n",
              "      <th>funded_amnt_inv</th>\n",
              "      <th>term</th>\n",
              "      <th>int_rate</th>\n",
              "      <th>installment</th>\n",
              "      <th>grade</th>\n",
              "      <th>sub_grade</th>\n",
              "      <th>emp_title</th>\n",
              "      <th>emp_length</th>\n",
              "      <th>home_ownership</th>\n",
              "      <th>annual_inc</th>\n",
              "      <th>verification_status</th>\n",
              "      <th>issue_d</th>\n",
              "      <th>pymnt_plan</th>\n",
              "      <th>desc</th>\n",
              "      <th>purpose</th>\n",
              "      <th>title</th>\n",
              "      <th>zip_code</th>\n",
              "      <th>addr_state</th>\n",
              "      <th>dti</th>\n",
              "      <th>delinq_2yrs</th>\n",
              "      <th>earliest_cr_line</th>\n",
              "      <th>inq_last_6mths</th>\n",
              "      <th>mths_since_last_delinq</th>\n",
              "      <th>mths_since_last_record</th>\n",
              "      <th>open_acc</th>\n",
              "      <th>pub_rec</th>\n",
              "      <th>revol_bal</th>\n",
              "      <th>revol_util</th>\n",
              "      <th>total_acc</th>\n",
              "      <th>initial_list_status</th>\n",
              "      <th>out_prncp</th>\n",
              "      <th>out_prncp_inv</th>\n",
              "      <th>total_pymnt</th>\n",
              "      <th>total_pymnt_inv</th>\n",
              "      <th>total_rec_prncp</th>\n",
              "      <th>total_rec_int</th>\n",
              "      <th>total_rec_late_fee</th>\n",
              "      <th>recoveries</th>\n",
              "      <th>collection_recovery_fee</th>\n",
              "      <th>last_pymnt_d</th>\n",
              "      <th>last_pymnt_amnt</th>\n",
              "      <th>next_pymnt_d</th>\n",
              "      <th>last_credit_pull_d</th>\n",
              "      <th>collections_12_mths_ex_med</th>\n",
              "      <th>mths_since_last_major_derog</th>\n",
              "      <th>policy_code</th>\n",
              "      <th>application_type</th>\n",
              "      <th>annual_inc_joint</th>\n",
              "      <th>dti_joint</th>\n",
              "      <th>verification_status_joint</th>\n",
              "      <th>acc_now_delinq</th>\n",
              "      <th>tot_coll_amt</th>\n",
              "      <th>tot_cur_bal</th>\n",
              "      <th>open_acc_6m</th>\n",
              "      <th>open_il_6m</th>\n",
              "      <th>open_il_12m</th>\n",
              "      <th>open_il_24m</th>\n",
              "      <th>mths_since_rcnt_il</th>\n",
              "      <th>total_bal_il</th>\n",
              "      <th>il_util</th>\n",
              "      <th>open_rv_12m</th>\n",
              "      <th>open_rv_24m</th>\n",
              "      <th>max_bal_bc</th>\n",
              "      <th>all_util</th>\n",
              "      <th>total_rev_hi_lim</th>\n",
              "      <th>inq_fi</th>\n",
              "      <th>total_cu_tl</th>\n",
              "      <th>inq_last_12m</th>\n",
              "      <th>default_ind</th>\n",
              "    </tr>\n",
              "  </thead>\n",
              "  <tbody>\n",
              "    <tr>\n",
              "      <th>855964</th>\n",
              "      <td>36371250</td>\n",
              "      <td>39102635</td>\n",
              "      <td>10000.0</td>\n",
              "      <td>10000.0</td>\n",
              "      <td>10000.0</td>\n",
              "      <td>36 months</td>\n",
              "      <td>11.99</td>\n",
              "      <td>332.10</td>\n",
              "      <td>B</td>\n",
              "      <td>B5</td>\n",
              "      <td>Office Assistant</td>\n",
              "      <td>8 years</td>\n",
              "      <td>RENT</td>\n",
              "      <td>31000.0</td>\n",
              "      <td>Verified</td>\n",
              "      <td>Jan-2015</td>\n",
              "      <td>n</td>\n",
              "      <td>NaN</td>\n",
              "      <td>debt_consolidation</td>\n",
              "      <td>Debt consolidation</td>\n",
              "      <td>905xx</td>\n",
              "      <td>CA</td>\n",
              "      <td>28.69</td>\n",
              "      <td>0.0</td>\n",
              "      <td>Sep-2004</td>\n",
              "      <td>0.0</td>\n",
              "      <td>NaN</td>\n",
              "      <td>77.0</td>\n",
              "      <td>9.0</td>\n",
              "      <td>1.0</td>\n",
              "      <td>14037.0</td>\n",
              "      <td>82.1</td>\n",
              "      <td>15.0</td>\n",
              "      <td>f</td>\n",
              "      <td>7055.47</td>\n",
              "      <td>7055.47</td>\n",
              "      <td>3971.88</td>\n",
              "      <td>3971.88</td>\n",
              "      <td>2944.53</td>\n",
              "      <td>1027.35</td>\n",
              "      <td>0.0</td>\n",
              "      <td>0.0</td>\n",
              "      <td>0.0</td>\n",
              "      <td>Jan-2016</td>\n",
              "      <td>332.10</td>\n",
              "      <td>Feb-2016</td>\n",
              "      <td>Jan-2016</td>\n",
              "      <td>0.0</td>\n",
              "      <td>NaN</td>\n",
              "      <td>1.0</td>\n",
              "      <td>INDIVIDUAL</td>\n",
              "      <td>NaN</td>\n",
              "      <td>NaN</td>\n",
              "      <td>NaN</td>\n",
              "      <td>0.0</td>\n",
              "      <td>0.0</td>\n",
              "      <td>25274.0</td>\n",
              "      <td>NaN</td>\n",
              "      <td>NaN</td>\n",
              "      <td>NaN</td>\n",
              "      <td>NaN</td>\n",
              "      <td>NaN</td>\n",
              "      <td>NaN</td>\n",
              "      <td>NaN</td>\n",
              "      <td>NaN</td>\n",
              "      <td>NaN</td>\n",
              "      <td>NaN</td>\n",
              "      <td>NaN</td>\n",
              "      <td>17100.0</td>\n",
              "      <td>NaN</td>\n",
              "      <td>NaN</td>\n",
              "      <td>NaN</td>\n",
              "      <td>0</td>\n",
              "    </tr>\n",
              "    <tr>\n",
              "      <th>855965</th>\n",
              "      <td>36441262</td>\n",
              "      <td>39152692</td>\n",
              "      <td>24000.0</td>\n",
              "      <td>24000.0</td>\n",
              "      <td>24000.0</td>\n",
              "      <td>36 months</td>\n",
              "      <td>11.99</td>\n",
              "      <td>797.03</td>\n",
              "      <td>B</td>\n",
              "      <td>B5</td>\n",
              "      <td>Director of Maintenance</td>\n",
              "      <td>10+ years</td>\n",
              "      <td>MORTGAGE</td>\n",
              "      <td>79000.0</td>\n",
              "      <td>Verified</td>\n",
              "      <td>Jan-2015</td>\n",
              "      <td>n</td>\n",
              "      <td>NaN</td>\n",
              "      <td>home_improvement</td>\n",
              "      <td>Home improvement</td>\n",
              "      <td>072xx</td>\n",
              "      <td>NJ</td>\n",
              "      <td>3.90</td>\n",
              "      <td>0.0</td>\n",
              "      <td>Mar-1974</td>\n",
              "      <td>1.0</td>\n",
              "      <td>26.0</td>\n",
              "      <td>NaN</td>\n",
              "      <td>5.0</td>\n",
              "      <td>0.0</td>\n",
              "      <td>8621.0</td>\n",
              "      <td>84.5</td>\n",
              "      <td>23.0</td>\n",
              "      <td>f</td>\n",
              "      <td>16933.26</td>\n",
              "      <td>16933.26</td>\n",
              "      <td>9532.39</td>\n",
              "      <td>9532.39</td>\n",
              "      <td>7066.74</td>\n",
              "      <td>2465.65</td>\n",
              "      <td>0.0</td>\n",
              "      <td>0.0</td>\n",
              "      <td>0.0</td>\n",
              "      <td>Jan-2016</td>\n",
              "      <td>797.03</td>\n",
              "      <td>Feb-2016</td>\n",
              "      <td>Jan-2016</td>\n",
              "      <td>0.0</td>\n",
              "      <td>29.0</td>\n",
              "      <td>1.0</td>\n",
              "      <td>INDIVIDUAL</td>\n",
              "      <td>NaN</td>\n",
              "      <td>NaN</td>\n",
              "      <td>NaN</td>\n",
              "      <td>0.0</td>\n",
              "      <td>0.0</td>\n",
              "      <td>140285.0</td>\n",
              "      <td>NaN</td>\n",
              "      <td>NaN</td>\n",
              "      <td>NaN</td>\n",
              "      <td>NaN</td>\n",
              "      <td>NaN</td>\n",
              "      <td>NaN</td>\n",
              "      <td>NaN</td>\n",
              "      <td>NaN</td>\n",
              "      <td>NaN</td>\n",
              "      <td>NaN</td>\n",
              "      <td>NaN</td>\n",
              "      <td>10200.0</td>\n",
              "      <td>NaN</td>\n",
              "      <td>NaN</td>\n",
              "      <td>NaN</td>\n",
              "      <td>0</td>\n",
              "    </tr>\n",
              "    <tr>\n",
              "      <th>855966</th>\n",
              "      <td>36271333</td>\n",
              "      <td>38982739</td>\n",
              "      <td>13000.0</td>\n",
              "      <td>13000.0</td>\n",
              "      <td>13000.0</td>\n",
              "      <td>60 months</td>\n",
              "      <td>15.99</td>\n",
              "      <td>316.07</td>\n",
              "      <td>D</td>\n",
              "      <td>D2</td>\n",
              "      <td>Radiologist Technologist</td>\n",
              "      <td>5 years</td>\n",
              "      <td>RENT</td>\n",
              "      <td>35000.0</td>\n",
              "      <td>Verified</td>\n",
              "      <td>Jan-2015</td>\n",
              "      <td>n</td>\n",
              "      <td>NaN</td>\n",
              "      <td>debt_consolidation</td>\n",
              "      <td>Debt consolidation</td>\n",
              "      <td>378xx</td>\n",
              "      <td>TN</td>\n",
              "      <td>30.90</td>\n",
              "      <td>0.0</td>\n",
              "      <td>Sep-2003</td>\n",
              "      <td>0.0</td>\n",
              "      <td>NaN</td>\n",
              "      <td>84.0</td>\n",
              "      <td>9.0</td>\n",
              "      <td>1.0</td>\n",
              "      <td>11031.0</td>\n",
              "      <td>61.3</td>\n",
              "      <td>22.0</td>\n",
              "      <td>w</td>\n",
              "      <td>11155.50</td>\n",
              "      <td>11155.50</td>\n",
              "      <td>3769.74</td>\n",
              "      <td>3769.74</td>\n",
              "      <td>1844.50</td>\n",
              "      <td>1925.24</td>\n",
              "      <td>0.0</td>\n",
              "      <td>0.0</td>\n",
              "      <td>0.0</td>\n",
              "      <td>Jan-2016</td>\n",
              "      <td>316.07</td>\n",
              "      <td>Feb-2016</td>\n",
              "      <td>Jan-2016</td>\n",
              "      <td>0.0</td>\n",
              "      <td>NaN</td>\n",
              "      <td>1.0</td>\n",
              "      <td>INDIVIDUAL</td>\n",
              "      <td>NaN</td>\n",
              "      <td>NaN</td>\n",
              "      <td>NaN</td>\n",
              "      <td>0.0</td>\n",
              "      <td>0.0</td>\n",
              "      <td>34178.0</td>\n",
              "      <td>NaN</td>\n",
              "      <td>NaN</td>\n",
              "      <td>NaN</td>\n",
              "      <td>NaN</td>\n",
              "      <td>NaN</td>\n",
              "      <td>NaN</td>\n",
              "      <td>NaN</td>\n",
              "      <td>NaN</td>\n",
              "      <td>NaN</td>\n",
              "      <td>NaN</td>\n",
              "      <td>NaN</td>\n",
              "      <td>18000.0</td>\n",
              "      <td>NaN</td>\n",
              "      <td>NaN</td>\n",
              "      <td>NaN</td>\n",
              "      <td>0</td>\n",
              "    </tr>\n",
              "    <tr>\n",
              "      <th>855967</th>\n",
              "      <td>36490806</td>\n",
              "      <td>39222577</td>\n",
              "      <td>12000.0</td>\n",
              "      <td>12000.0</td>\n",
              "      <td>12000.0</td>\n",
              "      <td>60 months</td>\n",
              "      <td>19.99</td>\n",
              "      <td>317.86</td>\n",
              "      <td>E</td>\n",
              "      <td>E3</td>\n",
              "      <td>Painter</td>\n",
              "      <td>1 year</td>\n",
              "      <td>RENT</td>\n",
              "      <td>64400.0</td>\n",
              "      <td>Source Verified</td>\n",
              "      <td>Jan-2015</td>\n",
              "      <td>n</td>\n",
              "      <td>NaN</td>\n",
              "      <td>debt_consolidation</td>\n",
              "      <td>Debt consolidation</td>\n",
              "      <td>010xx</td>\n",
              "      <td>MA</td>\n",
              "      <td>27.19</td>\n",
              "      <td>1.0</td>\n",
              "      <td>Oct-2003</td>\n",
              "      <td>2.0</td>\n",
              "      <td>22.0</td>\n",
              "      <td>NaN</td>\n",
              "      <td>17.0</td>\n",
              "      <td>0.0</td>\n",
              "      <td>8254.0</td>\n",
              "      <td>30.6</td>\n",
              "      <td>20.0</td>\n",
              "      <td>w</td>\n",
              "      <td>10447.31</td>\n",
              "      <td>10447.31</td>\n",
              "      <td>3787.67</td>\n",
              "      <td>3787.67</td>\n",
              "      <td>1552.69</td>\n",
              "      <td>2234.98</td>\n",
              "      <td>0.0</td>\n",
              "      <td>0.0</td>\n",
              "      <td>0.0</td>\n",
              "      <td>Jan-2016</td>\n",
              "      <td>317.86</td>\n",
              "      <td>Feb-2016</td>\n",
              "      <td>Jan-2016</td>\n",
              "      <td>1.0</td>\n",
              "      <td>22.0</td>\n",
              "      <td>1.0</td>\n",
              "      <td>INDIVIDUAL</td>\n",
              "      <td>NaN</td>\n",
              "      <td>NaN</td>\n",
              "      <td>NaN</td>\n",
              "      <td>0.0</td>\n",
              "      <td>0.0</td>\n",
              "      <td>58418.0</td>\n",
              "      <td>NaN</td>\n",
              "      <td>NaN</td>\n",
              "      <td>NaN</td>\n",
              "      <td>NaN</td>\n",
              "      <td>NaN</td>\n",
              "      <td>NaN</td>\n",
              "      <td>NaN</td>\n",
              "      <td>NaN</td>\n",
              "      <td>NaN</td>\n",
              "      <td>NaN</td>\n",
              "      <td>NaN</td>\n",
              "      <td>27000.0</td>\n",
              "      <td>NaN</td>\n",
              "      <td>NaN</td>\n",
              "      <td>NaN</td>\n",
              "      <td>0</td>\n",
              "    </tr>\n",
              "    <tr>\n",
              "      <th>855968</th>\n",
              "      <td>36271262</td>\n",
              "      <td>38982659</td>\n",
              "      <td>20000.0</td>\n",
              "      <td>20000.0</td>\n",
              "      <td>20000.0</td>\n",
              "      <td>36 months</td>\n",
              "      <td>11.99</td>\n",
              "      <td>664.20</td>\n",
              "      <td>B</td>\n",
              "      <td>B5</td>\n",
              "      <td>Manager Hotel Operations Oasis</td>\n",
              "      <td>10+ years</td>\n",
              "      <td>RENT</td>\n",
              "      <td>100000.0</td>\n",
              "      <td>Verified</td>\n",
              "      <td>Jan-2015</td>\n",
              "      <td>n</td>\n",
              "      <td>NaN</td>\n",
              "      <td>credit_card</td>\n",
              "      <td>Credit card refinancing</td>\n",
              "      <td>331xx</td>\n",
              "      <td>FL</td>\n",
              "      <td>10.83</td>\n",
              "      <td>0.0</td>\n",
              "      <td>Dec-2001</td>\n",
              "      <td>1.0</td>\n",
              "      <td>NaN</td>\n",
              "      <td>110.0</td>\n",
              "      <td>8.0</td>\n",
              "      <td>1.0</td>\n",
              "      <td>33266.0</td>\n",
              "      <td>79.8</td>\n",
              "      <td>10.0</td>\n",
              "      <td>f</td>\n",
              "      <td>14110.94</td>\n",
              "      <td>14110.94</td>\n",
              "      <td>7943.76</td>\n",
              "      <td>7943.76</td>\n",
              "      <td>5889.06</td>\n",
              "      <td>2054.70</td>\n",
              "      <td>0.0</td>\n",
              "      <td>0.0</td>\n",
              "      <td>0.0</td>\n",
              "      <td>Jan-2016</td>\n",
              "      <td>664.20</td>\n",
              "      <td>Feb-2016</td>\n",
              "      <td>Jan-2016</td>\n",
              "      <td>0.0</td>\n",
              "      <td>NaN</td>\n",
              "      <td>1.0</td>\n",
              "      <td>INDIVIDUAL</td>\n",
              "      <td>NaN</td>\n",
              "      <td>NaN</td>\n",
              "      <td>NaN</td>\n",
              "      <td>0.0</td>\n",
              "      <td>0.0</td>\n",
              "      <td>33307.0</td>\n",
              "      <td>NaN</td>\n",
              "      <td>NaN</td>\n",
              "      <td>NaN</td>\n",
              "      <td>NaN</td>\n",
              "      <td>NaN</td>\n",
              "      <td>NaN</td>\n",
              "      <td>NaN</td>\n",
              "      <td>NaN</td>\n",
              "      <td>NaN</td>\n",
              "      <td>NaN</td>\n",
              "      <td>NaN</td>\n",
              "      <td>41700.0</td>\n",
              "      <td>NaN</td>\n",
              "      <td>NaN</td>\n",
              "      <td>NaN</td>\n",
              "      <td>0</td>\n",
              "    </tr>\n",
              "  </tbody>\n",
              "</table>\n",
              "</div>"
            ],
            "text/plain": [
              "              id  member_id  loan_amnt  funded_amnt  funded_amnt_inv  \\\n",
              "855964  36371250   39102635    10000.0      10000.0          10000.0   \n",
              "855965  36441262   39152692    24000.0      24000.0          24000.0   \n",
              "855966  36271333   38982739    13000.0      13000.0          13000.0   \n",
              "855967  36490806   39222577    12000.0      12000.0          12000.0   \n",
              "855968  36271262   38982659    20000.0      20000.0          20000.0   \n",
              "\n",
              "              term  int_rate  installment grade sub_grade  \\\n",
              "855964   36 months     11.99       332.10     B        B5   \n",
              "855965   36 months     11.99       797.03     B        B5   \n",
              "855966   60 months     15.99       316.07     D        D2   \n",
              "855967   60 months     19.99       317.86     E        E3   \n",
              "855968   36 months     11.99       664.20     B        B5   \n",
              "\n",
              "                              emp_title emp_length home_ownership  annual_inc  \\\n",
              "855964                 Office Assistant    8 years           RENT     31000.0   \n",
              "855965          Director of Maintenance  10+ years       MORTGAGE     79000.0   \n",
              "855966         Radiologist Technologist    5 years           RENT     35000.0   \n",
              "855967                          Painter     1 year           RENT     64400.0   \n",
              "855968  Manager Hotel Operations Oasis   10+ years           RENT    100000.0   \n",
              "\n",
              "       verification_status   issue_d pymnt_plan desc             purpose  \\\n",
              "855964            Verified  Jan-2015          n  NaN  debt_consolidation   \n",
              "855965            Verified  Jan-2015          n  NaN    home_improvement   \n",
              "855966            Verified  Jan-2015          n  NaN  debt_consolidation   \n",
              "855967     Source Verified  Jan-2015          n  NaN  debt_consolidation   \n",
              "855968            Verified  Jan-2015          n  NaN         credit_card   \n",
              "\n",
              "                          title zip_code addr_state    dti  delinq_2yrs  \\\n",
              "855964       Debt consolidation    905xx         CA  28.69          0.0   \n",
              "855965         Home improvement    072xx         NJ   3.90          0.0   \n",
              "855966       Debt consolidation    378xx         TN  30.90          0.0   \n",
              "855967       Debt consolidation    010xx         MA  27.19          1.0   \n",
              "855968  Credit card refinancing    331xx         FL  10.83          0.0   \n",
              "\n",
              "       earliest_cr_line  inq_last_6mths  mths_since_last_delinq  \\\n",
              "855964         Sep-2004             0.0                     NaN   \n",
              "855965         Mar-1974             1.0                    26.0   \n",
              "855966         Sep-2003             0.0                     NaN   \n",
              "855967         Oct-2003             2.0                    22.0   \n",
              "855968         Dec-2001             1.0                     NaN   \n",
              "\n",
              "        mths_since_last_record  open_acc  pub_rec  revol_bal  revol_util  \\\n",
              "855964                    77.0       9.0      1.0    14037.0        82.1   \n",
              "855965                     NaN       5.0      0.0     8621.0        84.5   \n",
              "855966                    84.0       9.0      1.0    11031.0        61.3   \n",
              "855967                     NaN      17.0      0.0     8254.0        30.6   \n",
              "855968                   110.0       8.0      1.0    33266.0        79.8   \n",
              "\n",
              "        total_acc initial_list_status  out_prncp  out_prncp_inv  total_pymnt  \\\n",
              "855964       15.0                   f    7055.47        7055.47      3971.88   \n",
              "855965       23.0                   f   16933.26       16933.26      9532.39   \n",
              "855966       22.0                   w   11155.50       11155.50      3769.74   \n",
              "855967       20.0                   w   10447.31       10447.31      3787.67   \n",
              "855968       10.0                   f   14110.94       14110.94      7943.76   \n",
              "\n",
              "        total_pymnt_inv  total_rec_prncp  total_rec_int  total_rec_late_fee  \\\n",
              "855964          3971.88          2944.53        1027.35                 0.0   \n",
              "855965          9532.39          7066.74        2465.65                 0.0   \n",
              "855966          3769.74          1844.50        1925.24                 0.0   \n",
              "855967          3787.67          1552.69        2234.98                 0.0   \n",
              "855968          7943.76          5889.06        2054.70                 0.0   \n",
              "\n",
              "        recoveries  collection_recovery_fee last_pymnt_d  last_pymnt_amnt  \\\n",
              "855964         0.0                      0.0     Jan-2016           332.10   \n",
              "855965         0.0                      0.0     Jan-2016           797.03   \n",
              "855966         0.0                      0.0     Jan-2016           316.07   \n",
              "855967         0.0                      0.0     Jan-2016           317.86   \n",
              "855968         0.0                      0.0     Jan-2016           664.20   \n",
              "\n",
              "       next_pymnt_d last_credit_pull_d  collections_12_mths_ex_med  \\\n",
              "855964     Feb-2016           Jan-2016                         0.0   \n",
              "855965     Feb-2016           Jan-2016                         0.0   \n",
              "855966     Feb-2016           Jan-2016                         0.0   \n",
              "855967     Feb-2016           Jan-2016                         1.0   \n",
              "855968     Feb-2016           Jan-2016                         0.0   \n",
              "\n",
              "        mths_since_last_major_derog  policy_code application_type  \\\n",
              "855964                          NaN          1.0       INDIVIDUAL   \n",
              "855965                         29.0          1.0       INDIVIDUAL   \n",
              "855966                          NaN          1.0       INDIVIDUAL   \n",
              "855967                         22.0          1.0       INDIVIDUAL   \n",
              "855968                          NaN          1.0       INDIVIDUAL   \n",
              "\n",
              "        annual_inc_joint  dti_joint verification_status_joint  acc_now_delinq  \\\n",
              "855964               NaN        NaN                       NaN             0.0   \n",
              "855965               NaN        NaN                       NaN             0.0   \n",
              "855966               NaN        NaN                       NaN             0.0   \n",
              "855967               NaN        NaN                       NaN             0.0   \n",
              "855968               NaN        NaN                       NaN             0.0   \n",
              "\n",
              "        tot_coll_amt  tot_cur_bal  open_acc_6m  open_il_6m  open_il_12m  \\\n",
              "855964           0.0      25274.0          NaN         NaN          NaN   \n",
              "855965           0.0     140285.0          NaN         NaN          NaN   \n",
              "855966           0.0      34178.0          NaN         NaN          NaN   \n",
              "855967           0.0      58418.0          NaN         NaN          NaN   \n",
              "855968           0.0      33307.0          NaN         NaN          NaN   \n",
              "\n",
              "        open_il_24m  mths_since_rcnt_il  total_bal_il  il_util  open_rv_12m  \\\n",
              "855964          NaN                 NaN           NaN      NaN          NaN   \n",
              "855965          NaN                 NaN           NaN      NaN          NaN   \n",
              "855966          NaN                 NaN           NaN      NaN          NaN   \n",
              "855967          NaN                 NaN           NaN      NaN          NaN   \n",
              "855968          NaN                 NaN           NaN      NaN          NaN   \n",
              "\n",
              "        open_rv_24m  max_bal_bc  all_util  total_rev_hi_lim  inq_fi  \\\n",
              "855964          NaN         NaN       NaN           17100.0     NaN   \n",
              "855965          NaN         NaN       NaN           10200.0     NaN   \n",
              "855966          NaN         NaN       NaN           18000.0     NaN   \n",
              "855967          NaN         NaN       NaN           27000.0     NaN   \n",
              "855968          NaN         NaN       NaN           41700.0     NaN   \n",
              "\n",
              "        total_cu_tl  inq_last_12m  default_ind  \n",
              "855964          NaN           NaN            0  \n",
              "855965          NaN           NaN            0  \n",
              "855966          NaN           NaN            0  \n",
              "855967          NaN           NaN            0  \n",
              "855968          NaN           NaN            0  "
            ]
          },
          "metadata": {
            "tags": []
          },
          "execution_count": 42
        }
      ]
    },
    {
      "cell_type": "code",
      "metadata": {
        "colab": {
          "base_uri": "https://localhost:8080/"
        },
        "id": "nmPi5XHsIyJw",
        "outputId": "2a79c6cb-87f3-47d5-b826-11af33ad3502"
      },
      "source": [
        "bl.info()"
      ],
      "execution_count": 43,
      "outputs": [
        {
          "output_type": "stream",
          "text": [
            "<class 'pandas.core.frame.DataFrame'>\n",
            "RangeIndex: 855969 entries, 0 to 855968\n",
            "Data columns (total 73 columns):\n",
            " #   Column                       Non-Null Count   Dtype  \n",
            "---  ------                       --------------   -----  \n",
            " 0   id                           855969 non-null  int64  \n",
            " 1   member_id                    855969 non-null  int64  \n",
            " 2   loan_amnt                    855969 non-null  float64\n",
            " 3   funded_amnt                  855969 non-null  float64\n",
            " 4   funded_amnt_inv              855969 non-null  float64\n",
            " 5   term                         855969 non-null  object \n",
            " 6   int_rate                     855969 non-null  float64\n",
            " 7   installment                  855969 non-null  float64\n",
            " 8   grade                        855969 non-null  object \n",
            " 9   sub_grade                    855969 non-null  object \n",
            " 10  emp_title                    806526 non-null  object \n",
            " 11  emp_length                   812908 non-null  object \n",
            " 12  home_ownership               855969 non-null  object \n",
            " 13  annual_inc                   855969 non-null  float64\n",
            " 14  verification_status          855969 non-null  object \n",
            " 15  issue_d                      855969 non-null  object \n",
            " 16  pymnt_plan                   855969 non-null  object \n",
            " 17  desc                         121812 non-null  object \n",
            " 18  purpose                      855969 non-null  object \n",
            " 19  title                        855936 non-null  object \n",
            " 20  zip_code                     855969 non-null  object \n",
            " 21  addr_state                   855969 non-null  object \n",
            " 22  dti                          855969 non-null  float64\n",
            " 23  delinq_2yrs                  855969 non-null  float64\n",
            " 24  earliest_cr_line             855969 non-null  object \n",
            " 25  inq_last_6mths               855969 non-null  float64\n",
            " 26  mths_since_last_delinq       416157 non-null  float64\n",
            " 27  mths_since_last_record       131184 non-null  float64\n",
            " 28  open_acc                     855969 non-null  float64\n",
            " 29  pub_rec                      855969 non-null  float64\n",
            " 30  revol_bal                    855969 non-null  float64\n",
            " 31  revol_util                   855523 non-null  float64\n",
            " 32  total_acc                    855969 non-null  float64\n",
            " 33  initial_list_status          855969 non-null  object \n",
            " 34  out_prncp                    855969 non-null  float64\n",
            " 35  out_prncp_inv                855969 non-null  float64\n",
            " 36  total_pymnt                  855969 non-null  float64\n",
            " 37  total_pymnt_inv              855969 non-null  float64\n",
            " 38  total_rec_prncp              855969 non-null  float64\n",
            " 39  total_rec_int                855969 non-null  float64\n",
            " 40  total_rec_late_fee           855969 non-null  float64\n",
            " 41  recoveries                   855969 non-null  float64\n",
            " 42  collection_recovery_fee      855969 non-null  float64\n",
            " 43  last_pymnt_d                 847107 non-null  object \n",
            " 44  last_pymnt_amnt              855969 non-null  float64\n",
            " 45  next_pymnt_d                 602998 non-null  object \n",
            " 46  last_credit_pull_d           855919 non-null  object \n",
            " 47  collections_12_mths_ex_med   855913 non-null  float64\n",
            " 48  mths_since_last_major_derog  213139 non-null  float64\n",
            " 49  policy_code                  855969 non-null  float64\n",
            " 50  application_type             855969 non-null  object \n",
            " 51  annual_inc_joint             442 non-null     float64\n",
            " 52  dti_joint                    440 non-null     float64\n",
            " 53  verification_status_joint    442 non-null     object \n",
            " 54  acc_now_delinq               855969 non-null  float64\n",
            " 55  tot_coll_amt                 788656 non-null  float64\n",
            " 56  tot_cur_bal                  788656 non-null  float64\n",
            " 57  open_acc_6m                  13288 non-null   float64\n",
            " 58  open_il_6m                   13288 non-null   float64\n",
            " 59  open_il_12m                  13288 non-null   float64\n",
            " 60  open_il_24m                  13288 non-null   float64\n",
            " 61  mths_since_rcnt_il           12934 non-null   float64\n",
            " 62  total_bal_il                 13288 non-null   float64\n",
            " 63  il_util                      11609 non-null   float64\n",
            " 64  open_rv_12m                  13288 non-null   float64\n",
            " 65  open_rv_24m                  13288 non-null   float64\n",
            " 66  max_bal_bc                   13288 non-null   float64\n",
            " 67  all_util                     13288 non-null   float64\n",
            " 68  total_rev_hi_lim             788656 non-null  float64\n",
            " 69  inq_fi                       13288 non-null   float64\n",
            " 70  total_cu_tl                  13288 non-null   float64\n",
            " 71  inq_last_12m                 13288 non-null   float64\n",
            " 72  default_ind                  855969 non-null  int64  \n",
            "dtypes: float64(49), int64(3), object(21)\n",
            "memory usage: 476.7+ MB\n"
          ],
          "name": "stdout"
        }
      ]
    },
    {
      "cell_type": "code",
      "metadata": {
        "colab": {
          "base_uri": "https://localhost:8080/",
          "height": 304
        },
        "id": "QaRKJiCsI1KW",
        "outputId": "42227279-aaef-40fe-aaa5-142a6600bd2a"
      },
      "source": [
        "bl.describe()"
      ],
      "execution_count": 44,
      "outputs": [
        {
          "output_type": "execute_result",
          "data": {
            "text/html": [
              "<div>\n",
              "<style scoped>\n",
              "    .dataframe tbody tr th:only-of-type {\n",
              "        vertical-align: middle;\n",
              "    }\n",
              "\n",
              "    .dataframe tbody tr th {\n",
              "        vertical-align: top;\n",
              "    }\n",
              "\n",
              "    .dataframe thead th {\n",
              "        text-align: right;\n",
              "    }\n",
              "</style>\n",
              "<table border=\"1\" class=\"dataframe\">\n",
              "  <thead>\n",
              "    <tr style=\"text-align: right;\">\n",
              "      <th></th>\n",
              "      <th>id</th>\n",
              "      <th>member_id</th>\n",
              "      <th>loan_amnt</th>\n",
              "      <th>funded_amnt</th>\n",
              "      <th>funded_amnt_inv</th>\n",
              "      <th>int_rate</th>\n",
              "      <th>installment</th>\n",
              "      <th>annual_inc</th>\n",
              "      <th>dti</th>\n",
              "      <th>delinq_2yrs</th>\n",
              "      <th>inq_last_6mths</th>\n",
              "      <th>mths_since_last_delinq</th>\n",
              "      <th>mths_since_last_record</th>\n",
              "      <th>open_acc</th>\n",
              "      <th>pub_rec</th>\n",
              "      <th>revol_bal</th>\n",
              "      <th>revol_util</th>\n",
              "      <th>total_acc</th>\n",
              "      <th>out_prncp</th>\n",
              "      <th>out_prncp_inv</th>\n",
              "      <th>total_pymnt</th>\n",
              "      <th>total_pymnt_inv</th>\n",
              "      <th>total_rec_prncp</th>\n",
              "      <th>total_rec_int</th>\n",
              "      <th>total_rec_late_fee</th>\n",
              "      <th>recoveries</th>\n",
              "      <th>collection_recovery_fee</th>\n",
              "      <th>last_pymnt_amnt</th>\n",
              "      <th>collections_12_mths_ex_med</th>\n",
              "      <th>mths_since_last_major_derog</th>\n",
              "      <th>policy_code</th>\n",
              "      <th>annual_inc_joint</th>\n",
              "      <th>dti_joint</th>\n",
              "      <th>acc_now_delinq</th>\n",
              "      <th>tot_coll_amt</th>\n",
              "      <th>tot_cur_bal</th>\n",
              "      <th>open_acc_6m</th>\n",
              "      <th>open_il_6m</th>\n",
              "      <th>open_il_12m</th>\n",
              "      <th>open_il_24m</th>\n",
              "      <th>mths_since_rcnt_il</th>\n",
              "      <th>total_bal_il</th>\n",
              "      <th>il_util</th>\n",
              "      <th>open_rv_12m</th>\n",
              "      <th>open_rv_24m</th>\n",
              "      <th>max_bal_bc</th>\n",
              "      <th>all_util</th>\n",
              "      <th>total_rev_hi_lim</th>\n",
              "      <th>inq_fi</th>\n",
              "      <th>total_cu_tl</th>\n",
              "      <th>inq_last_12m</th>\n",
              "      <th>default_ind</th>\n",
              "    </tr>\n",
              "  </thead>\n",
              "  <tbody>\n",
              "    <tr>\n",
              "      <th>count</th>\n",
              "      <td>8.559690e+05</td>\n",
              "      <td>8.559690e+05</td>\n",
              "      <td>855969.000000</td>\n",
              "      <td>855969.000000</td>\n",
              "      <td>855969.000000</td>\n",
              "      <td>855969.000000</td>\n",
              "      <td>855969.000000</td>\n",
              "      <td>8.559690e+05</td>\n",
              "      <td>855969.000000</td>\n",
              "      <td>855969.000000</td>\n",
              "      <td>855969.000000</td>\n",
              "      <td>416157.000000</td>\n",
              "      <td>131184.000000</td>\n",
              "      <td>855969.000000</td>\n",
              "      <td>855969.000000</td>\n",
              "      <td>8.559690e+05</td>\n",
              "      <td>855523.000000</td>\n",
              "      <td>855969.000000</td>\n",
              "      <td>855969.000000</td>\n",
              "      <td>855969.000000</td>\n",
              "      <td>855969.000000</td>\n",
              "      <td>855969.00000</td>\n",
              "      <td>855969.000000</td>\n",
              "      <td>855969.000000</td>\n",
              "      <td>855969.000000</td>\n",
              "      <td>855969.000000</td>\n",
              "      <td>855969.000000</td>\n",
              "      <td>855969.000000</td>\n",
              "      <td>855913.000000</td>\n",
              "      <td>213139.000000</td>\n",
              "      <td>855969.0</td>\n",
              "      <td>442.000000</td>\n",
              "      <td>440.000000</td>\n",
              "      <td>855969.000000</td>\n",
              "      <td>7.886560e+05</td>\n",
              "      <td>7.886560e+05</td>\n",
              "      <td>13288.000000</td>\n",
              "      <td>13288.000000</td>\n",
              "      <td>13288.000000</td>\n",
              "      <td>13288.000000</td>\n",
              "      <td>12934.000000</td>\n",
              "      <td>13288.000000</td>\n",
              "      <td>11609.000000</td>\n",
              "      <td>13288.000000</td>\n",
              "      <td>13288.000000</td>\n",
              "      <td>13288.000000</td>\n",
              "      <td>13288.000000</td>\n",
              "      <td>7.886560e+05</td>\n",
              "      <td>13288.000000</td>\n",
              "      <td>13288.000000</td>\n",
              "      <td>13288.000000</td>\n",
              "      <td>855969.000000</td>\n",
              "    </tr>\n",
              "    <tr>\n",
              "      <th>mean</th>\n",
              "      <td>3.224073e+07</td>\n",
              "      <td>3.476269e+07</td>\n",
              "      <td>14745.571335</td>\n",
              "      <td>14732.378305</td>\n",
              "      <td>14700.061226</td>\n",
              "      <td>13.192320</td>\n",
              "      <td>436.238072</td>\n",
              "      <td>7.507119e+04</td>\n",
              "      <td>18.122165</td>\n",
              "      <td>0.311621</td>\n",
              "      <td>0.680915</td>\n",
              "      <td>34.149943</td>\n",
              "      <td>70.463959</td>\n",
              "      <td>11.542447</td>\n",
              "      <td>0.194537</td>\n",
              "      <td>1.691053e+04</td>\n",
              "      <td>55.019405</td>\n",
              "      <td>25.269269</td>\n",
              "      <td>8284.830230</td>\n",
              "      <td>8281.449347</td>\n",
              "      <td>7653.296336</td>\n",
              "      <td>7622.22052</td>\n",
              "      <td>5850.841088</td>\n",
              "      <td>1755.046221</td>\n",
              "      <td>0.319530</td>\n",
              "      <td>47.089499</td>\n",
              "      <td>4.951227</td>\n",
              "      <td>2225.985295</td>\n",
              "      <td>0.014230</td>\n",
              "      <td>44.101450</td>\n",
              "      <td>1.0</td>\n",
              "      <td>107412.163982</td>\n",
              "      <td>18.318477</td>\n",
              "      <td>0.004944</td>\n",
              "      <td>2.254129e+02</td>\n",
              "      <td>1.397662e+05</td>\n",
              "      <td>1.072998</td>\n",
              "      <td>2.945665</td>\n",
              "      <td>0.749323</td>\n",
              "      <td>1.666767</td>\n",
              "      <td>20.833153</td>\n",
              "      <td>36511.541391</td>\n",
              "      <td>71.486993</td>\n",
              "      <td>1.354305</td>\n",
              "      <td>2.945515</td>\n",
              "      <td>5840.443332</td>\n",
              "      <td>61.024526</td>\n",
              "      <td>3.216357e+04</td>\n",
              "      <td>0.947772</td>\n",
              "      <td>1.524232</td>\n",
              "      <td>1.841963</td>\n",
              "      <td>0.054286</td>\n",
              "    </tr>\n",
              "    <tr>\n",
              "      <th>std</th>\n",
              "      <td>2.271969e+07</td>\n",
              "      <td>2.399418e+07</td>\n",
              "      <td>8425.340005</td>\n",
              "      <td>8419.471653</td>\n",
              "      <td>8425.805478</td>\n",
              "      <td>4.368365</td>\n",
              "      <td>243.726876</td>\n",
              "      <td>6.426447e+04</td>\n",
              "      <td>17.423629</td>\n",
              "      <td>0.857189</td>\n",
              "      <td>0.964033</td>\n",
              "      <td>21.868500</td>\n",
              "      <td>27.827120</td>\n",
              "      <td>5.308094</td>\n",
              "      <td>0.581585</td>\n",
              "      <td>2.222374e+04</td>\n",
              "      <td>23.811585</td>\n",
              "      <td>11.818841</td>\n",
              "      <td>8461.946669</td>\n",
              "      <td>8458.496422</td>\n",
              "      <td>7909.383591</td>\n",
              "      <td>7885.15640</td>\n",
              "      <td>6676.410888</td>\n",
              "      <td>2081.692980</td>\n",
              "      <td>3.609399</td>\n",
              "      <td>413.136043</td>\n",
              "      <td>62.478569</td>\n",
              "      <td>4864.966593</td>\n",
              "      <td>0.133712</td>\n",
              "      <td>22.164907</td>\n",
              "      <td>0.0</td>\n",
              "      <td>47987.608637</td>\n",
              "      <td>7.221855</td>\n",
              "      <td>0.077333</td>\n",
              "      <td>1.048945e+04</td>\n",
              "      <td>1.539385e+05</td>\n",
              "      <td>1.206939</td>\n",
              "      <td>3.080330</td>\n",
              "      <td>0.986169</td>\n",
              "      <td>1.685394</td>\n",
              "      <td>26.739237</td>\n",
              "      <td>42492.757796</td>\n",
              "      <td>23.015293</td>\n",
              "      <td>1.483710</td>\n",
              "      <td>2.595313</td>\n",
              "      <td>5108.500262</td>\n",
              "      <td>20.018117</td>\n",
              "      <td>3.769964e+04</td>\n",
              "      <td>1.441667</td>\n",
              "      <td>2.697601</td>\n",
              "      <td>2.975049</td>\n",
              "      <td>0.226581</td>\n",
              "    </tr>\n",
              "    <tr>\n",
              "      <th>min</th>\n",
              "      <td>5.473400e+04</td>\n",
              "      <td>7.069900e+04</td>\n",
              "      <td>500.000000</td>\n",
              "      <td>500.000000</td>\n",
              "      <td>0.000000</td>\n",
              "      <td>5.320000</td>\n",
              "      <td>15.690000</td>\n",
              "      <td>0.000000e+00</td>\n",
              "      <td>0.000000</td>\n",
              "      <td>0.000000</td>\n",
              "      <td>0.000000</td>\n",
              "      <td>0.000000</td>\n",
              "      <td>0.000000</td>\n",
              "      <td>0.000000</td>\n",
              "      <td>0.000000</td>\n",
              "      <td>0.000000e+00</td>\n",
              "      <td>0.000000</td>\n",
              "      <td>2.000000</td>\n",
              "      <td>0.000000</td>\n",
              "      <td>0.000000</td>\n",
              "      <td>0.000000</td>\n",
              "      <td>0.00000</td>\n",
              "      <td>0.000000</td>\n",
              "      <td>0.000000</td>\n",
              "      <td>0.000000</td>\n",
              "      <td>0.000000</td>\n",
              "      <td>0.000000</td>\n",
              "      <td>0.000000</td>\n",
              "      <td>0.000000</td>\n",
              "      <td>0.000000</td>\n",
              "      <td>1.0</td>\n",
              "      <td>17950.000000</td>\n",
              "      <td>3.050000</td>\n",
              "      <td>0.000000</td>\n",
              "      <td>0.000000e+00</td>\n",
              "      <td>0.000000e+00</td>\n",
              "      <td>0.000000</td>\n",
              "      <td>0.000000</td>\n",
              "      <td>0.000000</td>\n",
              "      <td>0.000000</td>\n",
              "      <td>0.000000</td>\n",
              "      <td>0.000000</td>\n",
              "      <td>0.000000</td>\n",
              "      <td>0.000000</td>\n",
              "      <td>0.000000</td>\n",
              "      <td>0.000000</td>\n",
              "      <td>0.000000</td>\n",
              "      <td>0.000000e+00</td>\n",
              "      <td>0.000000</td>\n",
              "      <td>0.000000</td>\n",
              "      <td>-4.000000</td>\n",
              "      <td>0.000000</td>\n",
              "    </tr>\n",
              "    <tr>\n",
              "      <th>25%</th>\n",
              "      <td>9.067986e+06</td>\n",
              "      <td>1.079273e+07</td>\n",
              "      <td>8000.000000</td>\n",
              "      <td>8000.000000</td>\n",
              "      <td>8000.000000</td>\n",
              "      <td>9.990000</td>\n",
              "      <td>260.550000</td>\n",
              "      <td>4.500000e+04</td>\n",
              "      <td>11.880000</td>\n",
              "      <td>0.000000</td>\n",
              "      <td>0.000000</td>\n",
              "      <td>15.000000</td>\n",
              "      <td>51.000000</td>\n",
              "      <td>8.000000</td>\n",
              "      <td>0.000000</td>\n",
              "      <td>6.469000e+03</td>\n",
              "      <td>37.600000</td>\n",
              "      <td>17.000000</td>\n",
              "      <td>0.000000</td>\n",
              "      <td>0.000000</td>\n",
              "      <td>1969.690000</td>\n",
              "      <td>1960.12000</td>\n",
              "      <td>1239.950000</td>\n",
              "      <td>451.270000</td>\n",
              "      <td>0.000000</td>\n",
              "      <td>0.000000</td>\n",
              "      <td>0.000000</td>\n",
              "      <td>285.420000</td>\n",
              "      <td>0.000000</td>\n",
              "      <td>27.000000</td>\n",
              "      <td>1.0</td>\n",
              "      <td>75000.250000</td>\n",
              "      <td>13.187500</td>\n",
              "      <td>0.000000</td>\n",
              "      <td>0.000000e+00</td>\n",
              "      <td>2.987000e+04</td>\n",
              "      <td>0.000000</td>\n",
              "      <td>1.000000</td>\n",
              "      <td>0.000000</td>\n",
              "      <td>0.000000</td>\n",
              "      <td>6.000000</td>\n",
              "      <td>10390.250000</td>\n",
              "      <td>58.500000</td>\n",
              "      <td>0.000000</td>\n",
              "      <td>1.000000</td>\n",
              "      <td>2405.000000</td>\n",
              "      <td>47.900000</td>\n",
              "      <td>1.400000e+04</td>\n",
              "      <td>0.000000</td>\n",
              "      <td>0.000000</td>\n",
              "      <td>0.000000</td>\n",
              "      <td>0.000000</td>\n",
              "    </tr>\n",
              "    <tr>\n",
              "      <th>50%</th>\n",
              "      <td>3.431355e+07</td>\n",
              "      <td>3.697532e+07</td>\n",
              "      <td>13000.000000</td>\n",
              "      <td>13000.000000</td>\n",
              "      <td>13000.000000</td>\n",
              "      <td>12.990000</td>\n",
              "      <td>382.550000</td>\n",
              "      <td>6.500000e+04</td>\n",
              "      <td>17.610000</td>\n",
              "      <td>0.000000</td>\n",
              "      <td>0.000000</td>\n",
              "      <td>31.000000</td>\n",
              "      <td>70.000000</td>\n",
              "      <td>11.000000</td>\n",
              "      <td>0.000000</td>\n",
              "      <td>1.190300e+04</td>\n",
              "      <td>55.900000</td>\n",
              "      <td>24.000000</td>\n",
              "      <td>6290.250000</td>\n",
              "      <td>6287.650000</td>\n",
              "      <td>4976.160000</td>\n",
              "      <td>4948.25000</td>\n",
              "      <td>3286.890000</td>\n",
              "      <td>1076.910000</td>\n",
              "      <td>0.000000</td>\n",
              "      <td>0.000000</td>\n",
              "      <td>0.000000</td>\n",
              "      <td>468.820000</td>\n",
              "      <td>0.000000</td>\n",
              "      <td>44.000000</td>\n",
              "      <td>1.0</td>\n",
              "      <td>100000.000000</td>\n",
              "      <td>17.735000</td>\n",
              "      <td>0.000000</td>\n",
              "      <td>0.000000e+00</td>\n",
              "      <td>8.100850e+04</td>\n",
              "      <td>1.000000</td>\n",
              "      <td>2.000000</td>\n",
              "      <td>0.000000</td>\n",
              "      <td>1.000000</td>\n",
              "      <td>12.000000</td>\n",
              "      <td>24959.500000</td>\n",
              "      <td>75.000000</td>\n",
              "      <td>1.000000</td>\n",
              "      <td>2.000000</td>\n",
              "      <td>4485.500000</td>\n",
              "      <td>62.100000</td>\n",
              "      <td>2.380000e+04</td>\n",
              "      <td>0.000000</td>\n",
              "      <td>0.000000</td>\n",
              "      <td>2.000000</td>\n",
              "      <td>0.000000</td>\n",
              "    </tr>\n",
              "    <tr>\n",
              "      <th>75%</th>\n",
              "      <td>5.446311e+07</td>\n",
              "      <td>5.803559e+07</td>\n",
              "      <td>20000.000000</td>\n",
              "      <td>20000.000000</td>\n",
              "      <td>20000.000000</td>\n",
              "      <td>15.990000</td>\n",
              "      <td>571.560000</td>\n",
              "      <td>9.000000e+04</td>\n",
              "      <td>23.900000</td>\n",
              "      <td>0.000000</td>\n",
              "      <td>1.000000</td>\n",
              "      <td>50.000000</td>\n",
              "      <td>92.000000</td>\n",
              "      <td>14.000000</td>\n",
              "      <td>0.000000</td>\n",
              "      <td>2.085700e+04</td>\n",
              "      <td>73.500000</td>\n",
              "      <td>32.000000</td>\n",
              "      <td>13528.800000</td>\n",
              "      <td>13522.510000</td>\n",
              "      <td>10744.803649</td>\n",
              "      <td>10697.33000</td>\n",
              "      <td>8000.000000</td>\n",
              "      <td>2233.980000</td>\n",
              "      <td>0.000000</td>\n",
              "      <td>0.000000</td>\n",
              "      <td>0.000000</td>\n",
              "      <td>849.160000</td>\n",
              "      <td>0.000000</td>\n",
              "      <td>61.000000</td>\n",
              "      <td>1.0</td>\n",
              "      <td>130750.000000</td>\n",
              "      <td>22.650000</td>\n",
              "      <td>0.000000</td>\n",
              "      <td>0.000000e+00</td>\n",
              "      <td>2.087032e+05</td>\n",
              "      <td>2.000000</td>\n",
              "      <td>4.000000</td>\n",
              "      <td>1.000000</td>\n",
              "      <td>2.000000</td>\n",
              "      <td>23.000000</td>\n",
              "      <td>47493.000000</td>\n",
              "      <td>87.500000</td>\n",
              "      <td>2.000000</td>\n",
              "      <td>4.000000</td>\n",
              "      <td>7701.250000</td>\n",
              "      <td>75.300000</td>\n",
              "      <td>3.990000e+04</td>\n",
              "      <td>1.000000</td>\n",
              "      <td>2.000000</td>\n",
              "      <td>3.000000</td>\n",
              "      <td>0.000000</td>\n",
              "    </tr>\n",
              "    <tr>\n",
              "      <th>max</th>\n",
              "      <td>6.861687e+07</td>\n",
              "      <td>7.351969e+07</td>\n",
              "      <td>35000.000000</td>\n",
              "      <td>35000.000000</td>\n",
              "      <td>35000.000000</td>\n",
              "      <td>28.990000</td>\n",
              "      <td>1445.460000</td>\n",
              "      <td>9.500000e+06</td>\n",
              "      <td>9999.000000</td>\n",
              "      <td>39.000000</td>\n",
              "      <td>8.000000</td>\n",
              "      <td>188.000000</td>\n",
              "      <td>129.000000</td>\n",
              "      <td>90.000000</td>\n",
              "      <td>86.000000</td>\n",
              "      <td>2.904836e+06</td>\n",
              "      <td>892.300000</td>\n",
              "      <td>169.000000</td>\n",
              "      <td>49372.860000</td>\n",
              "      <td>49372.860000</td>\n",
              "      <td>57777.579870</td>\n",
              "      <td>57777.58000</td>\n",
              "      <td>35000.030000</td>\n",
              "      <td>24205.620000</td>\n",
              "      <td>358.680000</td>\n",
              "      <td>33520.270000</td>\n",
              "      <td>7002.190000</td>\n",
              "      <td>36475.590000</td>\n",
              "      <td>20.000000</td>\n",
              "      <td>188.000000</td>\n",
              "      <td>1.0</td>\n",
              "      <td>410000.000000</td>\n",
              "      <td>43.860000</td>\n",
              "      <td>14.000000</td>\n",
              "      <td>9.152545e+06</td>\n",
              "      <td>8.000078e+06</td>\n",
              "      <td>12.000000</td>\n",
              "      <td>40.000000</td>\n",
              "      <td>12.000000</td>\n",
              "      <td>15.000000</td>\n",
              "      <td>300.000000</td>\n",
              "      <td>634217.000000</td>\n",
              "      <td>223.300000</td>\n",
              "      <td>22.000000</td>\n",
              "      <td>43.000000</td>\n",
              "      <td>83047.000000</td>\n",
              "      <td>151.400000</td>\n",
              "      <td>9.999999e+06</td>\n",
              "      <td>15.000000</td>\n",
              "      <td>33.000000</td>\n",
              "      <td>32.000000</td>\n",
              "      <td>1.000000</td>\n",
              "    </tr>\n",
              "  </tbody>\n",
              "</table>\n",
              "</div>"
            ],
            "text/plain": [
              "                 id     member_id      loan_amnt    funded_amnt  \\\n",
              "count  8.559690e+05  8.559690e+05  855969.000000  855969.000000   \n",
              "mean   3.224073e+07  3.476269e+07   14745.571335   14732.378305   \n",
              "std    2.271969e+07  2.399418e+07    8425.340005    8419.471653   \n",
              "min    5.473400e+04  7.069900e+04     500.000000     500.000000   \n",
              "25%    9.067986e+06  1.079273e+07    8000.000000    8000.000000   \n",
              "50%    3.431355e+07  3.697532e+07   13000.000000   13000.000000   \n",
              "75%    5.446311e+07  5.803559e+07   20000.000000   20000.000000   \n",
              "max    6.861687e+07  7.351969e+07   35000.000000   35000.000000   \n",
              "\n",
              "       funded_amnt_inv       int_rate    installment    annual_inc  \\\n",
              "count    855969.000000  855969.000000  855969.000000  8.559690e+05   \n",
              "mean      14700.061226      13.192320     436.238072  7.507119e+04   \n",
              "std        8425.805478       4.368365     243.726876  6.426447e+04   \n",
              "min           0.000000       5.320000      15.690000  0.000000e+00   \n",
              "25%        8000.000000       9.990000     260.550000  4.500000e+04   \n",
              "50%       13000.000000      12.990000     382.550000  6.500000e+04   \n",
              "75%       20000.000000      15.990000     571.560000  9.000000e+04   \n",
              "max       35000.000000      28.990000    1445.460000  9.500000e+06   \n",
              "\n",
              "                 dti    delinq_2yrs  inq_last_6mths  mths_since_last_delinq  \\\n",
              "count  855969.000000  855969.000000   855969.000000           416157.000000   \n",
              "mean       18.122165       0.311621        0.680915               34.149943   \n",
              "std        17.423629       0.857189        0.964033               21.868500   \n",
              "min         0.000000       0.000000        0.000000                0.000000   \n",
              "25%        11.880000       0.000000        0.000000               15.000000   \n",
              "50%        17.610000       0.000000        0.000000               31.000000   \n",
              "75%        23.900000       0.000000        1.000000               50.000000   \n",
              "max      9999.000000      39.000000        8.000000              188.000000   \n",
              "\n",
              "       mths_since_last_record       open_acc        pub_rec     revol_bal  \\\n",
              "count           131184.000000  855969.000000  855969.000000  8.559690e+05   \n",
              "mean                70.463959      11.542447       0.194537  1.691053e+04   \n",
              "std                 27.827120       5.308094       0.581585  2.222374e+04   \n",
              "min                  0.000000       0.000000       0.000000  0.000000e+00   \n",
              "25%                 51.000000       8.000000       0.000000  6.469000e+03   \n",
              "50%                 70.000000      11.000000       0.000000  1.190300e+04   \n",
              "75%                 92.000000      14.000000       0.000000  2.085700e+04   \n",
              "max                129.000000      90.000000      86.000000  2.904836e+06   \n",
              "\n",
              "          revol_util      total_acc      out_prncp  out_prncp_inv  \\\n",
              "count  855523.000000  855969.000000  855969.000000  855969.000000   \n",
              "mean       55.019405      25.269269    8284.830230    8281.449347   \n",
              "std        23.811585      11.818841    8461.946669    8458.496422   \n",
              "min         0.000000       2.000000       0.000000       0.000000   \n",
              "25%        37.600000      17.000000       0.000000       0.000000   \n",
              "50%        55.900000      24.000000    6290.250000    6287.650000   \n",
              "75%        73.500000      32.000000   13528.800000   13522.510000   \n",
              "max       892.300000     169.000000   49372.860000   49372.860000   \n",
              "\n",
              "         total_pymnt  total_pymnt_inv  total_rec_prncp  total_rec_int  \\\n",
              "count  855969.000000     855969.00000    855969.000000  855969.000000   \n",
              "mean     7653.296336       7622.22052      5850.841088    1755.046221   \n",
              "std      7909.383591       7885.15640      6676.410888    2081.692980   \n",
              "min         0.000000          0.00000         0.000000       0.000000   \n",
              "25%      1969.690000       1960.12000      1239.950000     451.270000   \n",
              "50%      4976.160000       4948.25000      3286.890000    1076.910000   \n",
              "75%     10744.803649      10697.33000      8000.000000    2233.980000   \n",
              "max     57777.579870      57777.58000     35000.030000   24205.620000   \n",
              "\n",
              "       total_rec_late_fee     recoveries  collection_recovery_fee  \\\n",
              "count       855969.000000  855969.000000            855969.000000   \n",
              "mean             0.319530      47.089499                 4.951227   \n",
              "std              3.609399     413.136043                62.478569   \n",
              "min              0.000000       0.000000                 0.000000   \n",
              "25%              0.000000       0.000000                 0.000000   \n",
              "50%              0.000000       0.000000                 0.000000   \n",
              "75%              0.000000       0.000000                 0.000000   \n",
              "max            358.680000   33520.270000              7002.190000   \n",
              "\n",
              "       last_pymnt_amnt  collections_12_mths_ex_med  \\\n",
              "count    855969.000000               855913.000000   \n",
              "mean       2225.985295                    0.014230   \n",
              "std        4864.966593                    0.133712   \n",
              "min           0.000000                    0.000000   \n",
              "25%         285.420000                    0.000000   \n",
              "50%         468.820000                    0.000000   \n",
              "75%         849.160000                    0.000000   \n",
              "max       36475.590000                   20.000000   \n",
              "\n",
              "       mths_since_last_major_derog  policy_code  annual_inc_joint   dti_joint  \\\n",
              "count                213139.000000     855969.0        442.000000  440.000000   \n",
              "mean                     44.101450          1.0     107412.163982   18.318477   \n",
              "std                      22.164907          0.0      47987.608637    7.221855   \n",
              "min                       0.000000          1.0      17950.000000    3.050000   \n",
              "25%                      27.000000          1.0      75000.250000   13.187500   \n",
              "50%                      44.000000          1.0     100000.000000   17.735000   \n",
              "75%                      61.000000          1.0     130750.000000   22.650000   \n",
              "max                     188.000000          1.0     410000.000000   43.860000   \n",
              "\n",
              "       acc_now_delinq  tot_coll_amt   tot_cur_bal   open_acc_6m    open_il_6m  \\\n",
              "count   855969.000000  7.886560e+05  7.886560e+05  13288.000000  13288.000000   \n",
              "mean         0.004944  2.254129e+02  1.397662e+05      1.072998      2.945665   \n",
              "std          0.077333  1.048945e+04  1.539385e+05      1.206939      3.080330   \n",
              "min          0.000000  0.000000e+00  0.000000e+00      0.000000      0.000000   \n",
              "25%          0.000000  0.000000e+00  2.987000e+04      0.000000      1.000000   \n",
              "50%          0.000000  0.000000e+00  8.100850e+04      1.000000      2.000000   \n",
              "75%          0.000000  0.000000e+00  2.087032e+05      2.000000      4.000000   \n",
              "max         14.000000  9.152545e+06  8.000078e+06     12.000000     40.000000   \n",
              "\n",
              "        open_il_12m   open_il_24m  mths_since_rcnt_il   total_bal_il  \\\n",
              "count  13288.000000  13288.000000        12934.000000   13288.000000   \n",
              "mean       0.749323      1.666767           20.833153   36511.541391   \n",
              "std        0.986169      1.685394           26.739237   42492.757796   \n",
              "min        0.000000      0.000000            0.000000       0.000000   \n",
              "25%        0.000000      0.000000            6.000000   10390.250000   \n",
              "50%        0.000000      1.000000           12.000000   24959.500000   \n",
              "75%        1.000000      2.000000           23.000000   47493.000000   \n",
              "max       12.000000     15.000000          300.000000  634217.000000   \n",
              "\n",
              "            il_util   open_rv_12m   open_rv_24m    max_bal_bc      all_util  \\\n",
              "count  11609.000000  13288.000000  13288.000000  13288.000000  13288.000000   \n",
              "mean      71.486993      1.354305      2.945515   5840.443332     61.024526   \n",
              "std       23.015293      1.483710      2.595313   5108.500262     20.018117   \n",
              "min        0.000000      0.000000      0.000000      0.000000      0.000000   \n",
              "25%       58.500000      0.000000      1.000000   2405.000000     47.900000   \n",
              "50%       75.000000      1.000000      2.000000   4485.500000     62.100000   \n",
              "75%       87.500000      2.000000      4.000000   7701.250000     75.300000   \n",
              "max      223.300000     22.000000     43.000000  83047.000000    151.400000   \n",
              "\n",
              "       total_rev_hi_lim        inq_fi   total_cu_tl  inq_last_12m  \\\n",
              "count      7.886560e+05  13288.000000  13288.000000  13288.000000   \n",
              "mean       3.216357e+04      0.947772      1.524232      1.841963   \n",
              "std        3.769964e+04      1.441667      2.697601      2.975049   \n",
              "min        0.000000e+00      0.000000      0.000000     -4.000000   \n",
              "25%        1.400000e+04      0.000000      0.000000      0.000000   \n",
              "50%        2.380000e+04      0.000000      0.000000      2.000000   \n",
              "75%        3.990000e+04      1.000000      2.000000      3.000000   \n",
              "max        9.999999e+06     15.000000     33.000000     32.000000   \n",
              "\n",
              "         default_ind  \n",
              "count  855969.000000  \n",
              "mean        0.054286  \n",
              "std         0.226581  \n",
              "min         0.000000  \n",
              "25%         0.000000  \n",
              "50%         0.000000  \n",
              "75%         0.000000  \n",
              "max         1.000000  "
            ]
          },
          "metadata": {
            "tags": []
          },
          "execution_count": 44
        }
      ]
    },
    {
      "cell_type": "code",
      "metadata": {
        "colab": {
          "base_uri": "https://localhost:8080/",
          "height": 202
        },
        "id": "W6oXS6pIJJPT",
        "outputId": "fe40cd72-c82a-4d95-ccdc-8f2415179fae"
      },
      "source": [
        "bl.describe(include = ['O'])  # summary of categorical variables"
      ],
      "execution_count": 45,
      "outputs": [
        {
          "output_type": "execute_result",
          "data": {
            "text/html": [
              "<div>\n",
              "<style scoped>\n",
              "    .dataframe tbody tr th:only-of-type {\n",
              "        vertical-align: middle;\n",
              "    }\n",
              "\n",
              "    .dataframe tbody tr th {\n",
              "        vertical-align: top;\n",
              "    }\n",
              "\n",
              "    .dataframe thead th {\n",
              "        text-align: right;\n",
              "    }\n",
              "</style>\n",
              "<table border=\"1\" class=\"dataframe\">\n",
              "  <thead>\n",
              "    <tr style=\"text-align: right;\">\n",
              "      <th></th>\n",
              "      <th>term</th>\n",
              "      <th>grade</th>\n",
              "      <th>sub_grade</th>\n",
              "      <th>emp_title</th>\n",
              "      <th>emp_length</th>\n",
              "      <th>home_ownership</th>\n",
              "      <th>verification_status</th>\n",
              "      <th>issue_d</th>\n",
              "      <th>pymnt_plan</th>\n",
              "      <th>desc</th>\n",
              "      <th>purpose</th>\n",
              "      <th>title</th>\n",
              "      <th>zip_code</th>\n",
              "      <th>addr_state</th>\n",
              "      <th>earliest_cr_line</th>\n",
              "      <th>initial_list_status</th>\n",
              "      <th>last_pymnt_d</th>\n",
              "      <th>next_pymnt_d</th>\n",
              "      <th>last_credit_pull_d</th>\n",
              "      <th>application_type</th>\n",
              "      <th>verification_status_joint</th>\n",
              "    </tr>\n",
              "  </thead>\n",
              "  <tbody>\n",
              "    <tr>\n",
              "      <th>count</th>\n",
              "      <td>855969</td>\n",
              "      <td>855969</td>\n",
              "      <td>855969</td>\n",
              "      <td>806526</td>\n",
              "      <td>812908</td>\n",
              "      <td>855969</td>\n",
              "      <td>855969</td>\n",
              "      <td>855969</td>\n",
              "      <td>855969</td>\n",
              "      <td>121812</td>\n",
              "      <td>855969</td>\n",
              "      <td>855936</td>\n",
              "      <td>855969</td>\n",
              "      <td>855969</td>\n",
              "      <td>855969</td>\n",
              "      <td>855969</td>\n",
              "      <td>847107</td>\n",
              "      <td>602998</td>\n",
              "      <td>855919</td>\n",
              "      <td>855969</td>\n",
              "      <td>442</td>\n",
              "    </tr>\n",
              "    <tr>\n",
              "      <th>unique</th>\n",
              "      <td>2</td>\n",
              "      <td>7</td>\n",
              "      <td>35</td>\n",
              "      <td>290912</td>\n",
              "      <td>11</td>\n",
              "      <td>6</td>\n",
              "      <td>3</td>\n",
              "      <td>103</td>\n",
              "      <td>2</td>\n",
              "      <td>120335</td>\n",
              "      <td>14</td>\n",
              "      <td>60991</td>\n",
              "      <td>931</td>\n",
              "      <td>51</td>\n",
              "      <td>697</td>\n",
              "      <td>2</td>\n",
              "      <td>97</td>\n",
              "      <td>3</td>\n",
              "      <td>102</td>\n",
              "      <td>2</td>\n",
              "      <td>3</td>\n",
              "    </tr>\n",
              "    <tr>\n",
              "      <th>top</th>\n",
              "      <td>36 months</td>\n",
              "      <td>B</td>\n",
              "      <td>B3</td>\n",
              "      <td>Teacher</td>\n",
              "      <td>10+ years</td>\n",
              "      <td>MORTGAGE</td>\n",
              "      <td>Source Verified</td>\n",
              "      <td>Oct-2015</td>\n",
              "      <td>n</td>\n",
              "      <td></td>\n",
              "      <td>debt_consolidation</td>\n",
              "      <td>Debt consolidation</td>\n",
              "      <td>945xx</td>\n",
              "      <td>CA</td>\n",
              "      <td>Aug-2001</td>\n",
              "      <td>f</td>\n",
              "      <td>Jan-2016</td>\n",
              "      <td>Feb-2016</td>\n",
              "      <td>Jan-2016</td>\n",
              "      <td>INDIVIDUAL</td>\n",
              "      <td>Not Verified</td>\n",
              "    </tr>\n",
              "    <tr>\n",
              "      <th>freq</th>\n",
              "      <td>600221</td>\n",
              "      <td>247998</td>\n",
              "      <td>54958</td>\n",
              "      <td>12965</td>\n",
              "      <td>282090</td>\n",
              "      <td>429106</td>\n",
              "      <td>318178</td>\n",
              "      <td>48212</td>\n",
              "      <td>855964</td>\n",
              "      <td>231</td>\n",
              "      <td>505392</td>\n",
              "      <td>398089</td>\n",
              "      <td>9466</td>\n",
              "      <td>125172</td>\n",
              "      <td>6433</td>\n",
              "      <td>442555</td>\n",
              "      <td>467510</td>\n",
              "      <td>534094</td>\n",
              "      <td>701687</td>\n",
              "      <td>855527</td>\n",
              "      <td>252</td>\n",
              "    </tr>\n",
              "  </tbody>\n",
              "</table>\n",
              "</div>"
            ],
            "text/plain": [
              "              term   grade sub_grade emp_title emp_length home_ownership  \\\n",
              "count       855969  855969    855969    806526     812908         855969   \n",
              "unique           2       7        35    290912         11              6   \n",
              "top      36 months       B        B3   Teacher  10+ years       MORTGAGE   \n",
              "freq        600221  247998     54958     12965     282090         429106   \n",
              "\n",
              "       verification_status   issue_d pymnt_plan    desc             purpose  \\\n",
              "count               855969    855969     855969  121812              855969   \n",
              "unique                   3       103          2  120335                  14   \n",
              "top        Source Verified  Oct-2015          n          debt_consolidation   \n",
              "freq                318178     48212     855964     231              505392   \n",
              "\n",
              "                     title zip_code addr_state earliest_cr_line  \\\n",
              "count               855936   855969     855969           855969   \n",
              "unique               60991      931         51              697   \n",
              "top     Debt consolidation    945xx         CA         Aug-2001   \n",
              "freq                398089     9466     125172             6433   \n",
              "\n",
              "       initial_list_status last_pymnt_d next_pymnt_d last_credit_pull_d  \\\n",
              "count               855969       847107       602998             855919   \n",
              "unique                   2           97            3                102   \n",
              "top                      f     Jan-2016     Feb-2016           Jan-2016   \n",
              "freq                442555       467510       534094             701687   \n",
              "\n",
              "       application_type verification_status_joint  \n",
              "count            855969                       442  \n",
              "unique                2                         3  \n",
              "top          INDIVIDUAL              Not Verified  \n",
              "freq             855527                       252  "
            ]
          },
          "metadata": {
            "tags": []
          },
          "execution_count": 45
        }
      ]
    },
    {
      "cell_type": "markdown",
      "metadata": {
        "id": "qerDOd9BJs1n"
      },
      "source": [
        "#### d. Check target variable - type, distribution, class imbalance etc....\n",
        "Target variable is 'default_ind' - which is Loan defaulting indicator, here value 0 mean - will not default on loan and value - 1 means may default on loan."
      ]
    },
    {
      "cell_type": "code",
      "metadata": {
        "colab": {
          "base_uri": "https://localhost:8080/",
          "height": 350
        },
        "id": "w2C14LgDJ3q9",
        "outputId": "b9fdc161-5872-4541-aa2b-946ed2457b05"
      },
      "source": [
        "print(bl.default_ind.value_counts())\n",
        "sns.countplot('default_ind',data=bl) \n",
        "# We can see heavy class imbalance here, which we will have to deal with later, during model building "
      ],
      "execution_count": 46,
      "outputs": [
        {
          "output_type": "stream",
          "text": [
            "0    809502\n",
            "1     46467\n",
            "Name: default_ind, dtype: int64\n"
          ],
          "name": "stdout"
        },
        {
          "output_type": "execute_result",
          "data": {
            "text/plain": [
              "<matplotlib.axes._subplots.AxesSubplot at 0x7f840bff6b90>"
            ]
          },
          "metadata": {
            "tags": []
          },
          "execution_count": 46
        },
        {
          "output_type": "display_data",
          "data": {
            "image/png": "[encoded data removed]",
            "text/plain": [
              "<Figure size 432x288 with 1 Axes>"
            ]
          },
          "metadata": {
            "tags": [],
            "needs_background": "light"
          }
        }
      ]
    },
    {
      "cell_type": "markdown",
      "metadata": {
        "id": "sWMKdsW0KBzb"
      },
      "source": [
        "#### Data Analysis: \n",
        "a.   Find out missing values.<br>\n",
        "b.   Understand all categorical variables, their credibility and levels.<br>\n",
        "c.   Understand all numerical variabels & their distribution.<br>\n",
        "d.   Find out outliers in data.<br>\n",
        "e.   Explporatory data analysis - Understand relationships between predictor variables & target variables, also find insights about target variable from data\n"
      ]
    },
    {
      "cell_type": "markdown",
      "metadata": {
        "id": "HdDJcpUzOdfh"
      },
      "source": [
        "a. Find out missing values in data"
      ]
    },
    {
      "cell_type": "code",
      "metadata": {
        "colab": {
          "base_uri": "https://localhost:8080/",
          "height": 994
        },
        "id": "zBgukKqFKwfQ",
        "outputId": "b56d6672-4126-4c05-8975-f8369c52858f"
      },
      "source": [
        "bl_null = pd.DataFrame({'Features': [var for var in bl.columns if bl[var].isnull().sum() > 1], \n",
        "                        'Null Values' : [bl[var].isnull().sum() for var in bl.columns if bl[var].isnull().sum() > 1],\n",
        "                        '% missing' : [bl[var].isnull().sum() / bl.shape[0] *100 for var in bl.columns if bl[var].isnull().sum() > 1 ] })\n",
        "bl_null.sort_values(by=['% missing'], ascending=False, ignore_index=True)"
      ],
      "execution_count": 48,
      "outputs": [
        {
          "output_type": "execute_result",
          "data": {
            "text/html": [
              "<div>\n",
              "<style scoped>\n",
              "    .dataframe tbody tr th:only-of-type {\n",
              "        vertical-align: middle;\n",
              "    }\n",
              "\n",
              "    .dataframe tbody tr th {\n",
              "        vertical-align: top;\n",
              "    }\n",
              "\n",
              "    .dataframe thead th {\n",
              "        text-align: right;\n",
              "    }\n",
              "</style>\n",
              "<table border=\"1\" class=\"dataframe\">\n",
              "  <thead>\n",
              "    <tr style=\"text-align: right;\">\n",
              "      <th></th>\n",
              "      <th>Features</th>\n",
              "      <th>Null Values</th>\n",
              "      <th>% missing</th>\n",
              "    </tr>\n",
              "  </thead>\n",
              "  <tbody>\n",
              "    <tr>\n",
              "      <th>0</th>\n",
              "      <td>dti_joint</td>\n",
              "      <td>855529</td>\n",
              "      <td>99.948596</td>\n",
              "    </tr>\n",
              "    <tr>\n",
              "      <th>1</th>\n",
              "      <td>annual_inc_joint</td>\n",
              "      <td>855527</td>\n",
              "      <td>99.948363</td>\n",
              "    </tr>\n",
              "    <tr>\n",
              "      <th>2</th>\n",
              "      <td>verification_status_joint</td>\n",
              "      <td>855527</td>\n",
              "      <td>99.948363</td>\n",
              "    </tr>\n",
              "    <tr>\n",
              "      <th>3</th>\n",
              "      <td>il_util</td>\n",
              "      <td>844360</td>\n",
              "      <td>98.643759</td>\n",
              "    </tr>\n",
              "    <tr>\n",
              "      <th>4</th>\n",
              "      <td>mths_since_rcnt_il</td>\n",
              "      <td>843035</td>\n",
              "      <td>98.488964</td>\n",
              "    </tr>\n",
              "    <tr>\n",
              "      <th>5</th>\n",
              "      <td>inq_last_12m</td>\n",
              "      <td>842681</td>\n",
              "      <td>98.447607</td>\n",
              "    </tr>\n",
              "    <tr>\n",
              "      <th>6</th>\n",
              "      <td>open_il_24m</td>\n",
              "      <td>842681</td>\n",
              "      <td>98.447607</td>\n",
              "    </tr>\n",
              "    <tr>\n",
              "      <th>7</th>\n",
              "      <td>open_il_12m</td>\n",
              "      <td>842681</td>\n",
              "      <td>98.447607</td>\n",
              "    </tr>\n",
              "    <tr>\n",
              "      <th>8</th>\n",
              "      <td>open_il_6m</td>\n",
              "      <td>842681</td>\n",
              "      <td>98.447607</td>\n",
              "    </tr>\n",
              "    <tr>\n",
              "      <th>9</th>\n",
              "      <td>open_acc_6m</td>\n",
              "      <td>842681</td>\n",
              "      <td>98.447607</td>\n",
              "    </tr>\n",
              "    <tr>\n",
              "      <th>10</th>\n",
              "      <td>open_rv_12m</td>\n",
              "      <td>842681</td>\n",
              "      <td>98.447607</td>\n",
              "    </tr>\n",
              "    <tr>\n",
              "      <th>11</th>\n",
              "      <td>open_rv_24m</td>\n",
              "      <td>842681</td>\n",
              "      <td>98.447607</td>\n",
              "    </tr>\n",
              "    <tr>\n",
              "      <th>12</th>\n",
              "      <td>total_bal_il</td>\n",
              "      <td>842681</td>\n",
              "      <td>98.447607</td>\n",
              "    </tr>\n",
              "    <tr>\n",
              "      <th>13</th>\n",
              "      <td>max_bal_bc</td>\n",
              "      <td>842681</td>\n",
              "      <td>98.447607</td>\n",
              "    </tr>\n",
              "    <tr>\n",
              "      <th>14</th>\n",
              "      <td>all_util</td>\n",
              "      <td>842681</td>\n",
              "      <td>98.447607</td>\n",
              "    </tr>\n",
              "    <tr>\n",
              "      <th>15</th>\n",
              "      <td>inq_fi</td>\n",
              "      <td>842681</td>\n",
              "      <td>98.447607</td>\n",
              "    </tr>\n",
              "    <tr>\n",
              "      <th>16</th>\n",
              "      <td>total_cu_tl</td>\n",
              "      <td>842681</td>\n",
              "      <td>98.447607</td>\n",
              "    </tr>\n",
              "    <tr>\n",
              "      <th>17</th>\n",
              "      <td>desc</td>\n",
              "      <td>734157</td>\n",
              "      <td>85.769111</td>\n",
              "    </tr>\n",
              "    <tr>\n",
              "      <th>18</th>\n",
              "      <td>mths_since_last_record</td>\n",
              "      <td>724785</td>\n",
              "      <td>84.674211</td>\n",
              "    </tr>\n",
              "    <tr>\n",
              "      <th>19</th>\n",
              "      <td>mths_since_last_major_derog</td>\n",
              "      <td>642830</td>\n",
              "      <td>75.099682</td>\n",
              "    </tr>\n",
              "    <tr>\n",
              "      <th>20</th>\n",
              "      <td>mths_since_last_delinq</td>\n",
              "      <td>439812</td>\n",
              "      <td>51.381767</td>\n",
              "    </tr>\n",
              "    <tr>\n",
              "      <th>21</th>\n",
              "      <td>next_pymnt_d</td>\n",
              "      <td>252971</td>\n",
              "      <td>29.553757</td>\n",
              "    </tr>\n",
              "    <tr>\n",
              "      <th>22</th>\n",
              "      <td>total_rev_hi_lim</td>\n",
              "      <td>67313</td>\n",
              "      <td>7.863953</td>\n",
              "    </tr>\n",
              "    <tr>\n",
              "      <th>23</th>\n",
              "      <td>tot_cur_bal</td>\n",
              "      <td>67313</td>\n",
              "      <td>7.863953</td>\n",
              "    </tr>\n",
              "    <tr>\n",
              "      <th>24</th>\n",
              "      <td>tot_coll_amt</td>\n",
              "      <td>67313</td>\n",
              "      <td>7.863953</td>\n",
              "    </tr>\n",
              "    <tr>\n",
              "      <th>25</th>\n",
              "      <td>emp_title</td>\n",
              "      <td>49443</td>\n",
              "      <td>5.776261</td>\n",
              "    </tr>\n",
              "    <tr>\n",
              "      <th>26</th>\n",
              "      <td>emp_length</td>\n",
              "      <td>43061</td>\n",
              "      <td>5.030673</td>\n",
              "    </tr>\n",
              "    <tr>\n",
              "      <th>27</th>\n",
              "      <td>last_pymnt_d</td>\n",
              "      <td>8862</td>\n",
              "      <td>1.035318</td>\n",
              "    </tr>\n",
              "    <tr>\n",
              "      <th>28</th>\n",
              "      <td>revol_util</td>\n",
              "      <td>446</td>\n",
              "      <td>0.052105</td>\n",
              "    </tr>\n",
              "    <tr>\n",
              "      <th>29</th>\n",
              "      <td>collections_12_mths_ex_med</td>\n",
              "      <td>56</td>\n",
              "      <td>0.006542</td>\n",
              "    </tr>\n",
              "    <tr>\n",
              "      <th>30</th>\n",
              "      <td>last_credit_pull_d</td>\n",
              "      <td>50</td>\n",
              "      <td>0.005841</td>\n",
              "    </tr>\n",
              "    <tr>\n",
              "      <th>31</th>\n",
              "      <td>title</td>\n",
              "      <td>33</td>\n",
              "      <td>0.003855</td>\n",
              "    </tr>\n",
              "  </tbody>\n",
              "</table>\n",
              "</div>"
            ],
            "text/plain": [
              "                       Features  Null Values  % missing\n",
              "0                     dti_joint       855529  99.948596\n",
              "1              annual_inc_joint       855527  99.948363\n",
              "2     verification_status_joint       855527  99.948363\n",
              "3                       il_util       844360  98.643759\n",
              "4            mths_since_rcnt_il       843035  98.488964\n",
              "5                  inq_last_12m       842681  98.447607\n",
              "6                   open_il_24m       842681  98.447607\n",
              "7                   open_il_12m       842681  98.447607\n",
              "8                    open_il_6m       842681  98.447607\n",
              "9                   open_acc_6m       842681  98.447607\n",
              "10                  open_rv_12m       842681  98.447607\n",
              "11                  open_rv_24m       842681  98.447607\n",
              "12                 total_bal_il       842681  98.447607\n",
              "13                   max_bal_bc       842681  98.447607\n",
              "14                     all_util       842681  98.447607\n",
              "15                       inq_fi       842681  98.447607\n",
              "16                  total_cu_tl       842681  98.447607\n",
              "17                         desc       734157  85.769111\n",
              "18       mths_since_last_record       724785  84.674211\n",
              "19  mths_since_last_major_derog       642830  75.099682\n",
              "20       mths_since_last_delinq       439812  51.381767\n",
              "21                 next_pymnt_d       252971  29.553757\n",
              "22             total_rev_hi_lim        67313   7.863953\n",
              "23                  tot_cur_bal        67313   7.863953\n",
              "24                 tot_coll_amt        67313   7.863953\n",
              "25                    emp_title        49443   5.776261\n",
              "26                   emp_length        43061   5.030673\n",
              "27                 last_pymnt_d         8862   1.035318\n",
              "28                   revol_util          446   0.052105\n",
              "29   collections_12_mths_ex_med           56   0.006542\n",
              "30           last_credit_pull_d           50   0.005841\n",
              "31                        title           33   0.003855"
            ]
          },
          "metadata": {
            "tags": []
          },
          "execution_count": 48
        }
      ]
    },
    {
      "cell_type": "code",
      "metadata": {
        "colab": {
          "base_uri": "https://localhost:8080/",
          "height": 515
        },
        "id": "cvs2zJE3K-OB",
        "outputId": "269aa53b-952e-4717-a156-3fc35f7ee01f"
      },
      "source": [
        "# Visualize missing data\n",
        "plt.figure(figsize=(25,6))\n",
        "sns.heatmap(bl.isnull(),yticklabels=False,cmap=\"viridis\")\n",
        "plt.show()"
      ],
      "execution_count": null,
      "outputs": [
        {
          "output_type": "display_data",
          "data": {
            "image/png": "[encoded data removed]",
            "text/plain": [
              "<Figure size 1800x432 with 2 Axes>"
            ]
          },
          "metadata": {
            "tags": [],
            "needs_background": "light"
          }
        }
      ]
    },
    {
      "cell_type": "markdown",
      "metadata": {
        "id": "CK2NwBIgLoo1"
      },
      "source": [
        "1. We have 32 columns with missing values.\n",
        "2. 21 columns are where missing value are more than 50%. Keeping these columns will not serve any purpose for our model\n",
        "3. We will impute values accordingly for columns with missing values more than 30% "
      ]
    },
    {
      "cell_type": "code",
      "metadata": {
        "colab": {
          "base_uri": "https://localhost:8080/"
        },
        "id": "ffpoygkkLEmm",
        "outputId": "0f507617-f119-455c-ffa9-c57ed6b75bc1"
      },
      "source": [
        "# Let's drop columns where Null values are more than 30% of total values in columns\n",
        "bl.dropna('columns', 'any', thresh=(0.70*len(bl)), inplace=True )\n",
        "print(bl.shape)"
      ],
      "execution_count": 49,
      "outputs": [
        {
          "output_type": "stream",
          "text": [
            "(855969, 52)\n"
          ],
          "name": "stdout"
        }
      ]
    },
    {
      "cell_type": "code",
      "metadata": {
        "colab": {
          "base_uri": "https://localhost:8080/"
        },
        "id": "KyIsuwpOMXN2",
        "outputId": "5fab8817-9a6c-43de-86ae-65057ae1cfbb"
      },
      "source": [
        "# Dropping some more unnecessary columns like idenfiers & description columns\n",
        "# we dropping description columns since these description are provided by borrower, which are not an indicator whether borrower will default on loans or not\n",
        "bl.drop(['id','member_id','emp_title','zip_code','policy_code','title'],axis=1, inplace=True)\n",
        "bl.shape"
      ],
      "execution_count": 50,
      "outputs": [
        {
          "output_type": "execute_result",
          "data": {
            "text/plain": [
              "(855969, 46)"
            ]
          },
          "metadata": {
            "tags": []
          },
          "execution_count": 50
        }
      ]
    },
    {
      "cell_type": "code",
      "metadata": {
        "id": "2hbf0vWcRBg3"
      },
      "source": [
        "# Dropping more columns\n",
        "del bl['pymnt_plan']                    # payment plan has 99%+ 'Y' values, so keeping it will not be useful for us\n",
        "del bl['next_pymnt_d']                  # Next payment is not a correct predictor for deafult\n",
        "del bl['last_pymnt_d']                  # since it is date variable, not useful for us\n",
        "del bl['last_credit_pull_d']            # date variable\n",
        "del bl['earliest_cr_line']              # date variable"
      ],
      "execution_count": 51,
      "outputs": []
    },
    {
      "cell_type": "code",
      "metadata": {
        "colab": {
          "base_uri": "https://localhost:8080/"
        },
        "id": "fj-8o9rVRBg3",
        "outputId": "35543894-4af5-4cf8-e110-f81c4a4716ea"
      },
      "source": [
        "# Dropping all null values, for better understanding, please refer to other code with missing value imputation\n",
        "bl.dropna(axis=0, how='any', inplace=True)\n",
        "bl.shape"
      ],
      "execution_count": 52,
      "outputs": [
        {
          "output_type": "execute_result",
          "data": {
            "text/plain": [
              "(747260, 41)"
            ]
          },
          "metadata": {
            "tags": []
          },
          "execution_count": 52
        }
      ]
    },
    {
      "cell_type": "markdown",
      "metadata": {
        "id": "XRdrT_DqMuHu"
      },
      "source": [
        "b. Understand Categorical Data"
      ]
    },
    {
      "cell_type": "code",
      "metadata": {
        "colab": {
          "base_uri": "https://localhost:8080/"
        },
        "id": "3pIR2dtDMwzU",
        "outputId": "c0123e9d-41ef-4050-9fe8-9ff15e750534"
      },
      "source": [
        "cat_features = bl.select_dtypes(include='object')     # Selecting only categorical features\n",
        "print(cat_features.shape)\n",
        "cat_features.info()"
      ],
      "execution_count": 53,
      "outputs": [
        {
          "output_type": "stream",
          "text": [
            "(747260, 11)\n",
            "<class 'pandas.core.frame.DataFrame'>\n",
            "Int64Index: 747260 entries, 39694 to 855968\n",
            "Data columns (total 11 columns):\n",
            " #   Column               Non-Null Count   Dtype \n",
            "---  ------               --------------   ----- \n",
            " 0   term                 747260 non-null  object\n",
            " 1   grade                747260 non-null  object\n",
            " 2   sub_grade            747260 non-null  object\n",
            " 3   emp_length           747260 non-null  object\n",
            " 4   home_ownership       747260 non-null  object\n",
            " 5   verification_status  747260 non-null  object\n",
            " 6   issue_d              747260 non-null  object\n",
            " 7   purpose              747260 non-null  object\n",
            " 8   addr_state           747260 non-null  object\n",
            " 9   initial_list_status  747260 non-null  object\n",
            " 10  application_type     747260 non-null  object\n",
            "dtypes: object(11)\n",
            "memory usage: 68.4+ MB\n"
          ],
          "name": "stdout"
        }
      ]
    },
    {
      "cell_type": "code",
      "metadata": {
        "colab": {
          "base_uri": "https://localhost:8080/",
          "height": 166
        },
        "id": "C9g25xSbQrnK",
        "outputId": "e9d00044-758c-4d40-d95e-4a6ec772e79f"
      },
      "source": [
        "cat_features.describe()"
      ],
      "execution_count": 54,
      "outputs": [
        {
          "output_type": "execute_result",
          "data": {
            "text/html": [
              "<div>\n",
              "<style scoped>\n",
              "    .dataframe tbody tr th:only-of-type {\n",
              "        vertical-align: middle;\n",
              "    }\n",
              "\n",
              "    .dataframe tbody tr th {\n",
              "        vertical-align: top;\n",
              "    }\n",
              "\n",
              "    .dataframe thead th {\n",
              "        text-align: right;\n",
              "    }\n",
              "</style>\n",
              "<table border=\"1\" class=\"dataframe\">\n",
              "  <thead>\n",
              "    <tr style=\"text-align: right;\">\n",
              "      <th></th>\n",
              "      <th>term</th>\n",
              "      <th>grade</th>\n",
              "      <th>sub_grade</th>\n",
              "      <th>emp_length</th>\n",
              "      <th>home_ownership</th>\n",
              "      <th>verification_status</th>\n",
              "      <th>issue_d</th>\n",
              "      <th>purpose</th>\n",
              "      <th>addr_state</th>\n",
              "      <th>initial_list_status</th>\n",
              "      <th>application_type</th>\n",
              "    </tr>\n",
              "  </thead>\n",
              "  <tbody>\n",
              "    <tr>\n",
              "      <th>count</th>\n",
              "      <td>747260</td>\n",
              "      <td>747260</td>\n",
              "      <td>747260</td>\n",
              "      <td>747260</td>\n",
              "      <td>747260</td>\n",
              "      <td>747260</td>\n",
              "      <td>747260</td>\n",
              "      <td>747260</td>\n",
              "      <td>747260</td>\n",
              "      <td>747260</td>\n",
              "      <td>747260</td>\n",
              "    </tr>\n",
              "    <tr>\n",
              "      <th>unique</th>\n",
              "      <td>2</td>\n",
              "      <td>7</td>\n",
              "      <td>35</td>\n",
              "      <td>11</td>\n",
              "      <td>6</td>\n",
              "      <td>3</td>\n",
              "      <td>41</td>\n",
              "      <td>14</td>\n",
              "      <td>51</td>\n",
              "      <td>2</td>\n",
              "      <td>2</td>\n",
              "    </tr>\n",
              "    <tr>\n",
              "      <th>top</th>\n",
              "      <td>36 months</td>\n",
              "      <td>B</td>\n",
              "      <td>B4</td>\n",
              "      <td>10+ years</td>\n",
              "      <td>MORTGAGE</td>\n",
              "      <td>Source Verified</td>\n",
              "      <td>Oct-2015</td>\n",
              "      <td>debt_consolidation</td>\n",
              "      <td>CA</td>\n",
              "      <td>w</td>\n",
              "      <td>INDIVIDUAL</td>\n",
              "    </tr>\n",
              "    <tr>\n",
              "      <th>freq</th>\n",
              "      <td>515237</td>\n",
              "      <td>214874</td>\n",
              "      <td>47196</td>\n",
              "      <td>265599</td>\n",
              "      <td>379888</td>\n",
              "      <td>292960</td>\n",
              "      <td>45310</td>\n",
              "      <td>448785</td>\n",
              "      <td>107981</td>\n",
              "      <td>392437</td>\n",
              "      <td>746874</td>\n",
              "    </tr>\n",
              "  </tbody>\n",
              "</table>\n",
              "</div>"
            ],
            "text/plain": [
              "              term   grade sub_grade emp_length home_ownership  \\\n",
              "count       747260  747260    747260     747260         747260   \n",
              "unique           2       7        35         11              6   \n",
              "top      36 months       B        B4  10+ years       MORTGAGE   \n",
              "freq        515237  214874     47196     265599         379888   \n",
              "\n",
              "       verification_status   issue_d             purpose addr_state  \\\n",
              "count               747260    747260              747260     747260   \n",
              "unique                   3        41                  14         51   \n",
              "top        Source Verified  Oct-2015  debt_consolidation         CA   \n",
              "freq                292960     45310              448785     107981   \n",
              "\n",
              "       initial_list_status application_type  \n",
              "count               747260           747260  \n",
              "unique                   2                2  \n",
              "top                      w       INDIVIDUAL  \n",
              "freq                392437           746874  "
            ]
          },
          "metadata": {
            "tags": []
          },
          "execution_count": 54
        }
      ]
    },
    {
      "cell_type": "markdown",
      "metadata": {
        "id": "XVUPLBWVnslO"
      },
      "source": [
        "*   There are 11 categorical columns in dataset, out of which 5 are dates.\n",
        "*   Subgrade, Address state, Purpose have lot of levels (> 13) which need to dealt with proper encoding method.\n",
        "\n"
      ]
    },
    {
      "cell_type": "markdown",
      "metadata": {
        "id": "nHElWPucQ7Sc"
      },
      "source": [
        "c. Understanding Numerical Data"
      ]
    },
    {
      "cell_type": "code",
      "metadata": {
        "colab": {
          "base_uri": "https://localhost:8080/"
        },
        "id": "eAYjSyPQnfTR",
        "outputId": "ee960fd4-2ecf-4988-8735-320791992e30"
      },
      "source": [
        "num_features = bl.select_dtypes(include= ['float64', 'int64'])\n",
        "print(num_features.shape)\n",
        "num_features.info()"
      ],
      "execution_count": 55,
      "outputs": [
        {
          "output_type": "stream",
          "text": [
            "(747260, 30)\n",
            "<class 'pandas.core.frame.DataFrame'>\n",
            "Int64Index: 747260 entries, 39694 to 855968\n",
            "Data columns (total 30 columns):\n",
            " #   Column                      Non-Null Count   Dtype  \n",
            "---  ------                      --------------   -----  \n",
            " 0   loan_amnt                   747260 non-null  float64\n",
            " 1   funded_amnt                 747260 non-null  float64\n",
            " 2   funded_amnt_inv             747260 non-null  float64\n",
            " 3   int_rate                    747260 non-null  float64\n",
            " 4   installment                 747260 non-null  float64\n",
            " 5   annual_inc                  747260 non-null  float64\n",
            " 6   dti                         747260 non-null  float64\n",
            " 7   delinq_2yrs                 747260 non-null  float64\n",
            " 8   inq_last_6mths              747260 non-null  float64\n",
            " 9   open_acc                    747260 non-null  float64\n",
            " 10  pub_rec                     747260 non-null  float64\n",
            " 11  revol_bal                   747260 non-null  float64\n",
            " 12  revol_util                  747260 non-null  float64\n",
            " 13  total_acc                   747260 non-null  float64\n",
            " 14  out_prncp                   747260 non-null  float64\n",
            " 15  out_prncp_inv               747260 non-null  float64\n",
            " 16  total_pymnt                 747260 non-null  float64\n",
            " 17  total_pymnt_inv             747260 non-null  float64\n",
            " 18  total_rec_prncp             747260 non-null  float64\n",
            " 19  total_rec_int               747260 non-null  float64\n",
            " 20  total_rec_late_fee          747260 non-null  float64\n",
            " 21  recoveries                  747260 non-null  float64\n",
            " 22  collection_recovery_fee     747260 non-null  float64\n",
            " 23  last_pymnt_amnt             747260 non-null  float64\n",
            " 24  collections_12_mths_ex_med  747260 non-null  float64\n",
            " 25  acc_now_delinq              747260 non-null  float64\n",
            " 26  tot_coll_amt                747260 non-null  float64\n",
            " 27  tot_cur_bal                 747260 non-null  float64\n",
            " 28  total_rev_hi_lim            747260 non-null  float64\n",
            " 29  default_ind                 747260 non-null  int64  \n",
            "dtypes: float64(29), int64(1)\n",
            "memory usage: 176.7 MB\n"
          ],
          "name": "stdout"
        }
      ]
    },
    {
      "cell_type": "code",
      "metadata": {
        "colab": {
          "base_uri": "https://localhost:8080/",
          "height": 304
        },
        "id": "gxJHx64krG7b",
        "outputId": "62a4b957-4db6-4ac7-d82e-bead11d3b926"
      },
      "source": [
        "num_features.describe()"
      ],
      "execution_count": 56,
      "outputs": [
        {
          "output_type": "execute_result",
          "data": {
            "text/html": [
              "<div>\n",
              "<style scoped>\n",
              "    .dataframe tbody tr th:only-of-type {\n",
              "        vertical-align: middle;\n",
              "    }\n",
              "\n",
              "    .dataframe tbody tr th {\n",
              "        vertical-align: top;\n",
              "    }\n",
              "\n",
              "    .dataframe thead th {\n",
              "        text-align: right;\n",
              "    }\n",
              "</style>\n",
              "<table border=\"1\" class=\"dataframe\">\n",
              "  <thead>\n",
              "    <tr style=\"text-align: right;\">\n",
              "      <th></th>\n",
              "      <th>loan_amnt</th>\n",
              "      <th>funded_amnt</th>\n",
              "      <th>funded_amnt_inv</th>\n",
              "      <th>int_rate</th>\n",
              "      <th>installment</th>\n",
              "      <th>annual_inc</th>\n",
              "      <th>dti</th>\n",
              "      <th>delinq_2yrs</th>\n",
              "      <th>inq_last_6mths</th>\n",
              "      <th>open_acc</th>\n",
              "      <th>pub_rec</th>\n",
              "      <th>revol_bal</th>\n",
              "      <th>revol_util</th>\n",
              "      <th>total_acc</th>\n",
              "      <th>out_prncp</th>\n",
              "      <th>out_prncp_inv</th>\n",
              "      <th>total_pymnt</th>\n",
              "      <th>total_pymnt_inv</th>\n",
              "      <th>total_rec_prncp</th>\n",
              "      <th>total_rec_int</th>\n",
              "      <th>total_rec_late_fee</th>\n",
              "      <th>recoveries</th>\n",
              "      <th>collection_recovery_fee</th>\n",
              "      <th>last_pymnt_amnt</th>\n",
              "      <th>collections_12_mths_ex_med</th>\n",
              "      <th>acc_now_delinq</th>\n",
              "      <th>tot_coll_amt</th>\n",
              "      <th>tot_cur_bal</th>\n",
              "      <th>total_rev_hi_lim</th>\n",
              "      <th>default_ind</th>\n",
              "    </tr>\n",
              "  </thead>\n",
              "  <tbody>\n",
              "    <tr>\n",
              "      <th>count</th>\n",
              "      <td>747260.000000</td>\n",
              "      <td>747260.000000</td>\n",
              "      <td>747260.000000</td>\n",
              "      <td>747260.000000</td>\n",
              "      <td>747260.000000</td>\n",
              "      <td>7.472600e+05</td>\n",
              "      <td>747260.000000</td>\n",
              "      <td>747260.000000</td>\n",
              "      <td>747260.000000</td>\n",
              "      <td>747260.000000</td>\n",
              "      <td>747260.000000</td>\n",
              "      <td>7.472600e+05</td>\n",
              "      <td>747260.000000</td>\n",
              "      <td>747260.000000</td>\n",
              "      <td>747260.000000</td>\n",
              "      <td>747260.000000</td>\n",
              "      <td>747260.000000</td>\n",
              "      <td>747260.000000</td>\n",
              "      <td>747260.000000</td>\n",
              "      <td>747260.000000</td>\n",
              "      <td>747260.000000</td>\n",
              "      <td>747260.000000</td>\n",
              "      <td>747260.000000</td>\n",
              "      <td>747260.000000</td>\n",
              "      <td>747260.000000</td>\n",
              "      <td>747260.000000</td>\n",
              "      <td>7.472600e+05</td>\n",
              "      <td>7.472600e+05</td>\n",
              "      <td>7.472600e+05</td>\n",
              "      <td>747260.000000</td>\n",
              "    </tr>\n",
              "    <tr>\n",
              "      <th>mean</th>\n",
              "      <td>15146.778732</td>\n",
              "      <td>15146.758391</td>\n",
              "      <td>15140.386131</td>\n",
              "      <td>13.246891</td>\n",
              "      <td>447.013091</td>\n",
              "      <td>7.698438e+04</td>\n",
              "      <td>18.346379</td>\n",
              "      <td>0.328820</td>\n",
              "      <td>0.668149</td>\n",
              "      <td>11.772483</td>\n",
              "      <td>0.200818</td>\n",
              "      <td>1.735136e+04</td>\n",
              "      <td>55.437165</td>\n",
              "      <td>25.589123</td>\n",
              "      <td>9052.533496</td>\n",
              "      <td>9048.933891</td>\n",
              "      <td>7309.366494</td>\n",
              "      <td>7306.080902</td>\n",
              "      <td>5550.897644</td>\n",
              "      <td>1716.055293</td>\n",
              "      <td>0.251147</td>\n",
              "      <td>42.162412</td>\n",
              "      <td>4.469725</td>\n",
              "      <td>2210.047381</td>\n",
              "      <td>0.015431</td>\n",
              "      <td>0.005398</td>\n",
              "      <td>2.215355e+02</td>\n",
              "      <td>1.422791e+05</td>\n",
              "      <td>3.234609e+04</td>\n",
              "      <td>0.045821</td>\n",
              "    </tr>\n",
              "    <tr>\n",
              "      <th>std</th>\n",
              "      <td>8450.166859</td>\n",
              "      <td>8450.144571</td>\n",
              "      <td>8446.815628</td>\n",
              "      <td>4.395776</td>\n",
              "      <td>244.311865</td>\n",
              "      <td>6.585665e+04</td>\n",
              "      <td>8.286919</td>\n",
              "      <td>0.883293</td>\n",
              "      <td>0.956833</td>\n",
              "      <td>5.361282</td>\n",
              "      <td>0.595620</td>\n",
              "      <td>2.292366e+04</td>\n",
              "      <td>23.445834</td>\n",
              "      <td>11.846077</td>\n",
              "      <td>8520.693913</td>\n",
              "      <td>8517.211514</td>\n",
              "      <td>7672.459739</td>\n",
              "      <td>7668.620141</td>\n",
              "      <td>6537.423235</td>\n",
              "      <td>2007.938529</td>\n",
              "      <td>3.211368</td>\n",
              "      <td>383.594023</td>\n",
              "      <td>54.032419</td>\n",
              "      <td>4924.660097</td>\n",
              "      <td>0.139285</td>\n",
              "      <td>0.080913</td>\n",
              "      <td>1.076314e+04</td>\n",
              "      <td>1.552109e+05</td>\n",
              "      <td>3.805473e+04</td>\n",
              "      <td>0.209096</td>\n",
              "    </tr>\n",
              "    <tr>\n",
              "      <th>min</th>\n",
              "      <td>1000.000000</td>\n",
              "      <td>1000.000000</td>\n",
              "      <td>925.000000</td>\n",
              "      <td>5.320000</td>\n",
              "      <td>23.260000</td>\n",
              "      <td>3.800000e+03</td>\n",
              "      <td>0.000000</td>\n",
              "      <td>0.000000</td>\n",
              "      <td>0.000000</td>\n",
              "      <td>1.000000</td>\n",
              "      <td>0.000000</td>\n",
              "      <td>0.000000e+00</td>\n",
              "      <td>0.000000</td>\n",
              "      <td>2.000000</td>\n",
              "      <td>0.000000</td>\n",
              "      <td>0.000000</td>\n",
              "      <td>0.000000</td>\n",
              "      <td>0.000000</td>\n",
              "      <td>0.000000</td>\n",
              "      <td>0.000000</td>\n",
              "      <td>0.000000</td>\n",
              "      <td>0.000000</td>\n",
              "      <td>0.000000</td>\n",
              "      <td>0.000000</td>\n",
              "      <td>0.000000</td>\n",
              "      <td>0.000000</td>\n",
              "      <td>0.000000e+00</td>\n",
              "      <td>0.000000e+00</td>\n",
              "      <td>0.000000e+00</td>\n",
              "      <td>0.000000</td>\n",
              "    </tr>\n",
              "    <tr>\n",
              "      <th>25%</th>\n",
              "      <td>8750.000000</td>\n",
              "      <td>8750.000000</td>\n",
              "      <td>8725.000000</td>\n",
              "      <td>9.990000</td>\n",
              "      <td>269.520000</td>\n",
              "      <td>4.800000e+04</td>\n",
              "      <td>12.120000</td>\n",
              "      <td>0.000000</td>\n",
              "      <td>0.000000</td>\n",
              "      <td>8.000000</td>\n",
              "      <td>0.000000</td>\n",
              "      <td>6.705000e+03</td>\n",
              "      <td>38.300000</td>\n",
              "      <td>17.000000</td>\n",
              "      <td>678.207500</td>\n",
              "      <td>678.030000</td>\n",
              "      <td>1866.990000</td>\n",
              "      <td>1866.665000</td>\n",
              "      <td>1168.370000</td>\n",
              "      <td>440.640000</td>\n",
              "      <td>0.000000</td>\n",
              "      <td>0.000000</td>\n",
              "      <td>0.000000</td>\n",
              "      <td>292.400000</td>\n",
              "      <td>0.000000</td>\n",
              "      <td>0.000000</td>\n",
              "      <td>0.000000e+00</td>\n",
              "      <td>3.095500e+04</td>\n",
              "      <td>1.410000e+04</td>\n",
              "      <td>0.000000</td>\n",
              "    </tr>\n",
              "    <tr>\n",
              "      <th>50%</th>\n",
              "      <td>14000.000000</td>\n",
              "      <td>14000.000000</td>\n",
              "      <td>14000.000000</td>\n",
              "      <td>12.990000</td>\n",
              "      <td>392.810000</td>\n",
              "      <td>6.500000e+04</td>\n",
              "      <td>17.850000</td>\n",
              "      <td>0.000000</td>\n",
              "      <td>0.000000</td>\n",
              "      <td>11.000000</td>\n",
              "      <td>0.000000</td>\n",
              "      <td>1.221100e+04</td>\n",
              "      <td>56.200000</td>\n",
              "      <td>24.000000</td>\n",
              "      <td>7454.490000</td>\n",
              "      <td>7452.760000</td>\n",
              "      <td>4656.235000</td>\n",
              "      <td>4655.760000</td>\n",
              "      <td>3023.810000</td>\n",
              "      <td>1062.330000</td>\n",
              "      <td>0.000000</td>\n",
              "      <td>0.000000</td>\n",
              "      <td>0.000000</td>\n",
              "      <td>469.290000</td>\n",
              "      <td>0.000000</td>\n",
              "      <td>0.000000</td>\n",
              "      <td>0.000000e+00</td>\n",
              "      <td>8.401800e+04</td>\n",
              "      <td>2.400000e+04</td>\n",
              "      <td>0.000000</td>\n",
              "    </tr>\n",
              "    <tr>\n",
              "      <th>75%</th>\n",
              "      <td>20000.000000</td>\n",
              "      <td>20000.000000</td>\n",
              "      <td>20000.000000</td>\n",
              "      <td>16.200000</td>\n",
              "      <td>585.080000</td>\n",
              "      <td>9.132100e+04</td>\n",
              "      <td>24.210000</td>\n",
              "      <td>0.000000</td>\n",
              "      <td>1.000000</td>\n",
              "      <td>15.000000</td>\n",
              "      <td>0.000000</td>\n",
              "      <td>2.133000e+04</td>\n",
              "      <td>73.600000</td>\n",
              "      <td>32.000000</td>\n",
              "      <td>14317.772500</td>\n",
              "      <td>14313.690000</td>\n",
              "      <td>10199.619411</td>\n",
              "      <td>10193.362500</td>\n",
              "      <td>7437.475000</td>\n",
              "      <td>2202.240000</td>\n",
              "      <td>0.000000</td>\n",
              "      <td>0.000000</td>\n",
              "      <td>0.000000</td>\n",
              "      <td>812.480000</td>\n",
              "      <td>0.000000</td>\n",
              "      <td>0.000000</td>\n",
              "      <td>0.000000e+00</td>\n",
              "      <td>2.120675e+05</td>\n",
              "      <td>4.010000e+04</td>\n",
              "      <td>0.000000</td>\n",
              "    </tr>\n",
              "    <tr>\n",
              "      <th>max</th>\n",
              "      <td>35000.000000</td>\n",
              "      <td>35000.000000</td>\n",
              "      <td>35000.000000</td>\n",
              "      <td>28.990000</td>\n",
              "      <td>1445.460000</td>\n",
              "      <td>9.500000e+06</td>\n",
              "      <td>380.530000</td>\n",
              "      <td>39.000000</td>\n",
              "      <td>8.000000</td>\n",
              "      <td>90.000000</td>\n",
              "      <td>86.000000</td>\n",
              "      <td>2.904836e+06</td>\n",
              "      <td>892.300000</td>\n",
              "      <td>169.000000</td>\n",
              "      <td>49372.860000</td>\n",
              "      <td>49372.860000</td>\n",
              "      <td>56087.909922</td>\n",
              "      <td>56047.850000</td>\n",
              "      <td>35000.000000</td>\n",
              "      <td>21840.000000</td>\n",
              "      <td>358.680000</td>\n",
              "      <td>33520.270000</td>\n",
              "      <td>5694.093600</td>\n",
              "      <td>36475.590000</td>\n",
              "      <td>20.000000</td>\n",
              "      <td>14.000000</td>\n",
              "      <td>9.152545e+06</td>\n",
              "      <td>8.000078e+06</td>\n",
              "      <td>9.999999e+06</td>\n",
              "      <td>1.000000</td>\n",
              "    </tr>\n",
              "  </tbody>\n",
              "</table>\n",
              "</div>"
            ],
            "text/plain": [
              "           loan_amnt    funded_amnt  funded_amnt_inv       int_rate  \\\n",
              "count  747260.000000  747260.000000    747260.000000  747260.000000   \n",
              "mean    15146.778732   15146.758391     15140.386131      13.246891   \n",
              "std      8450.166859    8450.144571      8446.815628       4.395776   \n",
              "min      1000.000000    1000.000000       925.000000       5.320000   \n",
              "25%      8750.000000    8750.000000      8725.000000       9.990000   \n",
              "50%     14000.000000   14000.000000     14000.000000      12.990000   \n",
              "75%     20000.000000   20000.000000     20000.000000      16.200000   \n",
              "max     35000.000000   35000.000000     35000.000000      28.990000   \n",
              "\n",
              "         installment    annual_inc            dti    delinq_2yrs  \\\n",
              "count  747260.000000  7.472600e+05  747260.000000  747260.000000   \n",
              "mean      447.013091  7.698438e+04      18.346379       0.328820   \n",
              "std       244.311865  6.585665e+04       8.286919       0.883293   \n",
              "min        23.260000  3.800000e+03       0.000000       0.000000   \n",
              "25%       269.520000  4.800000e+04      12.120000       0.000000   \n",
              "50%       392.810000  6.500000e+04      17.850000       0.000000   \n",
              "75%       585.080000  9.132100e+04      24.210000       0.000000   \n",
              "max      1445.460000  9.500000e+06     380.530000      39.000000   \n",
              "\n",
              "       inq_last_6mths       open_acc        pub_rec     revol_bal  \\\n",
              "count   747260.000000  747260.000000  747260.000000  7.472600e+05   \n",
              "mean         0.668149      11.772483       0.200818  1.735136e+04   \n",
              "std          0.956833       5.361282       0.595620  2.292366e+04   \n",
              "min          0.000000       1.000000       0.000000  0.000000e+00   \n",
              "25%          0.000000       8.000000       0.000000  6.705000e+03   \n",
              "50%          0.000000      11.000000       0.000000  1.221100e+04   \n",
              "75%          1.000000      15.000000       0.000000  2.133000e+04   \n",
              "max          8.000000      90.000000      86.000000  2.904836e+06   \n",
              "\n",
              "          revol_util      total_acc      out_prncp  out_prncp_inv  \\\n",
              "count  747260.000000  747260.000000  747260.000000  747260.000000   \n",
              "mean       55.437165      25.589123    9052.533496    9048.933891   \n",
              "std        23.445834      11.846077    8520.693913    8517.211514   \n",
              "min         0.000000       2.000000       0.000000       0.000000   \n",
              "25%        38.300000      17.000000     678.207500     678.030000   \n",
              "50%        56.200000      24.000000    7454.490000    7452.760000   \n",
              "75%        73.600000      32.000000   14317.772500   14313.690000   \n",
              "max       892.300000     169.000000   49372.860000   49372.860000   \n",
              "\n",
              "         total_pymnt  total_pymnt_inv  total_rec_prncp  total_rec_int  \\\n",
              "count  747260.000000    747260.000000    747260.000000  747260.000000   \n",
              "mean     7309.366494      7306.080902      5550.897644    1716.055293   \n",
              "std      7672.459739      7668.620141      6537.423235    2007.938529   \n",
              "min         0.000000         0.000000         0.000000       0.000000   \n",
              "25%      1866.990000      1866.665000      1168.370000     440.640000   \n",
              "50%      4656.235000      4655.760000      3023.810000    1062.330000   \n",
              "75%     10199.619411     10193.362500      7437.475000    2202.240000   \n",
              "max     56087.909922     56047.850000     35000.000000   21840.000000   \n",
              "\n",
              "       total_rec_late_fee     recoveries  collection_recovery_fee  \\\n",
              "count       747260.000000  747260.000000            747260.000000   \n",
              "mean             0.251147      42.162412                 4.469725   \n",
              "std              3.211368     383.594023                54.032419   \n",
              "min              0.000000       0.000000                 0.000000   \n",
              "25%              0.000000       0.000000                 0.000000   \n",
              "50%              0.000000       0.000000                 0.000000   \n",
              "75%              0.000000       0.000000                 0.000000   \n",
              "max            358.680000   33520.270000              5694.093600   \n",
              "\n",
              "       last_pymnt_amnt  collections_12_mths_ex_med  acc_now_delinq  \\\n",
              "count    747260.000000               747260.000000   747260.000000   \n",
              "mean       2210.047381                    0.015431        0.005398   \n",
              "std        4924.660097                    0.139285        0.080913   \n",
              "min           0.000000                    0.000000        0.000000   \n",
              "25%         292.400000                    0.000000        0.000000   \n",
              "50%         469.290000                    0.000000        0.000000   \n",
              "75%         812.480000                    0.000000        0.000000   \n",
              "max       36475.590000                   20.000000       14.000000   \n",
              "\n",
              "       tot_coll_amt   tot_cur_bal  total_rev_hi_lim    default_ind  \n",
              "count  7.472600e+05  7.472600e+05      7.472600e+05  747260.000000  \n",
              "mean   2.215355e+02  1.422791e+05      3.234609e+04       0.045821  \n",
              "std    1.076314e+04  1.552109e+05      3.805473e+04       0.209096  \n",
              "min    0.000000e+00  0.000000e+00      0.000000e+00       0.000000  \n",
              "25%    0.000000e+00  3.095500e+04      1.410000e+04       0.000000  \n",
              "50%    0.000000e+00  8.401800e+04      2.400000e+04       0.000000  \n",
              "75%    0.000000e+00  2.120675e+05      4.010000e+04       0.000000  \n",
              "max    9.152545e+06  8.000078e+06      9.999999e+06       1.000000  "
            ]
          },
          "metadata": {
            "tags": []
          },
          "execution_count": 56
        }
      ]
    },
    {
      "cell_type": "markdown",
      "metadata": {
        "id": "DabjptBMrhQr"
      },
      "source": [
        "*   Huge difference can be seen in 75% value & maximum value for almost all variables, which suggests presence of outliers.\n"
      ]
    },
    {
      "cell_type": "markdown",
      "metadata": {
        "id": "M9eqc-Lk7Bfn"
      },
      "source": [
        "#### 3. Feature Engineering:\n",
        "a.   Missing Value Imputation<br>\n",
        "b.   Categorical variables encoding<br>"
      ]
    },
    {
      "cell_type": "markdown",
      "metadata": {
        "id": "Jo5e60c5ZbeE"
      },
      "source": [
        "a. Missing Values Imputation"
      ]
    },
    {
      "cell_type": "code",
      "metadata": {
        "colab": {
          "base_uri": "https://localhost:8080/"
        },
        "id": "nReEFdMvZSVx",
        "outputId": "e9e937de-da15-494c-c3e9-ebc52af5092f"
      },
      "source": [
        "bl.isnull().sum().any()"
      ],
      "execution_count": 57,
      "outputs": [
        {
          "output_type": "execute_result",
          "data": {
            "text/plain": [
              "False"
            ]
          },
          "metadata": {
            "tags": []
          },
          "execution_count": 57
        }
      ]
    },
    {
      "cell_type": "markdown",
      "metadata": {
        "id": "jrvi3vz6ZVEM"
      },
      "source": [
        "b. Encoding Categorical Variables"
      ]
    },
    {
      "cell_type": "code",
      "metadata": {
        "id": "Eu7BoWHVRBg-"
      },
      "source": [
        "# Converting issue_d into datetime format for splitting data into train & test\n",
        "bl['issue_d'] = pd.to_datetime(bl['issue_d'], infer_datetime_format=True)"
      ],
      "execution_count": 58,
      "outputs": []
    },
    {
      "cell_type": "code",
      "metadata": {
        "id": "W4_siVJh0WlN"
      },
      "source": [
        "from sklearn import preprocessing"
      ],
      "execution_count": 59,
      "outputs": []
    },
    {
      "cell_type": "code",
      "metadata": {
        "colab": {
          "base_uri": "https://localhost:8080/"
        },
        "id": "JQAVRn5z0qyB",
        "outputId": "01beedb0-28d7-411c-c39b-260ffa5bb222"
      },
      "source": [
        "# label endcoding for the object datatypes except the column \"issue_d\"\n",
        "for var in bl.columns:\n",
        "    if bl[var].dtypes == 'object':\n",
        "        le = preprocessing.LabelEncoder()\n",
        "        le = le.fit(bl[var])\n",
        "        bl[var] = le.transform(bl[var])\n",
        "        print('Completed Label encoding on',var)"
      ],
      "execution_count": 60,
      "outputs": [
        {
          "output_type": "stream",
          "text": [
            "Completed Label encoding on term\n",
            "Completed Label encoding on grade\n",
            "Completed Label encoding on sub_grade\n",
            "Completed Label encoding on emp_length\n",
            "Completed Label encoding on home_ownership\n",
            "Completed Label encoding on verification_status\n",
            "Completed Label encoding on purpose\n",
            "Completed Label encoding on addr_state\n",
            "Completed Label encoding on initial_list_status\n",
            "Completed Label encoding on application_type\n"
          ],
          "name": "stdout"
        }
      ]
    },
    {
      "cell_type": "code",
      "metadata": {
        "colab": {
          "base_uri": "https://localhost:8080/",
          "height": 304
        },
        "id": "cwc2-bZh1Etc",
        "outputId": "a3615f81-5e80-4ab9-afae-52aaec4cfed0"
      },
      "source": [
        "bl.describe()"
      ],
      "execution_count": 61,
      "outputs": [
        {
          "output_type": "execute_result",
          "data": {
            "text/html": [
              "<div>\n",
              "<style scoped>\n",
              "    .dataframe tbody tr th:only-of-type {\n",
              "        vertical-align: middle;\n",
              "    }\n",
              "\n",
              "    .dataframe tbody tr th {\n",
              "        vertical-align: top;\n",
              "    }\n",
              "\n",
              "    .dataframe thead th {\n",
              "        text-align: right;\n",
              "    }\n",
              "</style>\n",
              "<table border=\"1\" class=\"dataframe\">\n",
              "  <thead>\n",
              "    <tr style=\"text-align: right;\">\n",
              "      <th></th>\n",
              "      <th>loan_amnt</th>\n",
              "      <th>funded_amnt</th>\n",
              "      <th>funded_amnt_inv</th>\n",
              "      <th>term</th>\n",
              "      <th>int_rate</th>\n",
              "      <th>installment</th>\n",
              "      <th>grade</th>\n",
              "      <th>sub_grade</th>\n",
              "      <th>emp_length</th>\n",
              "      <th>home_ownership</th>\n",
              "      <th>annual_inc</th>\n",
              "      <th>verification_status</th>\n",
              "      <th>purpose</th>\n",
              "      <th>addr_state</th>\n",
              "      <th>dti</th>\n",
              "      <th>delinq_2yrs</th>\n",
              "      <th>inq_last_6mths</th>\n",
              "      <th>open_acc</th>\n",
              "      <th>pub_rec</th>\n",
              "      <th>revol_bal</th>\n",
              "      <th>revol_util</th>\n",
              "      <th>total_acc</th>\n",
              "      <th>initial_list_status</th>\n",
              "      <th>out_prncp</th>\n",
              "      <th>out_prncp_inv</th>\n",
              "      <th>total_pymnt</th>\n",
              "      <th>total_pymnt_inv</th>\n",
              "      <th>total_rec_prncp</th>\n",
              "      <th>total_rec_int</th>\n",
              "      <th>total_rec_late_fee</th>\n",
              "      <th>recoveries</th>\n",
              "      <th>collection_recovery_fee</th>\n",
              "      <th>last_pymnt_amnt</th>\n",
              "      <th>collections_12_mths_ex_med</th>\n",
              "      <th>application_type</th>\n",
              "      <th>acc_now_delinq</th>\n",
              "      <th>tot_coll_amt</th>\n",
              "      <th>tot_cur_bal</th>\n",
              "      <th>total_rev_hi_lim</th>\n",
              "      <th>default_ind</th>\n",
              "    </tr>\n",
              "  </thead>\n",
              "  <tbody>\n",
              "    <tr>\n",
              "      <th>count</th>\n",
              "      <td>747260.000000</td>\n",
              "      <td>747260.000000</td>\n",
              "      <td>747260.000000</td>\n",
              "      <td>747260.000000</td>\n",
              "      <td>747260.000000</td>\n",
              "      <td>747260.000000</td>\n",
              "      <td>747260.000000</td>\n",
              "      <td>747260.000000</td>\n",
              "      <td>747260.000000</td>\n",
              "      <td>747260.000000</td>\n",
              "      <td>7.472600e+05</td>\n",
              "      <td>747260.000000</td>\n",
              "      <td>747260.000000</td>\n",
              "      <td>747260.000000</td>\n",
              "      <td>747260.000000</td>\n",
              "      <td>747260.000000</td>\n",
              "      <td>747260.000000</td>\n",
              "      <td>747260.000000</td>\n",
              "      <td>747260.000000</td>\n",
              "      <td>7.472600e+05</td>\n",
              "      <td>747260.000000</td>\n",
              "      <td>747260.000000</td>\n",
              "      <td>747260.000000</td>\n",
              "      <td>747260.000000</td>\n",
              "      <td>747260.000000</td>\n",
              "      <td>747260.000000</td>\n",
              "      <td>747260.000000</td>\n",
              "      <td>747260.000000</td>\n",
              "      <td>747260.000000</td>\n",
              "      <td>747260.000000</td>\n",
              "      <td>747260.000000</td>\n",
              "      <td>747260.000000</td>\n",
              "      <td>747260.000000</td>\n",
              "      <td>747260.000000</td>\n",
              "      <td>747260.000000</td>\n",
              "      <td>747260.000000</td>\n",
              "      <td>7.472600e+05</td>\n",
              "      <td>7.472600e+05</td>\n",
              "      <td>7.472600e+05</td>\n",
              "      <td>747260.000000</td>\n",
              "    </tr>\n",
              "    <tr>\n",
              "      <th>mean</th>\n",
              "      <td>15146.778732</td>\n",
              "      <td>15146.758391</td>\n",
              "      <td>15140.386131</td>\n",
              "      <td>0.310498</td>\n",
              "      <td>13.246891</td>\n",
              "      <td>447.013091</td>\n",
              "      <td>1.794770</td>\n",
              "      <td>10.938814</td>\n",
              "      <td>3.633893</td>\n",
              "      <td>2.871179</td>\n",
              "      <td>7.698438e+04</td>\n",
              "      <td>1.001552</td>\n",
              "      <td>2.468757</td>\n",
              "      <td>23.225151</td>\n",
              "      <td>18.346379</td>\n",
              "      <td>0.328820</td>\n",
              "      <td>0.668149</td>\n",
              "      <td>11.772483</td>\n",
              "      <td>0.200818</td>\n",
              "      <td>1.735136e+04</td>\n",
              "      <td>55.437165</td>\n",
              "      <td>25.589123</td>\n",
              "      <td>0.525168</td>\n",
              "      <td>9052.533496</td>\n",
              "      <td>9048.933891</td>\n",
              "      <td>7309.366494</td>\n",
              "      <td>7306.080902</td>\n",
              "      <td>5550.897644</td>\n",
              "      <td>1716.055293</td>\n",
              "      <td>0.251147</td>\n",
              "      <td>42.162412</td>\n",
              "      <td>4.469725</td>\n",
              "      <td>2210.047381</td>\n",
              "      <td>0.015431</td>\n",
              "      <td>0.000517</td>\n",
              "      <td>0.005398</td>\n",
              "      <td>2.215355e+02</td>\n",
              "      <td>1.422791e+05</td>\n",
              "      <td>3.234609e+04</td>\n",
              "      <td>0.045821</td>\n",
              "    </tr>\n",
              "    <tr>\n",
              "      <th>std</th>\n",
              "      <td>8450.166859</td>\n",
              "      <td>8450.144571</td>\n",
              "      <td>8446.815628</td>\n",
              "      <td>0.462698</td>\n",
              "      <td>4.395776</td>\n",
              "      <td>244.311865</td>\n",
              "      <td>1.299977</td>\n",
              "      <td>6.433531</td>\n",
              "      <td>3.184283</td>\n",
              "      <td>1.923009</td>\n",
              "      <td>6.585665e+04</td>\n",
              "      <td>0.779713</td>\n",
              "      <td>2.135332</td>\n",
              "      <td>15.156809</td>\n",
              "      <td>8.286919</td>\n",
              "      <td>0.883293</td>\n",
              "      <td>0.956833</td>\n",
              "      <td>5.361282</td>\n",
              "      <td>0.595620</td>\n",
              "      <td>2.292366e+04</td>\n",
              "      <td>23.445834</td>\n",
              "      <td>11.846077</td>\n",
              "      <td>0.499367</td>\n",
              "      <td>8520.693913</td>\n",
              "      <td>8517.211514</td>\n",
              "      <td>7672.459739</td>\n",
              "      <td>7668.620141</td>\n",
              "      <td>6537.423235</td>\n",
              "      <td>2007.938529</td>\n",
              "      <td>3.211368</td>\n",
              "      <td>383.594023</td>\n",
              "      <td>54.032419</td>\n",
              "      <td>4924.660097</td>\n",
              "      <td>0.139285</td>\n",
              "      <td>0.022722</td>\n",
              "      <td>0.080913</td>\n",
              "      <td>1.076314e+04</td>\n",
              "      <td>1.552109e+05</td>\n",
              "      <td>3.805473e+04</td>\n",
              "      <td>0.209096</td>\n",
              "    </tr>\n",
              "    <tr>\n",
              "      <th>min</th>\n",
              "      <td>1000.000000</td>\n",
              "      <td>1000.000000</td>\n",
              "      <td>925.000000</td>\n",
              "      <td>0.000000</td>\n",
              "      <td>5.320000</td>\n",
              "      <td>23.260000</td>\n",
              "      <td>0.000000</td>\n",
              "      <td>0.000000</td>\n",
              "      <td>0.000000</td>\n",
              "      <td>0.000000</td>\n",
              "      <td>3.800000e+03</td>\n",
              "      <td>0.000000</td>\n",
              "      <td>0.000000</td>\n",
              "      <td>0.000000</td>\n",
              "      <td>0.000000</td>\n",
              "      <td>0.000000</td>\n",
              "      <td>0.000000</td>\n",
              "      <td>1.000000</td>\n",
              "      <td>0.000000</td>\n",
              "      <td>0.000000e+00</td>\n",
              "      <td>0.000000</td>\n",
              "      <td>2.000000</td>\n",
              "      <td>0.000000</td>\n",
              "      <td>0.000000</td>\n",
              "      <td>0.000000</td>\n",
              "      <td>0.000000</td>\n",
              "      <td>0.000000</td>\n",
              "      <td>0.000000</td>\n",
              "      <td>0.000000</td>\n",
              "      <td>0.000000</td>\n",
              "      <td>0.000000</td>\n",
              "      <td>0.000000</td>\n",
              "      <td>0.000000</td>\n",
              "      <td>0.000000</td>\n",
              "      <td>0.000000</td>\n",
              "      <td>0.000000</td>\n",
              "      <td>0.000000e+00</td>\n",
              "      <td>0.000000e+00</td>\n",
              "      <td>0.000000e+00</td>\n",
              "      <td>0.000000</td>\n",
              "    </tr>\n",
              "    <tr>\n",
              "      <th>25%</th>\n",
              "      <td>8750.000000</td>\n",
              "      <td>8750.000000</td>\n",
              "      <td>8725.000000</td>\n",
              "      <td>0.000000</td>\n",
              "      <td>9.990000</td>\n",
              "      <td>269.520000</td>\n",
              "      <td>1.000000</td>\n",
              "      <td>6.000000</td>\n",
              "      <td>1.000000</td>\n",
              "      <td>1.000000</td>\n",
              "      <td>4.800000e+04</td>\n",
              "      <td>0.000000</td>\n",
              "      <td>2.000000</td>\n",
              "      <td>9.000000</td>\n",
              "      <td>12.120000</td>\n",
              "      <td>0.000000</td>\n",
              "      <td>0.000000</td>\n",
              "      <td>8.000000</td>\n",
              "      <td>0.000000</td>\n",
              "      <td>6.705000e+03</td>\n",
              "      <td>38.300000</td>\n",
              "      <td>17.000000</td>\n",
              "      <td>0.000000</td>\n",
              "      <td>678.207500</td>\n",
              "      <td>678.030000</td>\n",
              "      <td>1866.990000</td>\n",
              "      <td>1866.665000</td>\n",
              "      <td>1168.370000</td>\n",
              "      <td>440.640000</td>\n",
              "      <td>0.000000</td>\n",
              "      <td>0.000000</td>\n",
              "      <td>0.000000</td>\n",
              "      <td>292.400000</td>\n",
              "      <td>0.000000</td>\n",
              "      <td>0.000000</td>\n",
              "      <td>0.000000</td>\n",
              "      <td>0.000000e+00</td>\n",
              "      <td>3.095500e+04</td>\n",
              "      <td>1.410000e+04</td>\n",
              "      <td>0.000000</td>\n",
              "    </tr>\n",
              "    <tr>\n",
              "      <th>50%</th>\n",
              "      <td>14000.000000</td>\n",
              "      <td>14000.000000</td>\n",
              "      <td>14000.000000</td>\n",
              "      <td>0.000000</td>\n",
              "      <td>12.990000</td>\n",
              "      <td>392.810000</td>\n",
              "      <td>2.000000</td>\n",
              "      <td>10.000000</td>\n",
              "      <td>2.000000</td>\n",
              "      <td>1.000000</td>\n",
              "      <td>6.500000e+04</td>\n",
              "      <td>1.000000</td>\n",
              "      <td>2.000000</td>\n",
              "      <td>23.000000</td>\n",
              "      <td>17.850000</td>\n",
              "      <td>0.000000</td>\n",
              "      <td>0.000000</td>\n",
              "      <td>11.000000</td>\n",
              "      <td>0.000000</td>\n",
              "      <td>1.221100e+04</td>\n",
              "      <td>56.200000</td>\n",
              "      <td>24.000000</td>\n",
              "      <td>1.000000</td>\n",
              "      <td>7454.490000</td>\n",
              "      <td>7452.760000</td>\n",
              "      <td>4656.235000</td>\n",
              "      <td>4655.760000</td>\n",
              "      <td>3023.810000</td>\n",
              "      <td>1062.330000</td>\n",
              "      <td>0.000000</td>\n",
              "      <td>0.000000</td>\n",
              "      <td>0.000000</td>\n",
              "      <td>469.290000</td>\n",
              "      <td>0.000000</td>\n",
              "      <td>0.000000</td>\n",
              "      <td>0.000000</td>\n",
              "      <td>0.000000e+00</td>\n",
              "      <td>8.401800e+04</td>\n",
              "      <td>2.400000e+04</td>\n",
              "      <td>0.000000</td>\n",
              "    </tr>\n",
              "    <tr>\n",
              "      <th>75%</th>\n",
              "      <td>20000.000000</td>\n",
              "      <td>20000.000000</td>\n",
              "      <td>20000.000000</td>\n",
              "      <td>1.000000</td>\n",
              "      <td>16.200000</td>\n",
              "      <td>585.080000</td>\n",
              "      <td>3.000000</td>\n",
              "      <td>15.000000</td>\n",
              "      <td>6.000000</td>\n",
              "      <td>5.000000</td>\n",
              "      <td>9.132100e+04</td>\n",
              "      <td>2.000000</td>\n",
              "      <td>2.000000</td>\n",
              "      <td>36.000000</td>\n",
              "      <td>24.210000</td>\n",
              "      <td>0.000000</td>\n",
              "      <td>1.000000</td>\n",
              "      <td>15.000000</td>\n",
              "      <td>0.000000</td>\n",
              "      <td>2.133000e+04</td>\n",
              "      <td>73.600000</td>\n",
              "      <td>32.000000</td>\n",
              "      <td>1.000000</td>\n",
              "      <td>14317.772500</td>\n",
              "      <td>14313.690000</td>\n",
              "      <td>10199.619411</td>\n",
              "      <td>10193.362500</td>\n",
              "      <td>7437.475000</td>\n",
              "      <td>2202.240000</td>\n",
              "      <td>0.000000</td>\n",
              "      <td>0.000000</td>\n",
              "      <td>0.000000</td>\n",
              "      <td>812.480000</td>\n",
              "      <td>0.000000</td>\n",
              "      <td>0.000000</td>\n",
              "      <td>0.000000</td>\n",
              "      <td>0.000000e+00</td>\n",
              "      <td>2.120675e+05</td>\n",
              "      <td>4.010000e+04</td>\n",
              "      <td>0.000000</td>\n",
              "    </tr>\n",
              "    <tr>\n",
              "      <th>max</th>\n",
              "      <td>35000.000000</td>\n",
              "      <td>35000.000000</td>\n",
              "      <td>35000.000000</td>\n",
              "      <td>1.000000</td>\n",
              "      <td>28.990000</td>\n",
              "      <td>1445.460000</td>\n",
              "      <td>6.000000</td>\n",
              "      <td>34.000000</td>\n",
              "      <td>10.000000</td>\n",
              "      <td>5.000000</td>\n",
              "      <td>9.500000e+06</td>\n",
              "      <td>2.000000</td>\n",
              "      <td>13.000000</td>\n",
              "      <td>50.000000</td>\n",
              "      <td>380.530000</td>\n",
              "      <td>39.000000</td>\n",
              "      <td>8.000000</td>\n",
              "      <td>90.000000</td>\n",
              "      <td>86.000000</td>\n",
              "      <td>2.904836e+06</td>\n",
              "      <td>892.300000</td>\n",
              "      <td>169.000000</td>\n",
              "      <td>1.000000</td>\n",
              "      <td>49372.860000</td>\n",
              "      <td>49372.860000</td>\n",
              "      <td>56087.909922</td>\n",
              "      <td>56047.850000</td>\n",
              "      <td>35000.000000</td>\n",
              "      <td>21840.000000</td>\n",
              "      <td>358.680000</td>\n",
              "      <td>33520.270000</td>\n",
              "      <td>5694.093600</td>\n",
              "      <td>36475.590000</td>\n",
              "      <td>20.000000</td>\n",
              "      <td>1.000000</td>\n",
              "      <td>14.000000</td>\n",
              "      <td>9.152545e+06</td>\n",
              "      <td>8.000078e+06</td>\n",
              "      <td>9.999999e+06</td>\n",
              "      <td>1.000000</td>\n",
              "    </tr>\n",
              "  </tbody>\n",
              "</table>\n",
              "</div>"
            ],
            "text/plain": [
              "           loan_amnt    funded_amnt  funded_amnt_inv           term  \\\n",
              "count  747260.000000  747260.000000    747260.000000  747260.000000   \n",
              "mean    15146.778732   15146.758391     15140.386131       0.310498   \n",
              "std      8450.166859    8450.144571      8446.815628       0.462698   \n",
              "min      1000.000000    1000.000000       925.000000       0.000000   \n",
              "25%      8750.000000    8750.000000      8725.000000       0.000000   \n",
              "50%     14000.000000   14000.000000     14000.000000       0.000000   \n",
              "75%     20000.000000   20000.000000     20000.000000       1.000000   \n",
              "max     35000.000000   35000.000000     35000.000000       1.000000   \n",
              "\n",
              "            int_rate    installment          grade      sub_grade  \\\n",
              "count  747260.000000  747260.000000  747260.000000  747260.000000   \n",
              "mean       13.246891     447.013091       1.794770      10.938814   \n",
              "std         4.395776     244.311865       1.299977       6.433531   \n",
              "min         5.320000      23.260000       0.000000       0.000000   \n",
              "25%         9.990000     269.520000       1.000000       6.000000   \n",
              "50%        12.990000     392.810000       2.000000      10.000000   \n",
              "75%        16.200000     585.080000       3.000000      15.000000   \n",
              "max        28.990000    1445.460000       6.000000      34.000000   \n",
              "\n",
              "          emp_length  home_ownership    annual_inc  verification_status  \\\n",
              "count  747260.000000   747260.000000  7.472600e+05        747260.000000   \n",
              "mean        3.633893        2.871179  7.698438e+04             1.001552   \n",
              "std         3.184283        1.923009  6.585665e+04             0.779713   \n",
              "min         0.000000        0.000000  3.800000e+03             0.000000   \n",
              "25%         1.000000        1.000000  4.800000e+04             0.000000   \n",
              "50%         2.000000        1.000000  6.500000e+04             1.000000   \n",
              "75%         6.000000        5.000000  9.132100e+04             2.000000   \n",
              "max        10.000000        5.000000  9.500000e+06             2.000000   \n",
              "\n",
              "             purpose     addr_state            dti    delinq_2yrs  \\\n",
              "count  747260.000000  747260.000000  747260.000000  747260.000000   \n",
              "mean        2.468757      23.225151      18.346379       0.328820   \n",
              "std         2.135332      15.156809       8.286919       0.883293   \n",
              "min         0.000000       0.000000       0.000000       0.000000   \n",
              "25%         2.000000       9.000000      12.120000       0.000000   \n",
              "50%         2.000000      23.000000      17.850000       0.000000   \n",
              "75%         2.000000      36.000000      24.210000       0.000000   \n",
              "max        13.000000      50.000000     380.530000      39.000000   \n",
              "\n",
              "       inq_last_6mths       open_acc        pub_rec     revol_bal  \\\n",
              "count   747260.000000  747260.000000  747260.000000  7.472600e+05   \n",
              "mean         0.668149      11.772483       0.200818  1.735136e+04   \n",
              "std          0.956833       5.361282       0.595620  2.292366e+04   \n",
              "min          0.000000       1.000000       0.000000  0.000000e+00   \n",
              "25%          0.000000       8.000000       0.000000  6.705000e+03   \n",
              "50%          0.000000      11.000000       0.000000  1.221100e+04   \n",
              "75%          1.000000      15.000000       0.000000  2.133000e+04   \n",
              "max          8.000000      90.000000      86.000000  2.904836e+06   \n",
              "\n",
              "          revol_util      total_acc  initial_list_status      out_prncp  \\\n",
              "count  747260.000000  747260.000000        747260.000000  747260.000000   \n",
              "mean       55.437165      25.589123             0.525168    9052.533496   \n",
              "std        23.445834      11.846077             0.499367    8520.693913   \n",
              "min         0.000000       2.000000             0.000000       0.000000   \n",
              "25%        38.300000      17.000000             0.000000     678.207500   \n",
              "50%        56.200000      24.000000             1.000000    7454.490000   \n",
              "75%        73.600000      32.000000             1.000000   14317.772500   \n",
              "max       892.300000     169.000000             1.000000   49372.860000   \n",
              "\n",
              "       out_prncp_inv    total_pymnt  total_pymnt_inv  total_rec_prncp  \\\n",
              "count  747260.000000  747260.000000    747260.000000    747260.000000   \n",
              "mean     9048.933891    7309.366494      7306.080902      5550.897644   \n",
              "std      8517.211514    7672.459739      7668.620141      6537.423235   \n",
              "min         0.000000       0.000000         0.000000         0.000000   \n",
              "25%       678.030000    1866.990000      1866.665000      1168.370000   \n",
              "50%      7452.760000    4656.235000      4655.760000      3023.810000   \n",
              "75%     14313.690000   10199.619411     10193.362500      7437.475000   \n",
              "max     49372.860000   56087.909922     56047.850000     35000.000000   \n",
              "\n",
              "       total_rec_int  total_rec_late_fee     recoveries  \\\n",
              "count  747260.000000       747260.000000  747260.000000   \n",
              "mean     1716.055293            0.251147      42.162412   \n",
              "std      2007.938529            3.211368     383.594023   \n",
              "min         0.000000            0.000000       0.000000   \n",
              "25%       440.640000            0.000000       0.000000   \n",
              "50%      1062.330000            0.000000       0.000000   \n",
              "75%      2202.240000            0.000000       0.000000   \n",
              "max     21840.000000          358.680000   33520.270000   \n",
              "\n",
              "       collection_recovery_fee  last_pymnt_amnt  collections_12_mths_ex_med  \\\n",
              "count            747260.000000    747260.000000               747260.000000   \n",
              "mean                  4.469725      2210.047381                    0.015431   \n",
              "std                  54.032419      4924.660097                    0.139285   \n",
              "min                   0.000000         0.000000                    0.000000   \n",
              "25%                   0.000000       292.400000                    0.000000   \n",
              "50%                   0.000000       469.290000                    0.000000   \n",
              "75%                   0.000000       812.480000                    0.000000   \n",
              "max                5694.093600     36475.590000                   20.000000   \n",
              "\n",
              "       application_type  acc_now_delinq  tot_coll_amt   tot_cur_bal  \\\n",
              "count     747260.000000   747260.000000  7.472600e+05  7.472600e+05   \n",
              "mean           0.000517        0.005398  2.215355e+02  1.422791e+05   \n",
              "std            0.022722        0.080913  1.076314e+04  1.552109e+05   \n",
              "min            0.000000        0.000000  0.000000e+00  0.000000e+00   \n",
              "25%            0.000000        0.000000  0.000000e+00  3.095500e+04   \n",
              "50%            0.000000        0.000000  0.000000e+00  8.401800e+04   \n",
              "75%            0.000000        0.000000  0.000000e+00  2.120675e+05   \n",
              "max            1.000000       14.000000  9.152545e+06  8.000078e+06   \n",
              "\n",
              "       total_rev_hi_lim    default_ind  \n",
              "count      7.472600e+05  747260.000000  \n",
              "mean       3.234609e+04       0.045821  \n",
              "std        3.805473e+04       0.209096  \n",
              "min        0.000000e+00       0.000000  \n",
              "25%        1.410000e+04       0.000000  \n",
              "50%        2.400000e+04       0.000000  \n",
              "75%        4.010000e+04       0.000000  \n",
              "max        9.999999e+06       1.000000  "
            ]
          },
          "metadata": {
            "tags": []
          },
          "execution_count": 61
        }
      ]
    },
    {
      "cell_type": "code",
      "metadata": {
        "id": "4ZGP4ByV1JPh"
      },
      "source": [
        "#bl.to_csv('/content/drive/MyDrive/Colab Notebooks/Capstone_Project_Imarticus/Python Project - Bank Lending/capstone_dataset_final.csv', index=False)"
      ],
      "execution_count": 62,
      "outputs": []
    },
    {
      "cell_type": "markdown",
      "metadata": {
        "id": "DLd58fShxg1N"
      },
      "source": [
        "4.   Feature Selection:\n",
        "\n",
        "a.   Boruta"
      ]
    },
    {
      "cell_type": "code",
      "metadata": {
        "id": "Qe0Kz9dRzX4F"
      },
      "source": [
        "x = bl.drop(['default_ind','issue_d'], axis = 1)\n",
        "y = bl['default_ind']"
      ],
      "execution_count": 63,
      "outputs": []
    },
    {
      "cell_type": "code",
      "metadata": {
        "id": "6hABZT7NzjJd"
      },
      "source": [
        "#pip install Boruta"
      ],
      "execution_count": null,
      "outputs": []
    },
    {
      "cell_type": "code",
      "metadata": {
        "id": "L4o6hx2zzDjl"
      },
      "source": [
        "import boruta\n",
        "from boruta import BorutaPy\n",
        "from sklearn.ensemble import RandomForestClassifier\n",
        "x = np.array(x)\n",
        "y = np.array(y)"
      ],
      "execution_count": null,
      "outputs": []
    },
    {
      "cell_type": "code",
      "metadata": {
        "id": "FnlDTLGJze6W"
      },
      "source": [
        "rf = RandomForestClassifier()\n",
        "Borutaa = BorutaPy(rf, n_estimators='auto', verbose=2, max_iter=15)"
      ],
      "execution_count": null,
      "outputs": []
    },
    {
      "cell_type": "code",
      "metadata": {
        "colab": {
          "base_uri": "https://localhost:8080/"
        },
        "id": "i2nxEyihzzJd",
        "outputId": "c2cc2715-f921-4179-c74e-863c15e6fe2c"
      },
      "source": [
        "Borutaa.fit(x,y)"
      ],
      "execution_count": null,
      "outputs": [
        {
          "output_type": "stream",
          "text": [
            "Iteration: \t1 / 15\n",
            "Confirmed: \t0\n",
            "Tentative: \t39\n",
            "Rejected: \t0\n",
            "Iteration: \t2 / 15\n",
            "Confirmed: \t0\n",
            "Tentative: \t39\n",
            "Rejected: \t0\n",
            "Iteration: \t3 / 15\n",
            "Confirmed: \t0\n",
            "Tentative: \t39\n",
            "Rejected: \t0\n",
            "Iteration: \t4 / 15\n",
            "Confirmed: \t0\n",
            "Tentative: \t39\n",
            "Rejected: \t0\n",
            "Iteration: \t5 / 15\n",
            "Confirmed: \t0\n",
            "Tentative: \t39\n",
            "Rejected: \t0\n",
            "Iteration: \t6 / 15\n",
            "Confirmed: \t0\n",
            "Tentative: \t39\n",
            "Rejected: \t0\n",
            "Iteration: \t7 / 15\n",
            "Confirmed: \t0\n",
            "Tentative: \t39\n",
            "Rejected: \t0\n",
            "Iteration: \t8 / 15\n",
            "Confirmed: \t0\n",
            "Tentative: \t0\n",
            "Rejected: \t39\n",
            "\n",
            "\n",
            "BorutaPy finished running.\n",
            "\n",
            "Iteration: \t9 / 15\n",
            "Confirmed: \t0\n",
            "Tentative: \t0\n",
            "Rejected: \t39\n"
          ],
          "name": "stdout"
        },
        {
          "output_type": "execute_result",
          "data": {
            "text/plain": [
              "BorutaPy(estimator=RandomForestClassifier(n_estimators=88,\n",
              "                                          random_state=RandomState(MT19937) at 0x23EB5DE0BF8),\n",
              "         max_iter=15, n_estimators='auto',\n",
              "         random_state=RandomState(MT19937) at 0x23EB5DE0BF8, verbose=2)"
            ]
          },
          "metadata": {
            "tags": []
          },
          "execution_count": 77
        }
      ]
    },
    {
      "cell_type": "code",
      "metadata": {
        "id": "IaJzgPYYRBhC",
        "outputId": "983d6ae2-1648-47e5-c967-4273a01efc95"
      },
      "source": [
        "Borutaa.support_"
      ],
      "execution_count": null,
      "outputs": [
        {
          "output_type": "execute_result",
          "data": {
            "text/plain": [
              "array([False, False, False, False, False, False, False, False, False,\n",
              "       False, False, False, False, False, False, False, False, False,\n",
              "       False, False, False, False, False, False, False, False, False,\n",
              "       False, False, False, False, False, False, False, False, False,\n",
              "       False, False, False])"
            ]
          },
          "metadata": {
            "tags": []
          },
          "execution_count": 78
        }
      ]
    },
    {
      "cell_type": "code",
      "metadata": {
        "id": "5H9p41y5RBhC",
        "outputId": "4a40d0a8-1b76-4a89-af89-6bd32d78cae2"
      },
      "source": [
        "Borutaa.ranking_"
      ],
      "execution_count": null,
      "outputs": [
        {
          "output_type": "execute_result",
          "data": {
            "text/plain": [
              "array([ 1,  1,  1,  1,  1,  1,  1,  1,  9, 12,  1,  3,  4,  6,  1, 11,  8,\n",
              "        5, 13,  1,  1,  2,  7,  1,  1,  1,  1,  1,  1,  1,  1,  1,  1, 14,\n",
              "       16, 15, 10,  1,  1])"
            ]
          },
          "metadata": {
            "tags": []
          },
          "execution_count": 132
        }
      ]
    },
    {
      "cell_type": "markdown",
      "metadata": {
        "id": "jguaQ2uDS78d"
      },
      "source": [
        "### **Splitting Dataset into Train & Testas per mentioned dates**"
      ]
    },
    {
      "cell_type": "code",
      "metadata": {
        "id": "jfjFzCcmz5M4",
        "colab": {
          "base_uri": "https://localhost:8080/"
        },
        "outputId": "550955da-a199-47b6-cfa3-59bd668a3c90"
      },
      "source": [
        "# Splitting Data in train & test\n",
        "train = bl[bl['issue_d'] < '2015-6-01']\n",
        "test = bl[bl['issue_d'] >= '2015-6-01']\n",
        "print(train.shape)\n",
        "print(test.shape)"
      ],
      "execution_count": 64,
      "outputs": [
        {
          "output_type": "stream",
          "text": [
            "(505328, 41)\n",
            "(241932, 41)\n"
          ],
          "name": "stdout"
        }
      ]
    },
    {
      "cell_type": "code",
      "metadata": {
        "id": "FfLcdAPu48ZO",
        "colab": {
          "base_uri": "https://localhost:8080/"
        },
        "outputId": "e3add7c8-d49b-41e7-baec-08a39e2c1b83"
      },
      "source": [
        "bl.isnull().sum().any()"
      ],
      "execution_count": 65,
      "outputs": [
        {
          "output_type": "execute_result",
          "data": {
            "text/plain": [
              "False"
            ]
          },
          "metadata": {
            "tags": []
          },
          "execution_count": 65
        }
      ]
    },
    {
      "cell_type": "code",
      "metadata": {
        "id": "lOn7Uqzm5EjN"
      },
      "source": [
        "# Remove issue_d feature\n",
        "del train['issue_d']\n",
        "del test['issue_d']"
      ],
      "execution_count": 66,
      "outputs": []
    },
    {
      "cell_type": "code",
      "metadata": {
        "colab": {
          "base_uri": "https://localhost:8080/",
          "height": 215
        },
        "id": "MW81twDbRBhD",
        "outputId": "1bc5575b-60d4-4175-8aa1-242778345882"
      },
      "source": [
        "train.head()"
      ],
      "execution_count": 67,
      "outputs": [
        {
          "output_type": "execute_result",
          "data": {
            "text/html": [
              "<div>\n",
              "<style scoped>\n",
              "    .dataframe tbody tr th:only-of-type {\n",
              "        vertical-align: middle;\n",
              "    }\n",
              "\n",
              "    .dataframe tbody tr th {\n",
              "        vertical-align: top;\n",
              "    }\n",
              "\n",
              "    .dataframe thead th {\n",
              "        text-align: right;\n",
              "    }\n",
              "</style>\n",
              "<table border=\"1\" class=\"dataframe\">\n",
              "  <thead>\n",
              "    <tr style=\"text-align: right;\">\n",
              "      <th></th>\n",
              "      <th>loan_amnt</th>\n",
              "      <th>funded_amnt</th>\n",
              "      <th>funded_amnt_inv</th>\n",
              "      <th>term</th>\n",
              "      <th>int_rate</th>\n",
              "      <th>installment</th>\n",
              "      <th>grade</th>\n",
              "      <th>sub_grade</th>\n",
              "      <th>emp_length</th>\n",
              "      <th>home_ownership</th>\n",
              "      <th>annual_inc</th>\n",
              "      <th>verification_status</th>\n",
              "      <th>purpose</th>\n",
              "      <th>addr_state</th>\n",
              "      <th>dti</th>\n",
              "      <th>delinq_2yrs</th>\n",
              "      <th>inq_last_6mths</th>\n",
              "      <th>open_acc</th>\n",
              "      <th>pub_rec</th>\n",
              "      <th>revol_bal</th>\n",
              "      <th>revol_util</th>\n",
              "      <th>total_acc</th>\n",
              "      <th>initial_list_status</th>\n",
              "      <th>out_prncp</th>\n",
              "      <th>out_prncp_inv</th>\n",
              "      <th>total_pymnt</th>\n",
              "      <th>total_pymnt_inv</th>\n",
              "      <th>total_rec_prncp</th>\n",
              "      <th>total_rec_int</th>\n",
              "      <th>total_rec_late_fee</th>\n",
              "      <th>recoveries</th>\n",
              "      <th>collection_recovery_fee</th>\n",
              "      <th>last_pymnt_amnt</th>\n",
              "      <th>collections_12_mths_ex_med</th>\n",
              "      <th>application_type</th>\n",
              "      <th>acc_now_delinq</th>\n",
              "      <th>tot_coll_amt</th>\n",
              "      <th>tot_cur_bal</th>\n",
              "      <th>total_rev_hi_lim</th>\n",
              "      <th>default_ind</th>\n",
              "    </tr>\n",
              "  </thead>\n",
              "  <tbody>\n",
              "    <tr>\n",
              "      <th>39694</th>\n",
              "      <td>27050.0</td>\n",
              "      <td>27050.0</td>\n",
              "      <td>27050.0</td>\n",
              "      <td>0</td>\n",
              "      <td>10.99</td>\n",
              "      <td>885.46</td>\n",
              "      <td>1</td>\n",
              "      <td>6</td>\n",
              "      <td>1</td>\n",
              "      <td>4</td>\n",
              "      <td>55000.0</td>\n",
              "      <td>2</td>\n",
              "      <td>2</td>\n",
              "      <td>22</td>\n",
              "      <td>22.87</td>\n",
              "      <td>0.0</td>\n",
              "      <td>0.0</td>\n",
              "      <td>14.0</td>\n",
              "      <td>0.0</td>\n",
              "      <td>36638.0</td>\n",
              "      <td>61.2</td>\n",
              "      <td>27.0</td>\n",
              "      <td>1</td>\n",
              "      <td>10018.90</td>\n",
              "      <td>10018.90</td>\n",
              "      <td>21251.04</td>\n",
              "      <td>21251.04</td>\n",
              "      <td>17031.10</td>\n",
              "      <td>4219.94</td>\n",
              "      <td>0.0</td>\n",
              "      <td>0.0</td>\n",
              "      <td>0.0</td>\n",
              "      <td>885.46</td>\n",
              "      <td>0.0</td>\n",
              "      <td>0</td>\n",
              "      <td>0.0</td>\n",
              "      <td>0.0</td>\n",
              "      <td>114834.0</td>\n",
              "      <td>59900.0</td>\n",
              "      <td>0</td>\n",
              "    </tr>\n",
              "    <tr>\n",
              "      <th>39695</th>\n",
              "      <td>9750.0</td>\n",
              "      <td>9750.0</td>\n",
              "      <td>9750.0</td>\n",
              "      <td>0</td>\n",
              "      <td>13.98</td>\n",
              "      <td>333.14</td>\n",
              "      <td>2</td>\n",
              "      <td>10</td>\n",
              "      <td>0</td>\n",
              "      <td>5</td>\n",
              "      <td>26000.0</td>\n",
              "      <td>0</td>\n",
              "      <td>2</td>\n",
              "      <td>4</td>\n",
              "      <td>25.12</td>\n",
              "      <td>0.0</td>\n",
              "      <td>0.0</td>\n",
              "      <td>12.0</td>\n",
              "      <td>0.0</td>\n",
              "      <td>7967.0</td>\n",
              "      <td>52.8</td>\n",
              "      <td>28.0</td>\n",
              "      <td>0</td>\n",
              "      <td>3710.96</td>\n",
              "      <td>3710.96</td>\n",
              "      <td>7994.83</td>\n",
              "      <td>7994.83</td>\n",
              "      <td>6039.04</td>\n",
              "      <td>1955.79</td>\n",
              "      <td>0.0</td>\n",
              "      <td>0.0</td>\n",
              "      <td>0.0</td>\n",
              "      <td>333.14</td>\n",
              "      <td>0.0</td>\n",
              "      <td>0</td>\n",
              "      <td>0.0</td>\n",
              "      <td>0.0</td>\n",
              "      <td>14123.0</td>\n",
              "      <td>15100.0</td>\n",
              "      <td>0</td>\n",
              "    </tr>\n",
              "    <tr>\n",
              "      <th>39696</th>\n",
              "      <td>12000.0</td>\n",
              "      <td>12000.0</td>\n",
              "      <td>12000.0</td>\n",
              "      <td>0</td>\n",
              "      <td>6.62</td>\n",
              "      <td>368.45</td>\n",
              "      <td>0</td>\n",
              "      <td>1</td>\n",
              "      <td>1</td>\n",
              "      <td>1</td>\n",
              "      <td>105000.0</td>\n",
              "      <td>0</td>\n",
              "      <td>2</td>\n",
              "      <td>6</td>\n",
              "      <td>14.05</td>\n",
              "      <td>0.0</td>\n",
              "      <td>1.0</td>\n",
              "      <td>12.0</td>\n",
              "      <td>0.0</td>\n",
              "      <td>13168.0</td>\n",
              "      <td>21.6</td>\n",
              "      <td>22.0</td>\n",
              "      <td>1</td>\n",
              "      <td>4266.62</td>\n",
              "      <td>4266.62</td>\n",
              "      <td>8842.80</td>\n",
              "      <td>8842.80</td>\n",
              "      <td>7733.38</td>\n",
              "      <td>1109.42</td>\n",
              "      <td>0.0</td>\n",
              "      <td>0.0</td>\n",
              "      <td>0.0</td>\n",
              "      <td>368.45</td>\n",
              "      <td>0.0</td>\n",
              "      <td>0</td>\n",
              "      <td>0.0</td>\n",
              "      <td>0.0</td>\n",
              "      <td>267646.0</td>\n",
              "      <td>61100.0</td>\n",
              "      <td>0</td>\n",
              "    </tr>\n",
              "    <tr>\n",
              "      <th>39697</th>\n",
              "      <td>12000.0</td>\n",
              "      <td>12000.0</td>\n",
              "      <td>12000.0</td>\n",
              "      <td>0</td>\n",
              "      <td>13.53</td>\n",
              "      <td>407.40</td>\n",
              "      <td>1</td>\n",
              "      <td>9</td>\n",
              "      <td>1</td>\n",
              "      <td>5</td>\n",
              "      <td>40000.0</td>\n",
              "      <td>1</td>\n",
              "      <td>2</td>\n",
              "      <td>32</td>\n",
              "      <td>16.94</td>\n",
              "      <td>0.0</td>\n",
              "      <td>0.0</td>\n",
              "      <td>7.0</td>\n",
              "      <td>2.0</td>\n",
              "      <td>5572.0</td>\n",
              "      <td>68.8</td>\n",
              "      <td>32.0</td>\n",
              "      <td>1</td>\n",
              "      <td>0.00</td>\n",
              "      <td>0.00</td>\n",
              "      <td>13359.77</td>\n",
              "      <td>13359.77</td>\n",
              "      <td>11999.99</td>\n",
              "      <td>1359.78</td>\n",
              "      <td>0.0</td>\n",
              "      <td>0.0</td>\n",
              "      <td>0.0</td>\n",
              "      <td>119.17</td>\n",
              "      <td>0.0</td>\n",
              "      <td>0</td>\n",
              "      <td>0.0</td>\n",
              "      <td>15386.0</td>\n",
              "      <td>13605.0</td>\n",
              "      <td>8100.0</td>\n",
              "      <td>0</td>\n",
              "    </tr>\n",
              "    <tr>\n",
              "      <th>39698</th>\n",
              "      <td>15000.0</td>\n",
              "      <td>15000.0</td>\n",
              "      <td>15000.0</td>\n",
              "      <td>0</td>\n",
              "      <td>8.90</td>\n",
              "      <td>476.30</td>\n",
              "      <td>0</td>\n",
              "      <td>4</td>\n",
              "      <td>2</td>\n",
              "      <td>1</td>\n",
              "      <td>63000.0</td>\n",
              "      <td>0</td>\n",
              "      <td>2</td>\n",
              "      <td>9</td>\n",
              "      <td>16.51</td>\n",
              "      <td>0.0</td>\n",
              "      <td>0.0</td>\n",
              "      <td>8.0</td>\n",
              "      <td>0.0</td>\n",
              "      <td>11431.0</td>\n",
              "      <td>74.2</td>\n",
              "      <td>29.0</td>\n",
              "      <td>1</td>\n",
              "      <td>5449.27</td>\n",
              "      <td>5449.27</td>\n",
              "      <td>11431.20</td>\n",
              "      <td>11431.20</td>\n",
              "      <td>9550.73</td>\n",
              "      <td>1880.47</td>\n",
              "      <td>0.0</td>\n",
              "      <td>0.0</td>\n",
              "      <td>0.0</td>\n",
              "      <td>476.30</td>\n",
              "      <td>0.0</td>\n",
              "      <td>0</td>\n",
              "      <td>0.0</td>\n",
              "      <td>1514.0</td>\n",
              "      <td>272492.0</td>\n",
              "      <td>15400.0</td>\n",
              "      <td>0</td>\n",
              "    </tr>\n",
              "  </tbody>\n",
              "</table>\n",
              "</div>"
            ],
            "text/plain": [
              "       loan_amnt  funded_amnt  funded_amnt_inv  term  int_rate  installment  \\\n",
              "39694    27050.0      27050.0          27050.0     0     10.99       885.46   \n",
              "39695     9750.0       9750.0           9750.0     0     13.98       333.14   \n",
              "39696    12000.0      12000.0          12000.0     0      6.62       368.45   \n",
              "39697    12000.0      12000.0          12000.0     0     13.53       407.40   \n",
              "39698    15000.0      15000.0          15000.0     0      8.90       476.30   \n",
              "\n",
              "       grade  sub_grade  emp_length  home_ownership  annual_inc  \\\n",
              "39694      1          6           1               4     55000.0   \n",
              "39695      2         10           0               5     26000.0   \n",
              "39696      0          1           1               1    105000.0   \n",
              "39697      1          9           1               5     40000.0   \n",
              "39698      0          4           2               1     63000.0   \n",
              "\n",
              "       verification_status  purpose  addr_state    dti  delinq_2yrs  \\\n",
              "39694                    2        2          22  22.87          0.0   \n",
              "39695                    0        2           4  25.12          0.0   \n",
              "39696                    0        2           6  14.05          0.0   \n",
              "39697                    1        2          32  16.94          0.0   \n",
              "39698                    0        2           9  16.51          0.0   \n",
              "\n",
              "       inq_last_6mths  open_acc  pub_rec  revol_bal  revol_util  total_acc  \\\n",
              "39694             0.0      14.0      0.0    36638.0        61.2       27.0   \n",
              "39695             0.0      12.0      0.0     7967.0        52.8       28.0   \n",
              "39696             1.0      12.0      0.0    13168.0        21.6       22.0   \n",
              "39697             0.0       7.0      2.0     5572.0        68.8       32.0   \n",
              "39698             0.0       8.0      0.0    11431.0        74.2       29.0   \n",
              "\n",
              "       initial_list_status  out_prncp  out_prncp_inv  total_pymnt  \\\n",
              "39694                    1   10018.90       10018.90     21251.04   \n",
              "39695                    0    3710.96        3710.96      7994.83   \n",
              "39696                    1    4266.62        4266.62      8842.80   \n",
              "39697                    1       0.00           0.00     13359.77   \n",
              "39698                    1    5449.27        5449.27     11431.20   \n",
              "\n",
              "       total_pymnt_inv  total_rec_prncp  total_rec_int  total_rec_late_fee  \\\n",
              "39694         21251.04         17031.10        4219.94                 0.0   \n",
              "39695          7994.83          6039.04        1955.79                 0.0   \n",
              "39696          8842.80          7733.38        1109.42                 0.0   \n",
              "39697         13359.77         11999.99        1359.78                 0.0   \n",
              "39698         11431.20          9550.73        1880.47                 0.0   \n",
              "\n",
              "       recoveries  collection_recovery_fee  last_pymnt_amnt  \\\n",
              "39694         0.0                      0.0           885.46   \n",
              "39695         0.0                      0.0           333.14   \n",
              "39696         0.0                      0.0           368.45   \n",
              "39697         0.0                      0.0           119.17   \n",
              "39698         0.0                      0.0           476.30   \n",
              "\n",
              "       collections_12_mths_ex_med  application_type  acc_now_delinq  \\\n",
              "39694                         0.0                 0             0.0   \n",
              "39695                         0.0                 0             0.0   \n",
              "39696                         0.0                 0             0.0   \n",
              "39697                         0.0                 0             0.0   \n",
              "39698                         0.0                 0             0.0   \n",
              "\n",
              "       tot_coll_amt  tot_cur_bal  total_rev_hi_lim  default_ind  \n",
              "39694           0.0     114834.0           59900.0            0  \n",
              "39695           0.0      14123.0           15100.0            0  \n",
              "39696           0.0     267646.0           61100.0            0  \n",
              "39697       15386.0      13605.0            8100.0            0  \n",
              "39698        1514.0     272492.0           15400.0            0  "
            ]
          },
          "metadata": {
            "tags": []
          },
          "execution_count": 67
        }
      ]
    },
    {
      "cell_type": "code",
      "metadata": {
        "colab": {
          "base_uri": "https://localhost:8080/"
        },
        "id": "TkJZcFCERBhD",
        "outputId": "c2875325-5bbe-4142-bf6a-f9960d5b19e3"
      },
      "source": [
        "# Output of Boruta\n",
        "b = [ True,  True,  True,  True,  True,  True,  True,  True, False,\n",
        "       False,  True, False, False, False,  True, False, False, False,\n",
        "       False,  True,  True, False, False,  True,  True,  True,  True,\n",
        "        True,  True,  True,  True,  True,  True, False, False, False,\n",
        "       False,  True,  True, None]\n",
        "print(len(b))\n",
        "print(len(train.columns))"
      ],
      "execution_count": 68,
      "outputs": [
        {
          "output_type": "stream",
          "text": [
            "40\n",
            "40\n"
          ],
          "name": "stdout"
        }
      ]
    },
    {
      "cell_type": "code",
      "metadata": {
        "scrolled": false,
        "colab": {
          "base_uri": "https://localhost:8080/",
          "height": 1000
        },
        "id": "naSyqU8ZRBhE",
        "outputId": "59ef6bc7-4290-4186-b1a8-70efa473c38b"
      },
      "source": [
        "# Selecting featues given as true by Boruta\n",
        "ftimp = pd.DataFrame({'Features': train.columns, 'Important': b})\n",
        "ftimp.sort_values(by='Important', ascending=False)"
      ],
      "execution_count": 69,
      "outputs": [
        {
          "output_type": "execute_result",
          "data": {
            "text/html": [
              "<div>\n",
              "<style scoped>\n",
              "    .dataframe tbody tr th:only-of-type {\n",
              "        vertical-align: middle;\n",
              "    }\n",
              "\n",
              "    .dataframe tbody tr th {\n",
              "        vertical-align: top;\n",
              "    }\n",
              "\n",
              "    .dataframe thead th {\n",
              "        text-align: right;\n",
              "    }\n",
              "</style>\n",
              "<table border=\"1\" class=\"dataframe\">\n",
              "  <thead>\n",
              "    <tr style=\"text-align: right;\">\n",
              "      <th></th>\n",
              "      <th>Features</th>\n",
              "      <th>Important</th>\n",
              "    </tr>\n",
              "  </thead>\n",
              "  <tbody>\n",
              "    <tr>\n",
              "      <th>0</th>\n",
              "      <td>loan_amnt</td>\n",
              "      <td>True</td>\n",
              "    </tr>\n",
              "    <tr>\n",
              "      <th>1</th>\n",
              "      <td>funded_amnt</td>\n",
              "      <td>True</td>\n",
              "    </tr>\n",
              "    <tr>\n",
              "      <th>37</th>\n",
              "      <td>tot_cur_bal</td>\n",
              "      <td>True</td>\n",
              "    </tr>\n",
              "    <tr>\n",
              "      <th>32</th>\n",
              "      <td>last_pymnt_amnt</td>\n",
              "      <td>True</td>\n",
              "    </tr>\n",
              "    <tr>\n",
              "      <th>31</th>\n",
              "      <td>collection_recovery_fee</td>\n",
              "      <td>True</td>\n",
              "    </tr>\n",
              "    <tr>\n",
              "      <th>30</th>\n",
              "      <td>recoveries</td>\n",
              "      <td>True</td>\n",
              "    </tr>\n",
              "    <tr>\n",
              "      <th>29</th>\n",
              "      <td>total_rec_late_fee</td>\n",
              "      <td>True</td>\n",
              "    </tr>\n",
              "    <tr>\n",
              "      <th>28</th>\n",
              "      <td>total_rec_int</td>\n",
              "      <td>True</td>\n",
              "    </tr>\n",
              "    <tr>\n",
              "      <th>27</th>\n",
              "      <td>total_rec_prncp</td>\n",
              "      <td>True</td>\n",
              "    </tr>\n",
              "    <tr>\n",
              "      <th>26</th>\n",
              "      <td>total_pymnt_inv</td>\n",
              "      <td>True</td>\n",
              "    </tr>\n",
              "    <tr>\n",
              "      <th>25</th>\n",
              "      <td>total_pymnt</td>\n",
              "      <td>True</td>\n",
              "    </tr>\n",
              "    <tr>\n",
              "      <th>24</th>\n",
              "      <td>out_prncp_inv</td>\n",
              "      <td>True</td>\n",
              "    </tr>\n",
              "    <tr>\n",
              "      <th>23</th>\n",
              "      <td>out_prncp</td>\n",
              "      <td>True</td>\n",
              "    </tr>\n",
              "    <tr>\n",
              "      <th>20</th>\n",
              "      <td>revol_util</td>\n",
              "      <td>True</td>\n",
              "    </tr>\n",
              "    <tr>\n",
              "      <th>19</th>\n",
              "      <td>revol_bal</td>\n",
              "      <td>True</td>\n",
              "    </tr>\n",
              "    <tr>\n",
              "      <th>38</th>\n",
              "      <td>total_rev_hi_lim</td>\n",
              "      <td>True</td>\n",
              "    </tr>\n",
              "    <tr>\n",
              "      <th>7</th>\n",
              "      <td>sub_grade</td>\n",
              "      <td>True</td>\n",
              "    </tr>\n",
              "    <tr>\n",
              "      <th>2</th>\n",
              "      <td>funded_amnt_inv</td>\n",
              "      <td>True</td>\n",
              "    </tr>\n",
              "    <tr>\n",
              "      <th>14</th>\n",
              "      <td>dti</td>\n",
              "      <td>True</td>\n",
              "    </tr>\n",
              "    <tr>\n",
              "      <th>3</th>\n",
              "      <td>term</td>\n",
              "      <td>True</td>\n",
              "    </tr>\n",
              "    <tr>\n",
              "      <th>4</th>\n",
              "      <td>int_rate</td>\n",
              "      <td>True</td>\n",
              "    </tr>\n",
              "    <tr>\n",
              "      <th>10</th>\n",
              "      <td>annual_inc</td>\n",
              "      <td>True</td>\n",
              "    </tr>\n",
              "    <tr>\n",
              "      <th>5</th>\n",
              "      <td>installment</td>\n",
              "      <td>True</td>\n",
              "    </tr>\n",
              "    <tr>\n",
              "      <th>6</th>\n",
              "      <td>grade</td>\n",
              "      <td>True</td>\n",
              "    </tr>\n",
              "    <tr>\n",
              "      <th>36</th>\n",
              "      <td>tot_coll_amt</td>\n",
              "      <td>False</td>\n",
              "    </tr>\n",
              "    <tr>\n",
              "      <th>35</th>\n",
              "      <td>acc_now_delinq</td>\n",
              "      <td>False</td>\n",
              "    </tr>\n",
              "    <tr>\n",
              "      <th>34</th>\n",
              "      <td>application_type</td>\n",
              "      <td>False</td>\n",
              "    </tr>\n",
              "    <tr>\n",
              "      <th>33</th>\n",
              "      <td>collections_12_mths_ex_med</td>\n",
              "      <td>False</td>\n",
              "    </tr>\n",
              "    <tr>\n",
              "      <th>15</th>\n",
              "      <td>delinq_2yrs</td>\n",
              "      <td>False</td>\n",
              "    </tr>\n",
              "    <tr>\n",
              "      <th>16</th>\n",
              "      <td>inq_last_6mths</td>\n",
              "      <td>False</td>\n",
              "    </tr>\n",
              "    <tr>\n",
              "      <th>9</th>\n",
              "      <td>home_ownership</td>\n",
              "      <td>False</td>\n",
              "    </tr>\n",
              "    <tr>\n",
              "      <th>11</th>\n",
              "      <td>verification_status</td>\n",
              "      <td>False</td>\n",
              "    </tr>\n",
              "    <tr>\n",
              "      <th>12</th>\n",
              "      <td>purpose</td>\n",
              "      <td>False</td>\n",
              "    </tr>\n",
              "    <tr>\n",
              "      <th>22</th>\n",
              "      <td>initial_list_status</td>\n",
              "      <td>False</td>\n",
              "    </tr>\n",
              "    <tr>\n",
              "      <th>21</th>\n",
              "      <td>total_acc</td>\n",
              "      <td>False</td>\n",
              "    </tr>\n",
              "    <tr>\n",
              "      <th>13</th>\n",
              "      <td>addr_state</td>\n",
              "      <td>False</td>\n",
              "    </tr>\n",
              "    <tr>\n",
              "      <th>18</th>\n",
              "      <td>pub_rec</td>\n",
              "      <td>False</td>\n",
              "    </tr>\n",
              "    <tr>\n",
              "      <th>17</th>\n",
              "      <td>open_acc</td>\n",
              "      <td>False</td>\n",
              "    </tr>\n",
              "    <tr>\n",
              "      <th>8</th>\n",
              "      <td>emp_length</td>\n",
              "      <td>False</td>\n",
              "    </tr>\n",
              "    <tr>\n",
              "      <th>39</th>\n",
              "      <td>default_ind</td>\n",
              "      <td>None</td>\n",
              "    </tr>\n",
              "  </tbody>\n",
              "</table>\n",
              "</div>"
            ],
            "text/plain": [
              "                      Features Important\n",
              "0                    loan_amnt      True\n",
              "1                  funded_amnt      True\n",
              "37                 tot_cur_bal      True\n",
              "32             last_pymnt_amnt      True\n",
              "31     collection_recovery_fee      True\n",
              "30                  recoveries      True\n",
              "29          total_rec_late_fee      True\n",
              "28               total_rec_int      True\n",
              "27             total_rec_prncp      True\n",
              "26             total_pymnt_inv      True\n",
              "25                 total_pymnt      True\n",
              "24               out_prncp_inv      True\n",
              "23                   out_prncp      True\n",
              "20                  revol_util      True\n",
              "19                   revol_bal      True\n",
              "38            total_rev_hi_lim      True\n",
              "7                    sub_grade      True\n",
              "2              funded_amnt_inv      True\n",
              "14                         dti      True\n",
              "3                         term      True\n",
              "4                     int_rate      True\n",
              "10                  annual_inc      True\n",
              "5                  installment      True\n",
              "6                        grade      True\n",
              "36                tot_coll_amt     False\n",
              "35              acc_now_delinq     False\n",
              "34            application_type     False\n",
              "33  collections_12_mths_ex_med     False\n",
              "15                 delinq_2yrs     False\n",
              "16              inq_last_6mths     False\n",
              "9               home_ownership     False\n",
              "11         verification_status     False\n",
              "12                     purpose     False\n",
              "22         initial_list_status     False\n",
              "21                   total_acc     False\n",
              "13                  addr_state     False\n",
              "18                     pub_rec     False\n",
              "17                    open_acc     False\n",
              "8                   emp_length     False\n",
              "39                 default_ind      None"
            ]
          },
          "metadata": {
            "tags": []
          },
          "execution_count": 69
        }
      ]
    },
    {
      "cell_type": "code",
      "metadata": {
        "colab": {
          "base_uri": "https://localhost:8080/"
        },
        "id": "3fMvgSVVRBhE",
        "outputId": "547860db-6eb4-4328-b663-ebfb4c848da4"
      },
      "source": [
        "# Train Test Split\n",
        "x_train = train.drop(['default_ind', 'tot_coll_amt', 'acc_now_delinq', 'application_type', 'collections_12_mths_ex_med',\n",
        "                      'delinq_2yrs', 'inq_last_6mths', 'home_ownership', 'verification_status', 'purpose',\n",
        "                      'initial_list_status', 'total_acc', 'addr_state', 'pub_rec', 'open_acc', 'emp_length' ], axis=1)\n",
        "y_train = train['default_ind']\n",
        "x_test = test.drop(['default_ind', 'tot_coll_amt', 'acc_now_delinq', 'application_type', 'collections_12_mths_ex_med',\n",
        "                      'delinq_2yrs', 'inq_last_6mths', 'home_ownership', 'verification_status', 'purpose',\n",
        "                      'initial_list_status', 'total_acc', 'addr_state', 'pub_rec', 'open_acc', 'emp_length' ], axis=1)\n",
        "y_test = test['default_ind']\n",
        "print(x_train.shape)\n",
        "print(y_train.shape)\n",
        "print(x_test.shape)\n",
        "print(y_test.shape)"
      ],
      "execution_count": 70,
      "outputs": [
        {
          "output_type": "stream",
          "text": [
            "(505328, 24)\n",
            "(505328,)\n",
            "(241932, 24)\n",
            "(241932,)\n"
          ],
          "name": "stdout"
        }
      ]
    },
    {
      "cell_type": "markdown",
      "metadata": {
        "id": "8KlT9O6F6Ahi"
      },
      "source": [
        "b. Removing Class Imbalance:"
      ]
    },
    {
      "cell_type": "markdown",
      "metadata": {
        "id": "VOB2DaQrRBhE"
      },
      "source": [
        "**Oversampling using SMOTE technique**"
      ]
    },
    {
      "cell_type": "code",
      "metadata": {
        "id": "rjudqZcJRBhE"
      },
      "source": [
        "#pip install -U imbalanced-learn"
      ],
      "execution_count": null,
      "outputs": []
    },
    {
      "cell_type": "code",
      "metadata": {
        "id": "_QDVxHSQ48ow"
      },
      "source": [
        "# a. Using SMOTE technique\n",
        "from imblearn.over_sampling import SMOTE\n",
        "from collections import Counter"
      ],
      "execution_count": null,
      "outputs": []
    },
    {
      "cell_type": "code",
      "metadata": {
        "id": "btTRbJWa48w1"
      },
      "source": [
        "smote = SMOTE()"
      ],
      "execution_count": null,
      "outputs": []
    },
    {
      "cell_type": "code",
      "metadata": {
        "id": "4a7ww_9d6edO",
        "colab": {
          "base_uri": "https://localhost:8080/"
        },
        "outputId": "8c4349c2-033a-41e3-faab-9087a13f0d69"
      },
      "source": [
        "x_train_smote, y_train_smote = smote.fit_resample(x_train, y_train)\n",
        "print('Before SMOTE: ', Counter(y_train))\n",
        "print('After SMOTE: ', Counter(y_train_smote))"
      ],
      "execution_count": null,
      "outputs": [
        {
          "output_type": "stream",
          "text": [
            "Before SMOTE:  Counter({0: 471375, 1: 33953})\n",
            "After SMOTE:  Counter({0: 471375, 1: 471375})\n"
          ],
          "name": "stdout"
        }
      ]
    },
    {
      "cell_type": "markdown",
      "metadata": {
        "id": "POMDCEeu62fO"
      },
      "source": [
        "#### 5. Model Building:\n",
        "1.   Logistic Regression\n",
        "2.   Decision Tree\n",
        "3.   Random Forest\n",
        "4.   XGBoost\n",
        "5.   Adaboost\n",
        "6.   ANN"
      ]
    },
    {
      "cell_type": "markdown",
      "metadata": {
        "id": "3AJ2HWBp7NPR"
      },
      "source": [
        "1. Logistic Regression"
      ]
    },
    {
      "cell_type": "code",
      "metadata": {
        "id": "7YxWRKNM7Psx",
        "colab": {
          "base_uri": "https://localhost:8080/"
        },
        "outputId": "032ce74f-d30c-46a6-dce2-7342a18508f2"
      },
      "source": [
        "from sklearn.linear_model import LogisticRegression\n",
        "from sklearn.metrics import accuracy_score,confusion_matrix,classification_report\n",
        "lgr = LogisticRegression()\n",
        "lgr.fit(x_train, y_train)"
      ],
      "execution_count": null,
      "outputs": [
        {
          "output_type": "stream",
          "text": [
            "/usr/local/lib/python3.7/dist-packages/sklearn/linear_model/_logistic.py:940: ConvergenceWarning: lbfgs failed to converge (status=1):\n",
            "STOP: TOTAL NO. of ITERATIONS REACHED LIMIT.\n",
            "\n",
            "Increase the number of iterations (max_iter) or scale the data as shown in:\n",
            "    https://scikit-learn.org/stable/modules/preprocessing.html\n",
            "Please also refer to the documentation for alternative solver options:\n",
            "    https://scikit-learn.org/stable/modules/linear_model.html#logistic-regression\n",
            "  extra_warning_msg=_LOGISTIC_SOLVER_CONVERGENCE_MSG)\n"
          ],
          "name": "stderr"
        },
        {
          "output_type": "execute_result",
          "data": {
            "text/plain": [
              "LogisticRegression(C=1.0, class_weight=None, dual=False, fit_intercept=True,\n",
              "                   intercept_scaling=1, l1_ratio=None, max_iter=100,\n",
              "                   multi_class='auto', n_jobs=None, penalty='l2',\n",
              "                   random_state=None, solver='lbfgs', tol=0.0001, verbose=0,\n",
              "                   warm_start=False)"
            ]
          },
          "metadata": {
            "tags": []
          },
          "execution_count": 40
        }
      ]
    },
    {
      "cell_type": "code",
      "metadata": {
        "id": "LGU-teW08m99",
        "scrolled": false,
        "colab": {
          "base_uri": "https://localhost:8080/"
        },
        "outputId": "0858e521-b52b-404d-cc81-b3200a8ae484"
      },
      "source": [
        "# Prediction on test data\n",
        "lgr_pred = lgr.predict(x_test)\n",
        "print(classification_report(lgr_pred, y_test))\n",
        "print(confusion_matrix(y_test, lgr_pred))"
      ],
      "execution_count": null,
      "outputs": [
        {
          "output_type": "stream",
          "text": [
            "              precision    recall  f1-score   support\n",
            "\n",
            "           0       1.00      1.00      1.00    241666\n",
            "           1       0.80      0.86      0.83       266\n",
            "\n",
            "    accuracy                           1.00    241932\n",
            "   macro avg       0.90      0.93      0.91    241932\n",
            "weighted avg       1.00      1.00      1.00    241932\n",
            "\n",
            "[[241608     37]\n",
            " [    58    229]]\n"
          ],
          "name": "stdout"
        }
      ]
    },
    {
      "cell_type": "code",
      "metadata": {
        "colab": {
          "base_uri": "https://localhost:8080/",
          "height": 136
        },
        "id": "ptqe1XewRBhG",
        "outputId": "6c7ffb5f-7250-42bb-ad5a-f3dc027ac974"
      },
      "source": [
        "pd.crosstab(index=y_test, columns=lgr_pred, rownames=['Actual'], colnames=['Predicted'])"
      ],
      "execution_count": null,
      "outputs": [
        {
          "output_type": "execute_result",
          "data": {
            "text/html": [
              "<div>\n",
              "<style scoped>\n",
              "    .dataframe tbody tr th:only-of-type {\n",
              "        vertical-align: middle;\n",
              "    }\n",
              "\n",
              "    .dataframe tbody tr th {\n",
              "        vertical-align: top;\n",
              "    }\n",
              "\n",
              "    .dataframe thead th {\n",
              "        text-align: right;\n",
              "    }\n",
              "</style>\n",
              "<table border=\"1\" class=\"dataframe\">\n",
              "  <thead>\n",
              "    <tr style=\"text-align: right;\">\n",
              "      <th>Predicted</th>\n",
              "      <th>0</th>\n",
              "      <th>1</th>\n",
              "    </tr>\n",
              "    <tr>\n",
              "      <th>Actual</th>\n",
              "      <th></th>\n",
              "      <th></th>\n",
              "    </tr>\n",
              "  </thead>\n",
              "  <tbody>\n",
              "    <tr>\n",
              "      <th>0</th>\n",
              "      <td>241608</td>\n",
              "      <td>37</td>\n",
              "    </tr>\n",
              "    <tr>\n",
              "      <th>1</th>\n",
              "      <td>58</td>\n",
              "      <td>229</td>\n",
              "    </tr>\n",
              "  </tbody>\n",
              "</table>\n",
              "</div>"
            ],
            "text/plain": [
              "Predicted       0    1\n",
              "Actual                \n",
              "0          241608   37\n",
              "1              58  229"
            ]
          },
          "metadata": {
            "tags": []
          },
          "execution_count": 26
        }
      ]
    },
    {
      "cell_type": "markdown",
      "metadata": {
        "id": "4MeQ5BkgRBhG"
      },
      "source": [
        "**Undersampling using Near Miss Technique**"
      ]
    },
    {
      "cell_type": "code",
      "metadata": {
        "colab": {
          "base_uri": "https://localhost:8080/"
        },
        "id": "yGLgV4mURBhG",
        "outputId": "941d7a9d-f83b-46d9-a15f-51e63be4fb05"
      },
      "source": [
        "# Undersampling using near miss technique\n",
        "from imblearn.under_sampling import NearMiss\n",
        "nm=NearMiss()\n",
        "x_train_nm, y_train_nm = nm.fit_resample(x_train, y_train)\n",
        "print('Original dataset shape', Counter(y_train))\n",
        "print('Resample dataset shape', Counter(y_train_nm))"
      ],
      "execution_count": null,
      "outputs": [
        {
          "output_type": "stream",
          "text": [
            "Original dataset shape Counter({0: 471375, 1: 33953})\n",
            "Resample dataset shape Counter({0: 33953, 1: 33953})\n"
          ],
          "name": "stdout"
        }
      ]
    },
    {
      "cell_type": "code",
      "metadata": {
        "id": "Hu5fruGaRBhG",
        "colab": {
          "base_uri": "https://localhost:8080/"
        },
        "outputId": "d0d2e0c6-fd43-401c-c31a-6723b1d3b79e"
      },
      "source": [
        "lgr = LogisticRegression(C=0.001)\n",
        "lgr.fit(x_train_nm, y_train_nm)"
      ],
      "execution_count": null,
      "outputs": [
        {
          "output_type": "stream",
          "text": [
            "/usr/local/lib/python3.7/dist-packages/sklearn/linear_model/_logistic.py:940: ConvergenceWarning: lbfgs failed to converge (status=1):\n",
            "STOP: TOTAL NO. of ITERATIONS REACHED LIMIT.\n",
            "\n",
            "Increase the number of iterations (max_iter) or scale the data as shown in:\n",
            "    https://scikit-learn.org/stable/modules/preprocessing.html\n",
            "Please also refer to the documentation for alternative solver options:\n",
            "    https://scikit-learn.org/stable/modules/linear_model.html#logistic-regression\n",
            "  extra_warning_msg=_LOGISTIC_SOLVER_CONVERGENCE_MSG)\n"
          ],
          "name": "stderr"
        },
        {
          "output_type": "execute_result",
          "data": {
            "text/plain": [
              "LogisticRegression(C=0.001, class_weight=None, dual=False, fit_intercept=True,\n",
              "                   intercept_scaling=1, l1_ratio=None, max_iter=100,\n",
              "                   multi_class='auto', n_jobs=None, penalty='l2',\n",
              "                   random_state=None, solver='lbfgs', tol=0.0001, verbose=0,\n",
              "                   warm_start=False)"
            ]
          },
          "metadata": {
            "tags": []
          },
          "execution_count": 45
        }
      ]
    },
    {
      "cell_type": "code",
      "metadata": {
        "id": "b6p-vkKkRBhH",
        "colab": {
          "base_uri": "https://localhost:8080/"
        },
        "outputId": "3566f1d0-dc38-4c84-d107-aa95a4d10140"
      },
      "source": [
        "lgr_us_pred = lgr.predict(x_test)\n",
        "print(classification_report(y_test, lgr_us_pred))\n",
        "print(confusion_matrix(y_test, lgr_us_pred))"
      ],
      "execution_count": null,
      "outputs": [
        {
          "output_type": "stream",
          "text": [
            "              precision    recall  f1-score   support\n",
            "\n",
            "           0       1.00      0.75      0.86    241645\n",
            "           1       0.00      0.85      0.01       287\n",
            "\n",
            "    accuracy                           0.75    241932\n",
            "   macro avg       0.50      0.80      0.43    241932\n",
            "weighted avg       1.00      0.75      0.86    241932\n",
            "\n",
            "[[182272  59373]\n",
            " [    42    245]]\n"
          ],
          "name": "stdout"
        }
      ]
    },
    {
      "cell_type": "markdown",
      "metadata": {
        "id": "xQCqwX8rRBhH"
      },
      "source": [
        "#### Using Logistic Regression and Grid Search "
      ]
    },
    {
      "cell_type": "code",
      "metadata": {
        "id": "SSxhCKsDRBhI"
      },
      "source": [
        "# Using Grid Search CV\n",
        "from sklearn.model_selection import KFold\n",
        "from scipy.stats import loguniform"
      ],
      "execution_count": null,
      "outputs": []
    },
    {
      "cell_type": "code",
      "metadata": {
        "id": "7GX-Uea3RBhI"
      },
      "source": [
        "model = LogisticRegression()                   # defining model\n",
        "kf = KFold(n_splits=5)        # K fold cross validation\n",
        "# define search space\n",
        "space = dict()\n",
        "space['C'] = [0.0001, 0.001, 0.01, 0.1, 1]\n",
        "# Log-uniform is useful for searching penalty values as we often explore values at different orders of magnitude, \n",
        "# at least as a first step."
      ],
      "execution_count": null,
      "outputs": []
    },
    {
      "cell_type": "code",
      "metadata": {
        "id": "FDpj4ATWRBhI"
      },
      "source": [
        "# Define Search\n",
        "from sklearn.model_selection import GridSearchCV\n",
        "search = GridSearchCV(model, space, scoring='recall', n_jobs=None, cv=5, verbose=10)\n",
        "#search = RandomizedSearchCV(model, space, n_iter)"
      ],
      "execution_count": null,
      "outputs": []
    },
    {
      "cell_type": "code",
      "metadata": {
        "scrolled": true,
        "id": "3t4nBs4aRBhL"
      },
      "source": [
        "# execute search\n",
        "result = search.fit(x_train, y_train)"
      ],
      "execution_count": null,
      "outputs": []
    },
    {
      "cell_type": "code",
      "metadata": {
        "id": "qHLKHEACRBhL",
        "outputId": "39359b5e-b6d7-413c-d87b-8c470605e7f5"
      },
      "source": [
        "# summarize result\n",
        "print('Best Score: %s' % result.best_score_)\n",
        "print('Best Hyperparameters: %s' % result.best_params_)"
      ],
      "execution_count": null,
      "outputs": [
        {
          "output_type": "stream",
          "text": [
            "Best Score: 0.9458077025603255\n",
            "Best Hyperparameters: {'C': 0.0001}\n"
          ],
          "name": "stdout"
        }
      ]
    },
    {
      "cell_type": "code",
      "metadata": {
        "colab": {
          "base_uri": "https://localhost:8080/"
        },
        "id": "ZoEpU6CaRBhL",
        "outputId": "dc5b1a15-be64-4468-ab4e-9c13d2dd39e5"
      },
      "source": [
        "# Running Logistic Regression using Grid searh result\n",
        "from sklearn.linear_model import LogisticRegression\n",
        "from sklearn.metrics import accuracy_score,confusion_matrix,classification_report\n",
        "lgr_gs = LogisticRegression(C=0.01)        # Best result for C=0.01\n",
        "lgr_gs.fit(x_train, y_train)                      "
      ],
      "execution_count": null,
      "outputs": [
        {
          "output_type": "stream",
          "text": [
            "/usr/local/lib/python3.7/dist-packages/sklearn/linear_model/_logistic.py:940: ConvergenceWarning: lbfgs failed to converge (status=1):\n",
            "STOP: TOTAL NO. of ITERATIONS REACHED LIMIT.\n",
            "\n",
            "Increase the number of iterations (max_iter) or scale the data as shown in:\n",
            "    https://scikit-learn.org/stable/modules/preprocessing.html\n",
            "Please also refer to the documentation for alternative solver options:\n",
            "    https://scikit-learn.org/stable/modules/linear_model.html#logistic-regression\n",
            "  extra_warning_msg=_LOGISTIC_SOLVER_CONVERGENCE_MSG)\n"
          ],
          "name": "stderr"
        },
        {
          "output_type": "execute_result",
          "data": {
            "text/plain": [
              "LogisticRegression(C=0.01, class_weight=None, dual=False, fit_intercept=True,\n",
              "                   intercept_scaling=1, l1_ratio=None, max_iter=100,\n",
              "                   multi_class='auto', n_jobs=None, penalty='l2',\n",
              "                   random_state=None, solver='lbfgs', tol=0.0001, verbose=0,\n",
              "                   warm_start=False)"
            ]
          },
          "metadata": {
            "tags": []
          },
          "execution_count": 92
        }
      ]
    },
    {
      "cell_type": "code",
      "metadata": {
        "id": "D46eH6O7RBhM"
      },
      "source": [
        "lgr_gs_pred = lgr_gs.predict(x_test)"
      ],
      "execution_count": null,
      "outputs": []
    },
    {
      "cell_type": "code",
      "metadata": {
        "colab": {
          "base_uri": "https://localhost:8080/"
        },
        "id": "yljiNPN5RBhM",
        "outputId": "547a3a1f-ce0b-486d-b45c-5c4e06746866"
      },
      "source": [
        "print(classification_report(y_test, lgr_gs_pred))"
      ],
      "execution_count": null,
      "outputs": [
        {
          "output_type": "stream",
          "text": [
            "              precision    recall  f1-score   support\n",
            "\n",
            "           0       1.00      1.00      1.00    241645\n",
            "           1       0.95      0.80      0.87       287\n",
            "\n",
            "    accuracy                           1.00    241932\n",
            "   macro avg       0.97      0.90      0.93    241932\n",
            "weighted avg       1.00      1.00      1.00    241932\n",
            "\n",
            "[[241633     12]\n",
            " [    58    229]]\n"
          ],
          "name": "stdout"
        }
      ]
    },
    {
      "cell_type": "code",
      "metadata": {
        "colab": {
          "base_uri": "https://localhost:8080/",
          "height": 313
        },
        "id": "9kKCs5Vt1BqQ",
        "outputId": "9b1cef97-9e39-4553-e36a-2f5789e777c1"
      },
      "source": [
        "skplt.metrics.plot_confusion_matrix(lgr_gs_pred, y_test)"
      ],
      "execution_count": null,
      "outputs": [
        {
          "output_type": "execute_result",
          "data": {
            "text/plain": [
              "<matplotlib.axes._subplots.AxesSubplot at 0x7f8d28324590>"
            ]
          },
          "metadata": {
            "tags": []
          },
          "execution_count": 95
        },
        {
          "output_type": "display_data",
          "data": {
            "image/png": "[encoded data removed]",
            "text/plain": [
              "<Figure size 432x288 with 2 Axes>"
            ]
          },
          "metadata": {
            "tags": [],
            "needs_background": "light"
          }
        }
      ]
    },
    {
      "cell_type": "code",
      "metadata": {
        "colab": {
          "base_uri": "https://localhost:8080/"
        },
        "id": "lFql_bhg7MDj",
        "outputId": "e812068d-8df3-421a-b772-740449e80715"
      },
      "source": [
        "print(classification_report(y_test, lgr_gs_pred))"
      ],
      "execution_count": null,
      "outputs": [
        {
          "output_type": "stream",
          "text": [
            "              precision    recall  f1-score   support\n",
            "\n",
            "           0       1.00      1.00      1.00    241645\n",
            "           1       0.95      0.80      0.87       287\n",
            "\n",
            "    accuracy                           1.00    241932\n",
            "   macro avg       0.97      0.90      0.93    241932\n",
            "weighted avg       1.00      1.00      1.00    241932\n",
            "\n"
          ],
          "name": "stdout"
        }
      ]
    },
    {
      "cell_type": "code",
      "metadata": {
        "colab": {
          "base_uri": "https://localhost:8080/",
          "height": 295
        },
        "id": "rlLqSyoM7Gd1",
        "outputId": "62729692-37c9-40e8-f2a7-df638f07fea5"
      },
      "source": [
        "skplt.metrics.plot_confusion_matrix(y_test, lgr_gs_pred)\r\n",
        "plt.savefig('LGR_GS.png', dpi=300, bbox_inches='tight')\r\n",
        "files.download(\"LGR_GS.png\")"
      ],
      "execution_count": null,
      "outputs": [
        {
          "output_type": "display_data",
          "data": {
            "application/javascript": [
              "\n",
              "    async function download(id, filename, size) {\n",
              "      if (!google.colab.kernel.accessAllowed) {\n",
              "        return;\n",
              "      }\n",
              "      const div = document.createElement('div');\n",
              "      const label = document.createElement('label');\n",
              "      label.textContent = `Downloading \"${filename}\": `;\n",
              "      div.appendChild(label);\n",
              "      const progress = document.createElement('progress');\n",
              "      progress.max = size;\n",
              "      div.appendChild(progress);\n",
              "      document.body.appendChild(div);\n",
              "\n",
              "      const buffers = [];\n",
              "      let downloaded = 0;\n",
              "\n",
              "      const channel = await google.colab.kernel.comms.open(id);\n",
              "      // Send a message to notify the kernel that we're ready.\n",
              "      channel.send({})\n",
              "\n",
              "      for await (const message of channel.messages) {\n",
              "        // Send a message to notify the kernel that we're ready.\n",
              "        channel.send({})\n",
              "        if (message.buffers) {\n",
              "          for (const buffer of message.buffers) {\n",
              "            buffers.push(buffer);\n",
              "            downloaded += buffer.byteLength;\n",
              "            progress.value = downloaded;\n",
              "          }\n",
              "        }\n",
              "      }\n",
              "      const blob = new Blob(buffers, {type: 'application/binary'});\n",
              "      const a = document.createElement('a');\n",
              "      a.href = window.URL.createObjectURL(blob);\n",
              "      a.download = filename;\n",
              "      div.appendChild(a);\n",
              "      a.click();\n",
              "      div.remove();\n",
              "    }\n",
              "  "
            ],
            "text/plain": [
              "<IPython.core.display.Javascript object>"
            ]
          },
          "metadata": {
            "tags": []
          }
        },
        {
          "output_type": "display_data",
          "data": {
            "application/javascript": [
              "download(\"download_660995e7-0649-459a-ae73-b96b3903f4ac\", \"LGR_GS.png\", 58397)"
            ],
            "text/plain": [
              "<IPython.core.display.Javascript object>"
            ]
          },
          "metadata": {
            "tags": []
          }
        },
        {
          "output_type": "display_data",
          "data": {
            "image/png": "[encoded data removed]",
            "text/plain": [
              "<Figure size 432x288 with 2 Axes>"
            ]
          },
          "metadata": {
            "tags": [],
            "needs_background": "light"
          }
        }
      ]
    },
    {
      "cell_type": "code",
      "metadata": {
        "id": "ONLcvDvYpOUU"
      },
      "source": [
        "import scikitplot as skplt\r\n",
        "from sklearn.metrics import ConfusionMatrixDisplay"
      ],
      "execution_count": null,
      "outputs": []
    },
    {
      "cell_type": "code",
      "metadata": {
        "colab": {
          "base_uri": "https://localhost:8080/",
          "height": 297
        },
        "id": "Yvci6DBqzWhJ",
        "outputId": "b514c6b1-deca-45ff-c767-cff3326c4682"
      },
      "source": [
        "disp = ConfusionMatrixDisplay(confusion_matrix=confusion_matrix(y_test, lgr_gs_pred), display_labels=lgr_gs.classes_)\r\n",
        "disp.plot()"
      ],
      "execution_count": null,
      "outputs": [
        {
          "output_type": "execute_result",
          "data": {
            "text/plain": [
              "<sklearn.metrics._plot.confusion_matrix.ConfusionMatrixDisplay at 0x7ff5f6170eb8>"
            ]
          },
          "metadata": {
            "tags": []
          },
          "execution_count": 49
        },
        {
          "output_type": "display_data",
          "data": {
            "image/png": "[encoded data removed]",
            "text/plain": [
              "<Figure size 432x288 with 2 Axes>"
            ]
          },
          "metadata": {
            "tags": [],
            "needs_background": "light"
          }
        }
      ]
    },
    {
      "cell_type": "code",
      "metadata": {
        "colab": {
          "base_uri": "https://localhost:8080/",
          "height": 454
        },
        "id": "ZdCGLtGFpjE6",
        "outputId": "66ae43d4-27a1-4b9b-9b97-028e3a23a3bf"
      },
      "source": [
        "skplt.metrics.plot_confusion_matrix(lgr_gs_pred, y_test)\r\n",
        "print(classification_report(lgr_gs_pred, y_test))"
      ],
      "execution_count": null,
      "outputs": [
        {
          "output_type": "stream",
          "text": [
            "              precision    recall  f1-score   support\n",
            "\n",
            "           0       1.00      1.00      1.00    241691\n",
            "           1       0.80      0.95      0.87       241\n",
            "\n",
            "    accuracy                           1.00    241932\n",
            "   macro avg       0.90      0.97      0.93    241932\n",
            "weighted avg       1.00      1.00      1.00    241932\n",
            "\n"
          ],
          "name": "stdout"
        },
        {
          "output_type": "display_data",
          "data": {
            "image/png": "[encoded data removed]",
            "text/plain": [
              "<Figure size 432x288 with 2 Axes>"
            ]
          },
          "metadata": {
            "tags": [],
            "needs_background": "light"
          }
        }
      ]
    },
    {
      "cell_type": "code",
      "metadata": {
        "id": "MGz2HrdR-iHg"
      },
      "source": [
        "dt = DecisionTreeClassifier()"
      ],
      "execution_count": null,
      "outputs": []
    },
    {
      "cell_type": "code",
      "metadata": {
        "colab": {
          "base_uri": "https://localhost:8080/"
        },
        "id": "l7wtUjuS-nMN",
        "outputId": "fe57d28f-7b6e-4a25-fa19-6f9057aec4c8"
      },
      "source": [
        "dt.fit(x_train, y_train)"
      ],
      "execution_count": null,
      "outputs": [
        {
          "output_type": "execute_result",
          "data": {
            "text/plain": [
              "DecisionTreeClassifier(ccp_alpha=0.0, class_weight=None, criterion='gini',\n",
              "                       max_depth=None, max_features=None, max_leaf_nodes=None,\n",
              "                       min_impurity_decrease=0.0, min_impurity_split=None,\n",
              "                       min_samples_leaf=1, min_samples_split=2,\n",
              "                       min_weight_fraction_leaf=0.0, presort='deprecated',\n",
              "                       random_state=None, splitter='best')"
            ]
          },
          "metadata": {
            "tags": []
          },
          "execution_count": 70
        }
      ]
    },
    {
      "cell_type": "code",
      "metadata": {
        "id": "WJM6UI_--rS-"
      },
      "source": [
        "dt_pred = dt.predict(x_test)"
      ],
      "execution_count": null,
      "outputs": []
    },
    {
      "cell_type": "code",
      "metadata": {
        "colab": {
          "base_uri": "https://localhost:8080/",
          "height": 295
        },
        "id": "1PxZaWcy-wS5",
        "outputId": "69ba7d8c-dbb4-4496-a1c1-ecbdb1618599"
      },
      "source": [
        "skplt.metrics.plot_confusion_matrix(y_test, dt_pred)\r\n",
        "plt.savefig('DT.png', dpi=300, bbox_inches='tight')\r\n",
        "files.download(\"DT.png\")"
      ],
      "execution_count": null,
      "outputs": [
        {
          "output_type": "display_data",
          "data": {
            "application/javascript": [
              "\n",
              "    async function download(id, filename, size) {\n",
              "      if (!google.colab.kernel.accessAllowed) {\n",
              "        return;\n",
              "      }\n",
              "      const div = document.createElement('div');\n",
              "      const label = document.createElement('label');\n",
              "      label.textContent = `Downloading \"${filename}\": `;\n",
              "      div.appendChild(label);\n",
              "      const progress = document.createElement('progress');\n",
              "      progress.max = size;\n",
              "      div.appendChild(progress);\n",
              "      document.body.appendChild(div);\n",
              "\n",
              "      const buffers = [];\n",
              "      let downloaded = 0;\n",
              "\n",
              "      const channel = await google.colab.kernel.comms.open(id);\n",
              "      // Send a message to notify the kernel that we're ready.\n",
              "      channel.send({})\n",
              "\n",
              "      for await (const message of channel.messages) {\n",
              "        // Send a message to notify the kernel that we're ready.\n",
              "        channel.send({})\n",
              "        if (message.buffers) {\n",
              "          for (const buffer of message.buffers) {\n",
              "            buffers.push(buffer);\n",
              "            downloaded += buffer.byteLength;\n",
              "            progress.value = downloaded;\n",
              "          }\n",
              "        }\n",
              "      }\n",
              "      const blob = new Blob(buffers, {type: 'application/binary'});\n",
              "      const a = document.createElement('a');\n",
              "      a.href = window.URL.createObjectURL(blob);\n",
              "      a.download = filename;\n",
              "      div.appendChild(a);\n",
              "      a.click();\n",
              "      div.remove();\n",
              "    }\n",
              "  "
            ],
            "text/plain": [
              "<IPython.core.display.Javascript object>"
            ]
          },
          "metadata": {
            "tags": []
          }
        },
        {
          "output_type": "display_data",
          "data": {
            "application/javascript": [
              "download(\"download_f95ca910-9099-4053-8b61-2d33507ecd27\", \"DT.png\", 72524)"
            ],
            "text/plain": [
              "<IPython.core.display.Javascript object>"
            ]
          },
          "metadata": {
            "tags": []
          }
        },
        {
          "output_type": "display_data",
          "data": {
            "image/png": "[encoded data removed]",
            "text/plain": [
              "<Figure size 432x288 with 2 Axes>"
            ]
          },
          "metadata": {
            "tags": [],
            "needs_background": "light"
          }
        }
      ]
    },
    {
      "cell_type": "code",
      "metadata": {
        "colab": {
          "base_uri": "https://localhost:8080/"
        },
        "id": "z1Oo2IKo-4Go",
        "outputId": "89b235a2-7cea-49b1-fd0b-809b12e6714d"
      },
      "source": [
        "print(classification_report(y_test, dt_pred))"
      ],
      "execution_count": null,
      "outputs": [
        {
          "output_type": "stream",
          "text": [
            "              precision    recall  f1-score   support\n",
            "\n",
            "           0       1.00      0.28      0.43    241645\n",
            "           1       0.00      0.99      0.00       287\n",
            "\n",
            "    accuracy                           0.28    241932\n",
            "   macro avg       0.50      0.63      0.22    241932\n",
            "weighted avg       1.00      0.28      0.43    241932\n",
            "\n"
          ],
          "name": "stdout"
        }
      ]
    },
    {
      "cell_type": "code",
      "metadata": {
        "colab": {
          "base_uri": "https://localhost:8080/"
        },
        "id": "YVUMIxjzAfz5",
        "outputId": "42c85f63-9bf9-4953-ab68-4b86bcac328c"
      },
      "source": [
        "rf = RandomForestClassifier()\r\n",
        "rf.fit(x_train, y_train)"
      ],
      "execution_count": null,
      "outputs": [
        {
          "output_type": "execute_result",
          "data": {
            "text/plain": [
              "RandomForestClassifier(bootstrap=True, ccp_alpha=0.0, class_weight=None,\n",
              "                       criterion='gini', max_depth=None, max_features='auto',\n",
              "                       max_leaf_nodes=None, max_samples=None,\n",
              "                       min_impurity_decrease=0.0, min_impurity_split=None,\n",
              "                       min_samples_leaf=1, min_samples_split=2,\n",
              "                       min_weight_fraction_leaf=0.0, n_estimators=100,\n",
              "                       n_jobs=None, oob_score=False, random_state=None,\n",
              "                       verbose=0, warm_start=False)"
            ]
          },
          "metadata": {
            "tags": []
          },
          "execution_count": 74
        }
      ]
    },
    {
      "cell_type": "code",
      "metadata": {
        "id": "p9Hujn1rAnOl"
      },
      "source": [
        "rf_pred = rf.predict(x_test)"
      ],
      "execution_count": null,
      "outputs": []
    },
    {
      "cell_type": "code",
      "metadata": {
        "colab": {
          "base_uri": "https://localhost:8080/",
          "height": 295
        },
        "id": "FfdYEx6eAnXn",
        "outputId": "cb3a8a42-c731-49af-be23-2db6fe029816"
      },
      "source": [
        "skplt.metrics.plot_confusion_matrix(y_test, rf_pred)\r\n",
        "plt.savefig('RF.png', dpi=300, bbox_inches='tight')\r\n",
        "files.download(\"RF.png\")"
      ],
      "execution_count": null,
      "outputs": [
        {
          "output_type": "display_data",
          "data": {
            "application/javascript": [
              "\n",
              "    async function download(id, filename, size) {\n",
              "      if (!google.colab.kernel.accessAllowed) {\n",
              "        return;\n",
              "      }\n",
              "      const div = document.createElement('div');\n",
              "      const label = document.createElement('label');\n",
              "      label.textContent = `Downloading \"${filename}\": `;\n",
              "      div.appendChild(label);\n",
              "      const progress = document.createElement('progress');\n",
              "      progress.max = size;\n",
              "      div.appendChild(progress);\n",
              "      document.body.appendChild(div);\n",
              "\n",
              "      const buffers = [];\n",
              "      let downloaded = 0;\n",
              "\n",
              "      const channel = await google.colab.kernel.comms.open(id);\n",
              "      // Send a message to notify the kernel that we're ready.\n",
              "      channel.send({})\n",
              "\n",
              "      for await (const message of channel.messages) {\n",
              "        // Send a message to notify the kernel that we're ready.\n",
              "        channel.send({})\n",
              "        if (message.buffers) {\n",
              "          for (const buffer of message.buffers) {\n",
              "            buffers.push(buffer);\n",
              "            downloaded += buffer.byteLength;\n",
              "            progress.value = downloaded;\n",
              "          }\n",
              "        }\n",
              "      }\n",
              "      const blob = new Blob(buffers, {type: 'application/binary'});\n",
              "      const a = document.createElement('a');\n",
              "      a.href = window.URL.createObjectURL(blob);\n",
              "      a.download = filename;\n",
              "      div.appendChild(a);\n",
              "      a.click();\n",
              "      div.remove();\n",
              "    }\n",
              "  "
            ],
            "text/plain": [
              "<IPython.core.display.Javascript object>"
            ]
          },
          "metadata": {
            "tags": []
          }
        },
        {
          "output_type": "display_data",
          "data": {
            "application/javascript": [
              "download(\"download_fb040ff2-2c96-4548-a277-8c5b7c5e4f1f\", \"RF.png\", 70719)"
            ],
            "text/plain": [
              "<IPython.core.display.Javascript object>"
            ]
          },
          "metadata": {
            "tags": []
          }
        },
        {
          "output_type": "display_data",
          "data": {
            "image/png": "[encoded data removed]",
            "text/plain": [
              "<Figure size 432x288 with 2 Axes>"
            ]
          },
          "metadata": {
            "tags": [],
            "needs_background": "light"
          }
        }
      ]
    },
    {
      "cell_type": "code",
      "metadata": {
        "colab": {
          "base_uri": "https://localhost:8080/"
        },
        "id": "5KPKhjVzAncJ",
        "outputId": "7736690a-90e1-49e9-dc95-602f8c4bbda9"
      },
      "source": [
        "print(classification_report(y_test, rf_pred))"
      ],
      "execution_count": null,
      "outputs": [
        {
          "output_type": "stream",
          "text": [
            "              precision    recall  f1-score   support\n",
            "\n",
            "           0       1.00      0.34      0.51    241645\n",
            "           1       0.00      1.00      0.00       287\n",
            "\n",
            "    accuracy                           0.34    241932\n",
            "   macro avg       0.50      0.67      0.26    241932\n",
            "weighted avg       1.00      0.34      0.51    241932\n",
            "\n"
          ],
          "name": "stdout"
        }
      ]
    },
    {
      "cell_type": "markdown",
      "metadata": {
        "id": "x7mHTU6bTxoM"
      },
      "source": [
        "Adaboost Algorithm"
      ]
    },
    {
      "cell_type": "code",
      "metadata": {
        "id": "ohfYT6gGTxip"
      },
      "source": [
        "from sklearn.ensemble import AdaBoostClassifier\r\n",
        "from sklearn.tree import DecisionTreeClassifier\r\n",
        "from sklearn.ensemble import RandomForestClassifier"
      ],
      "execution_count": null,
      "outputs": []
    },
    {
      "cell_type": "code",
      "metadata": {
        "id": "bLDl8JeYTxfy"
      },
      "source": [
        "dt = DecisionTreeClassifier()    # adaptive boosting will run top of a classifier"
      ],
      "execution_count": null,
      "outputs": []
    },
    {
      "cell_type": "code",
      "metadata": {
        "id": "qOoSAouqTxWC"
      },
      "source": [
        "adb = AdaBoostClassifier()"
      ],
      "execution_count": null,
      "outputs": []
    },
    {
      "cell_type": "code",
      "metadata": {
        "colab": {
          "base_uri": "https://localhost:8080/"
        },
        "id": "VlNnrP10Z9gh",
        "outputId": "26b6bdd4-5133-4044-b41f-506ce251ee55"
      },
      "source": [
        "adb.fit(x_train, y_train)"
      ],
      "execution_count": null,
      "outputs": [
        {
          "output_type": "execute_result",
          "data": {
            "text/plain": [
              "AdaBoostClassifier(algorithm='SAMME.R', base_estimator=None, learning_rate=1.0,\n",
              "                   n_estimators=50, random_state=None)"
            ]
          },
          "metadata": {
            "tags": []
          },
          "execution_count": 86
        }
      ]
    },
    {
      "cell_type": "code",
      "metadata": {
        "id": "LXypCeQeaW7G"
      },
      "source": [
        "adb_pred = adb.predict(x_test)"
      ],
      "execution_count": null,
      "outputs": []
    },
    {
      "cell_type": "code",
      "metadata": {
        "colab": {
          "base_uri": "https://localhost:8080/",
          "height": 295
        },
        "id": "YAPkJ_YoBVOb",
        "outputId": "ce093765-21fd-4e2e-f87d-845afe9a9919"
      },
      "source": [
        "skplt.metrics.plot_confusion_matrix(y_test, adb_pred)\r\n",
        "plt.savefig('ADB.png', dpi=300, bbox_inches='tight')\r\n",
        "files.download(\"ADB.png\")"
      ],
      "execution_count": null,
      "outputs": [
        {
          "output_type": "display_data",
          "data": {
            "application/javascript": [
              "\n",
              "    async function download(id, filename, size) {\n",
              "      if (!google.colab.kernel.accessAllowed) {\n",
              "        return;\n",
              "      }\n",
              "      const div = document.createElement('div');\n",
              "      const label = document.createElement('label');\n",
              "      label.textContent = `Downloading \"${filename}\": `;\n",
              "      div.appendChild(label);\n",
              "      const progress = document.createElement('progress');\n",
              "      progress.max = size;\n",
              "      div.appendChild(progress);\n",
              "      document.body.appendChild(div);\n",
              "\n",
              "      const buffers = [];\n",
              "      let downloaded = 0;\n",
              "\n",
              "      const channel = await google.colab.kernel.comms.open(id);\n",
              "      // Send a message to notify the kernel that we're ready.\n",
              "      channel.send({})\n",
              "\n",
              "      for await (const message of channel.messages) {\n",
              "        // Send a message to notify the kernel that we're ready.\n",
              "        channel.send({})\n",
              "        if (message.buffers) {\n",
              "          for (const buffer of message.buffers) {\n",
              "            buffers.push(buffer);\n",
              "            downloaded += buffer.byteLength;\n",
              "            progress.value = downloaded;\n",
              "          }\n",
              "        }\n",
              "      }\n",
              "      const blob = new Blob(buffers, {type: 'application/binary'});\n",
              "      const a = document.createElement('a');\n",
              "      a.href = window.URL.createObjectURL(blob);\n",
              "      a.download = filename;\n",
              "      div.appendChild(a);\n",
              "      a.click();\n",
              "      div.remove();\n",
              "    }\n",
              "  "
            ],
            "text/plain": [
              "<IPython.core.display.Javascript object>"
            ]
          },
          "metadata": {
            "tags": []
          }
        },
        {
          "output_type": "display_data",
          "data": {
            "application/javascript": [
              "download(\"download_00ebc77a-3dda-45af-8eeb-20b503e8850b\", \"ADB.png\", 60947)"
            ],
            "text/plain": [
              "<IPython.core.display.Javascript object>"
            ]
          },
          "metadata": {
            "tags": []
          }
        },
        {
          "output_type": "display_data",
          "data": {
            "image/png": "[encoded data removed]",
            "text/plain": [
              "<Figure size 432x288 with 2 Axes>"
            ]
          },
          "metadata": {
            "tags": [],
            "needs_background": "light"
          }
        }
      ]
    },
    {
      "cell_type": "code",
      "metadata": {
        "colab": {
          "base_uri": "https://localhost:8080/"
        },
        "id": "rvSH7vHsaXG8",
        "outputId": "056dce9a-c651-4fd8-cf62-e34b84c4f8ca"
      },
      "source": [
        "print(classification_report(y_test, adb_pred))"
      ],
      "execution_count": null,
      "outputs": [
        {
          "output_type": "stream",
          "text": [
            "              precision    recall  f1-score   support\n",
            "\n",
            "           0       1.00      0.95      0.97    241645\n",
            "           1       0.02      0.82      0.04       287\n",
            "\n",
            "    accuracy                           0.95    241932\n",
            "   macro avg       0.51      0.89      0.51    241932\n",
            "weighted avg       1.00      0.95      0.97    241932\n",
            "\n"
          ],
          "name": "stdout"
        }
      ]
    },
    {
      "cell_type": "markdown",
      "metadata": {
        "id": "AcyAoTdKMKsI"
      },
      "source": [
        "KNN Classifier"
      ]
    },
    {
      "cell_type": "code",
      "metadata": {
        "id": "_0fYWOVaMK3G"
      },
      "source": [
        "from sklearn.neighbors import KNeighborsClassifier"
      ],
      "execution_count": null,
      "outputs": []
    },
    {
      "cell_type": "code",
      "metadata": {
        "id": "ydNZeFOdMLAK"
      },
      "source": [
        "knn = KNeighborsClassifier()"
      ],
      "execution_count": null,
      "outputs": []
    },
    {
      "cell_type": "code",
      "metadata": {
        "id": "VVu8dqOtMLfo"
      },
      "source": [
        "k = range(1,20)\r\n",
        "dict = {}\r\n",
        "knn_acc_list = []\r\n",
        "for i in k:\r\n",
        "    knn = KNeighborsClassifier(n_neighbors = i)\r\n",
        "    knn.fit(x_train, y_train)\r\n",
        "    knn_pred = knn.predict(x_test)\r\n",
        "    from sklearn import metrics\r\n",
        "    dict[i] = metrics.recall_score(y_test,knn_pred)\r\n",
        "    knn_acc_list.append(metrics.accuracy_score(y_test,knn_pred))"
      ],
      "execution_count": null,
      "outputs": []
    },
    {
      "cell_type": "code",
      "metadata": {
        "colab": {
          "base_uri": "https://localhost:8080/",
          "height": 297
        },
        "id": "oQEXo8-EMNI5",
        "outputId": "3aedd015-428e-46ba-c50d-28c835c0c3dd"
      },
      "source": [
        "# Plot the accuracy and value of k\r\n",
        "\r\n",
        "plt.plot(k,knn_acc_list)\r\n",
        "plt.xlabel(\"Value of K\")\r\n",
        "plt.ylabel(\"Recall\")"
      ],
      "execution_count": null,
      "outputs": [
        {
          "output_type": "execute_result",
          "data": {
            "text/plain": [
              "Text(0, 0.5, 'Recall')"
            ]
          },
          "metadata": {
            "tags": []
          },
          "execution_count": 105
        },
        {
          "output_type": "display_data",
          "data": {
            "image/png": "[encoded data removed]",
            "text/plain": [
              "<Figure size 432x288 with 1 Axes>"
            ]
          },
          "metadata": {
            "tags": [],
            "needs_background": "light"
          }
        }
      ]
    },
    {
      "cell_type": "code",
      "metadata": {
        "colab": {
          "base_uri": "https://localhost:8080/"
        },
        "id": "d2o-IRsyWCmU",
        "outputId": "b7b10297-e63a-4c9d-98fe-1d41ad4e3df7"
      },
      "source": [
        "knn = KNeighborsClassifier()\r\n",
        "knn.fit(x_train, y_train)"
      ],
      "execution_count": null,
      "outputs": [
        {
          "output_type": "execute_result",
          "data": {
            "text/plain": [
              "KNeighborsClassifier(algorithm='auto', leaf_size=30, metric='minkowski',\n",
              "                     metric_params=None, n_jobs=None, n_neighbors=5, p=2,\n",
              "                     weights='uniform')"
            ]
          },
          "metadata": {
            "tags": []
          },
          "execution_count": 126
        }
      ]
    },
    {
      "cell_type": "code",
      "metadata": {
        "id": "i4l7gVJNMNcG"
      },
      "source": [
        "knn_pred = knn.predict(x_test)"
      ],
      "execution_count": null,
      "outputs": []
    },
    {
      "cell_type": "code",
      "metadata": {
        "colab": {
          "base_uri": "https://localhost:8080/"
        },
        "id": "vXePuuhmWJvq",
        "outputId": "2579efe7-ac07-4f27-cf1b-c32a190bc8a9"
      },
      "source": [
        "print(classification_report(y_test, knn_pred))"
      ],
      "execution_count": null,
      "outputs": [
        {
          "output_type": "stream",
          "text": [
            "              precision    recall  f1-score   support\n",
            "\n",
            "           0       1.00      1.00      1.00    241645\n",
            "           1       0.68      0.61      0.64       287\n",
            "\n",
            "    accuracy                           1.00    241932\n",
            "   macro avg       0.84      0.80      0.82    241932\n",
            "weighted avg       1.00      1.00      1.00    241932\n",
            "\n"
          ],
          "name": "stdout"
        }
      ]
    },
    {
      "cell_type": "code",
      "metadata": {
        "colab": {
          "base_uri": "https://localhost:8080/",
          "height": 295
        },
        "id": "vqq6e-bSZDok",
        "outputId": "e22b2699-b9ca-4c49-aa20-a5df52b205d8"
      },
      "source": [
        "skplt.metrics.plot_confusion_matrix(y_test, knn_pred)\r\n",
        "plt.savefig('KNN.png', dpi=300, bbox_inches='tight')\r\n",
        "files.download(\"KNN.png\")"
      ],
      "execution_count": null,
      "outputs": [
        {
          "output_type": "display_data",
          "data": {
            "application/javascript": [
              "\n",
              "    async function download(id, filename, size) {\n",
              "      if (!google.colab.kernel.accessAllowed) {\n",
              "        return;\n",
              "      }\n",
              "      const div = document.createElement('div');\n",
              "      const label = document.createElement('label');\n",
              "      label.textContent = `Downloading \"${filename}\": `;\n",
              "      div.appendChild(label);\n",
              "      const progress = document.createElement('progress');\n",
              "      progress.max = size;\n",
              "      div.appendChild(progress);\n",
              "      document.body.appendChild(div);\n",
              "\n",
              "      const buffers = [];\n",
              "      let downloaded = 0;\n",
              "\n",
              "      const channel = await google.colab.kernel.comms.open(id);\n",
              "      // Send a message to notify the kernel that we're ready.\n",
              "      channel.send({})\n",
              "\n",
              "      for await (const message of channel.messages) {\n",
              "        // Send a message to notify the kernel that we're ready.\n",
              "        channel.send({})\n",
              "        if (message.buffers) {\n",
              "          for (const buffer of message.buffers) {\n",
              "            buffers.push(buffer);\n",
              "            downloaded += buffer.byteLength;\n",
              "            progress.value = downloaded;\n",
              "          }\n",
              "        }\n",
              "      }\n",
              "      const blob = new Blob(buffers, {type: 'application/binary'});\n",
              "      const a = document.createElement('a');\n",
              "      a.href = window.URL.createObjectURL(blob);\n",
              "      a.download = filename;\n",
              "      div.appendChild(a);\n",
              "      a.click();\n",
              "      div.remove();\n",
              "    }\n",
              "  "
            ],
            "text/plain": [
              "<IPython.core.display.Javascript object>"
            ]
          },
          "metadata": {
            "tags": []
          }
        },
        {
          "output_type": "display_data",
          "data": {
            "application/javascript": [
              "download(\"download_2aebea59-e8a0-4e6a-b5c4-4d31c7655086\", \"KNN.png\", 56736)"
            ],
            "text/plain": [
              "<IPython.core.display.Javascript object>"
            ]
          },
          "metadata": {
            "tags": []
          }
        },
        {
          "output_type": "display_data",
          "data": {
            "image/png": "[encoded data removed]",
            "text/plain": [
              "<Figure size 432x288 with 2 Axes>"
            ]
          },
          "metadata": {
            "tags": [],
            "needs_background": "light"
          }
        }
      ]
    },
    {
      "cell_type": "code",
      "metadata": {
        "id": "qrY16pGvWSXv"
      },
      "source": [
        ""
      ],
      "execution_count": null,
      "outputs": []
    },
    {
      "cell_type": "markdown",
      "metadata": {
        "id": "vUkHt8MVRBhM"
      },
      "source": [
        "# Using ANN - Deep Learning"
      ]
    },
    {
      "cell_type": "code",
      "metadata": {
        "colab": {
          "base_uri": "https://localhost:8080/"
        },
        "id": "FwJV8i1IRBhM",
        "outputId": "6d1bbe45-2a6e-42c5-f4e7-5c3e3a95218c"
      },
      "source": [
        "import tensorflow as tf\n",
        "import keras\n",
        "print(tf.config.list_physical_devices('GPU'))\n",
        "print(tf.test.is_built_with_cuda())\n",
        "print(\"Number of GPUs available: \", len(tf.config.experimental.list_physical_devices('GPU')))\n",
        "tf.keras.backend.set_floatx('float64')"
      ],
      "execution_count": null,
      "outputs": [
        {
          "output_type": "stream",
          "text": [
            "[PhysicalDevice(name='/physical_device:GPU:0', device_type='GPU')]\n",
            "True\n",
            "Number of GPUs available:  1\n"
          ],
          "name": "stdout"
        }
      ]
    },
    {
      "cell_type": "code",
      "metadata": {
        "id": "FK1yPpAnRBhN"
      },
      "source": [
        "x_train = np.array(x_train)\n",
        "y_train = np.array(y_train)\n",
        "x_test = np.array(x_test)"
      ],
      "execution_count": null,
      "outputs": []
    },
    {
      "cell_type": "code",
      "metadata": {
        "id": "i6fu1oddRBhN"
      },
      "source": [
        "x_train = tf.keras.utils.normalize(x_train)\n",
        "x_test = tf.keras.utils.normalize(x_test)        \n",
        "# these lines are not manadatory, but we normalize, accuracy increases"
      ],
      "execution_count": null,
      "outputs": []
    },
    {
      "cell_type": "code",
      "metadata": {
        "id": "cUUjLwJ3RBhN"
      },
      "source": [
        "model = tf.keras.Sequential()    # initialize the model\n",
        "model.add(tf.keras.layers.Dense(256, activation = tf.nn.relu))   # 1st layer\n",
        "model.add(tf.keras.layers.Dense(256, activation = tf.nn.relu))   # 2nd layer\n",
        "model.add(tf.keras.layers.Dense(512, activation = tf.nn.relu))   # 3rd layer\n",
        "model.add(tf.keras.layers.Dense(128, activation = tf.nn.relu))   # 4th layer\n",
        "model.add(tf.keras.layers.Dense(128, activation = tf.nn.relu))   # 5th layer\n",
        "model.add(tf.keras.layers.Dense(10, activation = tf.nn.sigmoid)) # last layer\n",
        "model.compile(optimizer = 'adam', loss = 'sparse_categorical_crossentropy')"
      ],
      "execution_count": null,
      "outputs": []
    },
    {
      "cell_type": "code",
      "metadata": {
        "collapsed": true,
        "colab": {
          "base_uri": "https://localhost:8080/"
        },
        "id": "K9M2qbUbRBhN",
        "outputId": "4d5ee347-167a-481d-e469-bd2ead211e88"
      },
      "source": [
        "model.fit(x_train, y_train, epochs=10, validation_split=0.2, batch_size=100)"
      ],
      "execution_count": null,
      "outputs": [
        {
          "output_type": "stream",
          "text": [
            "Epoch 1/10\n",
            "4043/4043 [==============================] - 23s 5ms/step - loss: 0.1187 - val_loss: 0.0173\n",
            "Epoch 2/10\n",
            "4043/4043 [==============================] - 20s 5ms/step - loss: 0.0205 - val_loss: 0.0198\n",
            "Epoch 3/10\n",
            "4043/4043 [==============================] - 20s 5ms/step - loss: 0.0182 - val_loss: 0.0180\n",
            "Epoch 4/10\n",
            "4043/4043 [==============================] - 20s 5ms/step - loss: 0.0188 - val_loss: 0.0180\n",
            "Epoch 5/10\n",
            "4043/4043 [==============================] - 20s 5ms/step - loss: 0.0178 - val_loss: 0.0167\n",
            "Epoch 6/10\n",
            "4043/4043 [==============================] - 20s 5ms/step - loss: 0.0170 - val_loss: 0.0164\n",
            "Epoch 7/10\n",
            "4043/4043 [==============================] - 21s 5ms/step - loss: 0.0167 - val_loss: 0.0159\n",
            "Epoch 8/10\n",
            "4043/4043 [==============================] - 20s 5ms/step - loss: 0.0168 - val_loss: 0.0162\n",
            "Epoch 9/10\n",
            "4043/4043 [==============================] - 20s 5ms/step - loss: 0.0162 - val_loss: 0.0162\n",
            "Epoch 10/10\n",
            "4043/4043 [==============================] - 20s 5ms/step - loss: 0.0161 - val_loss: 0.0159\n"
          ],
          "name": "stdout"
        },
        {
          "output_type": "execute_result",
          "data": {
            "text/plain": [
              "<tensorflow.python.keras.callbacks.History at 0x7fd58002a410>"
            ]
          },
          "metadata": {
            "tags": []
          },
          "execution_count": 41
        }
      ]
    },
    {
      "cell_type": "code",
      "metadata": {
        "colab": {
          "base_uri": "https://localhost:8080/"
        },
        "id": "k81AgWOLRBhN",
        "outputId": "4fd0b380-2243-443c-ade6-704660482680"
      },
      "source": [
        "ann_pred = model.predict_classes(x_test)"
      ],
      "execution_count": null,
      "outputs": [
        {
          "output_type": "stream",
          "text": [
            "/usr/local/lib/python3.7/dist-packages/tensorflow/python/keras/engine/sequential.py:450: UserWarning: `model.predict_classes()` is deprecated and will be removed after 2021-01-01. Please use instead:* `np.argmax(model.predict(x), axis=-1)`,   if your model does multi-class classification   (e.g. if it uses a `softmax` last-layer activation).* `(model.predict(x) > 0.5).astype(\"int32\")`,   if your model does binary classification   (e.g. if it uses a `sigmoid` last-layer activation).\n",
            "  warnings.warn('`model.predict_classes()` is deprecated and '\n"
          ],
          "name": "stderr"
        }
      ]
    },
    {
      "cell_type": "code",
      "metadata": {
        "colab": {
          "base_uri": "https://localhost:8080/"
        },
        "id": "JlF2gZuaRBhO",
        "outputId": "080c2666-f2a8-443f-a274-c6735101cc34"
      },
      "source": [
        "from sklearn.metrics import accuracy_score,confusion_matrix,classification_report\n",
        "print(confusion_matrix(y_test, ann_pred))\n",
        "print(classification_report(y_test, ann_pred))"
      ],
      "execution_count": null,
      "outputs": [
        {
          "output_type": "stream",
          "text": [
            "[[241644      1]\n",
            " [    58    229]]\n",
            "              precision    recall  f1-score   support\n",
            "\n",
            "           0       1.00      1.00      1.00    241645\n",
            "           1       1.00      0.80      0.89       287\n",
            "\n",
            "    accuracy                           1.00    241932\n",
            "   macro avg       1.00      0.90      0.94    241932\n",
            "weighted avg       1.00      1.00      1.00    241932\n",
            "\n"
          ],
          "name": "stdout"
        }
      ]
    },
    {
      "cell_type": "code",
      "metadata": {
        "colab": {
          "base_uri": "https://localhost:8080/",
          "height": 295
        },
        "id": "-w4b2ApKLaXL",
        "outputId": "46e57ba5-d533-433e-f2bf-cd0a54a6a962"
      },
      "source": [
        "skplt.metrics.plot_confusion_matrix(y_test, ann_pred)\r\n",
        "plt.savefig('ANN_CM.png', dpi=300, bbox_inches='tight')\r\n",
        "files.download(\"ANN_CM.png\")"
      ],
      "execution_count": null,
      "outputs": [
        {
          "output_type": "display_data",
          "data": {
            "application/javascript": [
              "\n",
              "    async function download(id, filename, size) {\n",
              "      if (!google.colab.kernel.accessAllowed) {\n",
              "        return;\n",
              "      }\n",
              "      const div = document.createElement('div');\n",
              "      const label = document.createElement('label');\n",
              "      label.textContent = `Downloading \"${filename}\": `;\n",
              "      div.appendChild(label);\n",
              "      const progress = document.createElement('progress');\n",
              "      progress.max = size;\n",
              "      div.appendChild(progress);\n",
              "      document.body.appendChild(div);\n",
              "\n",
              "      const buffers = [];\n",
              "      let downloaded = 0;\n",
              "\n",
              "      const channel = await google.colab.kernel.comms.open(id);\n",
              "      // Send a message to notify the kernel that we're ready.\n",
              "      channel.send({})\n",
              "\n",
              "      for await (const message of channel.messages) {\n",
              "        // Send a message to notify the kernel that we're ready.\n",
              "        channel.send({})\n",
              "        if (message.buffers) {\n",
              "          for (const buffer of message.buffers) {\n",
              "            buffers.push(buffer);\n",
              "            downloaded += buffer.byteLength;\n",
              "            progress.value = downloaded;\n",
              "          }\n",
              "        }\n",
              "      }\n",
              "      const blob = new Blob(buffers, {type: 'application/binary'});\n",
              "      const a = document.createElement('a');\n",
              "      a.href = window.URL.createObjectURL(blob);\n",
              "      a.download = filename;\n",
              "      div.appendChild(a);\n",
              "      a.click();\n",
              "      div.remove();\n",
              "    }\n",
              "  "
            ],
            "text/plain": [
              "<IPython.core.display.Javascript object>"
            ]
          },
          "metadata": {
            "tags": []
          }
        },
        {
          "output_type": "display_data",
          "data": {
            "application/javascript": [
              "download(\"download_48324584-e000-45ff-b699-b14e7eeee881\", \"ANN_CM.png\", 56276)"
            ],
            "text/plain": [
              "<IPython.core.display.Javascript object>"
            ]
          },
          "metadata": {
            "tags": []
          }
        },
        {
          "output_type": "display_data",
          "data": {
            "image/png": "[encoded data removed]",
            "text/plain": [
              "<Figure size 432x288 with 2 Axes>"
            ]
          },
          "metadata": {
            "tags": [],
            "needs_background": "light"
          }
        }
      ]
    },
    {
      "cell_type": "code",
      "metadata": {
        "id": "z87igVIsRBhO",
        "colab": {
          "base_uri": "https://localhost:8080/"
        },
        "outputId": "1908aa8f-c81b-4b25-d217-df6be474d499"
      },
      "source": [
        "print(classification_report(y_test, ann_pred))"
      ],
      "execution_count": null,
      "outputs": [
        {
          "output_type": "stream",
          "text": [
            "              precision    recall  f1-score   support\n",
            "\n",
            "           0       1.00      1.00      1.00    241645\n",
            "           1       1.00      0.80      0.89       287\n",
            "\n",
            "    accuracy                           1.00    241932\n",
            "   macro avg       1.00      0.90      0.94    241932\n",
            "weighted avg       1.00      1.00      1.00    241932\n",
            "\n"
          ],
          "name": "stdout"
        }
      ]
    }
  ]
}