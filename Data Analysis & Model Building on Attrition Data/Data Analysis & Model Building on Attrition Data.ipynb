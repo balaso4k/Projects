{
 "cells": [
  {
   "cell_type": "markdown",
   "id": "attended-illinois",
   "metadata": {},
   "source": [
    "# Data Analysis & Model Building on Attrition Data"
   ]
  },
  {
   "cell_type": "markdown",
   "id": "herbal-credit",
   "metadata": {
    "id": "AXWw-L2yfFxk"
   },
   "source": [
    "### Contents\n",
    "\n",
    "    1. Loading & Understanding Dataset and target & predictor variables.\n",
    "    2. Explporatory Data Analysis.\n",
    "    3. Feature Engineering.\n",
    "    4. Feature Selection.\n",
    "    5. Model Building.\n",
    "    6. Conclusion."
   ]
  },
  {
   "cell_type": "markdown",
   "id": "silver-sensitivity",
   "metadata": {
    "id": "pBrOLQa7EYL4"
   },
   "source": [
    "#### 1. Loading & Understanding Dataset and target & predictor variables\n",
    "\n",
    "    a. Load required packages & libraries.\n",
    "    b. Load dataset.\n",
    "    c. Check dataset info -  head, tail, datatypes, dimensions etc.\n",
    "    d. Check for target variable class imbalance.\n",
    "    "
   ]
  },
  {
   "cell_type": "markdown",
   "id": "vietnamese-engine",
   "metadata": {},
   "source": [
    "#### a. Load Required packages & libraries"
   ]
  },
  {
   "cell_type": "code",
   "execution_count": 1,
   "id": "cross-legislature",
   "metadata": {},
   "outputs": [
    {
     "name": "stderr",
     "output_type": "stream",
     "text": [
      "Warning message:\n",
      "\"package 'Boruta' was built under R version 3.6.3\"Loading required package: lattice\n",
      "Loading required package: ggplot2\n",
      "Warning message:\n",
      "\"package 'polycor' was built under R version 3.6.3\"Warning message:\n",
      "\"package 'psych' was built under R version 3.6.3\"\n",
      "Attaching package: 'psych'\n",
      "\n",
      "The following object is masked from 'package:polycor':\n",
      "\n",
      "    polyserial\n",
      "\n",
      "The following objects are masked from 'package:ggplot2':\n",
      "\n",
      "    %+%, alpha\n",
      "\n",
      "randomForest 4.6-14\n",
      "Type rfNews() to see new features/changes/bug fixes.\n",
      "\n",
      "Attaching package: 'randomForest'\n",
      "\n",
      "The following object is masked from 'package:psych':\n",
      "\n",
      "    outlier\n",
      "\n",
      "The following object is masked from 'package:ggplot2':\n",
      "\n",
      "    margin\n",
      "\n",
      "Warning message:\n",
      "\"package 'ROSE' was built under R version 3.6.3\"Loaded ROSE 0.0-3\n",
      "\n",
      "Warning message:\n",
      "\"package 'party' was built under R version 3.6.3\"Loading required package: grid\n",
      "Loading required package: mvtnorm\n",
      "Warning message:\n",
      "\"package 'mvtnorm' was built under R version 3.6.3\"Loading required package: modeltools\n",
      "Warning message:\n",
      "\"package 'modeltools' was built under R version 3.6.3\"Loading required package: stats4\n",
      "Loading required package: strucchange\n",
      "Warning message:\n",
      "\"package 'strucchange' was built under R version 3.6.3\"Loading required package: zoo\n",
      "\n",
      "Attaching package: 'zoo'\n",
      "\n",
      "The following objects are masked from 'package:base':\n",
      "\n",
      "    as.Date, as.Date.numeric\n",
      "\n",
      "Loading required package: sandwich\n",
      "Warning message:\n",
      "\"package 'sandwich' was built under R version 3.6.3\"Registered S3 method overwritten by 'rvest':\n",
      "  method            from\n",
      "  read_xml.response xml2\n",
      "-- Attaching packages --------------------------------------- tidyverse 1.2.1 --\n",
      "v tibble  2.1.1       v purrr   0.3.2  \n",
      "v tidyr   0.8.3       v dplyr   0.8.0.1\n",
      "v readr   1.3.1       v stringr 1.4.0  \n",
      "v tibble  2.1.1       v forcats 0.4.0  \n",
      "-- Conflicts ------------------------------------------ tidyverse_conflicts() --\n",
      "x psych::%+%()           masks ggplot2::%+%()\n",
      "x psych::alpha()         masks ggplot2::alpha()\n",
      "x dplyr::between()       masks data.table::between()\n",
      "x stringr::boundary()    masks strucchange::boundary()\n",
      "x dplyr::combine()       masks randomForest::combine()\n",
      "x dplyr::filter()        masks stats::filter()\n",
      "x dplyr::first()         masks data.table::first()\n",
      "x dplyr::lag()           masks stats::lag()\n",
      "x dplyr::last()          masks data.table::last()\n",
      "x purrr::lift()          masks caret::lift()\n",
      "x randomForest::margin() masks ggplot2::margin()\n",
      "x purrr::transpose()     masks data.table::transpose()\n",
      "Warning message:\n",
      "\"package 'xgboost' was built under R version 3.6.3\"\n",
      "Attaching package: 'xgboost'\n",
      "\n",
      "The following object is masked from 'package:dplyr':\n",
      "\n",
      "    slice\n",
      "\n",
      "Warning message:\n",
      "\"package 'summarytools' was built under R version 3.6.3\"Registered S3 method overwritten by 'pryr':\n",
      "  method      from\n",
      "  print.bytes Rcpp\n",
      "For best results, restart R session and update pander using devtools:: or remotes::install_github('rapporter/pander')\n",
      "\n",
      "Attaching package: 'summarytools'\n",
      "\n",
      "The following object is masked from 'package:tibble':\n",
      "\n",
      "    view\n",
      "\n",
      "Warning message:\n",
      "\"package 'car' was built under R version 3.6.3\"Loading required package: carData\n",
      "Warning message:\n",
      "\"package 'carData' was built under R version 3.6.3\"\n",
      "Attaching package: 'car'\n",
      "\n",
      "The following object is masked from 'package:dplyr':\n",
      "\n",
      "    recode\n",
      "\n",
      "The following object is masked from 'package:purrr':\n",
      "\n",
      "    some\n",
      "\n",
      "The following object is masked from 'package:modeltools':\n",
      "\n",
      "    Predict\n",
      "\n",
      "The following object is masked from 'package:psych':\n",
      "\n",
      "    logit\n",
      "\n",
      "Warning message:\n",
      "\"package 'superml' was built under R version 3.6.3\"Loading required package: R6\n",
      "Warning message:\n",
      "\"package 'ggthemes' was built under R version 3.6.3\"Warning message:\n",
      "\"package 'e1071' was built under R version 3.6.3\"Warning message:\n",
      "\"package 'pROC' was built under R version 3.6.3\"Type 'citation(\"pROC\")' for a citation.\n",
      "\n",
      "Attaching package: 'pROC'\n",
      "\n",
      "The following objects are masked from 'package:stats':\n",
      "\n",
      "    cov, smooth, var\n",
      "\n",
      "Warning message:\n",
      "\"package 'rpart.plot' was built under R version 3.6.3\""
     ]
    }
   ],
   "source": [
    "library(Boruta)\n",
    "library(caret)\n",
    "library(data.table)\n",
    "library(polycor)\n",
    "library(psych)\n",
    "library(randomForest)\n",
    "library(ROSE)\n",
    "library(party)\n",
    "library(tidyverse)\n",
    "library(xgboost)\n",
    "library(summarytools)\n",
    "library(car)\n",
    "library(superml)\n",
    "library(ggthemes)\n",
    "library(e1071)\n",
    "library(pROC)\n",
    "library(rpart)\n",
    "library(rpart.plot)"
   ]
  },
  {
   "cell_type": "markdown",
   "id": "eastern-volleyball",
   "metadata": {},
   "source": [
    "#### b. Loading dataset"
   ]
  },
  {
   "cell_type": "code",
   "execution_count": 2,
   "id": "exposed-handling",
   "metadata": {},
   "outputs": [],
   "source": [
    "attrition <- fread(\"Attrition.csv\", stringsAsFactors = T)"
   ]
  },
  {
   "cell_type": "code",
   "execution_count": 3,
   "id": "suburban-religious",
   "metadata": {},
   "outputs": [],
   "source": [
    "att <- attrition          # we will use this dataset for training & testing"
   ]
  },
  {
   "cell_type": "markdown",
   "id": "breeding-pastor",
   "metadata": {},
   "source": [
    "#### c. Check dataset info -  head, tail, datatypes, dimensions etc."
   ]
  },
  {
   "cell_type": "code",
   "execution_count": 4,
   "id": "documented-southwest",
   "metadata": {},
   "outputs": [
    {
     "data": {
      "text/html": [
       "<ol class=list-inline>\n",
       "\t<li>1470</li>\n",
       "\t<li>35</li>\n",
       "</ol>\n"
      ],
      "text/latex": [
       "\\begin{enumerate*}\n",
       "\\item 1470\n",
       "\\item 35\n",
       "\\end{enumerate*}\n"
      ],
      "text/markdown": [
       "1. 1470\n",
       "2. 35\n",
       "\n",
       "\n"
      ],
      "text/plain": [
       "[1] 1470   35"
      ]
     },
     "metadata": {},
     "output_type": "display_data"
    }
   ],
   "source": [
    "dim(att)"
   ]
  },
  {
   "cell_type": "code",
   "execution_count": 5,
   "id": "foreign-duration",
   "metadata": {},
   "outputs": [
    {
     "data": {
      "text/html": [
       "<table>\n",
       "<thead><tr><th scope=col>Age</th><th scope=col>Attrition</th><th scope=col>BusinessTravel</th><th scope=col>DailyRate</th><th scope=col>Department</th><th scope=col>DistanceFromHome</th><th scope=col>Education</th><th scope=col>EducationField</th><th scope=col>EmployeeCount</th><th scope=col>EmployeeNumber</th><th scope=col>...</th><th scope=col>RelationshipSatisfaction</th><th scope=col>StandardHours</th><th scope=col>StockOptionLevel</th><th scope=col>TotalWorkingYears</th><th scope=col>TrainingTimesLastYear</th><th scope=col>WorkLifeBalance</th><th scope=col>YearsAtCompany</th><th scope=col>YearsInCurrentRole</th><th scope=col>YearsSinceLastPromotion</th><th scope=col>YearsWithCurrManager</th></tr></thead>\n",
       "<tbody>\n",
       "\t<tr><td>41                    </td><td>Yes                   </td><td>Travel_Rarely         </td><td>1102                  </td><td>Sales                 </td><td>1                     </td><td>2                     </td><td>Life Sciences         </td><td>1                     </td><td>1                     </td><td>...                   </td><td>1                     </td><td>80                    </td><td>0                     </td><td> 8                    </td><td>0                     </td><td>1                     </td><td> 6                    </td><td>4                     </td><td>0                     </td><td>5                     </td></tr>\n",
       "\t<tr><td>49                        </td><td>No                        </td><td>Travel_Frequently         </td><td> 279                      </td><td>Research &amp; Development</td><td>8                         </td><td>1                         </td><td>Life Sciences             </td><td>1                         </td><td>2                         </td><td>...                       </td><td>4                         </td><td>80                        </td><td>1                         </td><td>10                        </td><td>3                         </td><td>3                         </td><td>10                        </td><td>7                         </td><td>1                         </td><td>7                         </td></tr>\n",
       "\t<tr><td>37                                                       </td><td>Yes                                                      </td><td><span style=white-space:pre-wrap>Travel_Rarely    </span></td><td>1373                                                     </td><td>Research &amp; Development                               </td><td>2                                                        </td><td>2                                                        </td><td><span style=white-space:pre-wrap>Other        </span>    </td><td>1                                                        </td><td>4                                                        </td><td>...                                                      </td><td>2                                                        </td><td>80                                                       </td><td>0                                                        </td><td> 7                                                       </td><td>3                                                        </td><td>3                                                        </td><td> 0                                                       </td><td>0                                                        </td><td>0                                                        </td><td>0                                                        </td></tr>\n",
       "\t<tr><td>33                        </td><td>No                        </td><td>Travel_Frequently         </td><td>1392                      </td><td>Research &amp; Development</td><td>3                         </td><td>4                         </td><td>Life Sciences             </td><td>1                         </td><td>5                         </td><td>...                       </td><td>3                         </td><td>80                        </td><td>0                         </td><td> 8                        </td><td>3                         </td><td>3                         </td><td> 8                        </td><td>7                         </td><td>3                         </td><td>0                         </td></tr>\n",
       "\t<tr><td>27                                                       </td><td>No                                                       </td><td><span style=white-space:pre-wrap>Travel_Rarely    </span></td><td> 591                                                     </td><td>Research &amp; Development                               </td><td>2                                                        </td><td>1                                                        </td><td><span style=white-space:pre-wrap>Medical      </span>    </td><td>1                                                        </td><td>7                                                        </td><td>...                                                      </td><td>4                                                        </td><td>80                                                       </td><td>1                                                        </td><td> 6                                                       </td><td>3                                                        </td><td>3                                                        </td><td> 2                                                       </td><td>2                                                        </td><td>2                                                        </td><td>2                                                        </td></tr>\n",
       "\t<tr><td>32                        </td><td>No                        </td><td>Travel_Frequently         </td><td>1005                      </td><td>Research &amp; Development</td><td>2                         </td><td>2                         </td><td>Life Sciences             </td><td>1                         </td><td>8                         </td><td>...                       </td><td>3                         </td><td>80                        </td><td>0                         </td><td> 8                        </td><td>2                         </td><td>2                         </td><td> 7                        </td><td>7                         </td><td>3                         </td><td>6                         </td></tr>\n",
       "</tbody>\n",
       "</table>\n"
      ],
      "text/latex": [
       "\\begin{tabular}{r|lllllllllllllllllllllllllllllllllll}\n",
       " Age & Attrition & BusinessTravel & DailyRate & Department & DistanceFromHome & Education & EducationField & EmployeeCount & EmployeeNumber & ... & RelationshipSatisfaction & StandardHours & StockOptionLevel & TotalWorkingYears & TrainingTimesLastYear & WorkLifeBalance & YearsAtCompany & YearsInCurrentRole & YearsSinceLastPromotion & YearsWithCurrManager\\\\\n",
       "\\hline\n",
       "\t 41                     & Yes                    & Travel\\_Rarely        & 1102                   & Sales                  & 1                      & 2                      & Life Sciences          & 1                      & 1                      & ...                    & 1                      & 80                     & 0                      &  8                     & 0                      & 1                      &  6                     & 4                      & 0                      & 5                     \\\\\n",
       "\t 49                       & No                       & Travel\\_Frequently      &  279                     & Research \\& Development & 8                        & 1                        & Life Sciences            & 1                        & 2                        & ...                      & 4                        & 80                       & 1                        & 10                       & 3                        & 3                        & 10                       & 7                        & 1                        & 7                       \\\\\n",
       "\t 37                       & Yes                      & Travel\\_Rarely          & 1373                     & Research \\& Development & 2                        & 2                        & Other                    & 1                        & 4                        & ...                      & 2                        & 80                       & 0                        &  7                       & 3                        & 3                        &  0                       & 0                        & 0                        & 0                       \\\\\n",
       "\t 33                       & No                       & Travel\\_Frequently      & 1392                     & Research \\& Development & 3                        & 4                        & Life Sciences            & 1                        & 5                        & ...                      & 3                        & 80                       & 0                        &  8                       & 3                        & 3                        &  8                       & 7                        & 3                        & 0                       \\\\\n",
       "\t 27                       & No                       & Travel\\_Rarely          &  591                     & Research \\& Development & 2                        & 1                        & Medical                  & 1                        & 7                        & ...                      & 4                        & 80                       & 1                        &  6                       & 3                        & 3                        &  2                       & 2                        & 2                        & 2                       \\\\\n",
       "\t 32                       & No                       & Travel\\_Frequently      & 1005                     & Research \\& Development & 2                        & 2                        & Life Sciences            & 1                        & 8                        & ...                      & 3                        & 80                       & 0                        &  8                       & 2                        & 2                        &  7                       & 7                        & 3                        & 6                       \\\\\n",
       "\\end{tabular}\n"
      ],
      "text/markdown": [
       "\n",
       "| Age | Attrition | BusinessTravel | DailyRate | Department | DistanceFromHome | Education | EducationField | EmployeeCount | EmployeeNumber | ... | RelationshipSatisfaction | StandardHours | StockOptionLevel | TotalWorkingYears | TrainingTimesLastYear | WorkLifeBalance | YearsAtCompany | YearsInCurrentRole | YearsSinceLastPromotion | YearsWithCurrManager |\n",
       "|---|---|---|---|---|---|---|---|---|---|---|---|---|---|---|---|---|---|---|---|---|\n",
       "| 41                     | Yes                    | Travel_Rarely          | 1102                   | Sales                  | 1                      | 2                      | Life Sciences          | 1                      | 1                      | ...                    | 1                      | 80                     | 0                      |  8                     | 0                      | 1                      |  6                     | 4                      | 0                      | 5                      |\n",
       "| 49                     | No                     | Travel_Frequently      |  279                   | Research & Development | 8                      | 1                      | Life Sciences          | 1                      | 2                      | ...                    | 4                      | 80                     | 1                      | 10                     | 3                      | 3                      | 10                     | 7                      | 1                      | 7                      |\n",
       "| 37                     | Yes                    | Travel_Rarely          | 1373                   | Research & Development | 2                      | 2                      | Other                  | 1                      | 4                      | ...                    | 2                      | 80                     | 0                      |  7                     | 3                      | 3                      |  0                     | 0                      | 0                      | 0                      |\n",
       "| 33                     | No                     | Travel_Frequently      | 1392                   | Research & Development | 3                      | 4                      | Life Sciences          | 1                      | 5                      | ...                    | 3                      | 80                     | 0                      |  8                     | 3                      | 3                      |  8                     | 7                      | 3                      | 0                      |\n",
       "| 27                     | No                     | Travel_Rarely          |  591                   | Research & Development | 2                      | 1                      | Medical                | 1                      | 7                      | ...                    | 4                      | 80                     | 1                      |  6                     | 3                      | 3                      |  2                     | 2                      | 2                      | 2                      |\n",
       "| 32                     | No                     | Travel_Frequently      | 1005                   | Research & Development | 2                      | 2                      | Life Sciences          | 1                      | 8                      | ...                    | 3                      | 80                     | 0                      |  8                     | 2                      | 2                      |  7                     | 7                      | 3                      | 6                      |\n",
       "\n"
      ],
      "text/plain": [
       "  Age Attrition BusinessTravel    DailyRate Department            \n",
       "1 41  Yes       Travel_Rarely     1102      Sales                 \n",
       "2 49  No        Travel_Frequently  279      Research & Development\n",
       "3 37  Yes       Travel_Rarely     1373      Research & Development\n",
       "4 33  No        Travel_Frequently 1392      Research & Development\n",
       "5 27  No        Travel_Rarely      591      Research & Development\n",
       "6 32  No        Travel_Frequently 1005      Research & Development\n",
       "  DistanceFromHome Education EducationField EmployeeCount EmployeeNumber ...\n",
       "1 1                2         Life Sciences  1             1              ...\n",
       "2 8                1         Life Sciences  1             2              ...\n",
       "3 2                2         Other          1             4              ...\n",
       "4 3                4         Life Sciences  1             5              ...\n",
       "5 2                1         Medical        1             7              ...\n",
       "6 2                2         Life Sciences  1             8              ...\n",
       "  RelationshipSatisfaction StandardHours StockOptionLevel TotalWorkingYears\n",
       "1 1                        80            0                 8               \n",
       "2 4                        80            1                10               \n",
       "3 2                        80            0                 7               \n",
       "4 3                        80            0                 8               \n",
       "5 4                        80            1                 6               \n",
       "6 3                        80            0                 8               \n",
       "  TrainingTimesLastYear WorkLifeBalance YearsAtCompany YearsInCurrentRole\n",
       "1 0                     1                6             4                 \n",
       "2 3                     3               10             7                 \n",
       "3 3                     3                0             0                 \n",
       "4 3                     3                8             7                 \n",
       "5 3                     3                2             2                 \n",
       "6 2                     2                7             7                 \n",
       "  YearsSinceLastPromotion YearsWithCurrManager\n",
       "1 0                       5                   \n",
       "2 1                       7                   \n",
       "3 0                       0                   \n",
       "4 3                       0                   \n",
       "5 2                       2                   \n",
       "6 3                       6                   "
      ]
     },
     "metadata": {},
     "output_type": "display_data"
    }
   ],
   "source": [
    "head(att)"
   ]
  },
  {
   "cell_type": "code",
   "execution_count": 6,
   "id": "specialized-contact",
   "metadata": {},
   "outputs": [
    {
     "data": {
      "text/html": [
       "<table>\n",
       "<thead><tr><th scope=col>Age</th><th scope=col>Attrition</th><th scope=col>BusinessTravel</th><th scope=col>DailyRate</th><th scope=col>Department</th><th scope=col>DistanceFromHome</th><th scope=col>Education</th><th scope=col>EducationField</th><th scope=col>EmployeeCount</th><th scope=col>EmployeeNumber</th><th scope=col>...</th><th scope=col>RelationshipSatisfaction</th><th scope=col>StandardHours</th><th scope=col>StockOptionLevel</th><th scope=col>TotalWorkingYears</th><th scope=col>TrainingTimesLastYear</th><th scope=col>WorkLifeBalance</th><th scope=col>YearsAtCompany</th><th scope=col>YearsInCurrentRole</th><th scope=col>YearsSinceLastPromotion</th><th scope=col>YearsWithCurrManager</th></tr></thead>\n",
       "<tbody>\n",
       "\t<tr><td>26                    </td><td>No                    </td><td>Travel_Rarely         </td><td>1167                  </td><td>Sales                 </td><td> 5                    </td><td>3                     </td><td>Other                 </td><td>1                     </td><td>2060                  </td><td>...                   </td><td>4                     </td><td>80                    </td><td>0                     </td><td> 5                    </td><td>2                     </td><td>3                     </td><td>4                     </td><td>2                     </td><td>0                     </td><td>0                     </td></tr>\n",
       "\t<tr><td>36                                                   </td><td>No                                                   </td><td>Travel_Frequently                                    </td><td> 884                                                 </td><td>Research &amp; Development                           </td><td>23                                                   </td><td>2                                                    </td><td><span style=white-space:pre-wrap>Medical      </span></td><td>1                                                    </td><td>2061                                                 </td><td>...                                                  </td><td>3                                                    </td><td>80                                                   </td><td>1                                                    </td><td>17                                                   </td><td>3                                                    </td><td>3                                                    </td><td>5                                                    </td><td>2                                                    </td><td>0                                                    </td><td>3                                                    </td></tr>\n",
       "\t<tr><td>39                                                       </td><td>No                                                       </td><td><span style=white-space:pre-wrap>Travel_Rarely    </span></td><td> 613                                                     </td><td>Research &amp; Development                               </td><td> 6                                                       </td><td>1                                                        </td><td><span style=white-space:pre-wrap>Medical      </span>    </td><td>1                                                        </td><td>2062                                                     </td><td>...                                                      </td><td>1                                                        </td><td>80                                                       </td><td>1                                                        </td><td> 9                                                       </td><td>5                                                        </td><td>3                                                        </td><td>7                                                        </td><td>7                                                        </td><td>1                                                        </td><td>7                                                        </td></tr>\n",
       "\t<tr><td>27                                                       </td><td>No                                                       </td><td><span style=white-space:pre-wrap>Travel_Rarely    </span></td><td> 155                                                     </td><td>Research &amp; Development                               </td><td> 4                                                       </td><td>3                                                        </td><td>Life Sciences                                            </td><td>1                                                        </td><td>2064                                                     </td><td>...                                                      </td><td>2                                                        </td><td>80                                                       </td><td>1                                                        </td><td> 6                                                       </td><td>0                                                        </td><td>3                                                        </td><td>6                                                        </td><td>2                                                        </td><td>0                                                        </td><td>3                                                        </td></tr>\n",
       "\t<tr><td>49                    </td><td>No                    </td><td>Travel_Frequently     </td><td>1023                  </td><td>Sales                 </td><td> 2                    </td><td>3                     </td><td>Medical               </td><td>1                     </td><td>2065                  </td><td>...                   </td><td>4                     </td><td>80                    </td><td>0                     </td><td>17                    </td><td>3                     </td><td>2                     </td><td>9                     </td><td>6                     </td><td>0                     </td><td>8                     </td></tr>\n",
       "\t<tr><td>34                                                       </td><td>No                                                       </td><td><span style=white-space:pre-wrap>Travel_Rarely    </span></td><td> 628                                                     </td><td>Research &amp; Development                               </td><td> 8                                                       </td><td>3                                                        </td><td><span style=white-space:pre-wrap>Medical      </span>    </td><td>1                                                        </td><td>2068                                                     </td><td>...                                                      </td><td>1                                                        </td><td>80                                                       </td><td>0                                                        </td><td> 6                                                       </td><td>3                                                        </td><td>4                                                        </td><td>4                                                        </td><td>3                                                        </td><td>1                                                        </td><td>2                                                        </td></tr>\n",
       "</tbody>\n",
       "</table>\n"
      ],
      "text/latex": [
       "\\begin{tabular}{r|lllllllllllllllllllllllllllllllllll}\n",
       " Age & Attrition & BusinessTravel & DailyRate & Department & DistanceFromHome & Education & EducationField & EmployeeCount & EmployeeNumber & ... & RelationshipSatisfaction & StandardHours & StockOptionLevel & TotalWorkingYears & TrainingTimesLastYear & WorkLifeBalance & YearsAtCompany & YearsInCurrentRole & YearsSinceLastPromotion & YearsWithCurrManager\\\\\n",
       "\\hline\n",
       "\t 26                     & No                     & Travel\\_Rarely        & 1167                   & Sales                  &  5                     & 3                      & Other                  & 1                      & 2060                   & ...                    & 4                      & 80                     & 0                      &  5                     & 2                      & 3                      & 4                      & 2                      & 0                      & 0                     \\\\\n",
       "\t 36                       & No                       & Travel\\_Frequently      &  884                     & Research \\& Development & 23                       & 2                        & Medical                  & 1                        & 2061                     & ...                      & 3                        & 80                       & 1                        & 17                       & 3                        & 3                        & 5                        & 2                        & 0                        & 3                       \\\\\n",
       "\t 39                       & No                       & Travel\\_Rarely          &  613                     & Research \\& Development &  6                       & 1                        & Medical                  & 1                        & 2062                     & ...                      & 1                        & 80                       & 1                        &  9                       & 5                        & 3                        & 7                        & 7                        & 1                        & 7                       \\\\\n",
       "\t 27                       & No                       & Travel\\_Rarely          &  155                     & Research \\& Development &  4                       & 3                        & Life Sciences            & 1                        & 2064                     & ...                      & 2                        & 80                       & 1                        &  6                       & 0                        & 3                        & 6                        & 2                        & 0                        & 3                       \\\\\n",
       "\t 49                     & No                     & Travel\\_Frequently    & 1023                   & Sales                  &  2                     & 3                      & Medical                & 1                      & 2065                   & ...                    & 4                      & 80                     & 0                      & 17                     & 3                      & 2                      & 9                      & 6                      & 0                      & 8                     \\\\\n",
       "\t 34                       & No                       & Travel\\_Rarely          &  628                     & Research \\& Development &  8                       & 3                        & Medical                  & 1                        & 2068                     & ...                      & 1                        & 80                       & 0                        &  6                       & 3                        & 4                        & 4                        & 3                        & 1                        & 2                       \\\\\n",
       "\\end{tabular}\n"
      ],
      "text/markdown": [
       "\n",
       "| Age | Attrition | BusinessTravel | DailyRate | Department | DistanceFromHome | Education | EducationField | EmployeeCount | EmployeeNumber | ... | RelationshipSatisfaction | StandardHours | StockOptionLevel | TotalWorkingYears | TrainingTimesLastYear | WorkLifeBalance | YearsAtCompany | YearsInCurrentRole | YearsSinceLastPromotion | YearsWithCurrManager |\n",
       "|---|---|---|---|---|---|---|---|---|---|---|---|---|---|---|---|---|---|---|---|---|\n",
       "| 26                     | No                     | Travel_Rarely          | 1167                   | Sales                  |  5                     | 3                      | Other                  | 1                      | 2060                   | ...                    | 4                      | 80                     | 0                      |  5                     | 2                      | 3                      | 4                      | 2                      | 0                      | 0                      |\n",
       "| 36                     | No                     | Travel_Frequently      |  884                   | Research & Development | 23                     | 2                      | Medical                | 1                      | 2061                   | ...                    | 3                      | 80                     | 1                      | 17                     | 3                      | 3                      | 5                      | 2                      | 0                      | 3                      |\n",
       "| 39                     | No                     | Travel_Rarely          |  613                   | Research & Development |  6                     | 1                      | Medical                | 1                      | 2062                   | ...                    | 1                      | 80                     | 1                      |  9                     | 5                      | 3                      | 7                      | 7                      | 1                      | 7                      |\n",
       "| 27                     | No                     | Travel_Rarely          |  155                   | Research & Development |  4                     | 3                      | Life Sciences          | 1                      | 2064                   | ...                    | 2                      | 80                     | 1                      |  6                     | 0                      | 3                      | 6                      | 2                      | 0                      | 3                      |\n",
       "| 49                     | No                     | Travel_Frequently      | 1023                   | Sales                  |  2                     | 3                      | Medical                | 1                      | 2065                   | ...                    | 4                      | 80                     | 0                      | 17                     | 3                      | 2                      | 9                      | 6                      | 0                      | 8                      |\n",
       "| 34                     | No                     | Travel_Rarely          |  628                   | Research & Development |  8                     | 3                      | Medical                | 1                      | 2068                   | ...                    | 1                      | 80                     | 0                      |  6                     | 3                      | 4                      | 4                      | 3                      | 1                      | 2                      |\n",
       "\n"
      ],
      "text/plain": [
       "  Age Attrition BusinessTravel    DailyRate Department            \n",
       "1 26  No        Travel_Rarely     1167      Sales                 \n",
       "2 36  No        Travel_Frequently  884      Research & Development\n",
       "3 39  No        Travel_Rarely      613      Research & Development\n",
       "4 27  No        Travel_Rarely      155      Research & Development\n",
       "5 49  No        Travel_Frequently 1023      Sales                 \n",
       "6 34  No        Travel_Rarely      628      Research & Development\n",
       "  DistanceFromHome Education EducationField EmployeeCount EmployeeNumber ...\n",
       "1  5               3         Other          1             2060           ...\n",
       "2 23               2         Medical        1             2061           ...\n",
       "3  6               1         Medical        1             2062           ...\n",
       "4  4               3         Life Sciences  1             2064           ...\n",
       "5  2               3         Medical        1             2065           ...\n",
       "6  8               3         Medical        1             2068           ...\n",
       "  RelationshipSatisfaction StandardHours StockOptionLevel TotalWorkingYears\n",
       "1 4                        80            0                 5               \n",
       "2 3                        80            1                17               \n",
       "3 1                        80            1                 9               \n",
       "4 2                        80            1                 6               \n",
       "5 4                        80            0                17               \n",
       "6 1                        80            0                 6               \n",
       "  TrainingTimesLastYear WorkLifeBalance YearsAtCompany YearsInCurrentRole\n",
       "1 2                     3               4              2                 \n",
       "2 3                     3               5              2                 \n",
       "3 5                     3               7              7                 \n",
       "4 0                     3               6              2                 \n",
       "5 3                     2               9              6                 \n",
       "6 3                     4               4              3                 \n",
       "  YearsSinceLastPromotion YearsWithCurrManager\n",
       "1 0                       0                   \n",
       "2 0                       3                   \n",
       "3 1                       7                   \n",
       "4 0                       3                   \n",
       "5 0                       8                   \n",
       "6 1                       2                   "
      ]
     },
     "metadata": {},
     "output_type": "display_data"
    }
   ],
   "source": [
    "tail(att)"
   ]
  },
  {
   "cell_type": "code",
   "execution_count": 7,
   "id": "accredited-thong",
   "metadata": {},
   "outputs": [
    {
     "name": "stdout",
     "output_type": "stream",
     "text": [
      "Classes 'data.table' and 'data.frame':\t1470 obs. of  35 variables:\n",
      " $ Age                     : int  41 49 37 33 27 32 59 30 38 36 ...\n",
      " $ Attrition               : Factor w/ 2 levels \"No\",\"Yes\": 2 1 2 1 1 1 1 1 1 1 ...\n",
      " $ BusinessTravel          : Factor w/ 3 levels \"Non-Travel\",\"Travel_Frequently\",..: 3 2 3 2 3 2 3 3 2 3 ...\n",
      " $ DailyRate               : int  1102 279 1373 1392 591 1005 1324 1358 216 1299 ...\n",
      " $ Department              : Factor w/ 3 levels \"Human Resources\",..: 3 2 2 2 2 2 2 2 2 2 ...\n",
      " $ DistanceFromHome        : int  1 8 2 3 2 2 3 24 23 27 ...\n",
      " $ Education               : int  2 1 2 4 1 2 3 1 3 3 ...\n",
      " $ EducationField          : Factor w/ 6 levels \"Human Resources\",..: 2 2 5 2 4 2 4 2 2 4 ...\n",
      " $ EmployeeCount           : int  1 1 1 1 1 1 1 1 1 1 ...\n",
      " $ EmployeeNumber          : int  1 2 4 5 7 8 10 11 12 13 ...\n",
      " $ EnvironmentSatisfaction : int  2 3 4 4 1 4 3 4 4 3 ...\n",
      " $ Gender                  : Factor w/ 2 levels \"Female\",\"Male\": 1 2 2 1 2 2 1 2 2 2 ...\n",
      " $ HourlyRate              : int  94 61 92 56 40 79 81 67 44 94 ...\n",
      " $ JobInvolvement          : int  3 2 2 3 3 3 4 3 2 3 ...\n",
      " $ JobLevel                : int  2 2 1 1 1 1 1 1 3 2 ...\n",
      " $ JobRole                 : Factor w/ 9 levels \"Healthcare Representative\",..: 8 7 3 7 3 3 3 3 5 1 ...\n",
      " $ JobSatisfaction         : int  4 2 3 3 2 4 1 3 3 3 ...\n",
      " $ MaritalStatus           : Factor w/ 3 levels \"Divorced\",\"Married\",..: 3 2 3 2 2 3 2 1 3 2 ...\n",
      " $ MonthlyIncome           : int  5993 5130 2090 2909 3468 3068 2670 2693 9526 5237 ...\n",
      " $ MonthlyRate             : int  19479 24907 2396 23159 16632 11864 9964 13335 8787 16577 ...\n",
      " $ NumCompaniesWorked      : int  8 1 6 1 9 0 4 1 0 6 ...\n",
      " $ Over18                  : Factor w/ 1 level \"Y\": 1 1 1 1 1 1 1 1 1 1 ...\n",
      " $ OverTime                : Factor w/ 2 levels \"No\",\"Yes\": 2 1 2 2 1 1 2 1 1 1 ...\n",
      " $ PercentSalaryHike       : int  11 23 15 11 12 13 20 22 21 13 ...\n",
      " $ PerformanceRating       : int  3 4 3 3 3 3 4 4 4 3 ...\n",
      " $ RelationshipSatisfaction: int  1 4 2 3 4 3 1 2 2 2 ...\n",
      " $ StandardHours           : int  80 80 80 80 80 80 80 80 80 80 ...\n",
      " $ StockOptionLevel        : int  0 1 0 0 1 0 3 1 0 2 ...\n",
      " $ TotalWorkingYears       : int  8 10 7 8 6 8 12 1 10 17 ...\n",
      " $ TrainingTimesLastYear   : int  0 3 3 3 3 2 3 2 2 3 ...\n",
      " $ WorkLifeBalance         : int  1 3 3 3 3 2 2 3 3 2 ...\n",
      " $ YearsAtCompany          : int  6 10 0 8 2 7 1 1 9 7 ...\n",
      " $ YearsInCurrentRole      : int  4 7 0 7 2 7 0 0 7 7 ...\n",
      " $ YearsSinceLastPromotion : int  0 1 0 3 2 3 0 0 1 7 ...\n",
      " $ YearsWithCurrManager    : int  5 7 0 0 2 6 0 0 8 7 ...\n",
      " - attr(*, \".internal.selfref\")=<externalptr> \n"
     ]
    }
   ],
   "source": [
    "str(att)"
   ]
  },
  {
   "cell_type": "code",
   "execution_count": 8,
   "id": "uniform-korea",
   "metadata": {
    "scrolled": true
   },
   "outputs": [
    {
     "data": {
      "text/plain": [
       "      Age        Attrition            BusinessTravel   DailyRate     \n",
       " Min.   :18.00   No :1233   Non-Travel       : 150   Min.   : 102.0  \n",
       " 1st Qu.:30.00   Yes: 237   Travel_Frequently: 277   1st Qu.: 465.0  \n",
       " Median :36.00              Travel_Rarely    :1043   Median : 802.0  \n",
       " Mean   :36.92                                       Mean   : 802.5  \n",
       " 3rd Qu.:43.00                                       3rd Qu.:1157.0  \n",
       " Max.   :60.00                                       Max.   :1499.0  \n",
       "                                                                     \n",
       "                  Department  DistanceFromHome   Education    \n",
       " Human Resources       : 63   Min.   : 1.000   Min.   :1.000  \n",
       " Research & Development:961   1st Qu.: 2.000   1st Qu.:2.000  \n",
       " Sales                 :446   Median : 7.000   Median :3.000  \n",
       "                              Mean   : 9.193   Mean   :2.913  \n",
       "                              3rd Qu.:14.000   3rd Qu.:4.000  \n",
       "                              Max.   :29.000   Max.   :5.000  \n",
       "                                                              \n",
       "          EducationField EmployeeCount EmployeeNumber   EnvironmentSatisfaction\n",
       " Human Resources : 27    Min.   :1     Min.   :   1.0   Min.   :1.000          \n",
       " Life Sciences   :606    1st Qu.:1     1st Qu.: 491.2   1st Qu.:2.000          \n",
       " Marketing       :159    Median :1     Median :1020.5   Median :3.000          \n",
       " Medical         :464    Mean   :1     Mean   :1024.9   Mean   :2.722          \n",
       " Other           : 82    3rd Qu.:1     3rd Qu.:1555.8   3rd Qu.:4.000          \n",
       " Technical Degree:132    Max.   :1     Max.   :2068.0   Max.   :4.000          \n",
       "                                                                               \n",
       "    Gender      HourlyRate     JobInvolvement    JobLevel    \n",
       " Female:588   Min.   : 30.00   Min.   :1.00   Min.   :1.000  \n",
       " Male  :882   1st Qu.: 48.00   1st Qu.:2.00   1st Qu.:1.000  \n",
       "              Median : 66.00   Median :3.00   Median :2.000  \n",
       "              Mean   : 65.89   Mean   :2.73   Mean   :2.064  \n",
       "              3rd Qu.: 83.75   3rd Qu.:3.00   3rd Qu.:3.000  \n",
       "              Max.   :100.00   Max.   :4.00   Max.   :5.000  \n",
       "                                                             \n",
       "                      JobRole    JobSatisfaction  MaritalStatus MonthlyIncome  \n",
       " Sales Executive          :326   Min.   :1.000   Divorced:327   Min.   : 1009  \n",
       " Research Scientist       :292   1st Qu.:2.000   Married :673   1st Qu.: 2911  \n",
       " Laboratory Technician    :259   Median :3.000   Single  :470   Median : 4919  \n",
       " Manufacturing Director   :145   Mean   :2.729                  Mean   : 6503  \n",
       " Healthcare Representative:131   3rd Qu.:4.000                  3rd Qu.: 8379  \n",
       " Manager                  :102   Max.   :4.000                  Max.   :19999  \n",
       " (Other)                  :215                                                 \n",
       "  MonthlyRate    NumCompaniesWorked Over18   OverTime   PercentSalaryHike\n",
       " Min.   : 2094   Min.   :0.000      Y:1470   No :1054   Min.   :11.00    \n",
       " 1st Qu.: 8047   1st Qu.:1.000               Yes: 416   1st Qu.:12.00    \n",
       " Median :14236   Median :2.000                          Median :14.00    \n",
       " Mean   :14313   Mean   :2.693                          Mean   :15.21    \n",
       " 3rd Qu.:20462   3rd Qu.:4.000                          3rd Qu.:18.00    \n",
       " Max.   :26999   Max.   :9.000                          Max.   :25.00    \n",
       "                                                                         \n",
       " PerformanceRating RelationshipSatisfaction StandardHours StockOptionLevel\n",
       " Min.   :3.000     Min.   :1.000            Min.   :80    Min.   :0.0000  \n",
       " 1st Qu.:3.000     1st Qu.:2.000            1st Qu.:80    1st Qu.:0.0000  \n",
       " Median :3.000     Median :3.000            Median :80    Median :1.0000  \n",
       " Mean   :3.154     Mean   :2.712            Mean   :80    Mean   :0.7939  \n",
       " 3rd Qu.:3.000     3rd Qu.:4.000            3rd Qu.:80    3rd Qu.:1.0000  \n",
       " Max.   :4.000     Max.   :4.000            Max.   :80    Max.   :3.0000  \n",
       "                                                                          \n",
       " TotalWorkingYears TrainingTimesLastYear WorkLifeBalance YearsAtCompany  \n",
       " Min.   : 0.00     Min.   :0.000         Min.   :1.000   Min.   : 0.000  \n",
       " 1st Qu.: 6.00     1st Qu.:2.000         1st Qu.:2.000   1st Qu.: 3.000  \n",
       " Median :10.00     Median :3.000         Median :3.000   Median : 5.000  \n",
       " Mean   :11.28     Mean   :2.799         Mean   :2.761   Mean   : 7.008  \n",
       " 3rd Qu.:15.00     3rd Qu.:3.000         3rd Qu.:3.000   3rd Qu.: 9.000  \n",
       " Max.   :40.00     Max.   :6.000         Max.   :4.000   Max.   :40.000  \n",
       "                                                                         \n",
       " YearsInCurrentRole YearsSinceLastPromotion YearsWithCurrManager\n",
       " Min.   : 0.000     Min.   : 0.000          Min.   : 0.000      \n",
       " 1st Qu.: 2.000     1st Qu.: 0.000          1st Qu.: 2.000      \n",
       " Median : 3.000     Median : 1.000          Median : 3.000      \n",
       " Mean   : 4.229     Mean   : 2.188          Mean   : 4.123      \n",
       " 3rd Qu.: 7.000     3rd Qu.: 3.000          3rd Qu.: 7.000      \n",
       " Max.   :18.000     Max.   :15.000          Max.   :17.000      \n",
       "                                                                "
      ]
     },
     "metadata": {},
     "output_type": "display_data"
    }
   ],
   "source": [
    "# Data Exploration\n",
    "summary(att)       # Total 35 variables, target variable is Attrition - Yes/No"
   ]
  },
  {
   "cell_type": "markdown",
   "id": "hearing-chassis",
   "metadata": {},
   "source": [
    "- Dataset has 1,470 samples and 35 Variables. Variables include each employee’s age, distance from home, amount of business travel, education level, whether or not the employee left the company, salary, job satisfaction, years with current manager, training, Marital Status, performance rating and others.   \n",
    "- Target variable is 'Attrition' with two levels - **'Yes'(Employee quit organization)** and **'No'(Employee did not quit organization)** "
   ]
  },
  {
   "cell_type": "markdown",
   "id": "painful-insulation",
   "metadata": {},
   "source": [
    "#### d. Check for target variable class imbalance."
   ]
  },
  {
   "cell_type": "code",
   "execution_count": 9,
   "id": "large-muscle",
   "metadata": {},
   "outputs": [
    {
     "data": {
      "text/plain": [
       "\n",
       "  No  Yes \n",
       "1233  237 "
      ]
     },
     "metadata": {},
     "output_type": "display_data"
    },
    {
     "data": {
      "image/png": "[encoded data removed]",
      "text/plain": [
       "plot without title"
      ]
     },
     "metadata": {},
     "output_type": "display_data"
    }
   ],
   "source": [
    "table(att$Attrition)\n",
    "ggplot(att) +\n",
    " aes(x = Attrition, fill = Attrition) +\n",
    " geom_bar() +\n",
    " scale_fill_hue() +\n",
    " ggthemes::theme_economist()"
   ]
  },
  {
   "cell_type": "markdown",
   "id": "determined-position",
   "metadata": {},
   "source": [
    "<u>**Insights:**</u>\n",
    "1. 84% of employees did not quit the organization while 16% did leave the organization.<br>\n",
    "2. count of 'No' are 5 times more than 'Yes', which means our data is highly imbalance for level 'Yes', this will result in our model fail to predict for level 'Yes' as it will not have sufficient records for training.  "
   ]
  },
  {
   "cell_type": "markdown",
   "id": "romance-innocent",
   "metadata": {},
   "source": [
    "#### 2. Explporatory Data Analysis: \n"
   ]
  },
  {
   "cell_type": "markdown",
   "id": "fourth-patient",
   "metadata": {},
   "source": [
    "#### Find out missing values."
   ]
  },
  {
   "cell_type": "code",
   "execution_count": 10,
   "id": "eight-eight",
   "metadata": {
    "scrolled": true
   },
   "outputs": [
    {
     "data": {
      "text/html": [
       "<dl class=dl-horizontal>\n",
       "\t<dt>Age</dt>\n",
       "\t\t<dd>0</dd>\n",
       "\t<dt>Attrition</dt>\n",
       "\t\t<dd>0</dd>\n",
       "\t<dt>BusinessTravel</dt>\n",
       "\t\t<dd>0</dd>\n",
       "\t<dt>DailyRate</dt>\n",
       "\t\t<dd>0</dd>\n",
       "\t<dt>Department</dt>\n",
       "\t\t<dd>0</dd>\n",
       "\t<dt>DistanceFromHome</dt>\n",
       "\t\t<dd>0</dd>\n",
       "\t<dt>Education</dt>\n",
       "\t\t<dd>0</dd>\n",
       "\t<dt>EducationField</dt>\n",
       "\t\t<dd>0</dd>\n",
       "\t<dt>EmployeeCount</dt>\n",
       "\t\t<dd>0</dd>\n",
       "\t<dt>EmployeeNumber</dt>\n",
       "\t\t<dd>0</dd>\n",
       "\t<dt>EnvironmentSatisfaction</dt>\n",
       "\t\t<dd>0</dd>\n",
       "\t<dt>Gender</dt>\n",
       "\t\t<dd>0</dd>\n",
       "\t<dt>HourlyRate</dt>\n",
       "\t\t<dd>0</dd>\n",
       "\t<dt>JobInvolvement</dt>\n",
       "\t\t<dd>0</dd>\n",
       "\t<dt>JobLevel</dt>\n",
       "\t\t<dd>0</dd>\n",
       "\t<dt>JobRole</dt>\n",
       "\t\t<dd>0</dd>\n",
       "\t<dt>JobSatisfaction</dt>\n",
       "\t\t<dd>0</dd>\n",
       "\t<dt>MaritalStatus</dt>\n",
       "\t\t<dd>0</dd>\n",
       "\t<dt>MonthlyIncome</dt>\n",
       "\t\t<dd>0</dd>\n",
       "\t<dt>MonthlyRate</dt>\n",
       "\t\t<dd>0</dd>\n",
       "\t<dt>NumCompaniesWorked</dt>\n",
       "\t\t<dd>0</dd>\n",
       "\t<dt>Over18</dt>\n",
       "\t\t<dd>0</dd>\n",
       "\t<dt>OverTime</dt>\n",
       "\t\t<dd>0</dd>\n",
       "\t<dt>PercentSalaryHike</dt>\n",
       "\t\t<dd>0</dd>\n",
       "\t<dt>PerformanceRating</dt>\n",
       "\t\t<dd>0</dd>\n",
       "\t<dt>RelationshipSatisfaction</dt>\n",
       "\t\t<dd>0</dd>\n",
       "\t<dt>StandardHours</dt>\n",
       "\t\t<dd>0</dd>\n",
       "\t<dt>StockOptionLevel</dt>\n",
       "\t\t<dd>0</dd>\n",
       "\t<dt>TotalWorkingYears</dt>\n",
       "\t\t<dd>0</dd>\n",
       "\t<dt>TrainingTimesLastYear</dt>\n",
       "\t\t<dd>0</dd>\n",
       "\t<dt>WorkLifeBalance</dt>\n",
       "\t\t<dd>0</dd>\n",
       "\t<dt>YearsAtCompany</dt>\n",
       "\t\t<dd>0</dd>\n",
       "\t<dt>YearsInCurrentRole</dt>\n",
       "\t\t<dd>0</dd>\n",
       "\t<dt>YearsSinceLastPromotion</dt>\n",
       "\t\t<dd>0</dd>\n",
       "\t<dt>YearsWithCurrManager</dt>\n",
       "\t\t<dd>0</dd>\n",
       "</dl>\n"
      ],
      "text/latex": [
       "\\begin{description*}\n",
       "\\item[Age] 0\n",
       "\\item[Attrition] 0\n",
       "\\item[BusinessTravel] 0\n",
       "\\item[DailyRate] 0\n",
       "\\item[Department] 0\n",
       "\\item[DistanceFromHome] 0\n",
       "\\item[Education] 0\n",
       "\\item[EducationField] 0\n",
       "\\item[EmployeeCount] 0\n",
       "\\item[EmployeeNumber] 0\n",
       "\\item[EnvironmentSatisfaction] 0\n",
       "\\item[Gender] 0\n",
       "\\item[HourlyRate] 0\n",
       "\\item[JobInvolvement] 0\n",
       "\\item[JobLevel] 0\n",
       "\\item[JobRole] 0\n",
       "\\item[JobSatisfaction] 0\n",
       "\\item[MaritalStatus] 0\n",
       "\\item[MonthlyIncome] 0\n",
       "\\item[MonthlyRate] 0\n",
       "\\item[NumCompaniesWorked] 0\n",
       "\\item[Over18] 0\n",
       "\\item[OverTime] 0\n",
       "\\item[PercentSalaryHike] 0\n",
       "\\item[PerformanceRating] 0\n",
       "\\item[RelationshipSatisfaction] 0\n",
       "\\item[StandardHours] 0\n",
       "\\item[StockOptionLevel] 0\n",
       "\\item[TotalWorkingYears] 0\n",
       "\\item[TrainingTimesLastYear] 0\n",
       "\\item[WorkLifeBalance] 0\n",
       "\\item[YearsAtCompany] 0\n",
       "\\item[YearsInCurrentRole] 0\n",
       "\\item[YearsSinceLastPromotion] 0\n",
       "\\item[YearsWithCurrManager] 0\n",
       "\\end{description*}\n"
      ],
      "text/markdown": [
       "Age\n",
       ":   0Attrition\n",
       ":   0BusinessTravel\n",
       ":   0DailyRate\n",
       ":   0Department\n",
       ":   0DistanceFromHome\n",
       ":   0Education\n",
       ":   0EducationField\n",
       ":   0EmployeeCount\n",
       ":   0EmployeeNumber\n",
       ":   0EnvironmentSatisfaction\n",
       ":   0Gender\n",
       ":   0HourlyRate\n",
       ":   0JobInvolvement\n",
       ":   0JobLevel\n",
       ":   0JobRole\n",
       ":   0JobSatisfaction\n",
       ":   0MaritalStatus\n",
       ":   0MonthlyIncome\n",
       ":   0MonthlyRate\n",
       ":   0NumCompaniesWorked\n",
       ":   0Over18\n",
       ":   0OverTime\n",
       ":   0PercentSalaryHike\n",
       ":   0PerformanceRating\n",
       ":   0RelationshipSatisfaction\n",
       ":   0StandardHours\n",
       ":   0StockOptionLevel\n",
       ":   0TotalWorkingYears\n",
       ":   0TrainingTimesLastYear\n",
       ":   0WorkLifeBalance\n",
       ":   0YearsAtCompany\n",
       ":   0YearsInCurrentRole\n",
       ":   0YearsSinceLastPromotion\n",
       ":   0YearsWithCurrManager\n",
       ":   0\n",
       "\n"
      ],
      "text/plain": [
       "                     Age                Attrition           BusinessTravel \n",
       "                       0                        0                        0 \n",
       "               DailyRate               Department         DistanceFromHome \n",
       "                       0                        0                        0 \n",
       "               Education           EducationField            EmployeeCount \n",
       "                       0                        0                        0 \n",
       "          EmployeeNumber  EnvironmentSatisfaction                   Gender \n",
       "                       0                        0                        0 \n",
       "              HourlyRate           JobInvolvement                 JobLevel \n",
       "                       0                        0                        0 \n",
       "                 JobRole          JobSatisfaction            MaritalStatus \n",
       "                       0                        0                        0 \n",
       "           MonthlyIncome              MonthlyRate       NumCompaniesWorked \n",
       "                       0                        0                        0 \n",
       "                  Over18                 OverTime        PercentSalaryHike \n",
       "                       0                        0                        0 \n",
       "       PerformanceRating RelationshipSatisfaction            StandardHours \n",
       "                       0                        0                        0 \n",
       "        StockOptionLevel        TotalWorkingYears    TrainingTimesLastYear \n",
       "                       0                        0                        0 \n",
       "         WorkLifeBalance           YearsAtCompany       YearsInCurrentRole \n",
       "                       0                        0                        0 \n",
       " YearsSinceLastPromotion     YearsWithCurrManager \n",
       "                       0                        0 "
      ]
     },
     "metadata": {},
     "output_type": "display_data"
    }
   ],
   "source": [
    "colSums(is.na(att))"
   ]
  },
  {
   "cell_type": "markdown",
   "id": "meaningful-verse",
   "metadata": {},
   "source": [
    "- We can see that dataset does not have any missing values to deal with."
   ]
  },
  {
   "cell_type": "markdown",
   "id": "given-night",
   "metadata": {},
   "source": [
    "- Let's check how the target variable is distributed amongst its levels.  \n",
    "Attrition"
   ]
  },
  {
   "cell_type": "markdown",
   "id": "extreme-intermediate",
   "metadata": {},
   "source": [
    "#### Data Analysis\n",
    "The goal of EDA is to understand data thoroughly, Understand descriptive statistics related to data, and investigate relationships that may exist between target variable & predictor variables.We also need to investigate relationships between predictor variables since these relationships may result in h compounding effect on the target variable. These insights are also helpful in modelling phase to tune our machine learning model for best results."
   ]
  },
  {
   "cell_type": "markdown",
   "id": "personal-sponsorship",
   "metadata": {},
   "source": [
    "#### **Finding Correlation between Age & Attrition**"
   ]
  },
  {
   "cell_type": "code",
   "execution_count": 11,
   "id": "secondary-crack",
   "metadata": {},
   "outputs": [
    {
     "data": {
      "text/plain": [
       "\n",
       " Descriptive statistics by group \n",
       "group: No\n",
       "   vars    n  mean   sd median trimmed mad min max range skew kurtosis   se\n",
       "X1    1 1233 37.56 8.89     36   37.11 8.9  18  60    42 0.41    -0.42 0.25\n",
       "------------------------------------------------------------ \n",
       "group: Yes\n",
       "   vars   n  mean   sd median trimmed mad min max range skew kurtosis   se\n",
       "X1    1 237 33.61 9.69     32   32.85 8.9  18  58    40 0.71    -0.11 0.63"
      ]
     },
     "metadata": {},
     "output_type": "display_data"
    }
   ],
   "source": [
    "describeBy(att$Age, att$Attrition)"
   ]
  },
  {
   "cell_type": "markdown",
   "id": "resident-ready",
   "metadata": {},
   "source": [
    "Representing above values visually for better intuition"
   ]
  },
  {
   "cell_type": "code",
   "execution_count": 12,
   "id": "negative-birmingham",
   "metadata": {
    "scrolled": true
   },
   "outputs": [
    {
     "data": {
      "image/png": "[encoded data removed]",
      "text/plain": [
       "plot without title"
      ]
     },
     "metadata": {},
     "output_type": "display_data"
    }
   ],
   "source": [
    "ggplot(data = att, aes(Attrition, Age)) + geom_boxplot(fill = c(2:3)) + ggthemes::theme_economist() + labs(title = \"Distribution of age with respect to Attrition\")"
   ]
  },
  {
   "cell_type": "code",
   "execution_count": 13,
   "id": "pursuant-burlington",
   "metadata": {
    "scrolled": true
   },
   "outputs": [
    {
     "data": {
      "image/png": "[encoded data removed]",
      "text/plain": [
       "plot without title"
      ]
     },
     "metadata": {},
     "output_type": "display_data"
    }
   ],
   "source": [
    "ggplot(att) +\n",
    " aes(x = Attrition, y = Age, fill = Attrition) +\n",
    " geom_violin(adjust = 1L, scale = \"area\") +\n",
    " scale_fill_hue() +\n",
    " ggthemes::theme_economist()"
   ]
  },
  {
   "cell_type": "markdown",
   "id": "interested-filter",
   "metadata": {},
   "source": [
    "<u>**Insights: **</u><br>\n",
    "1. From both the plots we can deduce that people with higher age are likely to stay in the company.<br>\n",
    "2. We can see lot of points concentrated around age 30 for level Yes, from this, we can say that people in the range of 28-32 are most likely to look for new job.<br>\n",
    "3. This may be because of several factors namely, risk friendly attitude, less/no family dependencies, better pay etc.. we'll explore some of these factors later in our analysis."
   ]
  },
  {
   "cell_type": "code",
   "execution_count": 14,
   "id": "expressed-transformation",
   "metadata": {},
   "outputs": [
    {
     "data": {
      "text/plain": [
       "\n",
       "Two-Step Estimates\n",
       "\n",
       "Correlations/Type of Correlation:\n",
       "              att$Age att.Attrition\n",
       "att$Age             1    Polyserial\n",
       "att.Attrition  -0.238             1\n",
       "\n",
       "Standard Errors:\n",
       "      att$Age att.Attrition \n",
       "                    0.03756 \n",
       "Levels:  0.03756\n",
       "\n",
       "n = 1470 \n",
       "\n",
       "P-values for Tests of Bivariate Normality:\n",
       "      att$Age att.Attrition \n",
       "                  0.0002863 \n",
       "Levels:  0.0002863"
      ]
     },
     "metadata": {},
     "output_type": "display_data"
    }
   ],
   "source": [
    "hetcor(att$Age, att$Attrition)"
   ]
  },
  {
   "cell_type": "markdown",
   "id": "formed-lebanon",
   "metadata": {},
   "source": [
    "We can see the there is negative correlation between Age and Attrition, which further solidifies our hypothesis, as the age increases, attrition decreases."
   ]
  },
  {
   "cell_type": "markdown",
   "id": "narrow-adolescent",
   "metadata": {},
   "source": [
    "##### <u>**Gender Analysis**</u>"
   ]
  },
  {
   "cell_type": "markdown",
   "id": "material-region",
   "metadata": {},
   "source": [
    "**What is Age distribution by gender?**<br>"
   ]
  },
  {
   "cell_type": "code",
   "execution_count": 15,
   "id": "incident-penetration",
   "metadata": {},
   "outputs": [
    {
     "data": {
      "text/plain": [
       "\n",
       " Descriptive statistics by group \n",
       "group: Female\n",
       "   vars   n  mean   sd median trimmed mad min max range skew kurtosis   se\n",
       "X1    1 588 37.33 9.27     36   36.93 8.9  18  60    42 0.37    -0.46 0.38\n",
       "------------------------------------------------------------ \n",
       "group: Male\n",
       "   vars   n  mean   sd median trimmed mad min max range skew kurtosis  se\n",
       "X1    1 882 36.65 9.04     35   36.18 8.9  18  60    42 0.44    -0.38 0.3"
      ]
     },
     "metadata": {},
     "output_type": "display_data"
    },
    {
     "data": {
      "image/png": "[encoded data removed]",
      "text/plain": [
       "plot without title"
      ]
     },
     "metadata": {},
     "output_type": "display_data"
    }
   ],
   "source": [
    "describeBy(att$Age, att$Gender)\n",
    "ggplot(data = att, aes(Gender, Age)) + geom_boxplot(fill = c(2:3)) + ggtitle(\"Boxplot of Age per gender\") + ggthemes::theme_economist()"
   ]
  },
  {
   "cell_type": "markdown",
   "id": "toxic-semester",
   "metadata": {},
   "source": [
    "<br><br><u>**Insights: **<br></u>\n",
    "As we can see that mean & median age values for both the genders are very close to each other, which means we can say that age is normally distributed."
   ]
  },
  {
   "cell_type": "markdown",
   "id": "anonymous-specification",
   "metadata": {},
   "source": [
    "<br>**Does job satisfaction hamper attrition by Gender?**<br>\n"
   ]
  },
  {
   "cell_type": "code",
   "execution_count": 16,
   "id": "differential-arthur",
   "metadata": {},
   "outputs": [
    {
     "data": {
      "image/png": "[encoded data removed]",
      "text/plain": [
       "plot without title"
      ]
     },
     "metadata": {},
     "output_type": "display_data"
    }
   ],
   "source": [
    "ggplot(data = att, aes(x=Attrition, y=JobSatisfaction)) + geom_boxplot(fill = c(2:5)) + ggthemes::theme_economist() + facet_wrap(~Gender)\n"
   ]
  },
  {
   "cell_type": "markdown",
   "id": "handy-fence",
   "metadata": {},
   "source": [
    "<br><br><u>**Insights: **<br></u>\n",
    "1. Clearly for people who left, job satisfaction levels are lower than people who stayed in company.Which means job satisfaction level is an important indicator for employee attrition.<br>\n",
    "2. Job satisfaction in females is generally higher than in Males.<br><br>\n",
    "\n"
   ]
  },
  {
   "cell_type": "markdown",
   "id": "precious-fruit",
   "metadata": {},
   "source": [
    "**Gender bias in salaries is not a sign of good company culture, let's check if it is there in our dataset.**<br>\n"
   ]
  },
  {
   "cell_type": "code",
   "execution_count": 17,
   "id": "neither-species",
   "metadata": {},
   "outputs": [
    {
     "data": {
      "text/plain": [
       "\n",
       " Descriptive statistics by group \n",
       "group: Female\n",
       "   vars   n    mean      sd median trimmed     mad  min   max range skew\n",
       "X1    1 588 6686.57 4695.61 5081.5 5918.12 3401.83 1129 19973 18844 1.26\n",
       "   kurtosis     se\n",
       "X1     0.65 193.64\n",
       "------------------------------------------------------------ \n",
       "group: Male\n",
       "   vars   n    mean      sd median trimmed     mad  min   max range skew\n",
       "X1    1 882 6380.51 4714.86 4837.5 5506.37 3178.69 1009 19999 18990 1.44\n",
       "   kurtosis     se\n",
       "X1     1.23 158.76"
      ]
     },
     "metadata": {},
     "output_type": "display_data"
    }
   ],
   "source": [
    "describeBy(att$MonthlyIncome, att$Gender)\n"
   ]
  },
  {
   "cell_type": "code",
   "execution_count": 18,
   "id": "relative-tribune",
   "metadata": {},
   "outputs": [
    {
     "data": {
      "image/png": "[encoded data removed]",
      "text/plain": [
       "plot without title"
      ]
     },
     "metadata": {},
     "output_type": "display_data"
    }
   ],
   "source": [
    "ggplot(att) + aes(x = Gender, y = MonthlyIncome) + geom_boxplot(fill = \"#74c476\") + ggthemes::theme_economist()\n"
   ]
  },
  {
   "cell_type": "markdown",
   "id": "renewable-direction",
   "metadata": {},
   "source": [
    "<br><br><u>**Insights: **<br></u>\n",
    "We can see that salary is distribution for genders is almost same, which means we do not have gender bias in the data, which is good.<br><br>"
   ]
  },
  {
   "cell_type": "markdown",
   "id": "short-wrapping",
   "metadata": {},
   "source": [
    "##### <u>**Education Vs Attrition correlation**</u>\n",
    "<br> We will need to convert Education to factor since there only 5 types of values in Education ranging from 1 to 5 .<br>\n"
   ]
  },
  {
   "cell_type": "code",
   "execution_count": 19,
   "id": "recognized-relation",
   "metadata": {},
   "outputs": [
    {
     "data": {
      "text/html": [
       "<ol class=list-inline>\n",
       "\t<li>'1'</li>\n",
       "\t<li>'2'</li>\n",
       "\t<li>'3'</li>\n",
       "\t<li>'4'</li>\n",
       "\t<li>'5'</li>\n",
       "</ol>\n"
      ],
      "text/latex": [
       "\\begin{enumerate*}\n",
       "\\item '1'\n",
       "\\item '2'\n",
       "\\item '3'\n",
       "\\item '4'\n",
       "\\item '5'\n",
       "\\end{enumerate*}\n"
      ],
      "text/markdown": [
       "1. '1'\n",
       "2. '2'\n",
       "3. '3'\n",
       "4. '4'\n",
       "5. '5'\n",
       "\n",
       "\n"
      ],
      "text/plain": [
       "[1] \"1\" \"2\" \"3\" \"4\" \"5\""
      ]
     },
     "metadata": {},
     "output_type": "display_data"
    }
   ],
   "source": [
    "att$Education <- as.factor(att$Education)\n",
    "levels(att$Education)"
   ]
  },
  {
   "cell_type": "markdown",
   "id": "plastic-order",
   "metadata": {},
   "source": [
    "<br>Here,\n",
    "1 - least educated, maybe non-graduate.\n",
    "\n",
    "2 - Graduate with non-professional degree, BA, Bcom\n",
    "\n",
    "3 - Graduate with Professional degree - Btech, BE\n",
    "\n",
    "4 - Masters Degree\n",
    "\n",
    "5 - Phd."
   ]
  },
  {
   "cell_type": "markdown",
   "id": "electoral-azerbaijan",
   "metadata": {},
   "source": [
    "<br>Let's check realtionship between education and attrition using cross tabulation.<br>\n"
   ]
  },
  {
   "cell_type": "code",
   "execution_count": 20,
   "id": "negative-toronto",
   "metadata": {},
   "outputs": [
    {
     "name": "stderr",
     "output_type": "stream",
     "text": [
      "Warning message in repr_html.shiny.tag(obj):\n",
      "\"Inserting HTML strings into <head> is currently not supported\""
     ]
    },
    {
     "data": {
      "text/html": [
       "<!doctype html>\n",
       "<html>\n",
       "\t<head>\n",
       "\t\t<meta charset=\"utf-8\">\n",
       "\t\t\n",
       "\t</head>\n",
       "\t<body>\n",
       "\t\t<div class=\"container st-container\">\n",
       "  <h3>Cross-Tabulation, Column Proportions</h3>\n",
       "  <h4>Attrition * Education</h4>\n",
       "  <strong>Data Frame</strong>: att\n",
       "  <br/>\n",
       "  <table class=\"table table-bordered st-table st-table-bordered st-cross-table \">\n",
       "    <thead>\n",
       "      <tr>\n",
       "        <th></th>\n",
       "        <th colspan=\"20\" align=\"center\" class=\"st-protect-top-border\">Education</th>\n",
       "        <th colspan=\"4\"></th>\n",
       "      </tr>\n",
       "      <tr>\n",
       "        <td align=\"center\">\n",
       "          <strong>Attrition</strong>\n",
       "        </td>\n",
       "        <th colspan=\"4\" align=\"center\">1</th>\n",
       "        <th colspan=\"4\" align=\"center\">2</th>\n",
       "        <th colspan=\"4\" align=\"center\">3</th>\n",
       "        <th colspan=\"4\" align=\"center\">4</th>\n",
       "        <th colspan=\"4\" align=\"center\">5</th>\n",
       "        <th colspan=\"4\" align=\"center\">Total</th>\n",
       "      </tr>\n",
       "    </thead>\n",
       "    <tbody>\n",
       "      <tr>\n",
       "        <td>\n",
       "          <strong align=\"center\">No</strong>\n",
       "        </td>\n",
       "        <td align=\"right\" style=\"padding:0 0 0 15px;border-right:0;text-align:right\">139</td>\n",
       "        <td align=\"left\" style=\"padding:0 1px 0 4px;border-left:0;border-right:0;text-align:left\">(</td>\n",
       "        <td align=\"left\" style=\"padding:0;border-left:0;border-right:0;text-align:right\">82%</td>\n",
       "        <td align=\"left\" style=\"padding:0 15px 0 1px;border-left:0;text-align:right\">)</td>\n",
       "        <td align=\"right\" style=\"padding:0 0 0 15px;border-right:0;text-align:right\">238</td>\n",
       "        <td align=\"left\" style=\"padding:0 1px 0 4px;border-left:0;border-right:0;text-align:left\">(</td>\n",
       "        <td align=\"left\" style=\"padding:0;border-left:0;border-right:0;text-align:right\">84%</td>\n",
       "        <td align=\"left\" style=\"padding:0 15px 0 1px;border-left:0;text-align:right\">)</td>\n",
       "        <td align=\"right\" style=\"padding:0 0 0 15px;border-right:0;text-align:right\">473</td>\n",
       "        <td align=\"left\" style=\"padding:0 1px 0 4px;border-left:0;border-right:0;text-align:left\">(</td>\n",
       "        <td align=\"left\" style=\"padding:0;border-left:0;border-right:0;text-align:right\">83%</td>\n",
       "        <td align=\"left\" style=\"padding:0 15px 0 1px;border-left:0;text-align:right\">)</td>\n",
       "        <td align=\"right\" style=\"padding:0 0 0 15px;border-right:0;text-align:right\">340</td>\n",
       "        <td align=\"left\" style=\"padding:0 1px 0 4px;border-left:0;border-right:0;text-align:left\">(</td>\n",
       "        <td align=\"left\" style=\"padding:0;border-left:0;border-right:0;text-align:right\">85%</td>\n",
       "        <td align=\"left\" style=\"padding:0 15px 0 1px;border-left:0;text-align:right\">)</td>\n",
       "        <td align=\"right\" style=\"padding:0 0 0 15px;border-right:0;text-align:right\">43</td>\n",
       "        <td align=\"left\" style=\"padding:0 1px 0 4px;border-left:0;border-right:0;text-align:left\">(</td>\n",
       "        <td align=\"left\" style=\"padding:0;border-left:0;border-right:0;text-align:right\">90%</td>\n",
       "        <td align=\"left\" style=\"padding:0 15px 0 1px;border-left:0;text-align:right\">)</td>\n",
       "        <td align=\"right\" style=\"padding:0 0 0 15px;border-right:0;text-align:right\">1233</td>\n",
       "        <td align=\"left\" style=\"padding:0 1px 0 4px;border-left:0;border-right:0;text-align:left\">(</td>\n",
       "        <td align=\"left\" style=\"padding:0;border-left:0;border-right:0;text-align:right\">84%</td>\n",
       "        <td align=\"left\" style=\"padding:0 15px 0 1px;border-left:0;text-align:right\">)</td>\n",
       "      </tr>\n",
       "      <tr>\n",
       "        <td>\n",
       "          <strong align=\"center\">Yes</strong>\n",
       "        </td>\n",
       "        <td align=\"right\" style=\"padding:0 0 0 15px;border-right:0;text-align:right\">31</td>\n",
       "        <td align=\"left\" style=\"padding:0 1px 0 4px;border-left:0;border-right:0;text-align:left\">(</td>\n",
       "        <td align=\"left\" style=\"padding:0;border-left:0;border-right:0;text-align:right\">18%</td>\n",
       "        <td align=\"left\" style=\"padding:0 15px 0 1px;border-left:0;text-align:right\">)</td>\n",
       "        <td align=\"right\" style=\"padding:0 0 0 15px;border-right:0;text-align:right\">44</td>\n",
       "        <td align=\"left\" style=\"padding:0 1px 0 4px;border-left:0;border-right:0;text-align:left\">(</td>\n",
       "        <td align=\"left\" style=\"padding:0;border-left:0;border-right:0;text-align:right\">16%</td>\n",
       "        <td align=\"left\" style=\"padding:0 15px 0 1px;border-left:0;text-align:right\">)</td>\n",
       "        <td align=\"right\" style=\"padding:0 0 0 15px;border-right:0;text-align:right\">99</td>\n",
       "        <td align=\"left\" style=\"padding:0 1px 0 4px;border-left:0;border-right:0;text-align:left\">(</td>\n",
       "        <td align=\"left\" style=\"padding:0;border-left:0;border-right:0;text-align:right\">17%</td>\n",
       "        <td align=\"left\" style=\"padding:0 15px 0 1px;border-left:0;text-align:right\">)</td>\n",
       "        <td align=\"right\" style=\"padding:0 0 0 15px;border-right:0;text-align:right\">58</td>\n",
       "        <td align=\"left\" style=\"padding:0 1px 0 4px;border-left:0;border-right:0;text-align:left\">(</td>\n",
       "        <td align=\"left\" style=\"padding:0;border-left:0;border-right:0;text-align:right\">15%</td>\n",
       "        <td align=\"left\" style=\"padding:0 15px 0 1px;border-left:0;text-align:right\">)</td>\n",
       "        <td align=\"right\" style=\"padding:0 0 0 15px;border-right:0;text-align:right\">5</td>\n",
       "        <td align=\"left\" style=\"padding:0 1px 0 4px;border-left:0;border-right:0;text-align:left\">(</td>\n",
       "        <td align=\"left\" style=\"padding:0;border-left:0;border-right:0;text-align:right\">10%</td>\n",
       "        <td align=\"left\" style=\"padding:0 15px 0 1px;border-left:0;text-align:right\">)</td>\n",
       "        <td align=\"right\" style=\"padding:0 0 0 15px;border-right:0;text-align:right\">237</td>\n",
       "        <td align=\"left\" style=\"padding:0 1px 0 4px;border-left:0;border-right:0;text-align:left\">(</td>\n",
       "        <td align=\"left\" style=\"padding:0;border-left:0;border-right:0;text-align:right\">16%</td>\n",
       "        <td align=\"left\" style=\"padding:0 15px 0 1px;border-left:0;text-align:right\">)</td>\n",
       "      </tr>\n",
       "      <tr>\n",
       "        <td>\n",
       "          <strong align=\"center\">Total</strong>\n",
       "        </td>\n",
       "        <td align=\"right\" style=\"padding:0 0 0 15px;border-right:0;text-align:right\">170</td>\n",
       "        <td align=\"left\" style=\"padding:0 1px 0 4px;border-left:0;border-right:0;text-align:left\">(</td>\n",
       "        <td align=\"left\" style=\"padding:0;border-left:0;border-right:0;text-align:right\">100%</td>\n",
       "        <td align=\"left\" style=\"padding:0 15px 0 1px;border-left:0;text-align:right\">)</td>\n",
       "        <td align=\"right\" style=\"padding:0 0 0 15px;border-right:0;text-align:right\">282</td>\n",
       "        <td align=\"left\" style=\"padding:0 1px 0 4px;border-left:0;border-right:0;text-align:left\">(</td>\n",
       "        <td align=\"left\" style=\"padding:0;border-left:0;border-right:0;text-align:right\">100%</td>\n",
       "        <td align=\"left\" style=\"padding:0 15px 0 1px;border-left:0;text-align:right\">)</td>\n",
       "        <td align=\"right\" style=\"padding:0 0 0 15px;border-right:0;text-align:right\">572</td>\n",
       "        <td align=\"left\" style=\"padding:0 1px 0 4px;border-left:0;border-right:0;text-align:left\">(</td>\n",
       "        <td align=\"left\" style=\"padding:0;border-left:0;border-right:0;text-align:right\">100%</td>\n",
       "        <td align=\"left\" style=\"padding:0 15px 0 1px;border-left:0;text-align:right\">)</td>\n",
       "        <td align=\"right\" style=\"padding:0 0 0 15px;border-right:0;text-align:right\">398</td>\n",
       "        <td align=\"left\" style=\"padding:0 1px 0 4px;border-left:0;border-right:0;text-align:left\">(</td>\n",
       "        <td align=\"left\" style=\"padding:0;border-left:0;border-right:0;text-align:right\">100%</td>\n",
       "        <td align=\"left\" style=\"padding:0 15px 0 1px;border-left:0;text-align:right\">)</td>\n",
       "        <td align=\"right\" style=\"padding:0 0 0 15px;border-right:0;text-align:right\">48</td>\n",
       "        <td align=\"left\" style=\"padding:0 1px 0 4px;border-left:0;border-right:0;text-align:left\">(</td>\n",
       "        <td align=\"left\" style=\"padding:0;border-left:0;border-right:0;text-align:right\">100%</td>\n",
       "        <td align=\"left\" style=\"padding:0 15px 0 1px;border-left:0;text-align:right\">)</td>\n",
       "        <td align=\"right\" style=\"padding:0 0 0 15px;border-right:0;text-align:right\">1470</td>\n",
       "        <td align=\"left\" style=\"padding:0 1px 0 4px;border-left:0;border-right:0;text-align:left\">(</td>\n",
       "        <td align=\"left\" style=\"padding:0;border-left:0;border-right:0;text-align:right\">100%</td>\n",
       "        <td align=\"left\" style=\"padding:0 15px 0 1px;border-left:0;text-align:right\">)</td>\n",
       "      </tr>\n",
       "    </tbody>\n",
       "  </table>\n",
       "  <p>Generated by <a href='https://github.com/dcomtois/summarytools'>summarytools</a> 0.9.8 (<a href='https://www.r-project.org/'>R</a> version 3.6.1)<br/>2021-03-17</p>\n",
       "</div>\n",
       "\t</body>\n",
       "</html>\n"
      ],
      "text/plain": [
       "Shiny tags cannot be represented in plain text (need html)"
      ]
     },
     "metadata": {
      "text/html": {
       "isolated": true
      }
     },
     "output_type": "display_data"
    }
   ],
   "source": [
    "print(ctable(x = att$Attrition, y = att$Education, prop = 'c', round.digits = 0), method = 'render')"
   ]
  },
  {
   "cell_type": "markdown",
   "id": "dramatic-specific",
   "metadata": {},
   "source": [
    "<br><br><u>**Insights: **<br></u>\n",
    "1. Highest Attrition is seen in education level-1 = 18%, from this we can say that people with relatively lower education are more prone to attrition.<br>\n",
    "2. Also, we can see that for education level 3, we see 2nd highest attrition percentage 17%, since this might be due people in this category being freshers/lesser work experience looking for better paying opportunities.<br><br><br>"
   ]
  },
  {
   "cell_type": "markdown",
   "id": "impressed-match",
   "metadata": {},
   "source": [
    "##### <u>**Impact of income on Attrition**</u><br>"
   ]
  },
  {
   "cell_type": "code",
   "execution_count": 21,
   "id": "periodic-sally",
   "metadata": {},
   "outputs": [
    {
     "data": {
      "text/plain": [
       "\n",
       " Descriptive statistics by group \n",
       "group: No\n",
       "   vars    n    mean      sd median trimmed     mad  min   max range skew\n",
       "X1    1 1233 6832.74 4818.21   5204 6017.45 3458.91 1051 19999 18948 1.28\n",
       "   kurtosis     se\n",
       "X1     0.66 137.22\n",
       "------------------------------------------------------------ \n",
       "group: Yes\n",
       "   vars   n    mean      sd median trimmed     mad  min   max range skew\n",
       "X1    1 237 4787.09 3640.21   3202 4163.02 1672.37 1009 19859 18850  1.9\n",
       "   kurtosis     se\n",
       "X1     4.01 236.46"
      ]
     },
     "metadata": {},
     "output_type": "display_data"
    }
   ],
   "source": [
    "describeBy(att$MonthlyIncome, att$Attrition)"
   ]
  },
  {
   "cell_type": "markdown",
   "id": "visible-conviction",
   "metadata": {},
   "source": [
    "<br>Observe that mean and median values for both the attrition levels, mean and median income for Attrition level Yes in less by 2000 units than Attrition level - No.<br>\n"
   ]
  },
  {
   "cell_type": "markdown",
   "id": "structured-setting",
   "metadata": {},
   "source": [
    "Let's check by visualizing income values for each attrition level<br>\n"
   ]
  },
  {
   "cell_type": "code",
   "execution_count": 22,
   "id": "atomic-prior",
   "metadata": {},
   "outputs": [
    {
     "data": {
      "image/png": "[encoded data removed]",
      "text/plain": [
       "plot without title"
      ]
     },
     "metadata": {},
     "output_type": "display_data"
    }
   ],
   "source": [
    "ggplot(att) +\n",
    "  aes(x = Attrition, y = MonthlyIncome) +\n",
    "  geom_boxplot(fill = \"#fcbba1\") +\n",
    "  ggthemes::theme_economist()"
   ]
  },
  {
   "cell_type": "markdown",
   "id": "touched-scholar",
   "metadata": {},
   "source": [
    "<br><br><u>**Insights: **<br></u>\n",
    "1. This confirms that people with lower income than their peers are more prone to attrition<br>\n",
    "\n",
    "We should also check for relation between income and department, this can help us to understand better about resons for attrition\n",
    "Department & Income relation<br>"
   ]
  },
  {
   "cell_type": "code",
   "execution_count": 23,
   "id": "noble-tiger",
   "metadata": {},
   "outputs": [
    {
     "data": {
      "image/png": "[encoded data removed]",
      "text/plain": [
       "plot without title"
      ]
     },
     "metadata": {},
     "output_type": "display_data"
    }
   ],
   "source": [
    "ggplot(att) +\n",
    "  aes(x = Department, y = MonthlyIncome, fill = Attrition) +\n",
    "  geom_boxplot() +\n",
    "  scale_fill_hue() +\n",
    "  ggthemes::theme_economist()"
   ]
  },
  {
   "cell_type": "markdown",
   "id": "organizational-batman",
   "metadata": {},
   "source": [
    "<br><br><u>**Insights: **<br></u>\n",
    "1. Out of the 3 departments, for Attrition level Yes - HR is lowest paid, followed by R&D<br>\n",
    "2. Median income for Attrition - yes employee is far less that for Attrition - No employee in same department, hence employees with these salaries will look for better paying opportunities.<br><br><br>\n"
   ]
  },
  {
   "cell_type": "markdown",
   "id": "aerial-jungle",
   "metadata": {},
   "source": [
    "##### <u>**Impact of Job Satisfaction & Job role on Attrition**</u>\n"
   ]
  },
  {
   "cell_type": "code",
   "execution_count": 24,
   "id": "likely-forward",
   "metadata": {},
   "outputs": [
    {
     "data": {
      "image/png": "[encoded data removed]",
      "text/plain": [
       "plot without title"
      ]
     },
     "metadata": {},
     "output_type": "display_data"
    }
   ],
   "source": [
    "ggplot(att) +\n",
    "  aes(x = JobRole, y = JobSatisfaction, fill = Attrition) +\n",
    "  geom_boxplot() +\n",
    "  scale_fill_hue() +\n",
    "  ggthemes::theme_economist()"
   ]
  },
  {
   "cell_type": "markdown",
   "id": "sorted-stupid",
   "metadata": {},
   "source": [
    "<br><br><u>**Insights: **<br></u>\n",
    "1. Except Healthcare representative role, for attrition level yes, all the job roles have lower job satisfaction. This explains that job satisfaction is an important indicator for understanding attrition in company.<br>\n",
    "2. Also job satisfaction can be low due to lower salaries also.<br><br><br>\n"
   ]
  },
  {
   "cell_type": "markdown",
   "id": "cooperative-ghana",
   "metadata": {},
   "source": [
    "##### <u>**Relation between job role and Attrition** </u>\n",
    "<br> Creating a cross table to understand relation between job role and attrition: \n"
   ]
  },
  {
   "cell_type": "code",
   "execution_count": 25,
   "id": "illegal-charles",
   "metadata": {},
   "outputs": [
    {
     "name": "stderr",
     "output_type": "stream",
     "text": [
      "Warning message in repr_html.shiny.tag(obj):\n",
      "\"Inserting HTML strings into <head> is currently not supported\""
     ]
    },
    {
     "data": {
      "text/html": [
       "<!doctype html>\n",
       "<html>\n",
       "\t<head>\n",
       "\t\t<meta charset=\"utf-8\">\n",
       "\t\t\n",
       "\t</head>\n",
       "\t<body>\n",
       "\t\t<div class=\"container st-container\">\n",
       "  <h3>Cross-Tabulation, Column Proportions</h3>\n",
       "  <h4>Attrition * JobRole</h4>\n",
       "  <strong>Data Frame</strong>: att\n",
       "  <br/>\n",
       "  <table class=\"table table-bordered st-table st-table-bordered st-cross-table \">\n",
       "    <thead>\n",
       "      <tr>\n",
       "        <th></th>\n",
       "        <th colspan=\"36\" align=\"center\" class=\"st-protect-top-border\">JobRole</th>\n",
       "        <th colspan=\"4\"></th>\n",
       "      </tr>\n",
       "      <tr>\n",
       "        <td align=\"center\">\n",
       "          <strong>Attrition</strong>\n",
       "        </td>\n",
       "        <th colspan=\"4\" align=\"center\">Healthcare <br/>Representati<br/>ve</th>\n",
       "        <th colspan=\"4\" align=\"center\">Human <br/>Resources</th>\n",
       "        <th colspan=\"4\" align=\"center\">Laboratory <br/>Technician</th>\n",
       "        <th colspan=\"4\" align=\"center\">Manager</th>\n",
       "        <th colspan=\"4\" align=\"center\">Manufacturin<br/>g Director</th>\n",
       "        <th colspan=\"4\" align=\"center\">Research <br/>Director</th>\n",
       "        <th colspan=\"4\" align=\"center\">Research <br/>Scientist</th>\n",
       "        <th colspan=\"4\" align=\"center\">Sales <br/>Executive</th>\n",
       "        <th colspan=\"4\" align=\"center\">Sales <br/>Representati<br/>ve</th>\n",
       "        <th colspan=\"4\" align=\"center\">Total</th>\n",
       "      </tr>\n",
       "    </thead>\n",
       "    <tbody>\n",
       "      <tr>\n",
       "        <td>\n",
       "          <strong align=\"center\">No</strong>\n",
       "        </td>\n",
       "        <td align=\"right\" style=\"padding:0 0 0 15px;border-right:0;text-align:right\">122</td>\n",
       "        <td align=\"left\" style=\"padding:0 1px 0 4px;border-left:0;border-right:0;text-align:left\">(</td>\n",
       "        <td align=\"left\" style=\"padding:0;border-left:0;border-right:0;text-align:right\">93%</td>\n",
       "        <td align=\"left\" style=\"padding:0 15px 0 1px;border-left:0;text-align:right\">)</td>\n",
       "        <td align=\"right\" style=\"padding:0 0 0 15px;border-right:0;text-align:right\">40</td>\n",
       "        <td align=\"left\" style=\"padding:0 1px 0 4px;border-left:0;border-right:0;text-align:left\">(</td>\n",
       "        <td align=\"left\" style=\"padding:0;border-left:0;border-right:0;text-align:right\">77%</td>\n",
       "        <td align=\"left\" style=\"padding:0 15px 0 1px;border-left:0;text-align:right\">)</td>\n",
       "        <td align=\"right\" style=\"padding:0 0 0 15px;border-right:0;text-align:right\">197</td>\n",
       "        <td align=\"left\" style=\"padding:0 1px 0 4px;border-left:0;border-right:0;text-align:left\">(</td>\n",
       "        <td align=\"left\" style=\"padding:0;border-left:0;border-right:0;text-align:right\">76%</td>\n",
       "        <td align=\"left\" style=\"padding:0 15px 0 1px;border-left:0;text-align:right\">)</td>\n",
       "        <td align=\"right\" style=\"padding:0 0 0 15px;border-right:0;text-align:right\">97</td>\n",
       "        <td align=\"left\" style=\"padding:0 1px 0 4px;border-left:0;border-right:0;text-align:left\">(</td>\n",
       "        <td align=\"left\" style=\"padding:0;border-left:0;border-right:0;text-align:right\">95%</td>\n",
       "        <td align=\"left\" style=\"padding:0 15px 0 1px;border-left:0;text-align:right\">)</td>\n",
       "        <td align=\"right\" style=\"padding:0 0 0 15px;border-right:0;text-align:right\">135</td>\n",
       "        <td align=\"left\" style=\"padding:0 1px 0 4px;border-left:0;border-right:0;text-align:left\">(</td>\n",
       "        <td align=\"left\" style=\"padding:0;border-left:0;border-right:0;text-align:right\">93%</td>\n",
       "        <td align=\"left\" style=\"padding:0 15px 0 1px;border-left:0;text-align:right\">)</td>\n",
       "        <td align=\"right\" style=\"padding:0 0 0 15px;border-right:0;text-align:right\">78</td>\n",
       "        <td align=\"left\" style=\"padding:0 1px 0 4px;border-left:0;border-right:0;text-align:left\">(</td>\n",
       "        <td align=\"left\" style=\"padding:0;border-left:0;border-right:0;text-align:right\">98%</td>\n",
       "        <td align=\"left\" style=\"padding:0 15px 0 1px;border-left:0;text-align:right\">)</td>\n",
       "        <td align=\"right\" style=\"padding:0 0 0 15px;border-right:0;text-align:right\">245</td>\n",
       "        <td align=\"left\" style=\"padding:0 1px 0 4px;border-left:0;border-right:0;text-align:left\">(</td>\n",
       "        <td align=\"left\" style=\"padding:0;border-left:0;border-right:0;text-align:right\">84%</td>\n",
       "        <td align=\"left\" style=\"padding:0 15px 0 1px;border-left:0;text-align:right\">)</td>\n",
       "        <td align=\"right\" style=\"padding:0 0 0 15px;border-right:0;text-align:right\">269</td>\n",
       "        <td align=\"left\" style=\"padding:0 1px 0 4px;border-left:0;border-right:0;text-align:left\">(</td>\n",
       "        <td align=\"left\" style=\"padding:0;border-left:0;border-right:0;text-align:right\">83%</td>\n",
       "        <td align=\"left\" style=\"padding:0 15px 0 1px;border-left:0;text-align:right\">)</td>\n",
       "        <td align=\"right\" style=\"padding:0 0 0 15px;border-right:0;text-align:right\">50</td>\n",
       "        <td align=\"left\" style=\"padding:0 1px 0 4px;border-left:0;border-right:0;text-align:left\">(</td>\n",
       "        <td align=\"left\" style=\"padding:0;border-left:0;border-right:0;text-align:right\">60%</td>\n",
       "        <td align=\"left\" style=\"padding:0 15px 0 1px;border-left:0;text-align:right\">)</td>\n",
       "        <td align=\"right\" style=\"padding:0 0 0 15px;border-right:0;text-align:right\">1233</td>\n",
       "        <td align=\"left\" style=\"padding:0 1px 0 4px;border-left:0;border-right:0;text-align:left\">(</td>\n",
       "        <td align=\"left\" style=\"padding:0;border-left:0;border-right:0;text-align:right\">84%</td>\n",
       "        <td align=\"left\" style=\"padding:0 15px 0 1px;border-left:0;text-align:right\">)</td>\n",
       "      </tr>\n",
       "      <tr>\n",
       "        <td>\n",
       "          <strong align=\"center\">Yes</strong>\n",
       "        </td>\n",
       "        <td align=\"right\" style=\"padding:0 0 0 15px;border-right:0;text-align:right\">9</td>\n",
       "        <td align=\"left\" style=\"padding:0 1px 0 4px;border-left:0;border-right:0;text-align:left\">(</td>\n",
       "        <td align=\"left\" style=\"padding:0;border-left:0;border-right:0;text-align:right\">7%</td>\n",
       "        <td align=\"left\" style=\"padding:0 15px 0 1px;border-left:0;text-align:right\">)</td>\n",
       "        <td align=\"right\" style=\"padding:0 0 0 15px;border-right:0;text-align:right\">12</td>\n",
       "        <td align=\"left\" style=\"padding:0 1px 0 4px;border-left:0;border-right:0;text-align:left\">(</td>\n",
       "        <td align=\"left\" style=\"padding:0;border-left:0;border-right:0;text-align:right\">23%</td>\n",
       "        <td align=\"left\" style=\"padding:0 15px 0 1px;border-left:0;text-align:right\">)</td>\n",
       "        <td align=\"right\" style=\"padding:0 0 0 15px;border-right:0;text-align:right\">62</td>\n",
       "        <td align=\"left\" style=\"padding:0 1px 0 4px;border-left:0;border-right:0;text-align:left\">(</td>\n",
       "        <td align=\"left\" style=\"padding:0;border-left:0;border-right:0;text-align:right\">24%</td>\n",
       "        <td align=\"left\" style=\"padding:0 15px 0 1px;border-left:0;text-align:right\">)</td>\n",
       "        <td align=\"right\" style=\"padding:0 0 0 15px;border-right:0;text-align:right\">5</td>\n",
       "        <td align=\"left\" style=\"padding:0 1px 0 4px;border-left:0;border-right:0;text-align:left\">(</td>\n",
       "        <td align=\"left\" style=\"padding:0;border-left:0;border-right:0;text-align:right\">5%</td>\n",
       "        <td align=\"left\" style=\"padding:0 15px 0 1px;border-left:0;text-align:right\">)</td>\n",
       "        <td align=\"right\" style=\"padding:0 0 0 15px;border-right:0;text-align:right\">10</td>\n",
       "        <td align=\"left\" style=\"padding:0 1px 0 4px;border-left:0;border-right:0;text-align:left\">(</td>\n",
       "        <td align=\"left\" style=\"padding:0;border-left:0;border-right:0;text-align:right\">7%</td>\n",
       "        <td align=\"left\" style=\"padding:0 15px 0 1px;border-left:0;text-align:right\">)</td>\n",
       "        <td align=\"right\" style=\"padding:0 0 0 15px;border-right:0;text-align:right\">2</td>\n",
       "        <td align=\"left\" style=\"padding:0 1px 0 4px;border-left:0;border-right:0;text-align:left\">(</td>\n",
       "        <td align=\"left\" style=\"padding:0;border-left:0;border-right:0;text-align:right\">2%</td>\n",
       "        <td align=\"left\" style=\"padding:0 15px 0 1px;border-left:0;text-align:right\">)</td>\n",
       "        <td align=\"right\" style=\"padding:0 0 0 15px;border-right:0;text-align:right\">47</td>\n",
       "        <td align=\"left\" style=\"padding:0 1px 0 4px;border-left:0;border-right:0;text-align:left\">(</td>\n",
       "        <td align=\"left\" style=\"padding:0;border-left:0;border-right:0;text-align:right\">16%</td>\n",
       "        <td align=\"left\" style=\"padding:0 15px 0 1px;border-left:0;text-align:right\">)</td>\n",
       "        <td align=\"right\" style=\"padding:0 0 0 15px;border-right:0;text-align:right\">57</td>\n",
       "        <td align=\"left\" style=\"padding:0 1px 0 4px;border-left:0;border-right:0;text-align:left\">(</td>\n",
       "        <td align=\"left\" style=\"padding:0;border-left:0;border-right:0;text-align:right\">17%</td>\n",
       "        <td align=\"left\" style=\"padding:0 15px 0 1px;border-left:0;text-align:right\">)</td>\n",
       "        <td align=\"right\" style=\"padding:0 0 0 15px;border-right:0;text-align:right\">33</td>\n",
       "        <td align=\"left\" style=\"padding:0 1px 0 4px;border-left:0;border-right:0;text-align:left\">(</td>\n",
       "        <td align=\"left\" style=\"padding:0;border-left:0;border-right:0;text-align:right\">40%</td>\n",
       "        <td align=\"left\" style=\"padding:0 15px 0 1px;border-left:0;text-align:right\">)</td>\n",
       "        <td align=\"right\" style=\"padding:0 0 0 15px;border-right:0;text-align:right\">237</td>\n",
       "        <td align=\"left\" style=\"padding:0 1px 0 4px;border-left:0;border-right:0;text-align:left\">(</td>\n",
       "        <td align=\"left\" style=\"padding:0;border-left:0;border-right:0;text-align:right\">16%</td>\n",
       "        <td align=\"left\" style=\"padding:0 15px 0 1px;border-left:0;text-align:right\">)</td>\n",
       "      </tr>\n",
       "      <tr>\n",
       "        <td>\n",
       "          <strong align=\"center\">Total</strong>\n",
       "        </td>\n",
       "        <td align=\"right\" style=\"padding:0 0 0 15px;border-right:0;text-align:right\">131</td>\n",
       "        <td align=\"left\" style=\"padding:0 1px 0 4px;border-left:0;border-right:0;text-align:left\">(</td>\n",
       "        <td align=\"left\" style=\"padding:0;border-left:0;border-right:0;text-align:right\">100%</td>\n",
       "        <td align=\"left\" style=\"padding:0 15px 0 1px;border-left:0;text-align:right\">)</td>\n",
       "        <td align=\"right\" style=\"padding:0 0 0 15px;border-right:0;text-align:right\">52</td>\n",
       "        <td align=\"left\" style=\"padding:0 1px 0 4px;border-left:0;border-right:0;text-align:left\">(</td>\n",
       "        <td align=\"left\" style=\"padding:0;border-left:0;border-right:0;text-align:right\">100%</td>\n",
       "        <td align=\"left\" style=\"padding:0 15px 0 1px;border-left:0;text-align:right\">)</td>\n",
       "        <td align=\"right\" style=\"padding:0 0 0 15px;border-right:0;text-align:right\">259</td>\n",
       "        <td align=\"left\" style=\"padding:0 1px 0 4px;border-left:0;border-right:0;text-align:left\">(</td>\n",
       "        <td align=\"left\" style=\"padding:0;border-left:0;border-right:0;text-align:right\">100%</td>\n",
       "        <td align=\"left\" style=\"padding:0 15px 0 1px;border-left:0;text-align:right\">)</td>\n",
       "        <td align=\"right\" style=\"padding:0 0 0 15px;border-right:0;text-align:right\">102</td>\n",
       "        <td align=\"left\" style=\"padding:0 1px 0 4px;border-left:0;border-right:0;text-align:left\">(</td>\n",
       "        <td align=\"left\" style=\"padding:0;border-left:0;border-right:0;text-align:right\">100%</td>\n",
       "        <td align=\"left\" style=\"padding:0 15px 0 1px;border-left:0;text-align:right\">)</td>\n",
       "        <td align=\"right\" style=\"padding:0 0 0 15px;border-right:0;text-align:right\">145</td>\n",
       "        <td align=\"left\" style=\"padding:0 1px 0 4px;border-left:0;border-right:0;text-align:left\">(</td>\n",
       "        <td align=\"left\" style=\"padding:0;border-left:0;border-right:0;text-align:right\">100%</td>\n",
       "        <td align=\"left\" style=\"padding:0 15px 0 1px;border-left:0;text-align:right\">)</td>\n",
       "        <td align=\"right\" style=\"padding:0 0 0 15px;border-right:0;text-align:right\">80</td>\n",
       "        <td align=\"left\" style=\"padding:0 1px 0 4px;border-left:0;border-right:0;text-align:left\">(</td>\n",
       "        <td align=\"left\" style=\"padding:0;border-left:0;border-right:0;text-align:right\">100%</td>\n",
       "        <td align=\"left\" style=\"padding:0 15px 0 1px;border-left:0;text-align:right\">)</td>\n",
       "        <td align=\"right\" style=\"padding:0 0 0 15px;border-right:0;text-align:right\">292</td>\n",
       "        <td align=\"left\" style=\"padding:0 1px 0 4px;border-left:0;border-right:0;text-align:left\">(</td>\n",
       "        <td align=\"left\" style=\"padding:0;border-left:0;border-right:0;text-align:right\">100%</td>\n",
       "        <td align=\"left\" style=\"padding:0 15px 0 1px;border-left:0;text-align:right\">)</td>\n",
       "        <td align=\"right\" style=\"padding:0 0 0 15px;border-right:0;text-align:right\">326</td>\n",
       "        <td align=\"left\" style=\"padding:0 1px 0 4px;border-left:0;border-right:0;text-align:left\">(</td>\n",
       "        <td align=\"left\" style=\"padding:0;border-left:0;border-right:0;text-align:right\">100%</td>\n",
       "        <td align=\"left\" style=\"padding:0 15px 0 1px;border-left:0;text-align:right\">)</td>\n",
       "        <td align=\"right\" style=\"padding:0 0 0 15px;border-right:0;text-align:right\">83</td>\n",
       "        <td align=\"left\" style=\"padding:0 1px 0 4px;border-left:0;border-right:0;text-align:left\">(</td>\n",
       "        <td align=\"left\" style=\"padding:0;border-left:0;border-right:0;text-align:right\">100%</td>\n",
       "        <td align=\"left\" style=\"padding:0 15px 0 1px;border-left:0;text-align:right\">)</td>\n",
       "        <td align=\"right\" style=\"padding:0 0 0 15px;border-right:0;text-align:right\">1470</td>\n",
       "        <td align=\"left\" style=\"padding:0 1px 0 4px;border-left:0;border-right:0;text-align:left\">(</td>\n",
       "        <td align=\"left\" style=\"padding:0;border-left:0;border-right:0;text-align:right\">100%</td>\n",
       "        <td align=\"left\" style=\"padding:0 15px 0 1px;border-left:0;text-align:right\">)</td>\n",
       "      </tr>\n",
       "    </tbody>\n",
       "  </table>\n",
       "  <p>Generated by <a href='https://github.com/dcomtois/summarytools'>summarytools</a> 0.9.8 (<a href='https://www.r-project.org/'>R</a> version 3.6.1)<br/>2021-03-17</p>\n",
       "</div>\n",
       "\t</body>\n",
       "</html>\n"
      ],
      "text/plain": [
       "Shiny tags cannot be represented in plain text (need html)"
      ]
     },
     "metadata": {
      "text/html": {
       "isolated": true
      }
     },
     "output_type": "display_data"
    }
   ],
   "source": [
    "print(ctable(x = att$Attrition, y = att$JobRole, prop = 'c', round.digits = 0), method = 'render')\n"
   ]
  },
  {
   "cell_type": "markdown",
   "id": "preceding-princess",
   "metadata": {},
   "source": [
    "<br><br><u>**Insights: **<br></u>\n",
    "1. Highest Attrition can be seen in sales representative job role, this can attributed to lower education and lower salary for sales representatives.<br>\n",
    "2. Surprisingly HR people even though having lowest salary have 3rd highest attrition percentage - 23%<br>\n",
    "3. Lower designation tend to have higher attrition percentage than people with higher designations.<br>\n",
    "  \n",
    "  \n",
    "- Since, Sales Represetatives have very high attrition rates compared to other job roles, let's drill down to find more details regarding this<br><br>"
   ]
  },
  {
   "cell_type": "code",
   "execution_count": 26,
   "id": "accompanied-collar",
   "metadata": {},
   "outputs": [
    {
     "name": "stderr",
     "output_type": "stream",
     "text": [
      "Warning message in grDevices::png(..., res = dpi, units = \"in\"):\n",
      "\"unable to open file 'C:/Pratik/Imarticus_Datascience_Prodegree/Imarticus_Project_1/AttVsJobRole' for writing\"Warning message in grDevices::png(..., res = dpi, units = \"in\"):\n",
      "\"opening device failed\""
     ]
    },
    {
     "ename": "ERROR",
     "evalue": "Error in grDevices::png(..., res = dpi, units = \"in\"): unable to start png() device\n",
     "output_type": "error",
     "traceback": [
      "Error in grDevices::png(..., res = dpi, units = \"in\"): unable to start png() device\nTraceback:\n",
      "1. ggsave(filename = \"AttVsJobRole\", plot = last_plot(), device = \"png\", \n .     path = \"C:/Pratik/Imarticus_Datascience_Prodegree/Imarticus_Project_1\", \n .     scale = 1, width = 18, height = 7)",
      "2. dev(filename = filename, width = dim[1], height = dim[2], ...)",
      "3. grDevices::png(..., res = dpi, units = \"in\")"
     ]
    },
    {
     "data": {
      "image/png": "[encoded data removed]",
      "text/plain": [
       "plot without title"
      ]
     },
     "metadata": {},
     "output_type": "display_data"
    }
   ],
   "source": [
    "ggplot(att) +\n",
    "  aes(x = JobRole, y = MonthlyIncome, fill = Attrition) +\n",
    "  geom_boxplot() +\n",
    "  scale_fill_hue() +\n",
    "  ggthemes::theme_economist()\n",
    "ggsave(filename = 'AttVsJobRole', plot = last_plot(), device = 'png', path = \"C:/Pratik/Imarticus_Datascience_Prodegree/Imarticus_Project_1\", scale = 1, width = 18, height = 7)"
   ]
  },
  {
   "cell_type": "markdown",
   "id": "broadband-frank",
   "metadata": {},
   "source": [
    "<br>\n",
    "- Indicator 1: Income of sales representatives is very low, age can be impacting factor on this <br><br>"
   ]
  },
  {
   "cell_type": "code",
   "execution_count": null,
   "id": "governing-driving",
   "metadata": {},
   "outputs": [],
   "source": [
    "ggplot(att) +\n",
    "  aes(x = JobRole, y = Age, fill = Attrition) +\n",
    "  geom_boxplot() +\n",
    "  scale_fill_hue() +\n",
    "  ggthemes::theme_economist()\n",
    "ggsave(filename = 'AttVsAge', plot = last_plot(), device = 'png', path = \"C:/Pratik/Imarticus_Datascience_Prodegree/Imarticus_Project_1\", scale = 1, width = 18, height = 7)"
   ]
  },
  {
   "cell_type": "markdown",
   "id": "alpha-polls",
   "metadata": {},
   "source": [
    "<br>\n",
    "- Indicator 2: Age group of Sales representatives is also least, which explains why there is high attrition in sales representatives.<br><br>\n"
   ]
  },
  {
   "cell_type": "markdown",
   "id": "grand-convert",
   "metadata": {},
   "source": [
    "##### <u>**Exploring relation between Job Satisfaction and Income**</u>\n",
    "Let's check how job satisfaction income are related with respect to Attrition.<br>\n",
    "Converting job satisfaction to factor"
   ]
  },
  {
   "cell_type": "code",
   "execution_count": 27,
   "id": "martial-bridges",
   "metadata": {},
   "outputs": [
    {
     "data": {
      "text/html": [
       "<ol class=list-inline>\n",
       "\t<li>'1'</li>\n",
       "\t<li>'2'</li>\n",
       "\t<li>'3'</li>\n",
       "\t<li>'4'</li>\n",
       "</ol>\n"
      ],
      "text/latex": [
       "\\begin{enumerate*}\n",
       "\\item '1'\n",
       "\\item '2'\n",
       "\\item '3'\n",
       "\\item '4'\n",
       "\\end{enumerate*}\n"
      ],
      "text/markdown": [
       "1. '1'\n",
       "2. '2'\n",
       "3. '3'\n",
       "4. '4'\n",
       "\n",
       "\n"
      ],
      "text/plain": [
       "[1] \"1\" \"2\" \"3\" \"4\""
      ]
     },
     "metadata": {},
     "output_type": "display_data"
    }
   ],
   "source": [
    "att$JobSatisfaction <- as.factor(att$JobSatisfaction)\n",
    "levels(att$JobSatisfaction)     # Four Levels - 1 - least job satisfaction and 4- most job satisfaction"
   ]
  },
  {
   "cell_type": "code",
   "execution_count": 28,
   "id": "color-bruce",
   "metadata": {},
   "outputs": [
    {
     "data": {
      "image/png": "[encoded data removed]",
      "text/plain": [
       "plot without title"
      ]
     },
     "metadata": {},
     "output_type": "display_data"
    }
   ],
   "source": [
    "ggplot(att) +\n",
    "  aes(x = JobSatisfaction, y = MonthlyIncome, fill = Attrition) +\n",
    "  geom_boxplot() +\n",
    "  scale_fill_hue() +\n",
    "  ggthemes::theme_economist()"
   ]
  },
  {
   "cell_type": "markdown",
   "id": "wrong-correspondence",
   "metadata": {},
   "source": [
    "<br><br><u>**Insights: **<br></u>\n",
    "1. people with lower job satisfaction have lower monthly income, and hence we can say that income can be an indicator of lower job satisfaction<br>\n",
    "2. Clearly people are leaving jobs due to lower salaries which also leads to lower job satisfaction.<br><br><br>"
   ]
  },
  {
   "cell_type": "markdown",
   "id": "national-command",
   "metadata": {},
   "source": [
    "##### <u>**Impact of Overtime on Attrition**</u>"
   ]
  },
  {
   "cell_type": "code",
   "execution_count": 29,
   "id": "earlier-canal",
   "metadata": {},
   "outputs": [
    {
     "name": "stderr",
     "output_type": "stream",
     "text": [
      "Warning message in repr_html.shiny.tag(obj):\n",
      "\"Inserting HTML strings into <head> is currently not supported\""
     ]
    },
    {
     "data": {
      "text/html": [
       "<!doctype html>\n",
       "<html>\n",
       "\t<head>\n",
       "\t\t<meta charset=\"utf-8\">\n",
       "\t\t\n",
       "\t</head>\n",
       "\t<body>\n",
       "\t\t<div class=\"container st-container\">\n",
       "  <h3>Cross-Tabulation, Row Proportions</h3>\n",
       "  <h4>Attrition * OverTime</h4>\n",
       "  <strong>Data Frame</strong>: att\n",
       "  <br/>\n",
       "  <table class=\"table table-bordered st-table st-table-bordered st-cross-table \">\n",
       "    <thead>\n",
       "      <tr>\n",
       "        <th></th>\n",
       "        <th colspan=\"8\" align=\"center\" class=\"st-protect-top-border\">OverTime</th>\n",
       "        <th colspan=\"4\"></th>\n",
       "      </tr>\n",
       "      <tr>\n",
       "        <td align=\"center\">\n",
       "          <strong>Attrition</strong>\n",
       "        </td>\n",
       "        <th colspan=\"4\" align=\"center\">No</th>\n",
       "        <th colspan=\"4\" align=\"center\">Yes</th>\n",
       "        <th colspan=\"4\" align=\"center\">Total</th>\n",
       "      </tr>\n",
       "    </thead>\n",
       "    <tbody>\n",
       "      <tr>\n",
       "        <td>\n",
       "          <strong align=\"center\">No</strong>\n",
       "        </td>\n",
       "        <td align=\"right\" style=\"padding:0 0 0 15px;border-right:0;text-align:right\">944</td>\n",
       "        <td align=\"left\" style=\"padding:0 1px 0 4px;border-left:0;border-right:0;text-align:left\">(</td>\n",
       "        <td align=\"left\" style=\"padding:0;border-left:0;border-right:0;text-align:right\">77%</td>\n",
       "        <td align=\"left\" style=\"padding:0 15px 0 1px;border-left:0;text-align:right\">)</td>\n",
       "        <td align=\"right\" style=\"padding:0 0 0 15px;border-right:0;text-align:right\">289</td>\n",
       "        <td align=\"left\" style=\"padding:0 1px 0 4px;border-left:0;border-right:0;text-align:left\">(</td>\n",
       "        <td align=\"left\" style=\"padding:0;border-left:0;border-right:0;text-align:right\">23%</td>\n",
       "        <td align=\"left\" style=\"padding:0 15px 0 1px;border-left:0;text-align:right\">)</td>\n",
       "        <td align=\"right\" style=\"padding:0 0 0 15px;border-right:0;text-align:right\">1233</td>\n",
       "        <td align=\"left\" style=\"padding:0 1px 0 4px;border-left:0;border-right:0;text-align:left\">(</td>\n",
       "        <td align=\"left\" style=\"padding:0;border-left:0;border-right:0;text-align:right\">100%</td>\n",
       "        <td align=\"left\" style=\"padding:0 15px 0 1px;border-left:0;text-align:right\">)</td>\n",
       "      </tr>\n",
       "      <tr>\n",
       "        <td>\n",
       "          <strong align=\"center\">Yes</strong>\n",
       "        </td>\n",
       "        <td align=\"right\" style=\"padding:0 0 0 15px;border-right:0;text-align:right\">110</td>\n",
       "        <td align=\"left\" style=\"padding:0 1px 0 4px;border-left:0;border-right:0;text-align:left\">(</td>\n",
       "        <td align=\"left\" style=\"padding:0;border-left:0;border-right:0;text-align:right\">46%</td>\n",
       "        <td align=\"left\" style=\"padding:0 15px 0 1px;border-left:0;text-align:right\">)</td>\n",
       "        <td align=\"right\" style=\"padding:0 0 0 15px;border-right:0;text-align:right\">127</td>\n",
       "        <td align=\"left\" style=\"padding:0 1px 0 4px;border-left:0;border-right:0;text-align:left\">(</td>\n",
       "        <td align=\"left\" style=\"padding:0;border-left:0;border-right:0;text-align:right\">54%</td>\n",
       "        <td align=\"left\" style=\"padding:0 15px 0 1px;border-left:0;text-align:right\">)</td>\n",
       "        <td align=\"right\" style=\"padding:0 0 0 15px;border-right:0;text-align:right\">237</td>\n",
       "        <td align=\"left\" style=\"padding:0 1px 0 4px;border-left:0;border-right:0;text-align:left\">(</td>\n",
       "        <td align=\"left\" style=\"padding:0;border-left:0;border-right:0;text-align:right\">100%</td>\n",
       "        <td align=\"left\" style=\"padding:0 15px 0 1px;border-left:0;text-align:right\">)</td>\n",
       "      </tr>\n",
       "      <tr>\n",
       "        <td>\n",
       "          <strong align=\"center\">Total</strong>\n",
       "        </td>\n",
       "        <td align=\"right\" style=\"padding:0 0 0 15px;border-right:0;text-align:right\">1054</td>\n",
       "        <td align=\"left\" style=\"padding:0 1px 0 4px;border-left:0;border-right:0;text-align:left\">(</td>\n",
       "        <td align=\"left\" style=\"padding:0;border-left:0;border-right:0;text-align:right\">72%</td>\n",
       "        <td align=\"left\" style=\"padding:0 15px 0 1px;border-left:0;text-align:right\">)</td>\n",
       "        <td align=\"right\" style=\"padding:0 0 0 15px;border-right:0;text-align:right\">416</td>\n",
       "        <td align=\"left\" style=\"padding:0 1px 0 4px;border-left:0;border-right:0;text-align:left\">(</td>\n",
       "        <td align=\"left\" style=\"padding:0;border-left:0;border-right:0;text-align:right\">28%</td>\n",
       "        <td align=\"left\" style=\"padding:0 15px 0 1px;border-left:0;text-align:right\">)</td>\n",
       "        <td align=\"right\" style=\"padding:0 0 0 15px;border-right:0;text-align:right\">1470</td>\n",
       "        <td align=\"left\" style=\"padding:0 1px 0 4px;border-left:0;border-right:0;text-align:left\">(</td>\n",
       "        <td align=\"left\" style=\"padding:0;border-left:0;border-right:0;text-align:right\">100%</td>\n",
       "        <td align=\"left\" style=\"padding:0 15px 0 1px;border-left:0;text-align:right\">)</td>\n",
       "      </tr>\n",
       "    </tbody>\n",
       "  </table>\n",
       "  <p>Generated by <a href='https://github.com/dcomtois/summarytools'>summarytools</a> 0.9.8 (<a href='https://www.r-project.org/'>R</a> version 3.6.1)<br/>2021-03-17</p>\n",
       "</div>\n",
       "\t</body>\n",
       "</html>\n"
      ],
      "text/plain": [
       "Shiny tags cannot be represented in plain text (need html)"
      ]
     },
     "metadata": {
      "text/html": {
       "isolated": true
      }
     },
     "output_type": "display_data"
    }
   ],
   "source": [
    "print(ctable(x = att$Attrition, y = att$OverTime, prop = 'r', round.digits = 0), method = 'render')"
   ]
  },
  {
   "cell_type": "markdown",
   "id": "sexual-cattle",
   "metadata": {},
   "source": [
    "<br><br><u>**Insights: **</u><br>\n",
    "1. This clearly explains that more than half (54%) of the people who left organization left because of overtime\n"
   ]
  },
  {
   "cell_type": "markdown",
   "id": "transparent-marriage",
   "metadata": {},
   "source": [
    "##### <u>**Impact of Working environment on Attrition**</u>\n",
    "\n",
    "Working environment by job role\n"
   ]
  },
  {
   "cell_type": "code",
   "execution_count": 30,
   "id": "similar-thanks",
   "metadata": {},
   "outputs": [
    {
     "data": {
      "text/plain": [
       "\n",
       " Descriptive statistics by group \n",
       "group: No\n",
       "   vars    n mean   sd median trimmed  mad min max range  skew kurtosis   se\n",
       "X1    1 1233 2.77 1.07      3    2.84 1.48   1   4     3 -0.38    -1.12 0.03\n",
       "------------------------------------------------------------ \n",
       "group: Yes\n",
       "   vars   n mean   sd median trimmed  mad min max range  skew kurtosis   se\n",
       "X1    1 237 2.46 1.17      3    2.46 1.48   1   4     3 -0.01    -1.49 0.08"
      ]
     },
     "metadata": {},
     "output_type": "display_data"
    }
   ],
   "source": [
    "describeBy(att$EnvironmentSatisfaction, att$Attrition)"
   ]
  },
  {
   "cell_type": "markdown",
   "id": "charming-filename",
   "metadata": {},
   "source": [
    "<br><br><u>**Insights: **</u><br>\n",
    "1. Environment Satistisfaction does not seem to be making anu substantial impact on Attrition.<br><br>\n"
   ]
  },
  {
   "cell_type": "markdown",
   "id": "bronze-basis",
   "metadata": {},
   "source": [
    "##### <u>**Impact of Distance from home on Attrition**</u>\n"
   ]
  },
  {
   "cell_type": "code",
   "execution_count": 31,
   "id": "damaged-vegetarian",
   "metadata": {},
   "outputs": [
    {
     "data": {
      "text/plain": [
       "\n",
       " Descriptive statistics by group \n",
       "group: No\n",
       "   vars    n mean   sd median trimmed  mad min max range skew kurtosis   se\n",
       "X1    1 1233 8.92 8.01      7    7.75 7.41   1  29    28 1.03    -0.05 0.23\n",
       "------------------------------------------------------------ \n",
       "group: Yes\n",
       "   vars   n  mean   sd median trimmed   mad min max range skew kurtosis   se\n",
       "X1    1 237 10.63 8.45      9     9.9 10.38   1  29    28 0.63    -0.89 0.55"
      ]
     },
     "metadata": {},
     "output_type": "display_data"
    }
   ],
   "source": [
    "describeBy(att$DistanceFromHome, att$Attrition)\n"
   ]
  },
  {
   "cell_type": "markdown",
   "id": "positive-letters",
   "metadata": {},
   "source": [
    "Visualizing these 2 variables"
   ]
  },
  {
   "cell_type": "code",
   "execution_count": 32,
   "id": "accredited-schema",
   "metadata": {},
   "outputs": [
    {
     "data": {
      "image/png": "[encoded data removed]",
      "text/plain": [
       "plot without title"
      ]
     },
     "metadata": {},
     "output_type": "display_data"
    }
   ],
   "source": [
    "ggplot(att) +\n",
    "  aes(x = Attrition, y = DistanceFromHome, fill = Attrition) +\n",
    "  geom_boxplot() +\n",
    "  scale_fill_hue() +\n",
    "  ggthemes::theme_economist()"
   ]
  },
  {
   "cell_type": "markdown",
   "id": "disciplinary-cornwall",
   "metadata": {},
   "source": [
    "<br><br><u>**Insights: **</u><br>\n",
    "1. We can see that people leaving far (>10km) are more prone to attrition, as leaving may take a toll on health.\n"
   ]
  },
  {
   "cell_type": "markdown",
   "id": "strong-burns",
   "metadata": {},
   "source": [
    "##### <u>**Marital Status & Attrition Relation**</u>"
   ]
  },
  {
   "cell_type": "code",
   "execution_count": 33,
   "id": "afraid-jonathan",
   "metadata": {},
   "outputs": [
    {
     "name": "stderr",
     "output_type": "stream",
     "text": [
      "Warning message in repr_html.shiny.tag(obj):\n",
      "\"Inserting HTML strings into <head> is currently not supported\""
     ]
    },
    {
     "data": {
      "text/html": [
       "<!doctype html>\n",
       "<html>\n",
       "\t<head>\n",
       "\t\t<meta charset=\"utf-8\">\n",
       "\t\t\n",
       "\t</head>\n",
       "\t<body>\n",
       "\t\t<div class=\"container st-container\">\n",
       "  <h3>Cross-Tabulation, Column Proportions</h3>\n",
       "  <h4>Attrition * MaritalStatus</h4>\n",
       "  <strong>Data Frame</strong>: att\n",
       "  <br/>\n",
       "  <table class=\"table table-bordered st-table st-table-bordered st-cross-table \">\n",
       "    <thead>\n",
       "      <tr>\n",
       "        <th></th>\n",
       "        <th colspan=\"12\" align=\"center\" class=\"st-protect-top-border\">MaritalStatus</th>\n",
       "        <th colspan=\"4\"></th>\n",
       "      </tr>\n",
       "      <tr>\n",
       "        <td align=\"center\">\n",
       "          <strong>Attrition</strong>\n",
       "        </td>\n",
       "        <th colspan=\"4\" align=\"center\">Divorced</th>\n",
       "        <th colspan=\"4\" align=\"center\">Married</th>\n",
       "        <th colspan=\"4\" align=\"center\">Single</th>\n",
       "        <th colspan=\"4\" align=\"center\">Total</th>\n",
       "      </tr>\n",
       "    </thead>\n",
       "    <tbody>\n",
       "      <tr>\n",
       "        <td>\n",
       "          <strong align=\"center\">No</strong>\n",
       "        </td>\n",
       "        <td align=\"right\" style=\"padding:0 0 0 15px;border-right:0;text-align:right\">294</td>\n",
       "        <td align=\"left\" style=\"padding:0 1px 0 4px;border-left:0;border-right:0;text-align:left\">(</td>\n",
       "        <td align=\"left\" style=\"padding:0;border-left:0;border-right:0;text-align:right\">90%</td>\n",
       "        <td align=\"left\" style=\"padding:0 15px 0 1px;border-left:0;text-align:right\">)</td>\n",
       "        <td align=\"right\" style=\"padding:0 0 0 15px;border-right:0;text-align:right\">589</td>\n",
       "        <td align=\"left\" style=\"padding:0 1px 0 4px;border-left:0;border-right:0;text-align:left\">(</td>\n",
       "        <td align=\"left\" style=\"padding:0;border-left:0;border-right:0;text-align:right\">88%</td>\n",
       "        <td align=\"left\" style=\"padding:0 15px 0 1px;border-left:0;text-align:right\">)</td>\n",
       "        <td align=\"right\" style=\"padding:0 0 0 15px;border-right:0;text-align:right\">350</td>\n",
       "        <td align=\"left\" style=\"padding:0 1px 0 4px;border-left:0;border-right:0;text-align:left\">(</td>\n",
       "        <td align=\"left\" style=\"padding:0;border-left:0;border-right:0;text-align:right\">74%</td>\n",
       "        <td align=\"left\" style=\"padding:0 15px 0 1px;border-left:0;text-align:right\">)</td>\n",
       "        <td align=\"right\" style=\"padding:0 0 0 15px;border-right:0;text-align:right\">1233</td>\n",
       "        <td align=\"left\" style=\"padding:0 1px 0 4px;border-left:0;border-right:0;text-align:left\">(</td>\n",
       "        <td align=\"left\" style=\"padding:0;border-left:0;border-right:0;text-align:right\">84%</td>\n",
       "        <td align=\"left\" style=\"padding:0 15px 0 1px;border-left:0;text-align:right\">)</td>\n",
       "      </tr>\n",
       "      <tr>\n",
       "        <td>\n",
       "          <strong align=\"center\">Yes</strong>\n",
       "        </td>\n",
       "        <td align=\"right\" style=\"padding:0 0 0 15px;border-right:0;text-align:right\">33</td>\n",
       "        <td align=\"left\" style=\"padding:0 1px 0 4px;border-left:0;border-right:0;text-align:left\">(</td>\n",
       "        <td align=\"left\" style=\"padding:0;border-left:0;border-right:0;text-align:right\">10%</td>\n",
       "        <td align=\"left\" style=\"padding:0 15px 0 1px;border-left:0;text-align:right\">)</td>\n",
       "        <td align=\"right\" style=\"padding:0 0 0 15px;border-right:0;text-align:right\">84</td>\n",
       "        <td align=\"left\" style=\"padding:0 1px 0 4px;border-left:0;border-right:0;text-align:left\">(</td>\n",
       "        <td align=\"left\" style=\"padding:0;border-left:0;border-right:0;text-align:right\">12%</td>\n",
       "        <td align=\"left\" style=\"padding:0 15px 0 1px;border-left:0;text-align:right\">)</td>\n",
       "        <td align=\"right\" style=\"padding:0 0 0 15px;border-right:0;text-align:right\">120</td>\n",
       "        <td align=\"left\" style=\"padding:0 1px 0 4px;border-left:0;border-right:0;text-align:left\">(</td>\n",
       "        <td align=\"left\" style=\"padding:0;border-left:0;border-right:0;text-align:right\">26%</td>\n",
       "        <td align=\"left\" style=\"padding:0 15px 0 1px;border-left:0;text-align:right\">)</td>\n",
       "        <td align=\"right\" style=\"padding:0 0 0 15px;border-right:0;text-align:right\">237</td>\n",
       "        <td align=\"left\" style=\"padding:0 1px 0 4px;border-left:0;border-right:0;text-align:left\">(</td>\n",
       "        <td align=\"left\" style=\"padding:0;border-left:0;border-right:0;text-align:right\">16%</td>\n",
       "        <td align=\"left\" style=\"padding:0 15px 0 1px;border-left:0;text-align:right\">)</td>\n",
       "      </tr>\n",
       "      <tr>\n",
       "        <td>\n",
       "          <strong align=\"center\">Total</strong>\n",
       "        </td>\n",
       "        <td align=\"right\" style=\"padding:0 0 0 15px;border-right:0;text-align:right\">327</td>\n",
       "        <td align=\"left\" style=\"padding:0 1px 0 4px;border-left:0;border-right:0;text-align:left\">(</td>\n",
       "        <td align=\"left\" style=\"padding:0;border-left:0;border-right:0;text-align:right\">100%</td>\n",
       "        <td align=\"left\" style=\"padding:0 15px 0 1px;border-left:0;text-align:right\">)</td>\n",
       "        <td align=\"right\" style=\"padding:0 0 0 15px;border-right:0;text-align:right\">673</td>\n",
       "        <td align=\"left\" style=\"padding:0 1px 0 4px;border-left:0;border-right:0;text-align:left\">(</td>\n",
       "        <td align=\"left\" style=\"padding:0;border-left:0;border-right:0;text-align:right\">100%</td>\n",
       "        <td align=\"left\" style=\"padding:0 15px 0 1px;border-left:0;text-align:right\">)</td>\n",
       "        <td align=\"right\" style=\"padding:0 0 0 15px;border-right:0;text-align:right\">470</td>\n",
       "        <td align=\"left\" style=\"padding:0 1px 0 4px;border-left:0;border-right:0;text-align:left\">(</td>\n",
       "        <td align=\"left\" style=\"padding:0;border-left:0;border-right:0;text-align:right\">100%</td>\n",
       "        <td align=\"left\" style=\"padding:0 15px 0 1px;border-left:0;text-align:right\">)</td>\n",
       "        <td align=\"right\" style=\"padding:0 0 0 15px;border-right:0;text-align:right\">1470</td>\n",
       "        <td align=\"left\" style=\"padding:0 1px 0 4px;border-left:0;border-right:0;text-align:left\">(</td>\n",
       "        <td align=\"left\" style=\"padding:0;border-left:0;border-right:0;text-align:right\">100%</td>\n",
       "        <td align=\"left\" style=\"padding:0 15px 0 1px;border-left:0;text-align:right\">)</td>\n",
       "      </tr>\n",
       "    </tbody>\n",
       "  </table>\n",
       "  <p>Generated by <a href='https://github.com/dcomtois/summarytools'>summarytools</a> 0.9.8 (<a href='https://www.r-project.org/'>R</a> version 3.6.1)<br/>2021-03-17</p>\n",
       "</div>\n",
       "\t</body>\n",
       "</html>\n"
      ],
      "text/plain": [
       "Shiny tags cannot be represented in plain text (need html)"
      ]
     },
     "metadata": {
      "text/html": {
       "isolated": true
      }
     },
     "output_type": "display_data"
    }
   ],
   "source": [
    "print(ctable(x = att$Attrition, y = att$MaritalStatus, prop = 'c', totals = T, round.digits = 0), method = 'render')"
   ]
  },
  {
   "cell_type": "code",
   "execution_count": 34,
   "id": "great-brave",
   "metadata": {},
   "outputs": [
    {
     "data": {
      "image/png": "[encoded data removed]",
      "text/plain": [
       "plot without title"
      ]
     },
     "metadata": {},
     "output_type": "display_data"
    }
   ],
   "source": [
    "ggplot(att) +\n",
    "  aes(x = MaritalStatus, fill = Attrition, colour = Attrition) +\n",
    "  geom_bar(position = \"dodge\") +\n",
    "  scale_fill_hue() +\n",
    "  scale_color_hue() +\n",
    "  theme_minimal()"
   ]
  },
  {
   "cell_type": "markdown",
   "id": "engaged-connectivity",
   "metadata": {},
   "source": [
    "<br><br><u>**Insights: **</u><br>\n",
    "1. Single people tend to likely hop companies as against married.<br>\n",
    "2. divorced people are less likely to leave company<br>\n"
   ]
  },
  {
   "cell_type": "markdown",
   "id": "sonic-fisher",
   "metadata": {},
   "source": [
    "##### <u>**Job Involvement & Attrition Relation**</u>\n"
   ]
  },
  {
   "cell_type": "code",
   "execution_count": 35,
   "id": "geographic-locator",
   "metadata": {},
   "outputs": [
    {
     "name": "stderr",
     "output_type": "stream",
     "text": [
      "Warning message in repr_html.shiny.tag(obj):\n",
      "\"Inserting HTML strings into <head> is currently not supported\""
     ]
    },
    {
     "data": {
      "text/html": [
       "<!doctype html>\n",
       "<html>\n",
       "\t<head>\n",
       "\t\t<meta charset=\"utf-8\">\n",
       "\t\t\n",
       "\t</head>\n",
       "\t<body>\n",
       "\t\t<div class=\"container st-container\">\n",
       "  <h3>Cross-Tabulation, Column Proportions</h3>\n",
       "  <h4>Attrition * JobInvolvement</h4>\n",
       "  <strong>Data Frame</strong>: att\n",
       "  <br/>\n",
       "  <table class=\"table table-bordered st-table st-table-bordered st-cross-table \">\n",
       "    <thead>\n",
       "      <tr>\n",
       "        <th></th>\n",
       "        <th colspan=\"16\" align=\"center\" class=\"st-protect-top-border\">JobInvolvement</th>\n",
       "        <th colspan=\"4\"></th>\n",
       "      </tr>\n",
       "      <tr>\n",
       "        <td align=\"center\">\n",
       "          <strong>Attrition</strong>\n",
       "        </td>\n",
       "        <th colspan=\"4\" align=\"center\">1</th>\n",
       "        <th colspan=\"4\" align=\"center\">2</th>\n",
       "        <th colspan=\"4\" align=\"center\">3</th>\n",
       "        <th colspan=\"4\" align=\"center\">4</th>\n",
       "        <th colspan=\"4\" align=\"center\">Total</th>\n",
       "      </tr>\n",
       "    </thead>\n",
       "    <tbody>\n",
       "      <tr>\n",
       "        <td>\n",
       "          <strong align=\"center\">No</strong>\n",
       "        </td>\n",
       "        <td align=\"right\" style=\"padding:0 0 0 15px;border-right:0;text-align:right\">55</td>\n",
       "        <td align=\"left\" style=\"padding:0 1px 0 4px;border-left:0;border-right:0;text-align:left\">(</td>\n",
       "        <td align=\"left\" style=\"padding:0;border-left:0;border-right:0;text-align:right\">66%</td>\n",
       "        <td align=\"left\" style=\"padding:0 15px 0 1px;border-left:0;text-align:right\">)</td>\n",
       "        <td align=\"right\" style=\"padding:0 0 0 15px;border-right:0;text-align:right\">304</td>\n",
       "        <td align=\"left\" style=\"padding:0 1px 0 4px;border-left:0;border-right:0;text-align:left\">(</td>\n",
       "        <td align=\"left\" style=\"padding:0;border-left:0;border-right:0;text-align:right\">81%</td>\n",
       "        <td align=\"left\" style=\"padding:0 15px 0 1px;border-left:0;text-align:right\">)</td>\n",
       "        <td align=\"right\" style=\"padding:0 0 0 15px;border-right:0;text-align:right\">743</td>\n",
       "        <td align=\"left\" style=\"padding:0 1px 0 4px;border-left:0;border-right:0;text-align:left\">(</td>\n",
       "        <td align=\"left\" style=\"padding:0;border-left:0;border-right:0;text-align:right\">86%</td>\n",
       "        <td align=\"left\" style=\"padding:0 15px 0 1px;border-left:0;text-align:right\">)</td>\n",
       "        <td align=\"right\" style=\"padding:0 0 0 15px;border-right:0;text-align:right\">131</td>\n",
       "        <td align=\"left\" style=\"padding:0 1px 0 4px;border-left:0;border-right:0;text-align:left\">(</td>\n",
       "        <td align=\"left\" style=\"padding:0;border-left:0;border-right:0;text-align:right\">91%</td>\n",
       "        <td align=\"left\" style=\"padding:0 15px 0 1px;border-left:0;text-align:right\">)</td>\n",
       "        <td align=\"right\" style=\"padding:0 0 0 15px;border-right:0;text-align:right\">1233</td>\n",
       "        <td align=\"left\" style=\"padding:0 1px 0 4px;border-left:0;border-right:0;text-align:left\">(</td>\n",
       "        <td align=\"left\" style=\"padding:0;border-left:0;border-right:0;text-align:right\">84%</td>\n",
       "        <td align=\"left\" style=\"padding:0 15px 0 1px;border-left:0;text-align:right\">)</td>\n",
       "      </tr>\n",
       "      <tr>\n",
       "        <td>\n",
       "          <strong align=\"center\">Yes</strong>\n",
       "        </td>\n",
       "        <td align=\"right\" style=\"padding:0 0 0 15px;border-right:0;text-align:right\">28</td>\n",
       "        <td align=\"left\" style=\"padding:0 1px 0 4px;border-left:0;border-right:0;text-align:left\">(</td>\n",
       "        <td align=\"left\" style=\"padding:0;border-left:0;border-right:0;text-align:right\">34%</td>\n",
       "        <td align=\"left\" style=\"padding:0 15px 0 1px;border-left:0;text-align:right\">)</td>\n",
       "        <td align=\"right\" style=\"padding:0 0 0 15px;border-right:0;text-align:right\">71</td>\n",
       "        <td align=\"left\" style=\"padding:0 1px 0 4px;border-left:0;border-right:0;text-align:left\">(</td>\n",
       "        <td align=\"left\" style=\"padding:0;border-left:0;border-right:0;text-align:right\">19%</td>\n",
       "        <td align=\"left\" style=\"padding:0 15px 0 1px;border-left:0;text-align:right\">)</td>\n",
       "        <td align=\"right\" style=\"padding:0 0 0 15px;border-right:0;text-align:right\">125</td>\n",
       "        <td align=\"left\" style=\"padding:0 1px 0 4px;border-left:0;border-right:0;text-align:left\">(</td>\n",
       "        <td align=\"left\" style=\"padding:0;border-left:0;border-right:0;text-align:right\">14%</td>\n",
       "        <td align=\"left\" style=\"padding:0 15px 0 1px;border-left:0;text-align:right\">)</td>\n",
       "        <td align=\"right\" style=\"padding:0 0 0 15px;border-right:0;text-align:right\">13</td>\n",
       "        <td align=\"left\" style=\"padding:0 1px 0 4px;border-left:0;border-right:0;text-align:left\">(</td>\n",
       "        <td align=\"left\" style=\"padding:0;border-left:0;border-right:0;text-align:right\">9%</td>\n",
       "        <td align=\"left\" style=\"padding:0 15px 0 1px;border-left:0;text-align:right\">)</td>\n",
       "        <td align=\"right\" style=\"padding:0 0 0 15px;border-right:0;text-align:right\">237</td>\n",
       "        <td align=\"left\" style=\"padding:0 1px 0 4px;border-left:0;border-right:0;text-align:left\">(</td>\n",
       "        <td align=\"left\" style=\"padding:0;border-left:0;border-right:0;text-align:right\">16%</td>\n",
       "        <td align=\"left\" style=\"padding:0 15px 0 1px;border-left:0;text-align:right\">)</td>\n",
       "      </tr>\n",
       "      <tr>\n",
       "        <td>\n",
       "          <strong align=\"center\">Total</strong>\n",
       "        </td>\n",
       "        <td align=\"right\" style=\"padding:0 0 0 15px;border-right:0;text-align:right\">83</td>\n",
       "        <td align=\"left\" style=\"padding:0 1px 0 4px;border-left:0;border-right:0;text-align:left\">(</td>\n",
       "        <td align=\"left\" style=\"padding:0;border-left:0;border-right:0;text-align:right\">100%</td>\n",
       "        <td align=\"left\" style=\"padding:0 15px 0 1px;border-left:0;text-align:right\">)</td>\n",
       "        <td align=\"right\" style=\"padding:0 0 0 15px;border-right:0;text-align:right\">375</td>\n",
       "        <td align=\"left\" style=\"padding:0 1px 0 4px;border-left:0;border-right:0;text-align:left\">(</td>\n",
       "        <td align=\"left\" style=\"padding:0;border-left:0;border-right:0;text-align:right\">100%</td>\n",
       "        <td align=\"left\" style=\"padding:0 15px 0 1px;border-left:0;text-align:right\">)</td>\n",
       "        <td align=\"right\" style=\"padding:0 0 0 15px;border-right:0;text-align:right\">868</td>\n",
       "        <td align=\"left\" style=\"padding:0 1px 0 4px;border-left:0;border-right:0;text-align:left\">(</td>\n",
       "        <td align=\"left\" style=\"padding:0;border-left:0;border-right:0;text-align:right\">100%</td>\n",
       "        <td align=\"left\" style=\"padding:0 15px 0 1px;border-left:0;text-align:right\">)</td>\n",
       "        <td align=\"right\" style=\"padding:0 0 0 15px;border-right:0;text-align:right\">144</td>\n",
       "        <td align=\"left\" style=\"padding:0 1px 0 4px;border-left:0;border-right:0;text-align:left\">(</td>\n",
       "        <td align=\"left\" style=\"padding:0;border-left:0;border-right:0;text-align:right\">100%</td>\n",
       "        <td align=\"left\" style=\"padding:0 15px 0 1px;border-left:0;text-align:right\">)</td>\n",
       "        <td align=\"right\" style=\"padding:0 0 0 15px;border-right:0;text-align:right\">1470</td>\n",
       "        <td align=\"left\" style=\"padding:0 1px 0 4px;border-left:0;border-right:0;text-align:left\">(</td>\n",
       "        <td align=\"left\" style=\"padding:0;border-left:0;border-right:0;text-align:right\">100%</td>\n",
       "        <td align=\"left\" style=\"padding:0 15px 0 1px;border-left:0;text-align:right\">)</td>\n",
       "      </tr>\n",
       "    </tbody>\n",
       "  </table>\n",
       "  <p>Generated by <a href='https://github.com/dcomtois/summarytools'>summarytools</a> 0.9.8 (<a href='https://www.r-project.org/'>R</a> version 3.6.1)<br/>2021-03-17</p>\n",
       "</div>\n",
       "\t</body>\n",
       "</html>\n"
      ],
      "text/plain": [
       "Shiny tags cannot be represented in plain text (need html)"
      ]
     },
     "metadata": {
      "text/html": {
       "isolated": true
      }
     },
     "output_type": "display_data"
    }
   ],
   "source": [
    "att$JobInvolvement <- as.factor(att$JobInvolvement)\n",
    "print(ctable(x = att$Attrition, y = att$JobInvolvement, prop = 'c', round.digits = 0), method = 'render')"
   ]
  },
  {
   "cell_type": "markdown",
   "id": "successful-scanning",
   "metadata": {},
   "source": [
    "<br><br><u>**Insights: **</u><br>\n",
    "1. people with job involvement < 3 are 42% in Attrition level Yes\n",
    "2. This means that people who have less job involvement, will tend to leave company."
   ]
  },
  {
   "cell_type": "markdown",
   "id": "foreign-fraud",
   "metadata": {},
   "source": [
    "##### <u>**Relation between Job level and Attrition**</u>"
   ]
  },
  {
   "cell_type": "code",
   "execution_count": 36,
   "id": "unlike-glossary",
   "metadata": {},
   "outputs": [
    {
     "data": {
      "text/plain": [
       "\n",
       " Descriptive statistics by group \n",
       "group: No\n",
       "   vars    n mean   sd median trimmed  mad min max range skew kurtosis   se\n",
       "X1    1 1233 2.15 1.12      2    1.99 1.48   1   5     4 0.95     0.23 0.03\n",
       "------------------------------------------------------------ \n",
       "group: Yes\n",
       "   vars   n mean   sd median trimmed mad min max range skew kurtosis   se\n",
       "X1    1 237 1.64 0.94      1    1.47   0   1   5     4 1.53     2.01 0.06"
      ]
     },
     "metadata": {},
     "output_type": "display_data"
    }
   ],
   "source": [
    "describeBy(att$JobLevel, att$Attrition)\n"
   ]
  },
  {
   "cell_type": "code",
   "execution_count": 37,
   "id": "prime-brazil",
   "metadata": {},
   "outputs": [
    {
     "data": {
      "image/png": "[encoded data removed]",
      "text/plain": [
       "plot without title"
      ]
     },
     "metadata": {},
     "output_type": "display_data"
    }
   ],
   "source": [
    "ggplot(att) +\n",
    "  aes(x = Attrition, y = JobLevel, fill = Attrition) +\n",
    "  geom_boxplot() +\n",
    "  scale_fill_hue() +\n",
    "  ggthemes::theme_economist()"
   ]
  },
  {
   "cell_type": "markdown",
   "id": "finite-mouth",
   "metadata": {},
   "source": [
    "<br><br><u>**Insights: **</u><br>\n",
    "1. people with lower job level tend to switch companies faster.\n"
   ]
  },
  {
   "cell_type": "markdown",
   "id": "round-exhibit",
   "metadata": {},
   "source": [
    "##### <u>**Number of Companies worked against attrition**</u>\n"
   ]
  },
  {
   "cell_type": "code",
   "execution_count": 38,
   "id": "beautiful-adams",
   "metadata": {},
   "outputs": [
    {
     "data": {
      "text/plain": [
       "\n",
       " Descriptive statistics by group \n",
       "group: No\n",
       "   vars    n mean   sd median trimmed  mad min max range skew kurtosis   se\n",
       "X1    1 1233 2.65 2.46      2    2.31 1.48   0   9     9 1.06     0.13 0.07\n",
       "------------------------------------------------------------ \n",
       "group: Yes\n",
       "   vars   n mean   sd median trimmed  mad min max range skew kurtosis   se\n",
       "X1    1 237 2.94 2.68      1    2.65 1.48   0   9     9 0.85    -0.58 0.17"
      ]
     },
     "metadata": {},
     "output_type": "display_data"
    }
   ],
   "source": [
    "describeBy(att$NumCompaniesWorked, att$Attrition)\n"
   ]
  },
  {
   "cell_type": "code",
   "execution_count": 39,
   "id": "asian-burden",
   "metadata": {},
   "outputs": [
    {
     "name": "stderr",
     "output_type": "stream",
     "text": [
      "Warning message in repr_html.shiny.tag(obj):\n",
      "\"Inserting HTML strings into <head> is currently not supported\""
     ]
    },
    {
     "data": {
      "text/html": [
       "<!doctype html>\n",
       "<html>\n",
       "\t<head>\n",
       "\t\t<meta charset=\"utf-8\">\n",
       "\t\t\n",
       "\t</head>\n",
       "\t<body>\n",
       "\t\t<div class=\"container st-container\">\n",
       "  <h3>Cross-Tabulation, Column Proportions</h3>\n",
       "  <h4>Attrition * NumCompaniesWorked</h4>\n",
       "  <strong>Data Frame</strong>: att\n",
       "  <br/>\n",
       "  <table class=\"table table-bordered st-table st-table-bordered st-cross-table \">\n",
       "    <thead>\n",
       "      <tr>\n",
       "        <th></th>\n",
       "        <th colspan=\"40\" align=\"center\" class=\"st-protect-top-border\">NumCompaniesWorked</th>\n",
       "        <th colspan=\"4\"></th>\n",
       "      </tr>\n",
       "      <tr>\n",
       "        <td align=\"center\">\n",
       "          <strong>Attrition</strong>\n",
       "        </td>\n",
       "        <th colspan=\"4\" align=\"center\">0</th>\n",
       "        <th colspan=\"4\" align=\"center\">1</th>\n",
       "        <th colspan=\"4\" align=\"center\">2</th>\n",
       "        <th colspan=\"4\" align=\"center\">3</th>\n",
       "        <th colspan=\"4\" align=\"center\">4</th>\n",
       "        <th colspan=\"4\" align=\"center\">5</th>\n",
       "        <th colspan=\"4\" align=\"center\">6</th>\n",
       "        <th colspan=\"4\" align=\"center\">7</th>\n",
       "        <th colspan=\"4\" align=\"center\">8</th>\n",
       "        <th colspan=\"4\" align=\"center\">9</th>\n",
       "        <th colspan=\"4\" align=\"center\">Total</th>\n",
       "      </tr>\n",
       "    </thead>\n",
       "    <tbody>\n",
       "      <tr>\n",
       "        <td>\n",
       "          <strong align=\"center\">No</strong>\n",
       "        </td>\n",
       "        <td align=\"right\" style=\"padding:0 0 0 15px;border-right:0;text-align:right\">174</td>\n",
       "        <td align=\"left\" style=\"padding:0 1px 0 4px;border-left:0;border-right:0;text-align:left\">(</td>\n",
       "        <td align=\"left\" style=\"padding:0;border-left:0;border-right:0;text-align:right\">88%</td>\n",
       "        <td align=\"left\" style=\"padding:0 15px 0 1px;border-left:0;text-align:right\">)</td>\n",
       "        <td align=\"right\" style=\"padding:0 0 0 15px;border-right:0;text-align:right\">423</td>\n",
       "        <td align=\"left\" style=\"padding:0 1px 0 4px;border-left:0;border-right:0;text-align:left\">(</td>\n",
       "        <td align=\"left\" style=\"padding:0;border-left:0;border-right:0;text-align:right\">81%</td>\n",
       "        <td align=\"left\" style=\"padding:0 15px 0 1px;border-left:0;text-align:right\">)</td>\n",
       "        <td align=\"right\" style=\"padding:0 0 0 15px;border-right:0;text-align:right\">130</td>\n",
       "        <td align=\"left\" style=\"padding:0 1px 0 4px;border-left:0;border-right:0;text-align:left\">(</td>\n",
       "        <td align=\"left\" style=\"padding:0;border-left:0;border-right:0;text-align:right\">89%</td>\n",
       "        <td align=\"left\" style=\"padding:0 15px 0 1px;border-left:0;text-align:right\">)</td>\n",
       "        <td align=\"right\" style=\"padding:0 0 0 15px;border-right:0;text-align:right\">143</td>\n",
       "        <td align=\"left\" style=\"padding:0 1px 0 4px;border-left:0;border-right:0;text-align:left\">(</td>\n",
       "        <td align=\"left\" style=\"padding:0;border-left:0;border-right:0;text-align:right\">90%</td>\n",
       "        <td align=\"left\" style=\"padding:0 15px 0 1px;border-left:0;text-align:right\">)</td>\n",
       "        <td align=\"right\" style=\"padding:0 0 0 15px;border-right:0;text-align:right\">122</td>\n",
       "        <td align=\"left\" style=\"padding:0 1px 0 4px;border-left:0;border-right:0;text-align:left\">(</td>\n",
       "        <td align=\"left\" style=\"padding:0;border-left:0;border-right:0;text-align:right\">88%</td>\n",
       "        <td align=\"left\" style=\"padding:0 15px 0 1px;border-left:0;text-align:right\">)</td>\n",
       "        <td align=\"right\" style=\"padding:0 0 0 15px;border-right:0;text-align:right\">47</td>\n",
       "        <td align=\"left\" style=\"padding:0 1px 0 4px;border-left:0;border-right:0;text-align:left\">(</td>\n",
       "        <td align=\"left\" style=\"padding:0;border-left:0;border-right:0;text-align:right\">75%</td>\n",
       "        <td align=\"left\" style=\"padding:0 15px 0 1px;border-left:0;text-align:right\">)</td>\n",
       "        <td align=\"right\" style=\"padding:0 0 0 15px;border-right:0;text-align:right\">54</td>\n",
       "        <td align=\"left\" style=\"padding:0 1px 0 4px;border-left:0;border-right:0;text-align:left\">(</td>\n",
       "        <td align=\"left\" style=\"padding:0;border-left:0;border-right:0;text-align:right\">77%</td>\n",
       "        <td align=\"left\" style=\"padding:0 15px 0 1px;border-left:0;text-align:right\">)</td>\n",
       "        <td align=\"right\" style=\"padding:0 0 0 15px;border-right:0;text-align:right\">57</td>\n",
       "        <td align=\"left\" style=\"padding:0 1px 0 4px;border-left:0;border-right:0;text-align:left\">(</td>\n",
       "        <td align=\"left\" style=\"padding:0;border-left:0;border-right:0;text-align:right\">77%</td>\n",
       "        <td align=\"left\" style=\"padding:0 15px 0 1px;border-left:0;text-align:right\">)</td>\n",
       "        <td align=\"right\" style=\"padding:0 0 0 15px;border-right:0;text-align:right\">43</td>\n",
       "        <td align=\"left\" style=\"padding:0 1px 0 4px;border-left:0;border-right:0;text-align:left\">(</td>\n",
       "        <td align=\"left\" style=\"padding:0;border-left:0;border-right:0;text-align:right\">88%</td>\n",
       "        <td align=\"left\" style=\"padding:0 15px 0 1px;border-left:0;text-align:right\">)</td>\n",
       "        <td align=\"right\" style=\"padding:0 0 0 15px;border-right:0;text-align:right\">40</td>\n",
       "        <td align=\"left\" style=\"padding:0 1px 0 4px;border-left:0;border-right:0;text-align:left\">(</td>\n",
       "        <td align=\"left\" style=\"padding:0;border-left:0;border-right:0;text-align:right\">77%</td>\n",
       "        <td align=\"left\" style=\"padding:0 15px 0 1px;border-left:0;text-align:right\">)</td>\n",
       "        <td align=\"right\" style=\"padding:0 0 0 15px;border-right:0;text-align:right\">1233</td>\n",
       "        <td align=\"left\" style=\"padding:0 1px 0 4px;border-left:0;border-right:0;text-align:left\">(</td>\n",
       "        <td align=\"left\" style=\"padding:0;border-left:0;border-right:0;text-align:right\">84%</td>\n",
       "        <td align=\"left\" style=\"padding:0 15px 0 1px;border-left:0;text-align:right\">)</td>\n",
       "      </tr>\n",
       "      <tr>\n",
       "        <td>\n",
       "          <strong align=\"center\">Yes</strong>\n",
       "        </td>\n",
       "        <td align=\"right\" style=\"padding:0 0 0 15px;border-right:0;text-align:right\">23</td>\n",
       "        <td align=\"left\" style=\"padding:0 1px 0 4px;border-left:0;border-right:0;text-align:left\">(</td>\n",
       "        <td align=\"left\" style=\"padding:0;border-left:0;border-right:0;text-align:right\">12%</td>\n",
       "        <td align=\"left\" style=\"padding:0 15px 0 1px;border-left:0;text-align:right\">)</td>\n",
       "        <td align=\"right\" style=\"padding:0 0 0 15px;border-right:0;text-align:right\">98</td>\n",
       "        <td align=\"left\" style=\"padding:0 1px 0 4px;border-left:0;border-right:0;text-align:left\">(</td>\n",
       "        <td align=\"left\" style=\"padding:0;border-left:0;border-right:0;text-align:right\">19%</td>\n",
       "        <td align=\"left\" style=\"padding:0 15px 0 1px;border-left:0;text-align:right\">)</td>\n",
       "        <td align=\"right\" style=\"padding:0 0 0 15px;border-right:0;text-align:right\">16</td>\n",
       "        <td align=\"left\" style=\"padding:0 1px 0 4px;border-left:0;border-right:0;text-align:left\">(</td>\n",
       "        <td align=\"left\" style=\"padding:0;border-left:0;border-right:0;text-align:right\">11%</td>\n",
       "        <td align=\"left\" style=\"padding:0 15px 0 1px;border-left:0;text-align:right\">)</td>\n",
       "        <td align=\"right\" style=\"padding:0 0 0 15px;border-right:0;text-align:right\">16</td>\n",
       "        <td align=\"left\" style=\"padding:0 1px 0 4px;border-left:0;border-right:0;text-align:left\">(</td>\n",
       "        <td align=\"left\" style=\"padding:0;border-left:0;border-right:0;text-align:right\">10%</td>\n",
       "        <td align=\"left\" style=\"padding:0 15px 0 1px;border-left:0;text-align:right\">)</td>\n",
       "        <td align=\"right\" style=\"padding:0 0 0 15px;border-right:0;text-align:right\">17</td>\n",
       "        <td align=\"left\" style=\"padding:0 1px 0 4px;border-left:0;border-right:0;text-align:left\">(</td>\n",
       "        <td align=\"left\" style=\"padding:0;border-left:0;border-right:0;text-align:right\">12%</td>\n",
       "        <td align=\"left\" style=\"padding:0 15px 0 1px;border-left:0;text-align:right\">)</td>\n",
       "        <td align=\"right\" style=\"padding:0 0 0 15px;border-right:0;text-align:right\">16</td>\n",
       "        <td align=\"left\" style=\"padding:0 1px 0 4px;border-left:0;border-right:0;text-align:left\">(</td>\n",
       "        <td align=\"left\" style=\"padding:0;border-left:0;border-right:0;text-align:right\">25%</td>\n",
       "        <td align=\"left\" style=\"padding:0 15px 0 1px;border-left:0;text-align:right\">)</td>\n",
       "        <td align=\"right\" style=\"padding:0 0 0 15px;border-right:0;text-align:right\">16</td>\n",
       "        <td align=\"left\" style=\"padding:0 1px 0 4px;border-left:0;border-right:0;text-align:left\">(</td>\n",
       "        <td align=\"left\" style=\"padding:0;border-left:0;border-right:0;text-align:right\">23%</td>\n",
       "        <td align=\"left\" style=\"padding:0 15px 0 1px;border-left:0;text-align:right\">)</td>\n",
       "        <td align=\"right\" style=\"padding:0 0 0 15px;border-right:0;text-align:right\">17</td>\n",
       "        <td align=\"left\" style=\"padding:0 1px 0 4px;border-left:0;border-right:0;text-align:left\">(</td>\n",
       "        <td align=\"left\" style=\"padding:0;border-left:0;border-right:0;text-align:right\">23%</td>\n",
       "        <td align=\"left\" style=\"padding:0 15px 0 1px;border-left:0;text-align:right\">)</td>\n",
       "        <td align=\"right\" style=\"padding:0 0 0 15px;border-right:0;text-align:right\">6</td>\n",
       "        <td align=\"left\" style=\"padding:0 1px 0 4px;border-left:0;border-right:0;text-align:left\">(</td>\n",
       "        <td align=\"left\" style=\"padding:0;border-left:0;border-right:0;text-align:right\">12%</td>\n",
       "        <td align=\"left\" style=\"padding:0 15px 0 1px;border-left:0;text-align:right\">)</td>\n",
       "        <td align=\"right\" style=\"padding:0 0 0 15px;border-right:0;text-align:right\">12</td>\n",
       "        <td align=\"left\" style=\"padding:0 1px 0 4px;border-left:0;border-right:0;text-align:left\">(</td>\n",
       "        <td align=\"left\" style=\"padding:0;border-left:0;border-right:0;text-align:right\">23%</td>\n",
       "        <td align=\"left\" style=\"padding:0 15px 0 1px;border-left:0;text-align:right\">)</td>\n",
       "        <td align=\"right\" style=\"padding:0 0 0 15px;border-right:0;text-align:right\">237</td>\n",
       "        <td align=\"left\" style=\"padding:0 1px 0 4px;border-left:0;border-right:0;text-align:left\">(</td>\n",
       "        <td align=\"left\" style=\"padding:0;border-left:0;border-right:0;text-align:right\">16%</td>\n",
       "        <td align=\"left\" style=\"padding:0 15px 0 1px;border-left:0;text-align:right\">)</td>\n",
       "      </tr>\n",
       "      <tr>\n",
       "        <td>\n",
       "          <strong align=\"center\">Total</strong>\n",
       "        </td>\n",
       "        <td align=\"right\" style=\"padding:0 0 0 15px;border-right:0;text-align:right\">197</td>\n",
       "        <td align=\"left\" style=\"padding:0 1px 0 4px;border-left:0;border-right:0;text-align:left\">(</td>\n",
       "        <td align=\"left\" style=\"padding:0;border-left:0;border-right:0;text-align:right\">100%</td>\n",
       "        <td align=\"left\" style=\"padding:0 15px 0 1px;border-left:0;text-align:right\">)</td>\n",
       "        <td align=\"right\" style=\"padding:0 0 0 15px;border-right:0;text-align:right\">521</td>\n",
       "        <td align=\"left\" style=\"padding:0 1px 0 4px;border-left:0;border-right:0;text-align:left\">(</td>\n",
       "        <td align=\"left\" style=\"padding:0;border-left:0;border-right:0;text-align:right\">100%</td>\n",
       "        <td align=\"left\" style=\"padding:0 15px 0 1px;border-left:0;text-align:right\">)</td>\n",
       "        <td align=\"right\" style=\"padding:0 0 0 15px;border-right:0;text-align:right\">146</td>\n",
       "        <td align=\"left\" style=\"padding:0 1px 0 4px;border-left:0;border-right:0;text-align:left\">(</td>\n",
       "        <td align=\"left\" style=\"padding:0;border-left:0;border-right:0;text-align:right\">100%</td>\n",
       "        <td align=\"left\" style=\"padding:0 15px 0 1px;border-left:0;text-align:right\">)</td>\n",
       "        <td align=\"right\" style=\"padding:0 0 0 15px;border-right:0;text-align:right\">159</td>\n",
       "        <td align=\"left\" style=\"padding:0 1px 0 4px;border-left:0;border-right:0;text-align:left\">(</td>\n",
       "        <td align=\"left\" style=\"padding:0;border-left:0;border-right:0;text-align:right\">100%</td>\n",
       "        <td align=\"left\" style=\"padding:0 15px 0 1px;border-left:0;text-align:right\">)</td>\n",
       "        <td align=\"right\" style=\"padding:0 0 0 15px;border-right:0;text-align:right\">139</td>\n",
       "        <td align=\"left\" style=\"padding:0 1px 0 4px;border-left:0;border-right:0;text-align:left\">(</td>\n",
       "        <td align=\"left\" style=\"padding:0;border-left:0;border-right:0;text-align:right\">100%</td>\n",
       "        <td align=\"left\" style=\"padding:0 15px 0 1px;border-left:0;text-align:right\">)</td>\n",
       "        <td align=\"right\" style=\"padding:0 0 0 15px;border-right:0;text-align:right\">63</td>\n",
       "        <td align=\"left\" style=\"padding:0 1px 0 4px;border-left:0;border-right:0;text-align:left\">(</td>\n",
       "        <td align=\"left\" style=\"padding:0;border-left:0;border-right:0;text-align:right\">100%</td>\n",
       "        <td align=\"left\" style=\"padding:0 15px 0 1px;border-left:0;text-align:right\">)</td>\n",
       "        <td align=\"right\" style=\"padding:0 0 0 15px;border-right:0;text-align:right\">70</td>\n",
       "        <td align=\"left\" style=\"padding:0 1px 0 4px;border-left:0;border-right:0;text-align:left\">(</td>\n",
       "        <td align=\"left\" style=\"padding:0;border-left:0;border-right:0;text-align:right\">100%</td>\n",
       "        <td align=\"left\" style=\"padding:0 15px 0 1px;border-left:0;text-align:right\">)</td>\n",
       "        <td align=\"right\" style=\"padding:0 0 0 15px;border-right:0;text-align:right\">74</td>\n",
       "        <td align=\"left\" style=\"padding:0 1px 0 4px;border-left:0;border-right:0;text-align:left\">(</td>\n",
       "        <td align=\"left\" style=\"padding:0;border-left:0;border-right:0;text-align:right\">100%</td>\n",
       "        <td align=\"left\" style=\"padding:0 15px 0 1px;border-left:0;text-align:right\">)</td>\n",
       "        <td align=\"right\" style=\"padding:0 0 0 15px;border-right:0;text-align:right\">49</td>\n",
       "        <td align=\"left\" style=\"padding:0 1px 0 4px;border-left:0;border-right:0;text-align:left\">(</td>\n",
       "        <td align=\"left\" style=\"padding:0;border-left:0;border-right:0;text-align:right\">100%</td>\n",
       "        <td align=\"left\" style=\"padding:0 15px 0 1px;border-left:0;text-align:right\">)</td>\n",
       "        <td align=\"right\" style=\"padding:0 0 0 15px;border-right:0;text-align:right\">52</td>\n",
       "        <td align=\"left\" style=\"padding:0 1px 0 4px;border-left:0;border-right:0;text-align:left\">(</td>\n",
       "        <td align=\"left\" style=\"padding:0;border-left:0;border-right:0;text-align:right\">100%</td>\n",
       "        <td align=\"left\" style=\"padding:0 15px 0 1px;border-left:0;text-align:right\">)</td>\n",
       "        <td align=\"right\" style=\"padding:0 0 0 15px;border-right:0;text-align:right\">1470</td>\n",
       "        <td align=\"left\" style=\"padding:0 1px 0 4px;border-left:0;border-right:0;text-align:left\">(</td>\n",
       "        <td align=\"left\" style=\"padding:0;border-left:0;border-right:0;text-align:right\">100%</td>\n",
       "        <td align=\"left\" style=\"padding:0 15px 0 1px;border-left:0;text-align:right\">)</td>\n",
       "      </tr>\n",
       "    </tbody>\n",
       "  </table>\n",
       "  <p>Generated by <a href='https://github.com/dcomtois/summarytools'>summarytools</a> 0.9.8 (<a href='https://www.r-project.org/'>R</a> version 3.6.1)<br/>2021-03-17</p>\n",
       "</div>\n",
       "\t</body>\n",
       "</html>\n"
      ],
      "text/plain": [
       "Shiny tags cannot be represented in plain text (need html)"
      ]
     },
     "metadata": {
      "text/html": {
       "isolated": true
      }
     },
     "output_type": "display_data"
    }
   ],
   "source": [
    "att$NumCompaniesWorked <- as.factor(att$NumCompaniesWorked)\n",
    "print(ctable(x = att$Attrition, y = att$NumCompaniesWorked, prop = 'c', round.digits = 0), method = 'render')"
   ]
  },
  {
   "cell_type": "markdown",
   "id": "returning-essence",
   "metadata": {},
   "source": [
    "<br><br><u>**Insights: **</u><br>\n",
    "1. This table clearly explains that people with record higher companies worked, will tend to switch companies again\n"
   ]
  },
  {
   "cell_type": "markdown",
   "id": "extraordinary-frederick",
   "metadata": {},
   "source": [
    "##### <u>**Exploring relation between % salary hike, performance rating & Attrition**</u>\n",
    "<br>"
   ]
  },
  {
   "cell_type": "code",
   "execution_count": 40,
   "id": "occasional-finance",
   "metadata": {},
   "outputs": [
    {
     "name": "stderr",
     "output_type": "stream",
     "text": [
      "`geom_smooth()` using method = 'gam' and formula 'y ~ s(x, bs = \"cs\")'\n"
     ]
    },
    {
     "data": {
      "image/png": "[encoded data removed]",
      "text/plain": [
       "plot without title"
      ]
     },
     "metadata": {},
     "output_type": "display_data"
    }
   ],
   "source": [
    "ggplot(att) +\n",
    "  aes(x = PercentSalaryHike, y = PerformanceRating) +\n",
    "  geom_line(size = 3L, colour = \"#ef562d\") +\n",
    "  geom_smooth(span = 1L) +\n",
    "  ggthemes::theme_economist()"
   ]
  },
  {
   "cell_type": "code",
   "execution_count": 41,
   "id": "opposed-municipality",
   "metadata": {},
   "outputs": [
    {
     "data": {
      "text/html": [
       "0.773549996401269"
      ],
      "text/latex": [
       "0.773549996401269"
      ],
      "text/markdown": [
       "0.773549996401269"
      ],
      "text/plain": [
       "[1] 0.77355"
      ]
     },
     "metadata": {},
     "output_type": "display_data"
    }
   ],
   "source": [
    "cor(att$PercentSalaryHike, att$PerformanceRating)\n"
   ]
  },
  {
   "cell_type": "markdown",
   "id": "surface-happiness",
   "metadata": {},
   "source": [
    "1. We can see that performance rating is directly proportional to % salary hike, let's see how these factors further affect Attrition\n"
   ]
  },
  {
   "cell_type": "code",
   "execution_count": 42,
   "id": "upset-script",
   "metadata": {},
   "outputs": [
    {
     "data": {
      "image/png": "[encoded data removed]",
      "text/plain": [
       "plot without title"
      ]
     },
     "metadata": {},
     "output_type": "display_data"
    }
   ],
   "source": [
    "ggplot(att) +\n",
    "  aes(x = Attrition, y = PercentSalaryHike) +\n",
    "  geom_violin(adjust = 0.7, scale = \"area\", fill = \"#0c4c8a\") +\n",
    "  ggthemes::theme_economist()"
   ]
  },
  {
   "cell_type": "markdown",
   "id": "smooth-washington",
   "metadata": {},
   "source": [
    "<br><br><u>**Insights: **</u><br>\n",
    "1. From violin plot &  we come to know that, people with lower % salary hike will look for company change.<br>\n",
    "<br>"
   ]
  },
  {
   "cell_type": "markdown",
   "id": "present-convertible",
   "metadata": {},
   "source": [
    "##### <u>**Relationship between stock option level & Attrition **</u>\n"
   ]
  },
  {
   "cell_type": "code",
   "execution_count": 43,
   "id": "numeric-proportion",
   "metadata": {},
   "outputs": [
    {
     "data": {
      "text/plain": [
       "\n",
       " Descriptive statistics by group \n",
       "group: No\n",
       "   vars    n mean   sd median trimmed  mad min max range skew kurtosis   se\n",
       "X1    1 1233 0.85 0.84      1    0.74 1.48   0   3     3 0.87     0.25 0.02\n",
       "------------------------------------------------------------ \n",
       "group: Yes\n",
       "   vars   n mean   sd median trimmed mad min max range skew kurtosis   se\n",
       "X1    1 237 0.53 0.86      0    0.34   0   0   3     3 1.67     1.96 0.06"
      ]
     },
     "metadata": {},
     "output_type": "display_data"
    }
   ],
   "source": [
    "describeBy(att$StockOptionLevel, att$Attrition)\n"
   ]
  },
  {
   "cell_type": "code",
   "execution_count": 44,
   "id": "nearby-palmer",
   "metadata": {},
   "outputs": [
    {
     "data": {
      "image/png": "[encoded data removed]",
      "text/plain": [
       "plot without title"
      ]
     },
     "metadata": {},
     "output_type": "display_data"
    }
   ],
   "source": [
    "ggplot(att) +\n",
    "  aes(x = Attrition, y = StockOptionLevel, fill = Attrition) +\n",
    "  geom_violin(adjust = 1L, scale = \"area\") +\n",
    "  scale_fill_hue() +\n",
    "  ggthemes::theme_economist() +\n",
    "  theme(legend.position = \"top\")"
   ]
  },
  {
   "cell_type": "code",
   "execution_count": 45,
   "id": "viral-absence",
   "metadata": {},
   "outputs": [
    {
     "data": {
      "text/html": [
       "<ol class=list-inline>\n",
       "\t<li>'0'</li>\n",
       "\t<li>'1'</li>\n",
       "\t<li>'2'</li>\n",
       "\t<li>'3'</li>\n",
       "</ol>\n"
      ],
      "text/latex": [
       "\\begin{enumerate*}\n",
       "\\item '0'\n",
       "\\item '1'\n",
       "\\item '2'\n",
       "\\item '3'\n",
       "\\end{enumerate*}\n"
      ],
      "text/markdown": [
       "1. '0'\n",
       "2. '1'\n",
       "3. '2'\n",
       "4. '3'\n",
       "\n",
       "\n"
      ],
      "text/plain": [
       "[1] \"0\" \"1\" \"2\" \"3\""
      ]
     },
     "metadata": {},
     "output_type": "display_data"
    },
    {
     "name": "stderr",
     "output_type": "stream",
     "text": [
      "Warning message in repr_html.shiny.tag(obj):\n",
      "\"Inserting HTML strings into <head> is currently not supported\""
     ]
    },
    {
     "data": {
      "text/html": [
       "<!doctype html>\n",
       "<html>\n",
       "\t<head>\n",
       "\t\t<meta charset=\"utf-8\">\n",
       "\t\t\n",
       "\t</head>\n",
       "\t<body>\n",
       "\t\t<div class=\"container st-container\">\n",
       "  <h3>Cross-Tabulation, Column Proportions</h3>\n",
       "  <h4>Attrition * StockOptionLevel</h4>\n",
       "  <strong>Data Frame</strong>: att\n",
       "  <br/>\n",
       "  <table class=\"table table-bordered st-table st-table-bordered st-cross-table \">\n",
       "    <thead>\n",
       "      <tr>\n",
       "        <th></th>\n",
       "        <th colspan=\"16\" align=\"center\" class=\"st-protect-top-border\">StockOptionLevel</th>\n",
       "        <th colspan=\"4\"></th>\n",
       "      </tr>\n",
       "      <tr>\n",
       "        <td align=\"center\">\n",
       "          <strong>Attrition</strong>\n",
       "        </td>\n",
       "        <th colspan=\"4\" align=\"center\">0</th>\n",
       "        <th colspan=\"4\" align=\"center\">1</th>\n",
       "        <th colspan=\"4\" align=\"center\">2</th>\n",
       "        <th colspan=\"4\" align=\"center\">3</th>\n",
       "        <th colspan=\"4\" align=\"center\">Total</th>\n",
       "      </tr>\n",
       "    </thead>\n",
       "    <tbody>\n",
       "      <tr>\n",
       "        <td>\n",
       "          <strong align=\"center\">No</strong>\n",
       "        </td>\n",
       "        <td align=\"right\" style=\"padding:0 0 0 15px;border-right:0;text-align:right\">477</td>\n",
       "        <td align=\"left\" style=\"padding:0 1px 0 4px;border-left:0;border-right:0;text-align:left\">(</td>\n",
       "        <td align=\"left\" style=\"padding:0;border-left:0;border-right:0;text-align:right\">76%</td>\n",
       "        <td align=\"left\" style=\"padding:0 15px 0 1px;border-left:0;text-align:right\">)</td>\n",
       "        <td align=\"right\" style=\"padding:0 0 0 15px;border-right:0;text-align:right\">540</td>\n",
       "        <td align=\"left\" style=\"padding:0 1px 0 4px;border-left:0;border-right:0;text-align:left\">(</td>\n",
       "        <td align=\"left\" style=\"padding:0;border-left:0;border-right:0;text-align:right\">91%</td>\n",
       "        <td align=\"left\" style=\"padding:0 15px 0 1px;border-left:0;text-align:right\">)</td>\n",
       "        <td align=\"right\" style=\"padding:0 0 0 15px;border-right:0;text-align:right\">146</td>\n",
       "        <td align=\"left\" style=\"padding:0 1px 0 4px;border-left:0;border-right:0;text-align:left\">(</td>\n",
       "        <td align=\"left\" style=\"padding:0;border-left:0;border-right:0;text-align:right\">92%</td>\n",
       "        <td align=\"left\" style=\"padding:0 15px 0 1px;border-left:0;text-align:right\">)</td>\n",
       "        <td align=\"right\" style=\"padding:0 0 0 15px;border-right:0;text-align:right\">70</td>\n",
       "        <td align=\"left\" style=\"padding:0 1px 0 4px;border-left:0;border-right:0;text-align:left\">(</td>\n",
       "        <td align=\"left\" style=\"padding:0;border-left:0;border-right:0;text-align:right\">82%</td>\n",
       "        <td align=\"left\" style=\"padding:0 15px 0 1px;border-left:0;text-align:right\">)</td>\n",
       "        <td align=\"right\" style=\"padding:0 0 0 15px;border-right:0;text-align:right\">1233</td>\n",
       "        <td align=\"left\" style=\"padding:0 1px 0 4px;border-left:0;border-right:0;text-align:left\">(</td>\n",
       "        <td align=\"left\" style=\"padding:0;border-left:0;border-right:0;text-align:right\">84%</td>\n",
       "        <td align=\"left\" style=\"padding:0 15px 0 1px;border-left:0;text-align:right\">)</td>\n",
       "      </tr>\n",
       "      <tr>\n",
       "        <td>\n",
       "          <strong align=\"center\">Yes</strong>\n",
       "        </td>\n",
       "        <td align=\"right\" style=\"padding:0 0 0 15px;border-right:0;text-align:right\">154</td>\n",
       "        <td align=\"left\" style=\"padding:0 1px 0 4px;border-left:0;border-right:0;text-align:left\">(</td>\n",
       "        <td align=\"left\" style=\"padding:0;border-left:0;border-right:0;text-align:right\">24%</td>\n",
       "        <td align=\"left\" style=\"padding:0 15px 0 1px;border-left:0;text-align:right\">)</td>\n",
       "        <td align=\"right\" style=\"padding:0 0 0 15px;border-right:0;text-align:right\">56</td>\n",
       "        <td align=\"left\" style=\"padding:0 1px 0 4px;border-left:0;border-right:0;text-align:left\">(</td>\n",
       "        <td align=\"left\" style=\"padding:0;border-left:0;border-right:0;text-align:right\">9%</td>\n",
       "        <td align=\"left\" style=\"padding:0 15px 0 1px;border-left:0;text-align:right\">)</td>\n",
       "        <td align=\"right\" style=\"padding:0 0 0 15px;border-right:0;text-align:right\">12</td>\n",
       "        <td align=\"left\" style=\"padding:0 1px 0 4px;border-left:0;border-right:0;text-align:left\">(</td>\n",
       "        <td align=\"left\" style=\"padding:0;border-left:0;border-right:0;text-align:right\">8%</td>\n",
       "        <td align=\"left\" style=\"padding:0 15px 0 1px;border-left:0;text-align:right\">)</td>\n",
       "        <td align=\"right\" style=\"padding:0 0 0 15px;border-right:0;text-align:right\">15</td>\n",
       "        <td align=\"left\" style=\"padding:0 1px 0 4px;border-left:0;border-right:0;text-align:left\">(</td>\n",
       "        <td align=\"left\" style=\"padding:0;border-left:0;border-right:0;text-align:right\">18%</td>\n",
       "        <td align=\"left\" style=\"padding:0 15px 0 1px;border-left:0;text-align:right\">)</td>\n",
       "        <td align=\"right\" style=\"padding:0 0 0 15px;border-right:0;text-align:right\">237</td>\n",
       "        <td align=\"left\" style=\"padding:0 1px 0 4px;border-left:0;border-right:0;text-align:left\">(</td>\n",
       "        <td align=\"left\" style=\"padding:0;border-left:0;border-right:0;text-align:right\">16%</td>\n",
       "        <td align=\"left\" style=\"padding:0 15px 0 1px;border-left:0;text-align:right\">)</td>\n",
       "      </tr>\n",
       "      <tr>\n",
       "        <td>\n",
       "          <strong align=\"center\">Total</strong>\n",
       "        </td>\n",
       "        <td align=\"right\" style=\"padding:0 0 0 15px;border-right:0;text-align:right\">631</td>\n",
       "        <td align=\"left\" style=\"padding:0 1px 0 4px;border-left:0;border-right:0;text-align:left\">(</td>\n",
       "        <td align=\"left\" style=\"padding:0;border-left:0;border-right:0;text-align:right\">100%</td>\n",
       "        <td align=\"left\" style=\"padding:0 15px 0 1px;border-left:0;text-align:right\">)</td>\n",
       "        <td align=\"right\" style=\"padding:0 0 0 15px;border-right:0;text-align:right\">596</td>\n",
       "        <td align=\"left\" style=\"padding:0 1px 0 4px;border-left:0;border-right:0;text-align:left\">(</td>\n",
       "        <td align=\"left\" style=\"padding:0;border-left:0;border-right:0;text-align:right\">100%</td>\n",
       "        <td align=\"left\" style=\"padding:0 15px 0 1px;border-left:0;text-align:right\">)</td>\n",
       "        <td align=\"right\" style=\"padding:0 0 0 15px;border-right:0;text-align:right\">158</td>\n",
       "        <td align=\"left\" style=\"padding:0 1px 0 4px;border-left:0;border-right:0;text-align:left\">(</td>\n",
       "        <td align=\"left\" style=\"padding:0;border-left:0;border-right:0;text-align:right\">100%</td>\n",
       "        <td align=\"left\" style=\"padding:0 15px 0 1px;border-left:0;text-align:right\">)</td>\n",
       "        <td align=\"right\" style=\"padding:0 0 0 15px;border-right:0;text-align:right\">85</td>\n",
       "        <td align=\"left\" style=\"padding:0 1px 0 4px;border-left:0;border-right:0;text-align:left\">(</td>\n",
       "        <td align=\"left\" style=\"padding:0;border-left:0;border-right:0;text-align:right\">100%</td>\n",
       "        <td align=\"left\" style=\"padding:0 15px 0 1px;border-left:0;text-align:right\">)</td>\n",
       "        <td align=\"right\" style=\"padding:0 0 0 15px;border-right:0;text-align:right\">1470</td>\n",
       "        <td align=\"left\" style=\"padding:0 1px 0 4px;border-left:0;border-right:0;text-align:left\">(</td>\n",
       "        <td align=\"left\" style=\"padding:0;border-left:0;border-right:0;text-align:right\">100%</td>\n",
       "        <td align=\"left\" style=\"padding:0 15px 0 1px;border-left:0;text-align:right\">)</td>\n",
       "      </tr>\n",
       "    </tbody>\n",
       "  </table>\n",
       "  <p>Generated by <a href='https://github.com/dcomtois/summarytools'>summarytools</a> 0.9.8 (<a href='https://www.r-project.org/'>R</a> version 3.6.1)<br/>2021-03-17</p>\n",
       "</div>\n",
       "\t</body>\n",
       "</html>\n"
      ],
      "text/plain": [
       "Shiny tags cannot be represented in plain text (need html)"
      ]
     },
     "metadata": {
      "text/html": {
       "isolated": true
      }
     },
     "output_type": "display_data"
    }
   ],
   "source": [
    "att$StockOptionLevel <- as.factor(att$StockOptionLevel)\n",
    "levels(att$StockOptionLevel)\n",
    "print(ctable(x = att$Attrition, y = att$StockOptionLevel, prop = 'c', round.digits = 0), method = 'render')"
   ]
  },
  {
   "cell_type": "markdown",
   "id": "elder-studio",
   "metadata": {},
   "source": [
    "<br><br><u>**Insights: **</u><br>\n",
    "1. In the violin plot, for Attrition level Yes, major chunk of total values are at 0 stock option level & For Attrition - No, major chunk of stock option values is at 1<br>\n",
    "2. From the violin plot we can see that for Attrition level Yes, values for stock option level 1,2,3 are very less compared to Attrition level No \n",
    "3. From the frequency table, Attrition for Stock Option level 0 is highest.<br>\n",
    "4. But surprisingly, attrition for stock option level 3 is 2nd highest.<br>\n"
   ]
  },
  {
   "cell_type": "markdown",
   "id": "violent-crawford",
   "metadata": {},
   "source": [
    "##### <u>**Relationship between Total working years & Attrition **</u>\n"
   ]
  },
  {
   "cell_type": "code",
   "execution_count": 46,
   "id": "local-picture",
   "metadata": {},
   "outputs": [
    {
     "data": {
      "text/plain": [
       "\n",
       " Descriptive statistics by group \n",
       "group: No\n",
       "   vars    n  mean   sd median trimmed  mad min max range skew kurtosis   se\n",
       "X1    1 1233 11.86 7.76     10   10.96 5.93   0  38    38 1.06     0.66 0.22\n",
       "------------------------------------------------------------ \n",
       "group: Yes\n",
       "   vars   n mean   sd median trimmed  mad min max range skew kurtosis   se\n",
       "X1    1 237 8.24 7.17      7    7.14 4.45   0  40    40 1.67     3.62 0.47"
      ]
     },
     "metadata": {},
     "output_type": "display_data"
    }
   ],
   "source": [
    "describeBy(att$TotalWorkingYears, att$Attrition)\n"
   ]
  },
  {
   "cell_type": "code",
   "execution_count": 47,
   "id": "threatened-school",
   "metadata": {},
   "outputs": [
    {
     "data": {
      "image/png": "[encoded data removed]",
      "text/plain": [
       "plot without title"
      ]
     },
     "metadata": {},
     "output_type": "display_data"
    }
   ],
   "source": [
    "ggplot(att) + aes(x = Attrition, y = TotalWorkingYears, fill = Attrition) + geom_boxplot() +\n",
    "  scale_fill_hue() + ggthemes::theme_economist()"
   ]
  },
  {
   "cell_type": "markdown",
   "id": "metallic-model",
   "metadata": {},
   "source": [
    "<br><br><u>**Insights: **</u><br>\n",
    "1. From above descriptive statistics and Boxplot we can say people with less work experience are more keen on changing company maybe for better monetory or work prospects.\n",
    "2. Also we can see that people having 10 or more years of experience will tend to stay in company more.<br><br>\n"
   ]
  },
  {
   "cell_type": "markdown",
   "id": "planned-diameter",
   "metadata": {},
   "source": [
    "#### 3. Feature Engineering\n",
    "This process helps us to derive new features based on existing features also, we shall select important features using feature selection techniques.<br>\n"
   ]
  },
  {
   "cell_type": "code",
   "execution_count": 48,
   "id": "eight-canon",
   "metadata": {},
   "outputs": [],
   "source": [
    "att <- attrition          "
   ]
  },
  {
   "cell_type": "markdown",
   "id": "loaded-editor",
   "metadata": {},
   "source": [
    "<br>\n",
    "Removing unnecessary columns like Daily Rate, employee number, Hourly rate, Monthly rate, Over18, Standard hours, employee count"
   ]
  },
  {
   "cell_type": "code",
   "execution_count": 49,
   "id": "normal-ethernet",
   "metadata": {},
   "outputs": [
    {
     "data": {
      "text/html": [
       "<ol class=list-inline>\n",
       "\t<li>'Age'</li>\n",
       "\t<li>'Attrition'</li>\n",
       "\t<li>'BusinessTravel'</li>\n",
       "\t<li>'Department'</li>\n",
       "\t<li>'DistanceFromHome'</li>\n",
       "\t<li>'Education'</li>\n",
       "\t<li>'EducationField'</li>\n",
       "\t<li>'EnvironmentSatisfaction'</li>\n",
       "\t<li>'Gender'</li>\n",
       "\t<li>'JobInvolvement'</li>\n",
       "\t<li>'JobLevel'</li>\n",
       "\t<li>'JobRole'</li>\n",
       "\t<li>'JobSatisfaction'</li>\n",
       "\t<li>'MaritalStatus'</li>\n",
       "\t<li>'MonthlyIncome'</li>\n",
       "\t<li>'NumCompaniesWorked'</li>\n",
       "\t<li>'OverTime'</li>\n",
       "\t<li>'PercentSalaryHike'</li>\n",
       "\t<li>'PerformanceRating'</li>\n",
       "\t<li>'RelationshipSatisfaction'</li>\n",
       "\t<li>'StockOptionLevel'</li>\n",
       "\t<li>'TotalWorkingYears'</li>\n",
       "\t<li>'TrainingTimesLastYear'</li>\n",
       "\t<li>'WorkLifeBalance'</li>\n",
       "\t<li>'YearsAtCompany'</li>\n",
       "\t<li>'YearsInCurrentRole'</li>\n",
       "\t<li>'YearsSinceLastPromotion'</li>\n",
       "\t<li>'YearsWithCurrManager'</li>\n",
       "</ol>\n"
      ],
      "text/latex": [
       "\\begin{enumerate*}\n",
       "\\item 'Age'\n",
       "\\item 'Attrition'\n",
       "\\item 'BusinessTravel'\n",
       "\\item 'Department'\n",
       "\\item 'DistanceFromHome'\n",
       "\\item 'Education'\n",
       "\\item 'EducationField'\n",
       "\\item 'EnvironmentSatisfaction'\n",
       "\\item 'Gender'\n",
       "\\item 'JobInvolvement'\n",
       "\\item 'JobLevel'\n",
       "\\item 'JobRole'\n",
       "\\item 'JobSatisfaction'\n",
       "\\item 'MaritalStatus'\n",
       "\\item 'MonthlyIncome'\n",
       "\\item 'NumCompaniesWorked'\n",
       "\\item 'OverTime'\n",
       "\\item 'PercentSalaryHike'\n",
       "\\item 'PerformanceRating'\n",
       "\\item 'RelationshipSatisfaction'\n",
       "\\item 'StockOptionLevel'\n",
       "\\item 'TotalWorkingYears'\n",
       "\\item 'TrainingTimesLastYear'\n",
       "\\item 'WorkLifeBalance'\n",
       "\\item 'YearsAtCompany'\n",
       "\\item 'YearsInCurrentRole'\n",
       "\\item 'YearsSinceLastPromotion'\n",
       "\\item 'YearsWithCurrManager'\n",
       "\\end{enumerate*}\n"
      ],
      "text/markdown": [
       "1. 'Age'\n",
       "2. 'Attrition'\n",
       "3. 'BusinessTravel'\n",
       "4. 'Department'\n",
       "5. 'DistanceFromHome'\n",
       "6. 'Education'\n",
       "7. 'EducationField'\n",
       "8. 'EnvironmentSatisfaction'\n",
       "9. 'Gender'\n",
       "10. 'JobInvolvement'\n",
       "11. 'JobLevel'\n",
       "12. 'JobRole'\n",
       "13. 'JobSatisfaction'\n",
       "14. 'MaritalStatus'\n",
       "15. 'MonthlyIncome'\n",
       "16. 'NumCompaniesWorked'\n",
       "17. 'OverTime'\n",
       "18. 'PercentSalaryHike'\n",
       "19. 'PerformanceRating'\n",
       "20. 'RelationshipSatisfaction'\n",
       "21. 'StockOptionLevel'\n",
       "22. 'TotalWorkingYears'\n",
       "23. 'TrainingTimesLastYear'\n",
       "24. 'WorkLifeBalance'\n",
       "25. 'YearsAtCompany'\n",
       "26. 'YearsInCurrentRole'\n",
       "27. 'YearsSinceLastPromotion'\n",
       "28. 'YearsWithCurrManager'\n",
       "\n",
       "\n"
      ],
      "text/plain": [
       " [1] \"Age\"                      \"Attrition\"               \n",
       " [3] \"BusinessTravel\"           \"Department\"              \n",
       " [5] \"DistanceFromHome\"         \"Education\"               \n",
       " [7] \"EducationField\"           \"EnvironmentSatisfaction\" \n",
       " [9] \"Gender\"                   \"JobInvolvement\"          \n",
       "[11] \"JobLevel\"                 \"JobRole\"                 \n",
       "[13] \"JobSatisfaction\"          \"MaritalStatus\"           \n",
       "[15] \"MonthlyIncome\"            \"NumCompaniesWorked\"      \n",
       "[17] \"OverTime\"                 \"PercentSalaryHike\"       \n",
       "[19] \"PerformanceRating\"        \"RelationshipSatisfaction\"\n",
       "[21] \"StockOptionLevel\"         \"TotalWorkingYears\"       \n",
       "[23] \"TrainingTimesLastYear\"    \"WorkLifeBalance\"         \n",
       "[25] \"YearsAtCompany\"           \"YearsInCurrentRole\"      \n",
       "[27] \"YearsSinceLastPromotion\"  \"YearsWithCurrManager\"    "
      ]
     },
     "metadata": {},
     "output_type": "display_data"
    }
   ],
   "source": [
    " att <- att[ , -c(4, 9, 10, 13, 20, 22, 27)]             #  \n",
    "colnames(att)"
   ]
  },
  {
   "cell_type": "code",
   "execution_count": 50,
   "id": "functional-transition",
   "metadata": {},
   "outputs": [
    {
     "data": {
      "text/html": [
       "<table>\n",
       "<thead><tr><th scope=col>Age</th><th scope=col>Attrition</th><th scope=col>BusinessTravel</th><th scope=col>Department</th><th scope=col>DistanceFromHome</th><th scope=col>Education</th><th scope=col>EducationField</th><th scope=col>EnvironmentSatisfaction</th><th scope=col>Gender</th><th scope=col>JobInvolvement</th><th scope=col>...</th><th scope=col>PerformanceRating</th><th scope=col>RelationshipSatisfaction</th><th scope=col>StockOptionLevel</th><th scope=col>TotalWorkingYears</th><th scope=col>TrainingTimesLastYear</th><th scope=col>WorkLifeBalance</th><th scope=col>YearsAtCompany</th><th scope=col>YearsInCurrentRole</th><th scope=col>YearsSinceLastPromotion</th><th scope=col>YearsWithCurrManager</th></tr></thead>\n",
       "<tbody>\n",
       "\t<tr><td>41                    </td><td>Yes                   </td><td>Travel_Rarely         </td><td>Sales                 </td><td>1                     </td><td>2                     </td><td>Life Sciences         </td><td>2                     </td><td>Female                </td><td>3                     </td><td>...                   </td><td>3                     </td><td>1                     </td><td>0                     </td><td> 8                    </td><td>0                     </td><td>1                     </td><td> 6                    </td><td>4                     </td><td>0                     </td><td>5                     </td></tr>\n",
       "\t<tr><td>49                                            </td><td>No                                            </td><td>Travel_Frequently                             </td><td>Research &amp; Development                    </td><td>8                                             </td><td>1                                             </td><td>Life Sciences                                 </td><td>3                                             </td><td><span style=white-space:pre-wrap>Male  </span></td><td>2                                             </td><td>...                                           </td><td>4                                             </td><td>4                                             </td><td>1                                             </td><td>10                                            </td><td>3                                             </td><td>3                                             </td><td>10                                            </td><td>7                                             </td><td>1                                             </td><td>7                                             </td></tr>\n",
       "\t<tr><td>37                                                       </td><td>Yes                                                      </td><td><span style=white-space:pre-wrap>Travel_Rarely    </span></td><td>Research &amp; Development                               </td><td>2                                                        </td><td>2                                                        </td><td><span style=white-space:pre-wrap>Other        </span>    </td><td>4                                                        </td><td><span style=white-space:pre-wrap>Male  </span>           </td><td>2                                                        </td><td>...                                                      </td><td>3                                                        </td><td>2                                                        </td><td>0                                                        </td><td> 7                                                       </td><td>3                                                        </td><td>3                                                        </td><td> 0                                                       </td><td>0                                                        </td><td>0                                                        </td><td>0                                                        </td></tr>\n",
       "\t<tr><td>33                        </td><td>No                        </td><td>Travel_Frequently         </td><td>Research &amp; Development</td><td>3                         </td><td>4                         </td><td>Life Sciences             </td><td>4                         </td><td>Female                    </td><td>3                         </td><td>...                       </td><td>3                         </td><td>3                         </td><td>0                         </td><td> 8                        </td><td>3                         </td><td>3                         </td><td> 8                        </td><td>7                         </td><td>3                         </td><td>0                         </td></tr>\n",
       "\t<tr><td>27                                                       </td><td>No                                                       </td><td><span style=white-space:pre-wrap>Travel_Rarely    </span></td><td>Research &amp; Development                               </td><td>2                                                        </td><td>1                                                        </td><td><span style=white-space:pre-wrap>Medical      </span>    </td><td>1                                                        </td><td><span style=white-space:pre-wrap>Male  </span>           </td><td>3                                                        </td><td>...                                                      </td><td>3                                                        </td><td>4                                                        </td><td>1                                                        </td><td> 6                                                       </td><td>3                                                        </td><td>3                                                        </td><td> 2                                                       </td><td>2                                                        </td><td>2                                                        </td><td>2                                                        </td></tr>\n",
       "\t<tr><td>32                                            </td><td>No                                            </td><td>Travel_Frequently                             </td><td>Research &amp; Development                    </td><td>2                                             </td><td>2                                             </td><td>Life Sciences                                 </td><td>4                                             </td><td><span style=white-space:pre-wrap>Male  </span></td><td>3                                             </td><td>...                                           </td><td>3                                             </td><td>3                                             </td><td>0                                             </td><td> 8                                            </td><td>2                                             </td><td>2                                             </td><td> 7                                            </td><td>7                                             </td><td>3                                             </td><td>6                                             </td></tr>\n",
       "</tbody>\n",
       "</table>\n"
      ],
      "text/latex": [
       "\\begin{tabular}{r|llllllllllllllllllllllllllll}\n",
       " Age & Attrition & BusinessTravel & Department & DistanceFromHome & Education & EducationField & EnvironmentSatisfaction & Gender & JobInvolvement & ... & PerformanceRating & RelationshipSatisfaction & StockOptionLevel & TotalWorkingYears & TrainingTimesLastYear & WorkLifeBalance & YearsAtCompany & YearsInCurrentRole & YearsSinceLastPromotion & YearsWithCurrManager\\\\\n",
       "\\hline\n",
       "\t 41                     & Yes                    & Travel\\_Rarely        & Sales                  & 1                      & 2                      & Life Sciences          & 2                      & Female                 & 3                      & ...                    & 3                      & 1                      & 0                      &  8                     & 0                      & 1                      &  6                     & 4                      & 0                      & 5                     \\\\\n",
       "\t 49                       & No                       & Travel\\_Frequently      & Research \\& Development & 8                        & 1                        & Life Sciences            & 3                        & Male                     & 2                        & ...                      & 4                        & 4                        & 1                        & 10                       & 3                        & 3                        & 10                       & 7                        & 1                        & 7                       \\\\\n",
       "\t 37                       & Yes                      & Travel\\_Rarely          & Research \\& Development & 2                        & 2                        & Other                    & 4                        & Male                     & 2                        & ...                      & 3                        & 2                        & 0                        &  7                       & 3                        & 3                        &  0                       & 0                        & 0                        & 0                       \\\\\n",
       "\t 33                       & No                       & Travel\\_Frequently      & Research \\& Development & 3                        & 4                        & Life Sciences            & 4                        & Female                   & 3                        & ...                      & 3                        & 3                        & 0                        &  8                       & 3                        & 3                        &  8                       & 7                        & 3                        & 0                       \\\\\n",
       "\t 27                       & No                       & Travel\\_Rarely          & Research \\& Development & 2                        & 1                        & Medical                  & 1                        & Male                     & 3                        & ...                      & 3                        & 4                        & 1                        &  6                       & 3                        & 3                        &  2                       & 2                        & 2                        & 2                       \\\\\n",
       "\t 32                       & No                       & Travel\\_Frequently      & Research \\& Development & 2                        & 2                        & Life Sciences            & 4                        & Male                     & 3                        & ...                      & 3                        & 3                        & 0                        &  8                       & 2                        & 2                        &  7                       & 7                        & 3                        & 6                       \\\\\n",
       "\\end{tabular}\n"
      ],
      "text/markdown": [
       "\n",
       "| Age | Attrition | BusinessTravel | Department | DistanceFromHome | Education | EducationField | EnvironmentSatisfaction | Gender | JobInvolvement | ... | PerformanceRating | RelationshipSatisfaction | StockOptionLevel | TotalWorkingYears | TrainingTimesLastYear | WorkLifeBalance | YearsAtCompany | YearsInCurrentRole | YearsSinceLastPromotion | YearsWithCurrManager |\n",
       "|---|---|---|---|---|---|---|---|---|---|---|---|---|---|---|---|---|---|---|---|---|\n",
       "| 41                     | Yes                    | Travel_Rarely          | Sales                  | 1                      | 2                      | Life Sciences          | 2                      | Female                 | 3                      | ...                    | 3                      | 1                      | 0                      |  8                     | 0                      | 1                      |  6                     | 4                      | 0                      | 5                      |\n",
       "| 49                     | No                     | Travel_Frequently      | Research & Development | 8                      | 1                      | Life Sciences          | 3                      | Male                   | 2                      | ...                    | 4                      | 4                      | 1                      | 10                     | 3                      | 3                      | 10                     | 7                      | 1                      | 7                      |\n",
       "| 37                     | Yes                    | Travel_Rarely          | Research & Development | 2                      | 2                      | Other                  | 4                      | Male                   | 2                      | ...                    | 3                      | 2                      | 0                      |  7                     | 3                      | 3                      |  0                     | 0                      | 0                      | 0                      |\n",
       "| 33                     | No                     | Travel_Frequently      | Research & Development | 3                      | 4                      | Life Sciences          | 4                      | Female                 | 3                      | ...                    | 3                      | 3                      | 0                      |  8                     | 3                      | 3                      |  8                     | 7                      | 3                      | 0                      |\n",
       "| 27                     | No                     | Travel_Rarely          | Research & Development | 2                      | 1                      | Medical                | 1                      | Male                   | 3                      | ...                    | 3                      | 4                      | 1                      |  6                     | 3                      | 3                      |  2                     | 2                      | 2                      | 2                      |\n",
       "| 32                     | No                     | Travel_Frequently      | Research & Development | 2                      | 2                      | Life Sciences          | 4                      | Male                   | 3                      | ...                    | 3                      | 3                      | 0                      |  8                     | 2                      | 2                      |  7                     | 7                      | 3                      | 6                      |\n",
       "\n"
      ],
      "text/plain": [
       "  Age Attrition BusinessTravel    Department             DistanceFromHome\n",
       "1 41  Yes       Travel_Rarely     Sales                  1               \n",
       "2 49  No        Travel_Frequently Research & Development 8               \n",
       "3 37  Yes       Travel_Rarely     Research & Development 2               \n",
       "4 33  No        Travel_Frequently Research & Development 3               \n",
       "5 27  No        Travel_Rarely     Research & Development 2               \n",
       "6 32  No        Travel_Frequently Research & Development 2               \n",
       "  Education EducationField EnvironmentSatisfaction Gender JobInvolvement ...\n",
       "1 2         Life Sciences  2                       Female 3              ...\n",
       "2 1         Life Sciences  3                       Male   2              ...\n",
       "3 2         Other          4                       Male   2              ...\n",
       "4 4         Life Sciences  4                       Female 3              ...\n",
       "5 1         Medical        1                       Male   3              ...\n",
       "6 2         Life Sciences  4                       Male   3              ...\n",
       "  PerformanceRating RelationshipSatisfaction StockOptionLevel TotalWorkingYears\n",
       "1 3                 1                        0                 8               \n",
       "2 4                 4                        1                10               \n",
       "3 3                 2                        0                 7               \n",
       "4 3                 3                        0                 8               \n",
       "5 3                 4                        1                 6               \n",
       "6 3                 3                        0                 8               \n",
       "  TrainingTimesLastYear WorkLifeBalance YearsAtCompany YearsInCurrentRole\n",
       "1 0                     1                6             4                 \n",
       "2 3                     3               10             7                 \n",
       "3 3                     3                0             0                 \n",
       "4 3                     3                8             7                 \n",
       "5 3                     3                2             2                 \n",
       "6 2                     2                7             7                 \n",
       "  YearsSinceLastPromotion YearsWithCurrManager\n",
       "1 0                       5                   \n",
       "2 1                       7                   \n",
       "3 0                       0                   \n",
       "4 3                       0                   \n",
       "5 2                       2                   \n",
       "6 3                       6                   "
      ]
     },
     "metadata": {},
     "output_type": "display_data"
    }
   ],
   "source": [
    "head(att)"
   ]
  },
  {
   "cell_type": "code",
   "execution_count": 51,
   "id": "alien-spending",
   "metadata": {},
   "outputs": [
    {
     "data": {
      "text/plain": [
       "   Min. 1st Qu.  Median    Mean 3rd Qu.    Max. \n",
       "  3.000   7.000   8.000   8.163  10.000  12.000 "
      ]
     },
     "metadata": {},
     "output_type": "display_data"
    },
    {
     "name": "stderr",
     "output_type": "stream",
     "text": [
      "`stat_bin()` using `bins = 30`. Pick better value with `binwidth`.\n"
     ]
    },
    {
     "data": {
      "image/png": "[encoded data removed]",
      "text/plain": [
       "plot without title"
      ]
     },
     "metadata": {},
     "output_type": "display_data"
    }
   ],
   "source": [
    "# grouping all satisfaction columns & creating new column of total satisfaction\n",
    "\n",
    "att$Total_Satisfaction <- att$JobSatisfaction+att$EnvironmentSatisfaction+att$RelationshipSatisfaction\n",
    "summary(att$Total_Satisfaction)\n",
    "ggplot(att) + aes(x = Total_Satisfaction) + geom_histogram() + ggthemes::theme_economist()"
   ]
  },
  {
   "cell_type": "code",
   "execution_count": 52,
   "id": "covered-basin",
   "metadata": {},
   "outputs": [
    {
     "data": {
      "text/html": [
       "<ol class=list-inline>\n",
       "\t<li>'Age'</li>\n",
       "\t<li>'Attrition'</li>\n",
       "\t<li>'BusinessTravel'</li>\n",
       "\t<li>'Department'</li>\n",
       "\t<li>'DistanceFromHome'</li>\n",
       "\t<li>'Education'</li>\n",
       "\t<li>'EducationField'</li>\n",
       "\t<li>'Gender'</li>\n",
       "\t<li>'JobInvolvement'</li>\n",
       "\t<li>'JobLevel'</li>\n",
       "\t<li>'JobRole'</li>\n",
       "\t<li>'MaritalStatus'</li>\n",
       "\t<li>'MonthlyIncome'</li>\n",
       "\t<li>'NumCompaniesWorked'</li>\n",
       "\t<li>'OverTime'</li>\n",
       "\t<li>'PercentSalaryHike'</li>\n",
       "\t<li>'PerformanceRating'</li>\n",
       "\t<li>'StockOptionLevel'</li>\n",
       "\t<li>'TotalWorkingYears'</li>\n",
       "\t<li>'TrainingTimesLastYear'</li>\n",
       "\t<li>'WorkLifeBalance'</li>\n",
       "\t<li>'YearsAtCompany'</li>\n",
       "\t<li>'YearsInCurrentRole'</li>\n",
       "\t<li>'YearsSinceLastPromotion'</li>\n",
       "\t<li>'YearsWithCurrManager'</li>\n",
       "\t<li>'Total_Satisfaction'</li>\n",
       "</ol>\n"
      ],
      "text/latex": [
       "\\begin{enumerate*}\n",
       "\\item 'Age'\n",
       "\\item 'Attrition'\n",
       "\\item 'BusinessTravel'\n",
       "\\item 'Department'\n",
       "\\item 'DistanceFromHome'\n",
       "\\item 'Education'\n",
       "\\item 'EducationField'\n",
       "\\item 'Gender'\n",
       "\\item 'JobInvolvement'\n",
       "\\item 'JobLevel'\n",
       "\\item 'JobRole'\n",
       "\\item 'MaritalStatus'\n",
       "\\item 'MonthlyIncome'\n",
       "\\item 'NumCompaniesWorked'\n",
       "\\item 'OverTime'\n",
       "\\item 'PercentSalaryHike'\n",
       "\\item 'PerformanceRating'\n",
       "\\item 'StockOptionLevel'\n",
       "\\item 'TotalWorkingYears'\n",
       "\\item 'TrainingTimesLastYear'\n",
       "\\item 'WorkLifeBalance'\n",
       "\\item 'YearsAtCompany'\n",
       "\\item 'YearsInCurrentRole'\n",
       "\\item 'YearsSinceLastPromotion'\n",
       "\\item 'YearsWithCurrManager'\n",
       "\\item 'Total\\_Satisfaction'\n",
       "\\end{enumerate*}\n"
      ],
      "text/markdown": [
       "1. 'Age'\n",
       "2. 'Attrition'\n",
       "3. 'BusinessTravel'\n",
       "4. 'Department'\n",
       "5. 'DistanceFromHome'\n",
       "6. 'Education'\n",
       "7. 'EducationField'\n",
       "8. 'Gender'\n",
       "9. 'JobInvolvement'\n",
       "10. 'JobLevel'\n",
       "11. 'JobRole'\n",
       "12. 'MaritalStatus'\n",
       "13. 'MonthlyIncome'\n",
       "14. 'NumCompaniesWorked'\n",
       "15. 'OverTime'\n",
       "16. 'PercentSalaryHike'\n",
       "17. 'PerformanceRating'\n",
       "18. 'StockOptionLevel'\n",
       "19. 'TotalWorkingYears'\n",
       "20. 'TrainingTimesLastYear'\n",
       "21. 'WorkLifeBalance'\n",
       "22. 'YearsAtCompany'\n",
       "23. 'YearsInCurrentRole'\n",
       "24. 'YearsSinceLastPromotion'\n",
       "25. 'YearsWithCurrManager'\n",
       "26. 'Total_Satisfaction'\n",
       "\n",
       "\n"
      ],
      "text/plain": [
       " [1] \"Age\"                     \"Attrition\"              \n",
       " [3] \"BusinessTravel\"          \"Department\"             \n",
       " [5] \"DistanceFromHome\"        \"Education\"              \n",
       " [7] \"EducationField\"          \"Gender\"                 \n",
       " [9] \"JobInvolvement\"          \"JobLevel\"               \n",
       "[11] \"JobRole\"                 \"MaritalStatus\"          \n",
       "[13] \"MonthlyIncome\"           \"NumCompaniesWorked\"     \n",
       "[15] \"OverTime\"                \"PercentSalaryHike\"      \n",
       "[17] \"PerformanceRating\"       \"StockOptionLevel\"       \n",
       "[19] \"TotalWorkingYears\"       \"TrainingTimesLastYear\"  \n",
       "[21] \"WorkLifeBalance\"         \"YearsAtCompany\"         \n",
       "[23] \"YearsInCurrentRole\"      \"YearsSinceLastPromotion\"\n",
       "[25] \"YearsWithCurrManager\"    \"Total_Satisfaction\"     "
      ]
     },
     "metadata": {},
     "output_type": "display_data"
    }
   ],
   "source": [
    "# Delete job satisfaction, relationship satisfaction & environment satisfaction columns\n",
    "att <- att[ , -c('JobSatisfaction', 'RelationshipSatisfaction', 'EnvironmentSatisfaction')]\n",
    "colnames(att)"
   ]
  },
  {
   "cell_type": "code",
   "execution_count": 53,
   "id": "enhanced-zealand",
   "metadata": {},
   "outputs": [
    {
     "data": {
      "text/plain": [
       "      Age          Attrition      BusinessTravel    Department   \n",
       " Min.   :18.00   Min.   :0.0000   Min.   :1.000   Min.   :1.000  \n",
       " 1st Qu.:30.00   1st Qu.:0.0000   1st Qu.:2.000   1st Qu.:2.000  \n",
       " Median :36.00   Median :0.0000   Median :3.000   Median :2.000  \n",
       " Mean   :36.92   Mean   :0.1612   Mean   :2.607   Mean   :2.261  \n",
       " 3rd Qu.:43.00   3rd Qu.:0.0000   3rd Qu.:3.000   3rd Qu.:3.000  \n",
       " Max.   :60.00   Max.   :1.0000   Max.   :3.000   Max.   :3.000  \n",
       " DistanceFromHome   Education     EducationField      Gender    JobInvolvement\n",
       " Min.   : 1.000   Min.   :1.000   Min.   :1.000   Min.   :1.0   Min.   :1.00  \n",
       " 1st Qu.: 2.000   1st Qu.:2.000   1st Qu.:2.000   1st Qu.:1.0   1st Qu.:2.00  \n",
       " Median : 7.000   Median :3.000   Median :3.000   Median :2.0   Median :3.00  \n",
       " Mean   : 9.193   Mean   :2.913   Mean   :3.248   Mean   :1.6   Mean   :2.73  \n",
       " 3rd Qu.:14.000   3rd Qu.:4.000   3rd Qu.:4.000   3rd Qu.:2.0   3rd Qu.:3.00  \n",
       " Max.   :29.000   Max.   :5.000   Max.   :6.000   Max.   :2.0   Max.   :4.00  \n",
       "    JobLevel        JobRole      MaritalStatus   MonthlyIncome  \n",
       " Min.   :1.000   Min.   :1.000   Min.   :1.000   Min.   : 1009  \n",
       " 1st Qu.:1.000   1st Qu.:3.000   1st Qu.:2.000   1st Qu.: 2911  \n",
       " Median :2.000   Median :6.000   Median :2.000   Median : 4919  \n",
       " Mean   :2.064   Mean   :5.459   Mean   :2.097   Mean   : 6503  \n",
       " 3rd Qu.:3.000   3rd Qu.:8.000   3rd Qu.:3.000   3rd Qu.: 8379  \n",
       " Max.   :5.000   Max.   :9.000   Max.   :3.000   Max.   :19999  \n",
       " NumCompaniesWorked    OverTime     PercentSalaryHike PerformanceRating\n",
       " Min.   :0.000      Min.   :1.000   Min.   :11.00     Min.   :3.000    \n",
       " 1st Qu.:1.000      1st Qu.:1.000   1st Qu.:12.00     1st Qu.:3.000    \n",
       " Median :2.000      Median :1.000   Median :14.00     Median :3.000    \n",
       " Mean   :2.693      Mean   :1.283   Mean   :15.21     Mean   :3.154    \n",
       " 3rd Qu.:4.000      3rd Qu.:2.000   3rd Qu.:18.00     3rd Qu.:3.000    \n",
       " Max.   :9.000      Max.   :2.000   Max.   :25.00     Max.   :4.000    \n",
       " StockOptionLevel TotalWorkingYears TrainingTimesLastYear WorkLifeBalance\n",
       " Min.   :0.0000   Min.   : 0.00     Min.   :0.000         Min.   :1.000  \n",
       " 1st Qu.:0.0000   1st Qu.: 6.00     1st Qu.:2.000         1st Qu.:2.000  \n",
       " Median :1.0000   Median :10.00     Median :3.000         Median :3.000  \n",
       " Mean   :0.7939   Mean   :11.28     Mean   :2.799         Mean   :2.761  \n",
       " 3rd Qu.:1.0000   3rd Qu.:15.00     3rd Qu.:3.000         3rd Qu.:3.000  \n",
       " Max.   :3.0000   Max.   :40.00     Max.   :6.000         Max.   :4.000  \n",
       " YearsAtCompany   YearsInCurrentRole YearsSinceLastPromotion\n",
       " Min.   : 0.000   Min.   : 0.000     Min.   : 0.000         \n",
       " 1st Qu.: 3.000   1st Qu.: 2.000     1st Qu.: 0.000         \n",
       " Median : 5.000   Median : 3.000     Median : 1.000         \n",
       " Mean   : 7.008   Mean   : 4.229     Mean   : 2.188         \n",
       " 3rd Qu.: 9.000   3rd Qu.: 7.000     3rd Qu.: 3.000         \n",
       " Max.   :40.000   Max.   :18.000     Max.   :15.000         \n",
       " YearsWithCurrManager Total_Satisfaction\n",
       " Min.   : 0.000       Min.   : 3.000    \n",
       " 1st Qu.: 2.000       1st Qu.: 7.000    \n",
       " Median : 3.000       Median : 8.000    \n",
       " Mean   : 4.123       Mean   : 8.163    \n",
       " 3rd Qu.: 7.000       3rd Qu.:10.000    \n",
       " Max.   :17.000       Max.   :12.000    "
      ]
     },
     "metadata": {},
     "output_type": "display_data"
    },
    {
     "data": {
      "text/html": [
       "<ol class=list-inline>\n",
       "\t<li>'Age'</li>\n",
       "\t<li>'Attrition'</li>\n",
       "\t<li>'BusinessTravel'</li>\n",
       "\t<li>'Department'</li>\n",
       "\t<li>'DistanceFromHome'</li>\n",
       "\t<li>'Education'</li>\n",
       "\t<li>'EducationField'</li>\n",
       "\t<li>'Gender'</li>\n",
       "\t<li>'JobInvolvement'</li>\n",
       "\t<li>'JobLevel'</li>\n",
       "\t<li>'JobRole'</li>\n",
       "\t<li>'MaritalStatus'</li>\n",
       "\t<li>'MonthlyIncome'</li>\n",
       "\t<li>'NumCompaniesWorked'</li>\n",
       "\t<li>'OverTime'</li>\n",
       "\t<li>'PercentSalaryHike'</li>\n",
       "\t<li>'PerformanceRating'</li>\n",
       "\t<li>'StockOptionLevel'</li>\n",
       "\t<li>'TotalWorkingYears'</li>\n",
       "\t<li>'TrainingTimesLastYear'</li>\n",
       "\t<li>'WorkLifeBalance'</li>\n",
       "\t<li>'YearsAtCompany'</li>\n",
       "\t<li>'YearsInCurrentRole'</li>\n",
       "\t<li>'YearsSinceLastPromotion'</li>\n",
       "\t<li>'YearsWithCurrManager'</li>\n",
       "\t<li>'Total_Satisfaction'</li>\n",
       "</ol>\n"
      ],
      "text/latex": [
       "\\begin{enumerate*}\n",
       "\\item 'Age'\n",
       "\\item 'Attrition'\n",
       "\\item 'BusinessTravel'\n",
       "\\item 'Department'\n",
       "\\item 'DistanceFromHome'\n",
       "\\item 'Education'\n",
       "\\item 'EducationField'\n",
       "\\item 'Gender'\n",
       "\\item 'JobInvolvement'\n",
       "\\item 'JobLevel'\n",
       "\\item 'JobRole'\n",
       "\\item 'MaritalStatus'\n",
       "\\item 'MonthlyIncome'\n",
       "\\item 'NumCompaniesWorked'\n",
       "\\item 'OverTime'\n",
       "\\item 'PercentSalaryHike'\n",
       "\\item 'PerformanceRating'\n",
       "\\item 'StockOptionLevel'\n",
       "\\item 'TotalWorkingYears'\n",
       "\\item 'TrainingTimesLastYear'\n",
       "\\item 'WorkLifeBalance'\n",
       "\\item 'YearsAtCompany'\n",
       "\\item 'YearsInCurrentRole'\n",
       "\\item 'YearsSinceLastPromotion'\n",
       "\\item 'YearsWithCurrManager'\n",
       "\\item 'Total\\_Satisfaction'\n",
       "\\end{enumerate*}\n"
      ],
      "text/markdown": [
       "1. 'Age'\n",
       "2. 'Attrition'\n",
       "3. 'BusinessTravel'\n",
       "4. 'Department'\n",
       "5. 'DistanceFromHome'\n",
       "6. 'Education'\n",
       "7. 'EducationField'\n",
       "8. 'Gender'\n",
       "9. 'JobInvolvement'\n",
       "10. 'JobLevel'\n",
       "11. 'JobRole'\n",
       "12. 'MaritalStatus'\n",
       "13. 'MonthlyIncome'\n",
       "14. 'NumCompaniesWorked'\n",
       "15. 'OverTime'\n",
       "16. 'PercentSalaryHike'\n",
       "17. 'PerformanceRating'\n",
       "18. 'StockOptionLevel'\n",
       "19. 'TotalWorkingYears'\n",
       "20. 'TrainingTimesLastYear'\n",
       "21. 'WorkLifeBalance'\n",
       "22. 'YearsAtCompany'\n",
       "23. 'YearsInCurrentRole'\n",
       "24. 'YearsSinceLastPromotion'\n",
       "25. 'YearsWithCurrManager'\n",
       "26. 'Total_Satisfaction'\n",
       "\n",
       "\n"
      ],
      "text/plain": [
       " [1] \"Age\"                     \"Attrition\"              \n",
       " [3] \"BusinessTravel\"          \"Department\"             \n",
       " [5] \"DistanceFromHome\"        \"Education\"              \n",
       " [7] \"EducationField\"          \"Gender\"                 \n",
       " [9] \"JobInvolvement\"          \"JobLevel\"               \n",
       "[11] \"JobRole\"                 \"MaritalStatus\"          \n",
       "[13] \"MonthlyIncome\"           \"NumCompaniesWorked\"     \n",
       "[15] \"OverTime\"                \"PercentSalaryHike\"      \n",
       "[17] \"PerformanceRating\"       \"StockOptionLevel\"       \n",
       "[19] \"TotalWorkingYears\"       \"TrainingTimesLastYear\"  \n",
       "[21] \"WorkLifeBalance\"         \"YearsAtCompany\"         \n",
       "[23] \"YearsInCurrentRole\"      \"YearsSinceLastPromotion\"\n",
       "[25] \"YearsWithCurrManager\"    \"Total_Satisfaction\"     "
      ]
     },
     "metadata": {},
     "output_type": "display_data"
    }
   ],
   "source": [
    "# Let's convert categorical columns into numeric columns\n",
    "# Converting target variable into 0 and 1\n",
    "att <- mutate(att, Attrition = ifelse(Attrition == 'Yes', 1, 0))\n",
    "att <- att %>% mutate_if(is.factor, as.numeric)\n",
    "summary(att)\n",
    "colnames(att)"
   ]
  },
  {
   "cell_type": "markdown",
   "id": "stretch-duncan",
   "metadata": {},
   "source": [
    "#### 4. Feature Selection & Feature Importance\n"
   ]
  },
  {
   "cell_type": "code",
   "execution_count": 54,
   "id": "adult-flower",
   "metadata": {},
   "outputs": [
    {
     "name": "stderr",
     "output_type": "stream",
     "text": [
      "After 12 iterations, +7.2 secs: \n",
      " confirmed 12 attributes: Age, JobLevel, JobRole, MaritalStatus, MonthlyIncome and 7 more;\n",
      " rejected 6 attributes: Education, EducationField, Gender, PercentSalaryHike, PerformanceRating and 1 more;\n",
      " still have 7 attributes left.\n",
      "\n",
      "After 19 iterations, +11 secs: \n",
      " confirmed 1 attribute: NumCompaniesWorked;\n",
      " still have 6 attributes left.\n",
      "\n",
      "After 23 iterations, +13 secs: \n",
      " confirmed 1 attribute: WorkLifeBalance;\n",
      " still have 5 attributes left.\n",
      "\n",
      "After 29 iterations, +16 secs: \n",
      " confirmed 1 attribute: JobInvolvement;\n",
      " still have 4 attributes left.\n",
      "\n",
      "After 54 iterations, +29 secs: \n",
      " rejected 1 attribute: BusinessTravel;\n",
      " still have 3 attributes left.\n",
      "\n",
      "After 56 iterations, +30 secs: \n",
      " confirmed 1 attribute: YearsSinceLastPromotion;\n",
      " still have 2 attributes left.\n",
      "\n",
      "After 295 iterations, +2.5 mins: \n",
      " confirmed 1 attribute: Department;\n",
      " still have 1 attribute left.\n",
      "\n"
     ]
    },
    {
     "data": {
      "text/html": [
       "<dl class=dl-horizontal>\n",
       "\t<dt>Age</dt>\n",
       "\t\t<dd>Confirmed</dd>\n",
       "\t<dt>BusinessTravel</dt>\n",
       "\t\t<dd>Rejected</dd>\n",
       "\t<dt>Department</dt>\n",
       "\t\t<dd>Confirmed</dd>\n",
       "\t<dt>DistanceFromHome</dt>\n",
       "\t\t<dd>Tentative</dd>\n",
       "\t<dt>Education</dt>\n",
       "\t\t<dd>Rejected</dd>\n",
       "\t<dt>EducationField</dt>\n",
       "\t\t<dd>Rejected</dd>\n",
       "\t<dt>Gender</dt>\n",
       "\t\t<dd>Rejected</dd>\n",
       "\t<dt>JobInvolvement</dt>\n",
       "\t\t<dd>Confirmed</dd>\n",
       "\t<dt>JobLevel</dt>\n",
       "\t\t<dd>Confirmed</dd>\n",
       "\t<dt>JobRole</dt>\n",
       "\t\t<dd>Confirmed</dd>\n",
       "\t<dt>MaritalStatus</dt>\n",
       "\t\t<dd>Confirmed</dd>\n",
       "\t<dt>MonthlyIncome</dt>\n",
       "\t\t<dd>Confirmed</dd>\n",
       "\t<dt>NumCompaniesWorked</dt>\n",
       "\t\t<dd>Confirmed</dd>\n",
       "\t<dt>OverTime</dt>\n",
       "\t\t<dd>Confirmed</dd>\n",
       "\t<dt>PercentSalaryHike</dt>\n",
       "\t\t<dd>Rejected</dd>\n",
       "\t<dt>PerformanceRating</dt>\n",
       "\t\t<dd>Rejected</dd>\n",
       "\t<dt>StockOptionLevel</dt>\n",
       "\t\t<dd>Confirmed</dd>\n",
       "\t<dt>TotalWorkingYears</dt>\n",
       "\t\t<dd>Confirmed</dd>\n",
       "\t<dt>TrainingTimesLastYear</dt>\n",
       "\t\t<dd>Rejected</dd>\n",
       "\t<dt>WorkLifeBalance</dt>\n",
       "\t\t<dd>Confirmed</dd>\n",
       "\t<dt>YearsAtCompany</dt>\n",
       "\t\t<dd>Confirmed</dd>\n",
       "\t<dt>YearsInCurrentRole</dt>\n",
       "\t\t<dd>Confirmed</dd>\n",
       "\t<dt>YearsSinceLastPromotion</dt>\n",
       "\t\t<dd>Confirmed</dd>\n",
       "\t<dt>YearsWithCurrManager</dt>\n",
       "\t\t<dd>Confirmed</dd>\n",
       "\t<dt>Total_Satisfaction</dt>\n",
       "\t\t<dd>Confirmed</dd>\n",
       "</dl>\n",
       "\n",
       "<details>\n",
       "\t<summary style=display:list-item;cursor:pointer>\n",
       "\t\t<strong>Levels</strong>:\n",
       "\t</summary>\n",
       "\t<ol class=list-inline>\n",
       "\t\t<li>'Tentative'</li>\n",
       "\t\t<li>'Confirmed'</li>\n",
       "\t\t<li>'Rejected'</li>\n",
       "\t</ol>\n",
       "</details>"
      ],
      "text/latex": [
       "\\begin{description*}\n",
       "\\item[Age] Confirmed\n",
       "\\item[BusinessTravel] Rejected\n",
       "\\item[Department] Confirmed\n",
       "\\item[DistanceFromHome] Tentative\n",
       "\\item[Education] Rejected\n",
       "\\item[EducationField] Rejected\n",
       "\\item[Gender] Rejected\n",
       "\\item[JobInvolvement] Confirmed\n",
       "\\item[JobLevel] Confirmed\n",
       "\\item[JobRole] Confirmed\n",
       "\\item[MaritalStatus] Confirmed\n",
       "\\item[MonthlyIncome] Confirmed\n",
       "\\item[NumCompaniesWorked] Confirmed\n",
       "\\item[OverTime] Confirmed\n",
       "\\item[PercentSalaryHike] Rejected\n",
       "\\item[PerformanceRating] Rejected\n",
       "\\item[StockOptionLevel] Confirmed\n",
       "\\item[TotalWorkingYears] Confirmed\n",
       "\\item[TrainingTimesLastYear] Rejected\n",
       "\\item[WorkLifeBalance] Confirmed\n",
       "\\item[YearsAtCompany] Confirmed\n",
       "\\item[YearsInCurrentRole] Confirmed\n",
       "\\item[YearsSinceLastPromotion] Confirmed\n",
       "\\item[YearsWithCurrManager] Confirmed\n",
       "\\item[Total\\textbackslash{}\\_Satisfaction] Confirmed\n",
       "\\end{description*}\n",
       "\n",
       "\\emph{Levels}: \\begin{enumerate*}\n",
       "\\item 'Tentative'\n",
       "\\item 'Confirmed'\n",
       "\\item 'Rejected'\n",
       "\\end{enumerate*}\n"
      ],
      "text/markdown": [
       "Age\n",
       ":   ConfirmedBusinessTravel\n",
       ":   RejectedDepartment\n",
       ":   ConfirmedDistanceFromHome\n",
       ":   TentativeEducation\n",
       ":   RejectedEducationField\n",
       ":   RejectedGender\n",
       ":   RejectedJobInvolvement\n",
       ":   ConfirmedJobLevel\n",
       ":   ConfirmedJobRole\n",
       ":   ConfirmedMaritalStatus\n",
       ":   ConfirmedMonthlyIncome\n",
       ":   ConfirmedNumCompaniesWorked\n",
       ":   ConfirmedOverTime\n",
       ":   ConfirmedPercentSalaryHike\n",
       ":   RejectedPerformanceRating\n",
       ":   RejectedStockOptionLevel\n",
       ":   ConfirmedTotalWorkingYears\n",
       ":   ConfirmedTrainingTimesLastYear\n",
       ":   RejectedWorkLifeBalance\n",
       ":   ConfirmedYearsAtCompany\n",
       ":   ConfirmedYearsInCurrentRole\n",
       ":   ConfirmedYearsSinceLastPromotion\n",
       ":   ConfirmedYearsWithCurrManager\n",
       ":   ConfirmedTotal_Satisfaction\n",
       ":   Confirmed\n",
       "\n",
       "\n",
       "**Levels**: 1. 'Tentative'\n",
       "2. 'Confirmed'\n",
       "3. 'Rejected'\n",
       "\n",
       "\n"
      ],
      "text/plain": [
       "                    Age          BusinessTravel              Department \n",
       "              Confirmed                Rejected               Confirmed \n",
       "       DistanceFromHome               Education          EducationField \n",
       "              Tentative                Rejected                Rejected \n",
       "                 Gender          JobInvolvement                JobLevel \n",
       "               Rejected               Confirmed               Confirmed \n",
       "                JobRole           MaritalStatus           MonthlyIncome \n",
       "              Confirmed               Confirmed               Confirmed \n",
       "     NumCompaniesWorked                OverTime       PercentSalaryHike \n",
       "              Confirmed               Confirmed                Rejected \n",
       "      PerformanceRating        StockOptionLevel       TotalWorkingYears \n",
       "               Rejected               Confirmed               Confirmed \n",
       "  TrainingTimesLastYear         WorkLifeBalance          YearsAtCompany \n",
       "               Rejected               Confirmed               Confirmed \n",
       "     YearsInCurrentRole YearsSinceLastPromotion    YearsWithCurrManager \n",
       "              Confirmed               Confirmed               Confirmed \n",
       "     Total_Satisfaction \n",
       "              Confirmed \n",
       "Levels: Tentative Confirmed Rejected"
      ]
     },
     "metadata": {},
     "output_type": "display_data"
    }
   ],
   "source": [
    "# Here we are use Boruta for feature selection\n",
    "\n",
    "imp_ft <- Boruta(Attrition ~. , data = att, maxRuns = 500, doTrace=1)\n",
    "imp_ft$finalDecision"
   ]
  },
  {
   "cell_type": "code",
   "execution_count": 55,
   "id": "severe-seeker",
   "metadata": {},
   "outputs": [
    {
     "data": {
      "text/html": [
       "1"
      ],
      "text/latex": [
       "1"
      ],
      "text/markdown": [
       "1"
      ],
      "text/plain": [
       "[1] 1"
      ]
     },
     "metadata": {},
     "output_type": "display_data"
    },
    {
     "data": {
      "text/html": [
       "17"
      ],
      "text/latex": [
       "17"
      ],
      "text/markdown": [
       "17"
      ],
      "text/plain": [
       "[1] 17"
      ]
     },
     "metadata": {},
     "output_type": "display_data"
    },
    {
     "data": {
      "text/html": [
       "7"
      ],
      "text/latex": [
       "7"
      ],
      "text/markdown": [
       "7"
      ],
      "text/plain": [
       "[1] 7"
      ]
     },
     "metadata": {},
     "output_type": "display_data"
    }
   ],
   "source": [
    "# Check the count of each Tentative,Confirmed,Rejected features\n",
    "\n",
    "length(imp_ft$finalDecision[imp_ft$finalDecision == \"Tentative\"])\n",
    "length(imp_ft$finalDecision[imp_ft$finalDecision == \"Confirmed\"])\n",
    "length(imp_ft$finalDecision[imp_ft$finalDecision == \"Rejected\"])"
   ]
  },
  {
   "cell_type": "code",
   "execution_count": 56,
   "id": "quantitative-winner",
   "metadata": {},
   "outputs": [
    {
     "data": {
      "text/html": [
       "<dl class=dl-horizontal>\n",
       "\t<dt>Age</dt>\n",
       "\t\t<dd>Confirmed</dd>\n",
       "\t<dt>Department</dt>\n",
       "\t\t<dd>Confirmed</dd>\n",
       "\t<dt>JobInvolvement</dt>\n",
       "\t\t<dd>Confirmed</dd>\n",
       "\t<dt>JobLevel</dt>\n",
       "\t\t<dd>Confirmed</dd>\n",
       "\t<dt>JobRole</dt>\n",
       "\t\t<dd>Confirmed</dd>\n",
       "\t<dt>MaritalStatus</dt>\n",
       "\t\t<dd>Confirmed</dd>\n",
       "\t<dt>MonthlyIncome</dt>\n",
       "\t\t<dd>Confirmed</dd>\n",
       "\t<dt>NumCompaniesWorked</dt>\n",
       "\t\t<dd>Confirmed</dd>\n",
       "\t<dt>OverTime</dt>\n",
       "\t\t<dd>Confirmed</dd>\n",
       "\t<dt>StockOptionLevel</dt>\n",
       "\t\t<dd>Confirmed</dd>\n",
       "\t<dt>TotalWorkingYears</dt>\n",
       "\t\t<dd>Confirmed</dd>\n",
       "\t<dt>WorkLifeBalance</dt>\n",
       "\t\t<dd>Confirmed</dd>\n",
       "\t<dt>YearsAtCompany</dt>\n",
       "\t\t<dd>Confirmed</dd>\n",
       "\t<dt>YearsInCurrentRole</dt>\n",
       "\t\t<dd>Confirmed</dd>\n",
       "\t<dt>YearsSinceLastPromotion</dt>\n",
       "\t\t<dd>Confirmed</dd>\n",
       "\t<dt>YearsWithCurrManager</dt>\n",
       "\t\t<dd>Confirmed</dd>\n",
       "\t<dt>Total_Satisfaction</dt>\n",
       "\t\t<dd>Confirmed</dd>\n",
       "</dl>\n",
       "\n",
       "<details>\n",
       "\t<summary style=display:list-item;cursor:pointer>\n",
       "\t\t<strong>Levels</strong>:\n",
       "\t</summary>\n",
       "\t<ol class=list-inline>\n",
       "\t\t<li>'Tentative'</li>\n",
       "\t\t<li>'Confirmed'</li>\n",
       "\t\t<li>'Rejected'</li>\n",
       "\t</ol>\n",
       "</details>"
      ],
      "text/latex": [
       "\\begin{description*}\n",
       "\\item[Age] Confirmed\n",
       "\\item[Department] Confirmed\n",
       "\\item[JobInvolvement] Confirmed\n",
       "\\item[JobLevel] Confirmed\n",
       "\\item[JobRole] Confirmed\n",
       "\\item[MaritalStatus] Confirmed\n",
       "\\item[MonthlyIncome] Confirmed\n",
       "\\item[NumCompaniesWorked] Confirmed\n",
       "\\item[OverTime] Confirmed\n",
       "\\item[StockOptionLevel] Confirmed\n",
       "\\item[TotalWorkingYears] Confirmed\n",
       "\\item[WorkLifeBalance] Confirmed\n",
       "\\item[YearsAtCompany] Confirmed\n",
       "\\item[YearsInCurrentRole] Confirmed\n",
       "\\item[YearsSinceLastPromotion] Confirmed\n",
       "\\item[YearsWithCurrManager] Confirmed\n",
       "\\item[Total\\textbackslash{}\\_Satisfaction] Confirmed\n",
       "\\end{description*}\n",
       "\n",
       "\\emph{Levels}: \\begin{enumerate*}\n",
       "\\item 'Tentative'\n",
       "\\item 'Confirmed'\n",
       "\\item 'Rejected'\n",
       "\\end{enumerate*}\n"
      ],
      "text/markdown": [
       "Age\n",
       ":   ConfirmedDepartment\n",
       ":   ConfirmedJobInvolvement\n",
       ":   ConfirmedJobLevel\n",
       ":   ConfirmedJobRole\n",
       ":   ConfirmedMaritalStatus\n",
       ":   ConfirmedMonthlyIncome\n",
       ":   ConfirmedNumCompaniesWorked\n",
       ":   ConfirmedOverTime\n",
       ":   ConfirmedStockOptionLevel\n",
       ":   ConfirmedTotalWorkingYears\n",
       ":   ConfirmedWorkLifeBalance\n",
       ":   ConfirmedYearsAtCompany\n",
       ":   ConfirmedYearsInCurrentRole\n",
       ":   ConfirmedYearsSinceLastPromotion\n",
       ":   ConfirmedYearsWithCurrManager\n",
       ":   ConfirmedTotal_Satisfaction\n",
       ":   Confirmed\n",
       "\n",
       "\n",
       "**Levels**: 1. 'Tentative'\n",
       "2. 'Confirmed'\n",
       "3. 'Rejected'\n",
       "\n",
       "\n"
      ],
      "text/plain": [
       "                    Age              Department          JobInvolvement \n",
       "              Confirmed               Confirmed               Confirmed \n",
       "               JobLevel                 JobRole           MaritalStatus \n",
       "              Confirmed               Confirmed               Confirmed \n",
       "          MonthlyIncome      NumCompaniesWorked                OverTime \n",
       "              Confirmed               Confirmed               Confirmed \n",
       "       StockOptionLevel       TotalWorkingYears         WorkLifeBalance \n",
       "              Confirmed               Confirmed               Confirmed \n",
       "         YearsAtCompany      YearsInCurrentRole YearsSinceLastPromotion \n",
       "              Confirmed               Confirmed               Confirmed \n",
       "   YearsWithCurrManager      Total_Satisfaction \n",
       "              Confirmed               Confirmed \n",
       "Levels: Tentative Confirmed Rejected"
      ]
     },
     "metadata": {},
     "output_type": "display_data"
    },
    {
     "data": {
      "text/html": [
       "<ol class=list-inline>\n",
       "\t<li>'Age'</li>\n",
       "\t<li>'Attrition'</li>\n",
       "\t<li>'BusinessTravel'</li>\n",
       "\t<li>'Department'</li>\n",
       "\t<li>'DistanceFromHome'</li>\n",
       "\t<li>'Education'</li>\n",
       "\t<li>'EducationField'</li>\n",
       "\t<li>'Gender'</li>\n",
       "\t<li>'JobInvolvement'</li>\n",
       "\t<li>'JobLevel'</li>\n",
       "\t<li>'JobRole'</li>\n",
       "\t<li>'MaritalStatus'</li>\n",
       "\t<li>'MonthlyIncome'</li>\n",
       "\t<li>'NumCompaniesWorked'</li>\n",
       "\t<li>'OverTime'</li>\n",
       "\t<li>'PercentSalaryHike'</li>\n",
       "\t<li>'PerformanceRating'</li>\n",
       "\t<li>'StockOptionLevel'</li>\n",
       "\t<li>'TotalWorkingYears'</li>\n",
       "\t<li>'TrainingTimesLastYear'</li>\n",
       "\t<li>'WorkLifeBalance'</li>\n",
       "\t<li>'YearsAtCompany'</li>\n",
       "\t<li>'YearsInCurrentRole'</li>\n",
       "\t<li>'YearsSinceLastPromotion'</li>\n",
       "\t<li>'YearsWithCurrManager'</li>\n",
       "\t<li>'Total_Satisfaction'</li>\n",
       "</ol>\n"
      ],
      "text/latex": [
       "\\begin{enumerate*}\n",
       "\\item 'Age'\n",
       "\\item 'Attrition'\n",
       "\\item 'BusinessTravel'\n",
       "\\item 'Department'\n",
       "\\item 'DistanceFromHome'\n",
       "\\item 'Education'\n",
       "\\item 'EducationField'\n",
       "\\item 'Gender'\n",
       "\\item 'JobInvolvement'\n",
       "\\item 'JobLevel'\n",
       "\\item 'JobRole'\n",
       "\\item 'MaritalStatus'\n",
       "\\item 'MonthlyIncome'\n",
       "\\item 'NumCompaniesWorked'\n",
       "\\item 'OverTime'\n",
       "\\item 'PercentSalaryHike'\n",
       "\\item 'PerformanceRating'\n",
       "\\item 'StockOptionLevel'\n",
       "\\item 'TotalWorkingYears'\n",
       "\\item 'TrainingTimesLastYear'\n",
       "\\item 'WorkLifeBalance'\n",
       "\\item 'YearsAtCompany'\n",
       "\\item 'YearsInCurrentRole'\n",
       "\\item 'YearsSinceLastPromotion'\n",
       "\\item 'YearsWithCurrManager'\n",
       "\\item 'Total\\_Satisfaction'\n",
       "\\end{enumerate*}\n"
      ],
      "text/markdown": [
       "1. 'Age'\n",
       "2. 'Attrition'\n",
       "3. 'BusinessTravel'\n",
       "4. 'Department'\n",
       "5. 'DistanceFromHome'\n",
       "6. 'Education'\n",
       "7. 'EducationField'\n",
       "8. 'Gender'\n",
       "9. 'JobInvolvement'\n",
       "10. 'JobLevel'\n",
       "11. 'JobRole'\n",
       "12. 'MaritalStatus'\n",
       "13. 'MonthlyIncome'\n",
       "14. 'NumCompaniesWorked'\n",
       "15. 'OverTime'\n",
       "16. 'PercentSalaryHike'\n",
       "17. 'PerformanceRating'\n",
       "18. 'StockOptionLevel'\n",
       "19. 'TotalWorkingYears'\n",
       "20. 'TrainingTimesLastYear'\n",
       "21. 'WorkLifeBalance'\n",
       "22. 'YearsAtCompany'\n",
       "23. 'YearsInCurrentRole'\n",
       "24. 'YearsSinceLastPromotion'\n",
       "25. 'YearsWithCurrManager'\n",
       "26. 'Total_Satisfaction'\n",
       "\n",
       "\n"
      ],
      "text/plain": [
       " [1] \"Age\"                     \"Attrition\"              \n",
       " [3] \"BusinessTravel\"          \"Department\"             \n",
       " [5] \"DistanceFromHome\"        \"Education\"              \n",
       " [7] \"EducationField\"          \"Gender\"                 \n",
       " [9] \"JobInvolvement\"          \"JobLevel\"               \n",
       "[11] \"JobRole\"                 \"MaritalStatus\"          \n",
       "[13] \"MonthlyIncome\"           \"NumCompaniesWorked\"     \n",
       "[15] \"OverTime\"                \"PercentSalaryHike\"      \n",
       "[17] \"PerformanceRating\"       \"StockOptionLevel\"       \n",
       "[19] \"TotalWorkingYears\"       \"TrainingTimesLastYear\"  \n",
       "[21] \"WorkLifeBalance\"         \"YearsAtCompany\"         \n",
       "[23] \"YearsInCurrentRole\"      \"YearsSinceLastPromotion\"\n",
       "[25] \"YearsWithCurrManager\"    \"Total_Satisfaction\"     "
      ]
     },
     "metadata": {},
     "output_type": "display_data"
    }
   ],
   "source": [
    "# Check which are confirmed features\n",
    "\n",
    "imp_ft$finalDecision[imp_ft$finalDecision == 'Confirmed']\n",
    "colnames(att)"
   ]
  },
  {
   "cell_type": "markdown",
   "id": "sufficient-marathon",
   "metadata": {},
   "source": [
    "### Model Building:"
   ]
  },
  {
   "cell_type": "markdown",
   "id": "logical-snowboard",
   "metadata": {},
   "source": [
    "#### 1. Logistic Regression"
   ]
  },
  {
   "cell_type": "code",
   "execution_count": 57,
   "id": "corrected-deadline",
   "metadata": {},
   "outputs": [],
   "source": [
    "# Sampling\n",
    "set.seed(123)\n",
    "att_sample <- sample(2, nrow(att), replace = T, prob = c(0.8,0.2))\n",
    "att_train <- att[att_sample == 1, ]\n",
    "att_test <- att[att_sample == 2, ]"
   ]
  },
  {
   "cell_type": "code",
   "execution_count": 58,
   "id": "amber-burden",
   "metadata": {},
   "outputs": [
    {
     "data": {
      "text/plain": [
       "\n",
       "  0   1 \n",
       "995 191 "
      ]
     },
     "metadata": {},
     "output_type": "display_data"
    }
   ],
   "source": [
    "# We can see that there is heavy class imbalance\n",
    "table(att_train$Attrition)"
   ]
  },
  {
   "cell_type": "code",
   "execution_count": 59,
   "id": "functional-coordination",
   "metadata": {},
   "outputs": [
    {
     "data": {
      "text/plain": [
       "\n",
       "  0   1 \n",
       "995 993 "
      ]
     },
     "metadata": {},
     "output_type": "display_data"
    }
   ],
   "source": [
    "#Removing Class Imbalance\n",
    "\n",
    "att_train_os <- ovun.sample(Attrition ~., data = att_train, method = 'over')$data\n",
    "table(att_train_os$Attrition)\n"
   ]
  },
  {
   "cell_type": "code",
   "execution_count": 60,
   "id": "quantitative-mining",
   "metadata": {},
   "outputs": [
    {
     "data": {
      "text/plain": [
       "\n",
       "Call:\n",
       "glm(formula = Attrition ~ ., family = binomial, data = att_train_os)\n",
       "\n",
       "Deviance Residuals: \n",
       "     Min        1Q    Median        3Q       Max  \n",
       "-2.68370  -0.69464  -0.02688   0.73036   2.77672  \n",
       "\n",
       "Coefficients:\n",
       "                          Estimate Std. Error z value Pr(>|z|)    \n",
       "(Intercept)              1.409e+00  9.605e-01   1.467 0.142380    \n",
       "Age                     -2.597e-02  8.732e-03  -2.974 0.002939 ** \n",
       "BusinessTravel          -2.116e-02  9.568e-02  -0.221 0.824961    \n",
       "Department               9.681e-01  1.759e-01   5.504 3.70e-08 ***\n",
       "DistanceFromHome         3.603e-02  7.417e-03   4.857 1.19e-06 ***\n",
       "Education               -3.064e-03  5.956e-02  -0.051 0.958971    \n",
       "EducationField           7.679e-02  4.484e-02   1.713 0.086786 .  \n",
       "Gender                   2.457e-01  1.240e-01   1.981 0.047605 *  \n",
       "JobInvolvement          -6.316e-01  8.767e-02  -7.205 5.82e-13 ***\n",
       "JobLevel                -4.110e-01  1.971e-01  -2.085 0.037025 *  \n",
       "JobRole                 -1.022e-01  3.622e-02  -2.823 0.004757 ** \n",
       "MaritalStatus            5.999e-01  1.143e-01   5.247 1.55e-07 ***\n",
       "MonthlyIncome           -8.186e-05  4.755e-05  -1.722 0.085128 .  \n",
       "NumCompaniesWorked       1.707e-01  2.695e-02   6.332 2.41e-10 ***\n",
       "OverTime                 1.987e+00  1.309e-01  15.173  < 2e-16 ***\n",
       "PercentSalaryHike       -1.078e-01  2.718e-02  -3.965 7.34e-05 ***\n",
       "PerformanceRating        6.558e-01  2.747e-01   2.387 0.016986 *  \n",
       "StockOptionLevel        -2.900e-01  9.508e-02  -3.050 0.002291 ** \n",
       "TotalWorkingYears       -3.642e-02  1.801e-02  -2.022 0.043153 *  \n",
       "TrainingTimesLastYear   -2.271e-01  4.841e-02  -4.691 2.72e-06 ***\n",
       "WorkLifeBalance         -3.555e-01  8.011e-02  -4.438 9.10e-06 ***\n",
       "YearsAtCompany           6.221e-02  2.447e-02   2.543 0.011003 *  \n",
       "YearsInCurrentRole      -1.124e-01  3.194e-02  -3.518 0.000434 ***\n",
       "YearsSinceLastPromotion  2.320e-01  2.915e-02   7.959 1.73e-15 ***\n",
       "YearsWithCurrManager    -1.787e-01  3.088e-02  -5.785 7.24e-09 ***\n",
       "Total_Satisfaction      -3.818e-01  3.374e-02 -11.317  < 2e-16 ***\n",
       "---\n",
       "Signif. codes:  0 '***' 0.001 '**' 0.01 '*' 0.05 '.' 0.1 ' ' 1\n",
       "\n",
       "(Dispersion parameter for binomial family taken to be 1)\n",
       "\n",
       "    Null deviance: 2756.0  on 1987  degrees of freedom\n",
       "Residual deviance: 1758.4  on 1962  degrees of freedom\n",
       "AIC: 1810.4\n",
       "\n",
       "Number of Fisher Scoring iterations: 5\n"
      ]
     },
     "metadata": {},
     "output_type": "display_data"
    }
   ],
   "source": [
    "att_logreg <- glm(Attrition ~ . , data = att_train_os, family = binomial)\n",
    "summary(att_logreg)"
   ]
  },
  {
   "cell_type": "code",
   "execution_count": 61,
   "id": "patient-delay",
   "metadata": {},
   "outputs": [
    {
     "data": {
      "text/plain": [
       "Confusion Matrix and Statistics\n",
       "\n",
       "   \n",
       "      0   1\n",
       "  0 177  16\n",
       "  1  61  30\n",
       "                                          \n",
       "               Accuracy : 0.7289          \n",
       "                 95% CI : (0.6732, 0.7797)\n",
       "    No Information Rate : 0.838           \n",
       "    P-Value [Acc > NIR] : 1               \n",
       "                                          \n",
       "                  Kappa : 0.2839          \n",
       "                                          \n",
       " Mcnemar's Test P-Value : 5.324e-07       \n",
       "                                          \n",
       "            Sensitivity : 0.7437          \n",
       "            Specificity : 0.6522          \n",
       "         Pos Pred Value : 0.9171          \n",
       "         Neg Pred Value : 0.3297          \n",
       "             Prevalence : 0.8380          \n",
       "         Detection Rate : 0.6232          \n",
       "   Detection Prevalence : 0.6796          \n",
       "      Balanced Accuracy : 0.6979          \n",
       "                                          \n",
       "       'Positive' Class : 0               \n",
       "                                          "
      ]
     },
     "metadata": {},
     "output_type": "display_data"
    }
   ],
   "source": [
    "# Predict the model And plot Confusion matrix\n",
    "\n",
    "pred_logreg <- predict(att_logreg, att_test, type = 'response')\n",
    "df_logreg <- data.frame(pred_logreg, att_test$Attrition)\n",
    "colnames(df_logreg) <- c('Predicted', 'Actual')\n",
    "df_logreg <- mutate(df_logreg, Predicted = ifelse(Predicted > 0.5, 1, 0))\n",
    "cm <- table(df_logreg$Predicted, df_logreg$Actual)\n",
    "confusionMatrix(cm)  # Final Model for Logistic Regression"
   ]
  },
  {
   "cell_type": "code",
   "execution_count": 62,
   "id": "whole-bedroom",
   "metadata": {},
   "outputs": [
    {
     "data": {
      "text/plain": [
       "Area under the curve (AUC): 0.750"
      ]
     },
     "metadata": {},
     "output_type": "display_data"
    },
    {
     "data": {
      "image/png": "[encoded data removed]",
      "text/plain": [
       "Plot with title \"ROC curve\""
      ]
     },
     "metadata": {},
     "output_type": "display_data"
    }
   ],
   "source": [
    "# Plotting of AUROC\n",
    "roc.curve(df_logreg$Actual, pred_logreg)"
   ]
  },
  {
   "cell_type": "markdown",
   "id": "dress-trance",
   "metadata": {},
   "source": [
    "#### 2. Logistic Regression using Boruta Feature Selection technique and using Caret package\n"
   ]
  },
  {
   "cell_type": "code",
   "execution_count": 63,
   "id": "persistent-preserve",
   "metadata": {},
   "outputs": [
    {
     "data": {
      "text/html": [
       "<ol class=list-inline>\n",
       "\t<li>'Age'</li>\n",
       "\t<li>'Attrition'</li>\n",
       "\t<li>'BusinessTravel'</li>\n",
       "\t<li>'Department'</li>\n",
       "\t<li>'DistanceFromHome'</li>\n",
       "\t<li>'Education'</li>\n",
       "\t<li>'EducationField'</li>\n",
       "\t<li>'Gender'</li>\n",
       "\t<li>'JobInvolvement'</li>\n",
       "\t<li>'JobLevel'</li>\n",
       "\t<li>'JobRole'</li>\n",
       "\t<li>'MaritalStatus'</li>\n",
       "\t<li>'MonthlyIncome'</li>\n",
       "\t<li>'NumCompaniesWorked'</li>\n",
       "\t<li>'OverTime'</li>\n",
       "\t<li>'PercentSalaryHike'</li>\n",
       "\t<li>'PerformanceRating'</li>\n",
       "\t<li>'StockOptionLevel'</li>\n",
       "\t<li>'TotalWorkingYears'</li>\n",
       "\t<li>'TrainingTimesLastYear'</li>\n",
       "\t<li>'WorkLifeBalance'</li>\n",
       "\t<li>'YearsAtCompany'</li>\n",
       "\t<li>'YearsInCurrentRole'</li>\n",
       "\t<li>'YearsSinceLastPromotion'</li>\n",
       "\t<li>'YearsWithCurrManager'</li>\n",
       "\t<li>'Total_Satisfaction'</li>\n",
       "</ol>\n"
      ],
      "text/latex": [
       "\\begin{enumerate*}\n",
       "\\item 'Age'\n",
       "\\item 'Attrition'\n",
       "\\item 'BusinessTravel'\n",
       "\\item 'Department'\n",
       "\\item 'DistanceFromHome'\n",
       "\\item 'Education'\n",
       "\\item 'EducationField'\n",
       "\\item 'Gender'\n",
       "\\item 'JobInvolvement'\n",
       "\\item 'JobLevel'\n",
       "\\item 'JobRole'\n",
       "\\item 'MaritalStatus'\n",
       "\\item 'MonthlyIncome'\n",
       "\\item 'NumCompaniesWorked'\n",
       "\\item 'OverTime'\n",
       "\\item 'PercentSalaryHike'\n",
       "\\item 'PerformanceRating'\n",
       "\\item 'StockOptionLevel'\n",
       "\\item 'TotalWorkingYears'\n",
       "\\item 'TrainingTimesLastYear'\n",
       "\\item 'WorkLifeBalance'\n",
       "\\item 'YearsAtCompany'\n",
       "\\item 'YearsInCurrentRole'\n",
       "\\item 'YearsSinceLastPromotion'\n",
       "\\item 'YearsWithCurrManager'\n",
       "\\item 'Total\\_Satisfaction'\n",
       "\\end{enumerate*}\n"
      ],
      "text/markdown": [
       "1. 'Age'\n",
       "2. 'Attrition'\n",
       "3. 'BusinessTravel'\n",
       "4. 'Department'\n",
       "5. 'DistanceFromHome'\n",
       "6. 'Education'\n",
       "7. 'EducationField'\n",
       "8. 'Gender'\n",
       "9. 'JobInvolvement'\n",
       "10. 'JobLevel'\n",
       "11. 'JobRole'\n",
       "12. 'MaritalStatus'\n",
       "13. 'MonthlyIncome'\n",
       "14. 'NumCompaniesWorked'\n",
       "15. 'OverTime'\n",
       "16. 'PercentSalaryHike'\n",
       "17. 'PerformanceRating'\n",
       "18. 'StockOptionLevel'\n",
       "19. 'TotalWorkingYears'\n",
       "20. 'TrainingTimesLastYear'\n",
       "21. 'WorkLifeBalance'\n",
       "22. 'YearsAtCompany'\n",
       "23. 'YearsInCurrentRole'\n",
       "24. 'YearsSinceLastPromotion'\n",
       "25. 'YearsWithCurrManager'\n",
       "26. 'Total_Satisfaction'\n",
       "\n",
       "\n"
      ],
      "text/plain": [
       " [1] \"Age\"                     \"Attrition\"              \n",
       " [3] \"BusinessTravel\"          \"Department\"             \n",
       " [5] \"DistanceFromHome\"        \"Education\"              \n",
       " [7] \"EducationField\"          \"Gender\"                 \n",
       " [9] \"JobInvolvement\"          \"JobLevel\"               \n",
       "[11] \"JobRole\"                 \"MaritalStatus\"          \n",
       "[13] \"MonthlyIncome\"           \"NumCompaniesWorked\"     \n",
       "[15] \"OverTime\"                \"PercentSalaryHike\"      \n",
       "[17] \"PerformanceRating\"       \"StockOptionLevel\"       \n",
       "[19] \"TotalWorkingYears\"       \"TrainingTimesLastYear\"  \n",
       "[21] \"WorkLifeBalance\"         \"YearsAtCompany\"         \n",
       "[23] \"YearsInCurrentRole\"      \"YearsSinceLastPromotion\"\n",
       "[25] \"YearsWithCurrManager\"    \"Total_Satisfaction\"     "
      ]
     },
     "metadata": {},
     "output_type": "display_data"
    }
   ],
   "source": [
    "colnames(att)"
   ]
  },
  {
   "cell_type": "code",
   "execution_count": 64,
   "id": "stuck-linux",
   "metadata": {},
   "outputs": [],
   "source": [
    "# Here we are use the features which we are got confirmed in baruta feature selection\n",
    "\n",
    "att_imp <- att[ , c(1,4,5,9,10,11,12,13,14,15,18,19,21,22,23,24,25,26)]"
   ]
  },
  {
   "cell_type": "code",
   "execution_count": 65,
   "id": "every-documentation",
   "metadata": {},
   "outputs": [],
   "source": [
    "# Add the target variable & Converting to biary\n",
    "\n",
    "att_imp$Attrition <- attrition$Attrition\n",
    "att_imp <- mutate(att_imp, Attrition = ifelse(Attrition == 'Yes', 1, 0))"
   ]
  },
  {
   "cell_type": "code",
   "execution_count": 66,
   "id": "compact-basketball",
   "metadata": {},
   "outputs": [],
   "source": [
    "# Sampling\n",
    "set.seed(123)\n",
    "att_sample <- sample(2, nrow(att_imp), replace = TRUE, prob = c(0.8, 0.2))\n",
    "att_train <- att_imp[att_sample == 1, ]\n",
    "att_test <- att_imp[att_sample == 2, ]"
   ]
  },
  {
   "cell_type": "code",
   "execution_count": 67,
   "id": "toxic-packing",
   "metadata": {},
   "outputs": [
    {
     "data": {
      "text/plain": [
       "\n",
       "  0   1 \n",
       "995 191 "
      ]
     },
     "metadata": {},
     "output_type": "display_data"
    }
   ],
   "source": [
    "# We can see that there is heavy class imbalance\n",
    "table(att_train$Attrition)"
   ]
  },
  {
   "cell_type": "code",
   "execution_count": 68,
   "id": "collaborative-absolute",
   "metadata": {},
   "outputs": [
    {
     "data": {
      "text/plain": [
       "\n",
       "  0   1 \n",
       "995 993 "
      ]
     },
     "metadata": {},
     "output_type": "display_data"
    }
   ],
   "source": [
    "# Remove the class imbalance\n",
    "att_train_os <- ovun.sample(Attrition ~., data = att_train, method = 'over')$data\n",
    "table(att_train_os$Attrition)  # Class imbalance removed"
   ]
  },
  {
   "cell_type": "code",
   "execution_count": 69,
   "id": "offensive-smith",
   "metadata": {
    "scrolled": true
   },
   "outputs": [
    {
     "name": "stderr",
     "output_type": "stream",
     "text": [
      "Warning message in train.default(x, y, weights = w, ...):\n",
      "\"You are trying to do regression and your outcome only has two possible values Are you trying to do classification? If so, use a 2 level factor as your outcome column.\""
     ]
    },
    {
     "data": {
      "text/plain": [
       "\n",
       "Call:\n",
       "NULL\n",
       "\n",
       "Deviance Residuals: \n",
       "     Min        1Q    Median        3Q       Max  \n",
       "-0.97440  -0.32369   0.01352   0.29847   1.03954  \n",
       "\n",
       "Coefficients:\n",
       "                          Estimate Std. Error t value Pr(>|t|)    \n",
       "(Intercept)              8.153e-01  9.153e-02   8.907  < 2e-16 ***\n",
       "Age                     -5.366e-03  1.336e-03  -4.018 6.09e-05 ***\n",
       "Department               1.282e-01  2.471e-02   5.186 2.37e-07 ***\n",
       "DistanceFromHome         4.574e-03  1.080e-03   4.234 2.40e-05 ***\n",
       "JobInvolvement          -9.066e-02  1.232e-02  -7.359 2.71e-13 ***\n",
       "JobLevel                -5.299e-02  2.873e-02  -1.845  0.06525 .  \n",
       "JobRole                 -1.563e-02  5.299e-03  -2.950  0.00321 ** \n",
       "MaritalStatus            7.967e-02  1.694e-02   4.702 2.75e-06 ***\n",
       "MonthlyIncome           -7.727e-06  6.621e-06  -1.167  0.24334    \n",
       "NumCompaniesWorked       2.552e-02  3.908e-03   6.531 8.32e-11 ***\n",
       "OverTime                 3.219e-01  1.827e-02  17.614  < 2e-16 ***\n",
       "StockOptionLevel        -4.708e-02  1.433e-02  -3.285  0.00104 ** \n",
       "TotalWorkingYears       -4.335e-03  2.518e-03  -1.722  0.08527 .  \n",
       "WorkLifeBalance         -6.011e-02  1.191e-02  -5.046 4.94e-07 ***\n",
       "YearsAtCompany           7.783e-03  3.432e-03   2.268  0.02346 *  \n",
       "YearsInCurrentRole      -1.459e-02  4.554e-03  -3.203  0.00138 ** \n",
       "YearsSinceLastPromotion  3.028e-02  3.905e-03   7.754 1.42e-14 ***\n",
       "YearsWithCurrManager    -2.558e-02  4.501e-03  -5.684 1.51e-08 ***\n",
       "Total_Satisfaction      -5.416e-02  4.464e-03 -12.131  < 2e-16 ***\n",
       "---\n",
       "Signif. codes:  0 '***' 0.001 '**' 0.01 '*' 0.05 '.' 0.1 ' ' 1\n",
       "\n",
       "(Dispersion parameter for gaussian family taken to be 0.1558334)\n",
       "\n",
       "    Null deviance: 497.00  on 1987  degrees of freedom\n",
       "Residual deviance: 306.84  on 1969  degrees of freedom\n",
       "AIC: 1967\n",
       "\n",
       "Number of Fisher Scoring iterations: 2\n"
      ]
     },
     "metadata": {},
     "output_type": "display_data"
    }
   ],
   "source": [
    "# Building model using caret package\n",
    "\n",
    "att_lg <- train(Attrition ~., data=att_train_os, method='glm')\n",
    "summary(att_lg)"
   ]
  },
  {
   "cell_type": "code",
   "execution_count": 70,
   "id": "recognized-punch",
   "metadata": {
    "scrolled": true
   },
   "outputs": [
    {
     "data": {
      "text/plain": [
       "Confusion Matrix and Statistics\n",
       "\n",
       "   \n",
       "      0   1\n",
       "  0 180  14\n",
       "  1  58  32\n",
       "                                         \n",
       "               Accuracy : 0.7465         \n",
       "                 95% CI : (0.6917, 0.796)\n",
       "    No Information Rate : 0.838          \n",
       "    P-Value [Acc > NIR] : 1              \n",
       "                                         \n",
       "                  Kappa : 0.3261         \n",
       "                                         \n",
       " Mcnemar's Test P-Value : 4.029e-07      \n",
       "                                         \n",
       "            Sensitivity : 0.7563         \n",
       "            Specificity : 0.6957         \n",
       "         Pos Pred Value : 0.9278         \n",
       "         Neg Pred Value : 0.3556         \n",
       "             Prevalence : 0.8380         \n",
       "         Detection Rate : 0.6338         \n",
       "   Detection Prevalence : 0.6831         \n",
       "      Balanced Accuracy : 0.7260         \n",
       "                                         \n",
       "       'Positive' Class : 0              \n",
       "                                         "
      ]
     },
     "metadata": {},
     "output_type": "display_data"
    }
   ],
   "source": [
    "# Predict the model And plot Confusion matrix\n",
    "\n",
    "lg_pred = predict(att_lg, att_test)\n",
    "df_lg <- data.frame(lg_pred, att_test$Attrition)\n",
    "colnames(df_lg) <- c('Predicted', 'Actual')\n",
    "df_lg <- mutate(df_lg, Predicted = ifelse(Predicted > 0.5, 1, 0))\n",
    "cm_lg <- table(df_lg$Predicted, df_lg$Actual)\n",
    "confusionMatrix(cm_lg)"
   ]
  },
  {
   "cell_type": "markdown",
   "id": "strategic-backing",
   "metadata": {},
   "source": [
    "#### 3.Decision Tree using caret package & class imbalance technique\n"
   ]
  },
  {
   "cell_type": "code",
   "execution_count": 71,
   "id": "suitable-highway",
   "metadata": {},
   "outputs": [],
   "source": [
    "att <- attrition     # here we require main dataset for decision tree "
   ]
  },
  {
   "cell_type": "code",
   "execution_count": 72,
   "id": "fiscal-alpha",
   "metadata": {
    "scrolled": true
   },
   "outputs": [
    {
     "data": {
      "text/html": [
       "<ol class=list-inline>\n",
       "\t<li>'Age'</li>\n",
       "\t<li>'Attrition'</li>\n",
       "\t<li>'BusinessTravel'</li>\n",
       "\t<li>'Department'</li>\n",
       "\t<li>'DistanceFromHome'</li>\n",
       "\t<li>'Education'</li>\n",
       "\t<li>'EducationField'</li>\n",
       "\t<li>'EnvironmentSatisfaction'</li>\n",
       "\t<li>'Gender'</li>\n",
       "\t<li>'JobInvolvement'</li>\n",
       "\t<li>'JobLevel'</li>\n",
       "\t<li>'JobRole'</li>\n",
       "\t<li>'JobSatisfaction'</li>\n",
       "\t<li>'MaritalStatus'</li>\n",
       "\t<li>'MonthlyIncome'</li>\n",
       "\t<li>'NumCompaniesWorked'</li>\n",
       "\t<li>'OverTime'</li>\n",
       "\t<li>'PercentSalaryHike'</li>\n",
       "\t<li>'PerformanceRating'</li>\n",
       "\t<li>'RelationshipSatisfaction'</li>\n",
       "\t<li>'StockOptionLevel'</li>\n",
       "\t<li>'TotalWorkingYears'</li>\n",
       "\t<li>'TrainingTimesLastYear'</li>\n",
       "\t<li>'WorkLifeBalance'</li>\n",
       "\t<li>'YearsAtCompany'</li>\n",
       "\t<li>'YearsInCurrentRole'</li>\n",
       "\t<li>'YearsSinceLastPromotion'</li>\n",
       "\t<li>'YearsWithCurrManager'</li>\n",
       "</ol>\n"
      ],
      "text/latex": [
       "\\begin{enumerate*}\n",
       "\\item 'Age'\n",
       "\\item 'Attrition'\n",
       "\\item 'BusinessTravel'\n",
       "\\item 'Department'\n",
       "\\item 'DistanceFromHome'\n",
       "\\item 'Education'\n",
       "\\item 'EducationField'\n",
       "\\item 'EnvironmentSatisfaction'\n",
       "\\item 'Gender'\n",
       "\\item 'JobInvolvement'\n",
       "\\item 'JobLevel'\n",
       "\\item 'JobRole'\n",
       "\\item 'JobSatisfaction'\n",
       "\\item 'MaritalStatus'\n",
       "\\item 'MonthlyIncome'\n",
       "\\item 'NumCompaniesWorked'\n",
       "\\item 'OverTime'\n",
       "\\item 'PercentSalaryHike'\n",
       "\\item 'PerformanceRating'\n",
       "\\item 'RelationshipSatisfaction'\n",
       "\\item 'StockOptionLevel'\n",
       "\\item 'TotalWorkingYears'\n",
       "\\item 'TrainingTimesLastYear'\n",
       "\\item 'WorkLifeBalance'\n",
       "\\item 'YearsAtCompany'\n",
       "\\item 'YearsInCurrentRole'\n",
       "\\item 'YearsSinceLastPromotion'\n",
       "\\item 'YearsWithCurrManager'\n",
       "\\end{enumerate*}\n"
      ],
      "text/markdown": [
       "1. 'Age'\n",
       "2. 'Attrition'\n",
       "3. 'BusinessTravel'\n",
       "4. 'Department'\n",
       "5. 'DistanceFromHome'\n",
       "6. 'Education'\n",
       "7. 'EducationField'\n",
       "8. 'EnvironmentSatisfaction'\n",
       "9. 'Gender'\n",
       "10. 'JobInvolvement'\n",
       "11. 'JobLevel'\n",
       "12. 'JobRole'\n",
       "13. 'JobSatisfaction'\n",
       "14. 'MaritalStatus'\n",
       "15. 'MonthlyIncome'\n",
       "16. 'NumCompaniesWorked'\n",
       "17. 'OverTime'\n",
       "18. 'PercentSalaryHike'\n",
       "19. 'PerformanceRating'\n",
       "20. 'RelationshipSatisfaction'\n",
       "21. 'StockOptionLevel'\n",
       "22. 'TotalWorkingYears'\n",
       "23. 'TrainingTimesLastYear'\n",
       "24. 'WorkLifeBalance'\n",
       "25. 'YearsAtCompany'\n",
       "26. 'YearsInCurrentRole'\n",
       "27. 'YearsSinceLastPromotion'\n",
       "28. 'YearsWithCurrManager'\n",
       "\n",
       "\n"
      ],
      "text/plain": [
       " [1] \"Age\"                      \"Attrition\"               \n",
       " [3] \"BusinessTravel\"           \"Department\"              \n",
       " [5] \"DistanceFromHome\"         \"Education\"               \n",
       " [7] \"EducationField\"           \"EnvironmentSatisfaction\" \n",
       " [9] \"Gender\"                   \"JobInvolvement\"          \n",
       "[11] \"JobLevel\"                 \"JobRole\"                 \n",
       "[13] \"JobSatisfaction\"          \"MaritalStatus\"           \n",
       "[15] \"MonthlyIncome\"            \"NumCompaniesWorked\"      \n",
       "[17] \"OverTime\"                 \"PercentSalaryHike\"       \n",
       "[19] \"PerformanceRating\"        \"RelationshipSatisfaction\"\n",
       "[21] \"StockOptionLevel\"         \"TotalWorkingYears\"       \n",
       "[23] \"TrainingTimesLastYear\"    \"WorkLifeBalance\"         \n",
       "[25] \"YearsAtCompany\"           \"YearsInCurrentRole\"      \n",
       "[27] \"YearsSinceLastPromotion\"  \"YearsWithCurrManager\"    "
      ]
     },
     "metadata": {},
     "output_type": "display_data"
    }
   ],
   "source": [
    "# Repeat Feature Engineering\n",
    "\n",
    "# Let's remove unnecessary columns like Daily Rate, employee number, Hourly rate, Monthly rate, Over18, Standard hours, employee count\n",
    "\n",
    "att <- att[ , -c(4, 9, 10, 13, 20, 22, 27)]\n",
    "\n",
    "colnames(att)"
   ]
  },
  {
   "cell_type": "code",
   "execution_count": 73,
   "id": "cosmetic-coating",
   "metadata": {},
   "outputs": [
    {
     "data": {
      "text/plain": [
       "   Min. 1st Qu.  Median    Mean 3rd Qu.    Max. \n",
       "  3.000   7.000   8.000   8.163  10.000  12.000 "
      ]
     },
     "metadata": {},
     "output_type": "display_data"
    }
   ],
   "source": [
    "# grouping all satisfaction columns & creating new column of total satisfaction\n",
    "att$Total_Satisfaction <- att$JobSatisfaction+att$EnvironmentSatisfaction+att$RelationshipSatisfaction\n",
    "summary(att$Total_Satisfaction)"
   ]
  },
  {
   "cell_type": "code",
   "execution_count": 74,
   "id": "incomplete-burning",
   "metadata": {},
   "outputs": [
    {
     "data": {
      "text/html": [
       "<ol class=list-inline>\n",
       "\t<li>'Age'</li>\n",
       "\t<li>'Attrition'</li>\n",
       "\t<li>'BusinessTravel'</li>\n",
       "\t<li>'Department'</li>\n",
       "\t<li>'DistanceFromHome'</li>\n",
       "\t<li>'Education'</li>\n",
       "\t<li>'EducationField'</li>\n",
       "\t<li>'Gender'</li>\n",
       "\t<li>'JobInvolvement'</li>\n",
       "\t<li>'JobLevel'</li>\n",
       "\t<li>'JobRole'</li>\n",
       "\t<li>'MaritalStatus'</li>\n",
       "\t<li>'MonthlyIncome'</li>\n",
       "\t<li>'NumCompaniesWorked'</li>\n",
       "\t<li>'OverTime'</li>\n",
       "\t<li>'PercentSalaryHike'</li>\n",
       "\t<li>'PerformanceRating'</li>\n",
       "\t<li>'StockOptionLevel'</li>\n",
       "\t<li>'TotalWorkingYears'</li>\n",
       "\t<li>'TrainingTimesLastYear'</li>\n",
       "\t<li>'WorkLifeBalance'</li>\n",
       "\t<li>'YearsAtCompany'</li>\n",
       "\t<li>'YearsInCurrentRole'</li>\n",
       "\t<li>'YearsSinceLastPromotion'</li>\n",
       "\t<li>'YearsWithCurrManager'</li>\n",
       "\t<li>'Total_Satisfaction'</li>\n",
       "</ol>\n"
      ],
      "text/latex": [
       "\\begin{enumerate*}\n",
       "\\item 'Age'\n",
       "\\item 'Attrition'\n",
       "\\item 'BusinessTravel'\n",
       "\\item 'Department'\n",
       "\\item 'DistanceFromHome'\n",
       "\\item 'Education'\n",
       "\\item 'EducationField'\n",
       "\\item 'Gender'\n",
       "\\item 'JobInvolvement'\n",
       "\\item 'JobLevel'\n",
       "\\item 'JobRole'\n",
       "\\item 'MaritalStatus'\n",
       "\\item 'MonthlyIncome'\n",
       "\\item 'NumCompaniesWorked'\n",
       "\\item 'OverTime'\n",
       "\\item 'PercentSalaryHike'\n",
       "\\item 'PerformanceRating'\n",
       "\\item 'StockOptionLevel'\n",
       "\\item 'TotalWorkingYears'\n",
       "\\item 'TrainingTimesLastYear'\n",
       "\\item 'WorkLifeBalance'\n",
       "\\item 'YearsAtCompany'\n",
       "\\item 'YearsInCurrentRole'\n",
       "\\item 'YearsSinceLastPromotion'\n",
       "\\item 'YearsWithCurrManager'\n",
       "\\item 'Total\\_Satisfaction'\n",
       "\\end{enumerate*}\n"
      ],
      "text/markdown": [
       "1. 'Age'\n",
       "2. 'Attrition'\n",
       "3. 'BusinessTravel'\n",
       "4. 'Department'\n",
       "5. 'DistanceFromHome'\n",
       "6. 'Education'\n",
       "7. 'EducationField'\n",
       "8. 'Gender'\n",
       "9. 'JobInvolvement'\n",
       "10. 'JobLevel'\n",
       "11. 'JobRole'\n",
       "12. 'MaritalStatus'\n",
       "13. 'MonthlyIncome'\n",
       "14. 'NumCompaniesWorked'\n",
       "15. 'OverTime'\n",
       "16. 'PercentSalaryHike'\n",
       "17. 'PerformanceRating'\n",
       "18. 'StockOptionLevel'\n",
       "19. 'TotalWorkingYears'\n",
       "20. 'TrainingTimesLastYear'\n",
       "21. 'WorkLifeBalance'\n",
       "22. 'YearsAtCompany'\n",
       "23. 'YearsInCurrentRole'\n",
       "24. 'YearsSinceLastPromotion'\n",
       "25. 'YearsWithCurrManager'\n",
       "26. 'Total_Satisfaction'\n",
       "\n",
       "\n"
      ],
      "text/plain": [
       " [1] \"Age\"                     \"Attrition\"              \n",
       " [3] \"BusinessTravel\"          \"Department\"             \n",
       " [5] \"DistanceFromHome\"        \"Education\"              \n",
       " [7] \"EducationField\"          \"Gender\"                 \n",
       " [9] \"JobInvolvement\"          \"JobLevel\"               \n",
       "[11] \"JobRole\"                 \"MaritalStatus\"          \n",
       "[13] \"MonthlyIncome\"           \"NumCompaniesWorked\"     \n",
       "[15] \"OverTime\"                \"PercentSalaryHike\"      \n",
       "[17] \"PerformanceRating\"       \"StockOptionLevel\"       \n",
       "[19] \"TotalWorkingYears\"       \"TrainingTimesLastYear\"  \n",
       "[21] \"WorkLifeBalance\"         \"YearsAtCompany\"         \n",
       "[23] \"YearsInCurrentRole\"      \"YearsSinceLastPromotion\"\n",
       "[25] \"YearsWithCurrManager\"    \"Total_Satisfaction\"     "
      ]
     },
     "metadata": {},
     "output_type": "display_data"
    }
   ],
   "source": [
    "# Delete job satisfaction, relationship satisfaction & environment satisfaction columns\n",
    "att <- att[ , -c('JobSatisfaction', 'RelationshipSatisfaction', 'EnvironmentSatisfaction')]\n",
    "colnames(att)"
   ]
  },
  {
   "cell_type": "code",
   "execution_count": 75,
   "id": "acquired-compensation",
   "metadata": {
    "scrolled": true
   },
   "outputs": [],
   "source": [
    "# Factorise the categorical variables\n",
    "\n",
    "att$Education <- as.factor(att$Education)\n",
    "att$JobInvolvement <- as.factor(att$JobInvolvement)\n",
    "att$JobLevel <- as.factor(att$JobLevel)\n",
    "att$NumCompaniesWorked <- as.factor(att$NumCompaniesWorked)\n",
    "att$PercentSalaryHike <- as.factor(att$PercentSalaryHike)\n",
    "att$PerformanceRating <- as.factor(att$PerformanceRating)\n",
    "att$StockOptionLevel <- as.factor(att$StockOptionLevel)\n",
    "att$WorkLifeBalance <- as.factor(att$WorkLifeBalance)\n",
    "att$Total_Satisfaction <- as.factor(att$Total_Satisfaction)"
   ]
  },
  {
   "cell_type": "code",
   "execution_count": 76,
   "id": "biblical-organic",
   "metadata": {},
   "outputs": [],
   "source": [
    "# Here we are use the features which we are got confirmed in baruta feature selection\n",
    "\n",
    "att_imp <- att[ , c(1,9,10,11,12,13,14,15,18,19,21,22,23,24,25,26)]\n",
    "att_imp$Attrition <- att$Attrition"
   ]
  },
  {
   "cell_type": "code",
   "execution_count": 77,
   "id": "ordered-parent",
   "metadata": {},
   "outputs": [],
   "source": [
    "# Sampling\n",
    "set.seed(123)\n",
    "att_sample <- sample(x = 2, size = nrow(att_imp), replace = T, prob = c(0.8,0.2))\n",
    "att_train <- att_imp[att_sample==1]\n",
    "att_test <- att_imp[att_sample==2]"
   ]
  },
  {
   "cell_type": "code",
   "execution_count": 78,
   "id": "flexible-philip",
   "metadata": {},
   "outputs": [
    {
     "data": {
      "text/plain": [
       "\n",
       " No Yes \n",
       "995 191 "
      ]
     },
     "metadata": {},
     "output_type": "display_data"
    }
   ],
   "source": [
    "# We can see that there is heavy class imbalance\n",
    "table(att_train$Attrition)"
   ]
  },
  {
   "cell_type": "code",
   "execution_count": 79,
   "id": "above-receptor",
   "metadata": {},
   "outputs": [
    {
     "data": {
      "text/plain": [
       "\n",
       " No Yes \n",
       "995 993 "
      ]
     },
     "metadata": {},
     "output_type": "display_data"
    }
   ],
   "source": [
    "# Remove class imbalance\n",
    "att_train_os <- ovun.sample(Attrition ~., data = att_train, method = 'over')$data\n",
    "table(att_train_os$Attrition)  # Class imbalance removed"
   ]
  },
  {
   "cell_type": "code",
   "execution_count": 80,
   "id": "color-compatibility",
   "metadata": {},
   "outputs": [
    {
     "name": "stdout",
     "output_type": "stream",
     "text": [
      "+ Fold1.Rep01: cp=0.003021 \n",
      "- Fold1.Rep01: cp=0.003021 \n",
      "+ Fold2.Rep01: cp=0.003021 \n",
      "- Fold2.Rep01: cp=0.003021 \n",
      "+ Fold3.Rep01: cp=0.003021 \n",
      "- Fold3.Rep01: cp=0.003021 \n",
      "+ Fold4.Rep01: cp=0.003021 \n",
      "- Fold4.Rep01: cp=0.003021 \n",
      "+ Fold5.Rep01: cp=0.003021 \n",
      "- Fold5.Rep01: cp=0.003021 \n",
      "+ Fold1.Rep02: cp=0.003021 \n",
      "- Fold1.Rep02: cp=0.003021 \n",
      "+ Fold2.Rep02: cp=0.003021 \n",
      "- Fold2.Rep02: cp=0.003021 \n",
      "+ Fold3.Rep02: cp=0.003021 \n",
      "- Fold3.Rep02: cp=0.003021 \n",
      "+ Fold4.Rep02: cp=0.003021 \n",
      "- Fold4.Rep02: cp=0.003021 \n",
      "+ Fold5.Rep02: cp=0.003021 \n",
      "- Fold5.Rep02: cp=0.003021 \n",
      "+ Fold1.Rep03: cp=0.003021 \n",
      "- Fold1.Rep03: cp=0.003021 \n",
      "+ Fold2.Rep03: cp=0.003021 \n",
      "- Fold2.Rep03: cp=0.003021 \n",
      "+ Fold3.Rep03: cp=0.003021 \n",
      "- Fold3.Rep03: cp=0.003021 \n",
      "+ Fold4.Rep03: cp=0.003021 \n",
      "- Fold4.Rep03: cp=0.003021 \n",
      "+ Fold5.Rep03: cp=0.003021 \n",
      "- Fold5.Rep03: cp=0.003021 \n",
      "+ Fold1.Rep04: cp=0.003021 \n",
      "- Fold1.Rep04: cp=0.003021 \n",
      "+ Fold2.Rep04: cp=0.003021 \n",
      "- Fold2.Rep04: cp=0.003021 \n",
      "+ Fold3.Rep04: cp=0.003021 \n",
      "- Fold3.Rep04: cp=0.003021 \n",
      "+ Fold4.Rep04: cp=0.003021 \n",
      "- Fold4.Rep04: cp=0.003021 \n",
      "+ Fold5.Rep04: cp=0.003021 \n",
      "- Fold5.Rep04: cp=0.003021 \n",
      "+ Fold1.Rep05: cp=0.003021 \n",
      "- Fold1.Rep05: cp=0.003021 \n",
      "+ Fold2.Rep05: cp=0.003021 \n",
      "- Fold2.Rep05: cp=0.003021 \n",
      "+ Fold3.Rep05: cp=0.003021 \n",
      "- Fold3.Rep05: cp=0.003021 \n",
      "+ Fold4.Rep05: cp=0.003021 \n",
      "- Fold4.Rep05: cp=0.003021 \n",
      "+ Fold5.Rep05: cp=0.003021 \n",
      "- Fold5.Rep05: cp=0.003021 \n",
      "+ Fold1.Rep06: cp=0.003021 \n",
      "- Fold1.Rep06: cp=0.003021 \n",
      "+ Fold2.Rep06: cp=0.003021 \n",
      "- Fold2.Rep06: cp=0.003021 \n",
      "+ Fold3.Rep06: cp=0.003021 \n",
      "- Fold3.Rep06: cp=0.003021 \n",
      "+ Fold4.Rep06: cp=0.003021 \n",
      "- Fold4.Rep06: cp=0.003021 \n",
      "+ Fold5.Rep06: cp=0.003021 \n",
      "- Fold5.Rep06: cp=0.003021 \n",
      "+ Fold1.Rep07: cp=0.003021 \n",
      "- Fold1.Rep07: cp=0.003021 \n",
      "+ Fold2.Rep07: cp=0.003021 \n",
      "- Fold2.Rep07: cp=0.003021 \n",
      "+ Fold3.Rep07: cp=0.003021 \n",
      "- Fold3.Rep07: cp=0.003021 \n",
      "+ Fold4.Rep07: cp=0.003021 \n",
      "- Fold4.Rep07: cp=0.003021 \n",
      "+ Fold5.Rep07: cp=0.003021 \n",
      "- Fold5.Rep07: cp=0.003021 \n",
      "+ Fold1.Rep08: cp=0.003021 \n",
      "- Fold1.Rep08: cp=0.003021 \n",
      "+ Fold2.Rep08: cp=0.003021 \n",
      "- Fold2.Rep08: cp=0.003021 \n",
      "+ Fold3.Rep08: cp=0.003021 \n",
      "- Fold3.Rep08: cp=0.003021 \n",
      "+ Fold4.Rep08: cp=0.003021 \n",
      "- Fold4.Rep08: cp=0.003021 \n",
      "+ Fold5.Rep08: cp=0.003021 \n",
      "- Fold5.Rep08: cp=0.003021 \n",
      "+ Fold1.Rep09: cp=0.003021 \n",
      "- Fold1.Rep09: cp=0.003021 \n",
      "+ Fold2.Rep09: cp=0.003021 \n",
      "- Fold2.Rep09: cp=0.003021 \n",
      "+ Fold3.Rep09: cp=0.003021 \n",
      "- Fold3.Rep09: cp=0.003021 \n",
      "+ Fold4.Rep09: cp=0.003021 \n",
      "- Fold4.Rep09: cp=0.003021 \n",
      "+ Fold5.Rep09: cp=0.003021 \n",
      "- Fold5.Rep09: cp=0.003021 \n",
      "+ Fold1.Rep10: cp=0.003021 \n",
      "- Fold1.Rep10: cp=0.003021 \n",
      "+ Fold2.Rep10: cp=0.003021 \n",
      "- Fold2.Rep10: cp=0.003021 \n",
      "+ Fold3.Rep10: cp=0.003021 \n",
      "- Fold3.Rep10: cp=0.003021 \n",
      "+ Fold4.Rep10: cp=0.003021 \n",
      "- Fold4.Rep10: cp=0.003021 \n",
      "+ Fold5.Rep10: cp=0.003021 \n",
      "- Fold5.Rep10: cp=0.003021 \n",
      "Aggregating results\n",
      "Selecting tuning parameters\n",
      "Fitting cp = 0.00302 on full training set\n"
     ]
    },
    {
     "data": {
      "text/plain": [
       "CART \n",
       "\n",
       "1988 samples\n",
       "  16 predictor\n",
       "   2 classes: 'No', 'Yes' \n",
       "\n",
       "No pre-processing\n",
       "Resampling: Cross-Validated (5 fold, repeated 10 times) \n",
       "Summary of sample sizes: 1591, 1590, 1590, 1590, 1591, 1591, ... \n",
       "Resampling results across tuning parameters:\n",
       "\n",
       "  cp           Accuracy   Kappa    \n",
       "  0.003021148  0.8142881  0.6286042\n",
       "  0.004028197  0.8050292  0.6100711\n",
       "  0.007049345  0.7699233  0.5398139\n",
       "\n",
       "Accuracy was used to select the optimal model using the largest value.\n",
       "The final value used for the model was cp = 0.003021148."
      ]
     },
     "metadata": {},
     "output_type": "display_data"
    }
   ],
   "source": [
    "# Building decision tree model using caret package\n",
    "\n",
    "dt <- train(Attrition ~., data = att_train_os,\n",
    "            trControl = trainControl(method = 'repeatedcv', number = 5, repeats = 10, \n",
    "                                     search = 'random', verboseIter = T),method = 'rpart')\n",
    "dt"
   ]
  },
  {
   "cell_type": "code",
   "execution_count": 81,
   "id": "common-receipt",
   "metadata": {},
   "outputs": [
    {
     "data": {
      "text/plain": [
       "Confusion Matrix and Statistics\n",
       "\n",
       "     \n",
       "       No Yes\n",
       "  No  179  23\n",
       "  Yes  59  23\n",
       "                                          \n",
       "               Accuracy : 0.7113          \n",
       "                 95% CI : (0.6548, 0.7633)\n",
       "    No Information Rate : 0.838           \n",
       "    P-Value [Acc > NIR] : 1.000000        \n",
       "                                          \n",
       "                  Kappa : 0.1916          \n",
       "                                          \n",
       " Mcnemar's Test P-Value : 0.000111        \n",
       "                                          \n",
       "            Sensitivity : 0.7521          \n",
       "            Specificity : 0.5000          \n",
       "         Pos Pred Value : 0.8861          \n",
       "         Neg Pred Value : 0.2805          \n",
       "             Prevalence : 0.8380          \n",
       "         Detection Rate : 0.6303          \n",
       "   Detection Prevalence : 0.7113          \n",
       "      Balanced Accuracy : 0.6261          \n",
       "                                          \n",
       "       'Positive' Class : No              \n",
       "                                          "
      ]
     },
     "metadata": {},
     "output_type": "display_data"
    }
   ],
   "source": [
    "# Predict the model And plot Confusion matrix\n",
    "\n",
    "dt_pred <- predict(dt, att_test)\n",
    "df_dt <- data.frame(dt_pred, att_test$Attrition)\n",
    "colnames(df_dt) <- c('Predicted', 'Actual')\n",
    "cm <- table(df_dt$Predicted, df_dt$Actual)\n",
    "confusionMatrix(cm)"
   ]
  },
  {
   "cell_type": "code",
   "execution_count": 83,
   "id": "collectible-hunger",
   "metadata": {
    "scrolled": true
   },
   "outputs": [
    {
     "data": {
      "image/png": "[encoded data removed]",
      "text/plain": [
       "plot without title"
      ]
     },
     "metadata": {},
     "output_type": "display_data"
    }
   ],
   "source": [
    "# Plot the tree \n",
    "tree <- rpart(Attrition ~ ., data = att_train_os, method = \"class\")\n",
    "prp(tree)"
   ]
  },
  {
   "cell_type": "code",
   "execution_count": 84,
   "id": "seventh-treat",
   "metadata": {},
   "outputs": [
    {
     "data": {
      "text/plain": [
       "Confusion Matrix and Statistics\n",
       "\n",
       "     \n",
       "       No Yes\n",
       "  No  190  19\n",
       "  Yes  48  27\n",
       "                                          \n",
       "               Accuracy : 0.7641          \n",
       "                 95% CI : (0.7103, 0.8122)\n",
       "    No Information Rate : 0.838           \n",
       "    P-Value [Acc > NIR] : 0.9995144       \n",
       "                                          \n",
       "                  Kappa : 0.3072          \n",
       "                                          \n",
       " Mcnemar's Test P-Value : 0.0006245       \n",
       "                                          \n",
       "            Sensitivity : 0.7983          \n",
       "            Specificity : 0.5870          \n",
       "         Pos Pred Value : 0.9091          \n",
       "         Neg Pred Value : 0.3600          \n",
       "             Prevalence : 0.8380          \n",
       "         Detection Rate : 0.6690          \n",
       "   Detection Prevalence : 0.7359          \n",
       "      Balanced Accuracy : 0.6926          \n",
       "                                          \n",
       "       'Positive' Class : No              \n",
       "                                          "
      ]
     },
     "metadata": {},
     "output_type": "display_data"
    }
   ],
   "source": [
    "# Predict the model And plot Confusion matrix\n",
    "\n",
    "tree_pred <- predict(tree, att_test, type = 'class')\n",
    "df_tree <- data.frame(tree_pred, att_test$Attrition)\n",
    "colnames(df_tree) <- c('Predicted', 'Actual')\n",
    "cm <- table(df_tree$Predicted, df_tree$Actual)\n",
    "confusionMatrix(cm)"
   ]
  },
  {
   "cell_type": "markdown",
   "id": "useful-preference",
   "metadata": {},
   "source": [
    "#### 3. Random Forest Classifier"
   ]
  },
  {
   "cell_type": "code",
   "execution_count": null,
   "id": "dangerous-briefing",
   "metadata": {},
   "outputs": [],
   "source": [
    "rf <- randomForest(Attrition ~., data=att_train_os)\n",
    "rf"
   ]
  },
  {
   "cell_type": "code",
   "execution_count": null,
   "id": "structured-geometry",
   "metadata": {},
   "outputs": [],
   "source": [
    "rf_caret <- train(Attrition ~., data=att_train_os,\n",
    "                 trControl = trainControl(method = 'repeatedcv', number = 7, repeats = 10, \n",
    "                                          search = 'random', verboseIter = T),\n",
    "                 method='rf')\n",
    "rf_caret"
   ]
  },
  {
   "cell_type": "code",
   "execution_count": null,
   "id": "miniature-manchester",
   "metadata": {},
   "outputs": [],
   "source": []
  }
 ],
 "metadata": {
  "kernelspec": {
   "display_name": "R",
   "language": "R",
   "name": "ir"
  },
  "language_info": {
   "codemirror_mode": "r",
   "file_extension": ".r",
   "mimetype": "text/x-r-source",
   "name": "R",
   "pygments_lexer": "r",
   "version": "3.6.1"
  }
 },
 "nbformat": 4,
 "nbformat_minor": 5
}
